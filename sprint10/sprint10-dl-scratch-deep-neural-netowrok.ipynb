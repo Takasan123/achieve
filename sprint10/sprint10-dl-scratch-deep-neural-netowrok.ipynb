{
 "cells": [
  {
   "cell_type": "markdown",
   "metadata": {},
   "source": [
    "## AIF_sprint10-dnn-scratch\n",
    "・スクラッチを通してニューラルネットワークの発展的内容を理解する      \n",
    "・コードをオブジェクト指向で書き換える経験をする\n"
   ]
  },
  {
   "cell_type": "code",
   "execution_count": 1,
   "metadata": {
    "collapsed": true
   },
   "outputs": [],
   "source": [
    "import pandas as pd\n",
    "import numpy as np\n",
    "import matplotlib.pyplot as plt\n",
    "from sklearn.model_selection import train_test_split\n",
    "import warnings\n",
    "warnings.filterwarnings(\"ignore\")"
   ]
  },
  {
   "cell_type": "markdown",
   "metadata": {},
   "source": [
    "### 目的関数（損失関数）"
   ]
  },
  {
   "cell_type": "code",
   "execution_count": 2,
   "metadata": {
    "collapsed": true
   },
   "outputs": [],
   "source": [
    "# 平均2乗和誤差\n",
    "class MeanSquardError:\n",
    "    def __init__(self):\n",
    "        pass\n",
    "    \n",
    "    def mse(self, y, y_pred):\n",
    "        # y  :  正解ラベル\n",
    "        # y_pred  :  予測値\n",
    "        return np.mean((y - y_pred)**2)/2\n",
    "        \n",
    "    \n",
    "    def backward(self, y, y_pred):\n",
    "        return y_pred - y"
   ]
  },
  {
   "cell_type": "code",
   "execution_count": 3,
   "metadata": {
    "collapsed": true
   },
   "outputs": [],
   "source": [
    "# 交差エントロピー誤差\n",
    "class CrossEntropyError:\n",
    "    def __init__(self):\n",
    "        pass\n",
    "    \n",
    "    def cee(self, y_pred, y_train):\n",
    "        if y_pred.ndim == 1:\n",
    "            y_train = y_train.reshape(1, y_train.size)\n",
    "            y_pred = y_pred.reshape(1, y_pred.size)\n",
    "    \n",
    "        batch_size = y_pred.shape[0]\n",
    "        #ミニバッチ単位の損失\n",
    "        return -np.sum(y_train * np.log(y_pred + 1e-7)) / batch_size"
   ]
  },
  {
   "cell_type": "markdown",
   "metadata": {},
   "source": [
    "### 活性化関数"
   ]
  },
  {
   "cell_type": "code",
   "execution_count": 4,
   "metadata": {
    "collapsed": true
   },
   "outputs": [],
   "source": [
    "# 活性化関数\n",
    "class ReLU:\n",
    "    \n",
    "    def __init__(self):\n",
    "        #mask\n",
    "        pass\n",
    "        \n",
    "    def forward(self, x):\n",
    "        return np.maximum(0, x)\n",
    "    \n",
    "    def backward(self, x):\n",
    "        return np.where(x > 0, 1, 0)"
   ]
  },
  {
   "cell_type": "code",
   "execution_count": 5,
   "metadata": {
    "collapsed": true
   },
   "outputs": [],
   "source": [
    "# 活性化関数のクラス化\n",
    "# 活性化関数\n",
    "class Tanh:\n",
    "    \n",
    "    def __init__(self):\n",
    "        self.forward_A = None\n",
    "    \n",
    "    def forward(self, x):\n",
    "        # backwardの時に必要なのでインスタンス変数として保持\n",
    "        self.forward_A = x\n",
    "        return np.tanh(x)\n",
    "    \n",
    "    def backward(self, delta):\n",
    "        # ∂L/∂A2 = ∂L/∂z2 * (1 - tanh(A2)**2)\n",
    "        #(10, 200) アダマール積 (10, 200) => (10, 200)\n",
    "        delta = delta * (1 - np.tanh(self.forward_A)**2)\n",
    "        return  delta\n"
   ]
  },
  {
   "cell_type": "code",
   "execution_count": 6,
   "metadata": {
    "collapsed": true
   },
   "outputs": [],
   "source": [
    "# 出力層の活性化関数\n",
    "# ソフトマックス関数（MNIST用）\n",
    "class Softmax:\n",
    "    def __init__(self):\n",
    "        self.forward_A = None\n",
    "        self.y_pred = None\n",
    "        \n",
    "    def forward(self,x):\n",
    "        self.forward_A = x\n",
    "        if x.ndim == 2:\n",
    "            x = x.T\n",
    "            x = x - np.max(x, axis=0)\n",
    "            y = np.exp(x) / np.sum(np.exp(x), axis=0)\n",
    "            self.y_pred = y.T\n",
    "        else:\n",
    "            x = x - np.max(x)\n",
    "            self.y_pred = np.exp(x) / np.sum(np.exp(x))\n",
    "        return self.y_pred\n",
    "    \n",
    "    def backward(self, delta):\n",
    "        delta = self.y_pred - delta\n",
    "        return delta\n"
   ]
  },
  {
   "cell_type": "code",
   "execution_count": 7,
   "metadata": {
    "collapsed": true
   },
   "outputs": [],
   "source": [
    "# 交差エントロピー誤差\n",
    "class CrossEntropyError:\n",
    "    def __init__(self):\n",
    "        pass\n",
    "    \n",
    "    def cee(self, y_pred, y_train):\n",
    "        if y_pred.ndim == 1:\n",
    "            y_train = y_train.reshape(1, y_train.size)\n",
    "            y_pred = y_pred.reshape(1, y_pred.size)\n",
    "    \n",
    "        batch_size = y_pred.shape[0]\n",
    "        #ミニバッチ単位の損失\n",
    "        return -np.sum(y_train * np.log(y_pred + 1e-7)) / batch_size\n",
    "    \n",
    "#     def backward(self, y, y_pred):\n",
    "#         return y_pred - y"
   ]
  },
  {
   "cell_type": "markdown",
   "metadata": {},
   "source": [
    "### Optimizer（最適化手法のクラス化）"
   ]
  },
  {
   "cell_type": "code",
   "execution_count": 8,
   "metadata": {
    "collapsed": true
   },
   "outputs": [],
   "source": [
    "# SGD(Optimizer:最適化手法)のクラス化\n",
    "class SGD:\n",
    "    \"\"\"\n",
    "    確率的勾配降下法\n",
    "    lr  :  学習率\n",
    "    \"\"\"\n",
    "    def __init__(self, alpha=0.001):\n",
    "        self.alpha = alpha\n",
    "    \n",
    "    \n",
    "    \"\"\"\n",
    "    ある層の重みやバイアスの更新\n",
    "    --------------\n",
    "    layer   :   更新前の層のインスタンス\n",
    "    layer   :   更新後の層のインスタンス\n",
    "    \"\"\"\n",
    "    def update(self, layer):\n",
    "        \n",
    "        layer.W = layer.W - self.alpha * layer.dW / layer.dB.shape[0]\n",
    "        layer.B = layer.B - self.alpha * layer.dB.mean(axis=0)\n",
    "        \n",
    "        return layer"
   ]
  },
  {
   "cell_type": "code",
   "execution_count": 9,
   "metadata": {
    "collapsed": true
   },
   "outputs": [],
   "source": [
    "class AdaGrad:\n",
    "    def __init__():\n",
    "        self.lr = 0.001\n",
    "        \n",
    "    def update():\n",
    "        pass"
   ]
  },
  {
   "cell_type": "markdown",
   "metadata": {},
   "source": [
    "### Initializer（初期化）"
   ]
  },
  {
   "cell_type": "code",
   "execution_count": 10,
   "metadata": {
    "collapsed": false
   },
   "outputs": [],
   "source": [
    "# 初期方法のクラス化\n",
    "class SimpleInitializer:\n",
    "    \"\"\"\n",
    "    ガウス分布によるシンプルな初期化\n",
    "    Parameters\n",
    "    ----------\n",
    "    sigma : float\n",
    "      ガウス分布の標準偏差\n",
    "    \"\"\"\n",
    "    def __init__(self, sigma):\n",
    "        self.sigma = sigma\n",
    "    def W(self, n_nodes1, n_nodes2):\n",
    "        W = self.sigma*np.random.randn(n_nodes1, n_nodes2)\n",
    "        return W\n",
    "    def B(self, n_nodes2):\n",
    "        B = self.sigma*np.random.randn(1, n_nodes2)\n",
    "        return B"
   ]
  },
  {
   "cell_type": "markdown",
   "metadata": {},
   "source": [
    "### ミニバッチ"
   ]
  },
  {
   "cell_type": "code",
   "execution_count": 11,
   "metadata": {
    "collapsed": true
   },
   "outputs": [],
   "source": [
    "class GetMiniBatch():\n",
    "    \"\"\"\n",
    "    ミニバッチを取得するイテレータ\n",
    "    \n",
    "    Parameters\n",
    "    ---------------------\n",
    "    X　:　学習データ\n",
    "    y　:　正解値\n",
    "    batch_size : int\n",
    "    seed : int　　　NumPyの乱数のシード\n",
    "    \n",
    "    ---------------------\n",
    "    for文で呼び出すと以下の２つを返す\n",
    "    mini_X  : 学習データのミニバッチ \n",
    "    mini_y  : 正解値のミニバッチ\n",
    "    \"\"\"\n",
    "    \n",
    "    def __init__(self, X, y, batch_size=10, seed=0):\n",
    "        \n",
    "        # バッチサイズを指定\n",
    "        self.batch_size = batch_size\n",
    "        \n",
    "        # ランダムに並べ換える\n",
    "        np.random.seed(seed)\n",
    "        \n",
    "        # 48,000行、列？のベクトルが作成される\n",
    "        # 中身は1から48,000の整数値がランダムにセットされる\n",
    "        # なるほど、名前からしてそうだね。シャッフルインデックス。。\n",
    "        #print(\"testコード\", X.shape[0])\n",
    "        shuffle_index = np.random.permutation(np.arange(X.shape[0]))\n",
    "        \n",
    "        self.X = X[shuffle_index]\n",
    "        self.y = y[shuffle_index]\n",
    "        self._counter = 0\n",
    "        \n",
    "        # イテレーション数を計算する\n",
    "        # 48,000行/10 = 4,800回となる\n",
    "        # np.ceilは切り上げする関数\n",
    "        self._stop = np.ceil(X.shape[0]/self.batch_size).astype(np.int)\n",
    "        \n",
    "    def __len__(self):\n",
    "        # len()が使われたときの処理\n",
    "        return self._stop\n",
    "        \n",
    "    def __iter__(self):\n",
    "        return self\n",
    "        \n",
    "    def __next__(self):\n",
    "            \n",
    "        # for文で呼ばれた際のループごとの処理\n",
    "        if self._counter >= self._stop:\n",
    "                \n",
    "            # 最後まで進んだら終了\n",
    "            self._counter = 0 # カウンターをリセット\n",
    "            raise StopIteration()\n",
    "        \n",
    "        \n",
    "        p0 = self._counter*self.batch_size\n",
    "        p1 = self._counter*self.batch_size + self.batch_size\n",
    "            \n",
    "        self._counter = self._counter + 1\n",
    "            \n",
    "        return self.X[p0:p1], self.y[p0:p1]"
   ]
  },
  {
   "cell_type": "markdown",
   "metadata": {},
   "source": [
    "### 全結合層"
   ]
  },
  {
   "cell_type": "code",
   "execution_count": 12,
   "metadata": {
    "collapsed": false
   },
   "outputs": [],
   "source": [
    "class Full_Connection:\n",
    "    \"\"\"\n",
    "    ノード数n_nodes1からn_nodes2への全結合層\n",
    "    n_nodes1 :  int\n",
    "    n_nodes2 :  int\n",
    "    initializer :  初期化方法のインスタンス\n",
    "    optimizer : 最適化手法のインスタンス\n",
    "    \"\"\"\n",
    "    \n",
    "    # コンストラクタで重みやバイアスの初期化をする\n",
    "    def __init__(self, n_nodes1, n_nodes2, initializer, optimizer):\n",
    "\n",
    "        # 全結合層のコンストラクタに初期化方法のインスタンスを渡したい\n",
    "        # ノード数を保持する\n",
    "        self.n_nodes1 = n_nodes1\n",
    "        self.n_nodes2 = n_nodes2\n",
    "        self.sigma = initializer.sigma\n",
    "        \n",
    "        # initializerのメソッドを使い、self.Wとself.Bを初期化する\n",
    "        # 重み・バイアスを初期化\n",
    "        self.W = initializer.W(self.n_nodes1, self.n_nodes2)\n",
    "        #print(\"doudesuka\",n_nodes2)\n",
    "        self.B = initializer.B(self.n_nodes2)\n",
    "        #print(\"★★★★★★★\",self.B.shape)\n",
    "        \n",
    "        # 引数で受け取ったoptimizer（最適化クラス）をインスタンス変数として持つ\n",
    "        self.optimizer = optimizer\n",
    "        \n",
    "        # ここで初期化が必要。。\n",
    "        self.X = None\n",
    "        self.dB = None\n",
    "        self.dW = None\n",
    "        self.A = None\n",
    "        \n",
    "        # ドロップアウト用\n",
    "        self.mask = None\n",
    "        self.dropout_ratio = 0.5\n",
    "    \n",
    "    def forward(self, X):\n",
    "        \"\"\"\n",
    "        X  :  配列とシェイプ  （batch_size,  n_nodes1）\n",
    "        A  :  配列とシェイプ  （batch_size, n_nodes2）\n",
    "        \"\"\"\n",
    "        \"\"\"\n",
    "        ドロップアウトする要素（False）としない要素（True）に分ける\n",
    "        \"\"\"\n",
    "        self.X = X.copy()\n",
    "        self.mask = np.random.rand(*self.X.shape) > self.dropout_ratio\n",
    "        self.X = self.X * self.mask\n",
    "        \n",
    "        # 入力Xをインスタンス変数として保持\n",
    "        self.X = X.copy()\n",
    "        \n",
    "        # 全結合はここで定義している\n",
    "        self.A = np.dot(self.X, self.W) + self.B\n",
    "        \n",
    "        return self.A\n",
    "\n",
    "    \n",
    "    def backward(self, dA):\n",
    "        \n",
    "        \"\"\"\n",
    "        dA  :  後ろから流れてきた勾配(batch_size, n_nodes2)\n",
    "        dZ  :   前に流す勾配　（batch_size, n_nodes1）\n",
    "        \"\"\"\n",
    "        # バイアスの勾配は、forward時に加算演算なので、\n",
    "        # 前から受け取った勾配をそもまま利用する\n",
    "        self.dB = dA\n",
    "        \n",
    "        # forward時に活性化関数を通ったXを利用する。Zに相当する\n",
    "        # 前から受け取ったもdAと、dot積をとる。ひっくり返すところの処理。乗算演算なので\n",
    "        self.dW = np.dot(self.X.T, dA)\n",
    "        \n",
    "        # 後ろに流す勾配\n",
    "        dZ = np.dot(dA, self.dW.T)\n",
    "        \n",
    "        # 引数として自身のインスタンスselfを渡すこともできる\n",
    "        # 層の重みの更新が可能である\n",
    "        # self.optimizer.update(self)だけでもOK\n",
    "        # 各層のbackwardの処理の中で、重みパラメータとバイアスを更新する処理です\n",
    "        # sprint9の時は最後にまとめて更新していたが、その層の重みとバイアスが求まったタイミングでリアルタイムで更新する\n",
    "        # また、ここでselfに代入しなくても動作するらしいです。\n",
    "        #print(\"fcで最適化する\")\n",
    "        self = self.optimizer.update(self)        \n",
    "        \n",
    "        return dZ\n",
    "    \n",
    "    def dropout():        \n",
    "        pass\n",
    "            "
   ]
  },
  {
   "cell_type": "markdown",
   "metadata": {},
   "source": [
    "### Trainer"
   ]
  },
  {
   "cell_type": "code",
   "execution_count": 13,
   "metadata": {
    "collapsed": false
   },
   "outputs": [],
   "source": [
    "# DNNスクラッチ回帰\n",
    "class ScratchDeepNeuralNetworkRegressor:\n",
    "    def __init__(self, n_epochs, batch_size, lr, sigma, n_nodes1, n_nodes2, n_output):\n",
    "        self.n_epochs    =  n_epochs    # エポック数\n",
    "        self.batch_size  = batch_size   #バッチサイズ\n",
    "        self.lr                  =  lr                   # 学習率\n",
    "        self.sigma          =  sigma            # シグマ\n",
    "        self.n_nodes1   =  n_nodes1    # 1層目のノード数\n",
    "        self.n_nodes2   =  n_nodes2    # 2層目のノード数\n",
    "        self.n_output    = n_output      # 出力層のノード数\n",
    "        self.loss             =  None\n",
    "        self.val_loss     =  None\n",
    "        \n",
    "        self.loss_list = []\n",
    "        self.epoch_loss_list = []\n",
    "        \n",
    "        #　入力層の特徴量（今回は2種類）\n",
    "        # fitの中でインスタンス変数を定義するためには、ここで事前に定義する必要がある\n",
    "        self.n_features = None\n",
    "        \n",
    "        self.fc1 = None\n",
    "        self.fc2 = None\n",
    "        self.fc3 = None\n",
    "        \n",
    "        self.activation1 = None\n",
    "        self.activation2 = None\n",
    "        self.activation3 = None\n",
    "        \n",
    "        self.tomo = None\n",
    "    \n",
    "    def fit(self, X, y, X_val=None, y_val=None):\n",
    "\n",
    "        #print(\"testコード0---\", y.shape)\n",
    "        #y = y[:, np.newaxis]\n",
    "        #print(\"testコード0---\", y.shape)        \n",
    "        \n",
    "        # ミニバッチ単位で処理する\n",
    "        train_batch = GetMiniBatch(X, y, batch_size=self.batch_size, seed=0)\n",
    "        #test_batch = GetMiniBatch(X_val, y_val, batch_size=self.batch_size, seed=0)\n",
    "        \n",
    "        #print(\"testコード01---\", y_val.shape)\n",
    "        #y_val = y_val[:, np.newaxis]\n",
    "        #print(\"testコード01---\", y_val.shape)\n",
    "        \n",
    "        # 最適化関数（オプティマイザー）クラスをインスタンス化する\n",
    "        optimizer = SGD(self.lr)\n",
    "\n",
    "        # fitを呼び出す時に、ここで特徴量を把握すれば、コンストラクタでわざわざ定義しなくても良い\n",
    "        self.n_features = X.shape[1]        \n",
    "\n",
    "        # インスタンス化（開始） ########################################\n",
    "        # for文の外でインスタンス化しないと、いけないはず\n",
    "        # for文の中でインスタンス化してしまうと、ループで毎回初期化されて、\n",
    "        # backwardでforward時のA(=X・W+B)を使えなくなってしまうから\n",
    "        \n",
    "        # 1層目\n",
    "        # 全結合層クラスをインスタンス化する\n",
    "        # SimpleInitializerを引数の中でクラスを呼んでいる理由は、各層で異なる初期値を与えて上げることができるため\n",
    "        # optimizerを全結合で\n",
    "        self.fc1 = Full_Connection(self.n_features, self.n_nodes1, SimpleInitializer(self.sigma), optimizer)\n",
    "        # 活性化関数クラスをインスタンス化する\n",
    "        self.activation1 = Tanh()\n",
    "        #self.activation1 = ReLU()\n",
    "        \n",
    "        \n",
    "        # 2層目\n",
    "        # 全結合層クラスをインスタンス化する\n",
    "        self.fc2 = Full_Connection(self.n_nodes1, self.n_nodes2, SimpleInitializer(self.sigma), optimizer)\n",
    "        # 活性化関数クラスをインスタンス化する\n",
    "        self.activation2 = Tanh()\n",
    "        #self.activation2 = ReLU()\n",
    "        \n",
    "        # 3層目\n",
    "        # 全結合層クラスをインスタンス化する\n",
    "        self.fc3 = Full_Connection(self.n_nodes2, self.n_output, SimpleInitializer(self.sigma), optimizer)\n",
    "        \n",
    "        # 平均二乗誤差クラスをインスタンス化する\n",
    "        self.activation3 = MeanSquardError()\n",
    "        # インスタンス化（終了） ########################################\n",
    "        \n",
    "                \n",
    "        # エポック単位のループ\n",
    "        for epoch in range(self.n_epochs):\n",
    "                       \n",
    "            # ミニバッチ単位のループ\n",
    "            #a = 0\n",
    "            for mini_X_train, mini_y_train in train_batch:      \n",
    "                #a = a +1\n",
    "                # フォワード ########################################\n",
    "                # 1層目\n",
    "                # 全結合層（A = X・W + B）\n",
    "                #print(\"testcode1\",mini_X_train.shape)\n",
    "                A1 = self.fc1.forward(mini_X_train)\n",
    "                # 活性化関数（Z = 活性化関数（A））\n",
    "                Z1 = self.activation1.forward(A1)\n",
    "\n",
    "                # 2層目\n",
    "                # 全結合層（A = Z・W + B）\n",
    "                A2 = self.fc2.forward(Z1)\n",
    "                # 活性化関数（Z = 活性化関数（A））\n",
    "                Z2 = self.activation2.forward(A2)\n",
    "\n",
    "                # 3層目\n",
    "                # 全結合層（A = Z・W + B）\n",
    "                A3 = self.fc3.forward(Z2)\n",
    "                # 活性化関数（Z = 活性化関数（A））　　・・・回帰の時は恒等関数\n",
    "                Z3 = A3\n",
    "                \n",
    "                self.loss = self.activation3.mse(mini_y_train, Z3)\n",
    "                self.loss_list.append(self.loss)\n",
    "\n",
    "                # バックワード ########################################\n",
    "                # 3層目\n",
    "                # 平均2乗誤差のバックワード\n",
    "                dA3 = self.activation3.backward(mini_y_train, Z3)\n",
    "                # 全結合層のバックワード\n",
    "                dZ2 = self.fc3.backward(dA3)\n",
    "\n",
    "                # 2層目\n",
    "                # 活性化関数のバックワード\n",
    "                dA2 = self.activation2.backward(dZ2)\n",
    "                # 全結合層のバックワード\n",
    "                dZ1 = self.fc2.backward(dA2)\n",
    "\n",
    "                # 1層目\n",
    "                # 活性化関数のバックワード\n",
    "                dA1 = self.activation1.backward(dZ1)\n",
    "                # 全結合層のバックワード\n",
    "                dZ0 = self.fc1.backward(dA1)\n",
    "            \n",
    "            #print(a)\n",
    "            self.epoch_loss_list.append(self.loss)\n",
    "    \n",
    "    def predict(self, X):\n",
    "        \n",
    "        # 1層目  ############################################\n",
    "        A1 = self.fc1.forward(X)\n",
    "        # この時点ではOK\n",
    "        #print(A1.shape) # (292, 500)\n",
    "        #print(A1) # バラバラな値である\n",
    "        self.tomo = A1\n",
    "        \n",
    "        Z1 = self.activation1.forward(A1)\n",
    "        #print(Z1.shape) # (292, 500)\n",
    "        #print(Z1)\n",
    "\n",
    "        # 2層目  ############################################\n",
    "        A2 = self.fc2.forward(Z1)\n",
    "        #print(A2.shape)\n",
    "        #print(A2)\n",
    "        \n",
    "        Z2 = self.activation2.forward(A2)\n",
    "        #print(\"Z2.shape : \",Z2.shape)\n",
    "        #print(Z2)\n",
    "        #print(np.unique(Z2))\n",
    "\n",
    "        # 3層目  ############################################\n",
    "        A3 = self.fc3.forward(Z2)\n",
    "        #print(A3.shape)\n",
    "        Z3 = A3\n",
    "        \n",
    "        return Z3"
   ]
  },
  {
   "cell_type": "code",
   "execution_count": 14,
   "metadata": {
    "collapsed": false
   },
   "outputs": [
    {
     "name": "stdout",
     "output_type": "stream",
     "text": [
      "(1168, 2) (292, 2) (1168, 1) (292, 1)\n"
     ]
    }
   ],
   "source": [
    "import pandas as pd\n",
    "\n",
    "data = pd.read_csv(\"/Users/andoutakaaki/DIC_study/sprint10/train.csv\")\n",
    "X = data[[\"GrLivArea\", \"YearBuilt\"]].values\n",
    "y = data[\"SalePrice\"].values\n",
    "\n",
    "#print(X.shape)\n",
    "y = y[:, np.newaxis]\n",
    "# 正規化\n",
    "X = np.log(X)\n",
    "y = np.log(y)\n",
    "\n",
    "from sklearn.preprocessing import StandardScaler\n",
    "ss = StandardScaler()\n",
    "\n",
    "from  sklearn.model_selection import train_test_split\n",
    "X_train, X_test, y_train, y_test = train_test_split(X, y, test_size=0.2)\n",
    "print(X_train.shape, X_test.shape, y_train.shape, y_test.shape)"
   ]
  },
  {
   "cell_type": "markdown",
   "metadata": {},
   "source": [
    "### インスタンス生成"
   ]
  },
  {
   "cell_type": "code",
   "execution_count": 15,
   "metadata": {
    "collapsed": false
   },
   "outputs": [],
   "source": [
    "sdnnr1 = ScratchDeepNeuralNetworkRegressor(n_epochs=1000, batch_size=50, lr=0.0001,sigma=0.01, n_nodes1=3, n_nodes2=2, n_output=1)\n",
    "sdnnr1.fit(X_train, y_train)"
   ]
  },
  {
   "cell_type": "code",
   "execution_count": 16,
   "metadata": {
    "collapsed": false
   },
   "outputs": [
    {
     "data": {
      "image/png": "[encoded data removed]",
      "text/plain": [
       "<Figure size 432x288 with 1 Axes>"
      ]
     },
     "metadata": {},
     "output_type": "display_data"
    }
   ],
   "source": [
    "# エポック毎の損失値\n",
    "import matplotlib.pyplot as plt\n",
    "%matplotlib inline\n",
    "plt.plot(sdnnr1.epoch_loss_list)\n",
    "plt.show()"
   ]
  },
  {
   "cell_type": "code",
   "execution_count": 17,
   "metadata": {
    "collapsed": false
   },
   "outputs": [
    {
     "data": {
      "image/png": "[encoded data removed]",
      "text/plain": [
       "<Figure size 432x288 with 1 Axes>"
      ]
     },
     "metadata": {},
     "output_type": "display_data"
    }
   ],
   "source": [
    "# ミニバッチ毎の損失値\n",
    "plt.plot(sdnnr1.loss_list)\n",
    "plt.show()"
   ]
  },
  {
   "cell_type": "markdown",
   "metadata": {},
   "source": [
    "### 評価"
   ]
  },
  {
   "cell_type": "code",
   "execution_count": 18,
   "metadata": {
    "collapsed": false
   },
   "outputs": [],
   "source": [
    "y_pred1 = sdnnr1.predict(X_test)"
   ]
  },
  {
   "cell_type": "code",
   "execution_count": 19,
   "metadata": {
    "collapsed": false
   },
   "outputs": [
    {
     "data": {
      "text/plain": [
       "array([[10.93732035],\n",
       "       [10.93732035],\n",
       "       [10.93732035],\n",
       "       [10.93732035],\n",
       "       [10.93732035],\n",
       "       [10.93732035],\n",
       "       [10.93732035],\n",
       "       [10.93732035],\n",
       "       [10.93732035],\n",
       "       [10.93732035]])"
      ]
     },
     "execution_count": 19,
     "metadata": {},
     "output_type": "execute_result"
    }
   ],
   "source": [
    "y_pred1[0:10]"
   ]
  },
  {
   "cell_type": "code",
   "execution_count": 20,
   "metadata": {
    "collapsed": false
   },
   "outputs": [
    {
     "data": {
      "text/plain": [
       "0.6553843111436706"
      ]
     },
     "execution_count": 20,
     "metadata": {},
     "output_type": "execute_result"
    }
   ],
   "source": [
    "m = MeanSquardError()\n",
    "m.mse(y_test, y_pred1)"
   ]
  },
  {
   "cell_type": "markdown",
   "metadata": {},
   "source": [
    "### 説明課題"
   ]
  },
  {
   "cell_type": "markdown",
   "metadata": {},
   "source": [
    "#### ドロップアウトとは何か\n",
    "ニューラルネットワークは過学習が発生しやすく、その解決方法として提案されたのがドロップアウトである。ドロップアウトは、学習中に中間層のユニットの値を一定の割合で0にし、結合を欠落させることで、ネットワークの締め付けを行って、過学習を抑制する。"
   ]
  },
  {
   "cell_type": "markdown",
   "metadata": {},
   "source": [
    "#### 近年ReLUが一般的に使われている理由\n",
    "ディープラーニングではモデルのパラメータを学習するために、誤差伝搬法という方法を繰り返し用いている。モデルから出力されたデータと解答を照らし合わせて,\n",
    "誤差を求めるが, その際、前回の誤差との差分に注目する。この時、誤差に微分値を使うが、ReLUを使うと、この微分は入力値が正の値であれば１を返し、誤差の微分を０にすることなく、次の学習へつなげることができる。"
   ]
  },
  {
   "cell_type": "markdown",
   "metadata": {},
   "source": [
    "#### 重みの初期化方法について\n",
    "学習時、ネットワークのパラメータは乱数で初期化する。非常に深いネットワークの場合、初期化した乱数の値によってはバッチ正規化などのテクニックを利用しても収束しないことがある。学習をスムーズに進めるためには、単に乱数で初期化するのではなく、ある条件下において乱数で初期化することが大切である。   \n",
    "Xavierの初期化は、層のユニット数によって乱数の範囲を決める。Heの初期化は、活性化関数にReLUを用いることを想定し、各層におけるユニット数によって乱数の範囲を決める。"
   ]
  },
  {
   "cell_type": "markdown",
   "metadata": {},
   "source": [
    "#### 代表的な最適化手法について\n",
    "・SGD（Stochastic Gradient Descent；確率的勾配降下法）：ミニバッチや逐次学習のように、学習サンプルの一部を用いて更新量を求める手法      \n",
    "・慣性項（モーメンタム）：前回の更新における勾配を反映させて勾配の振動を抑制し、収束性を改善する手法       \n",
    "・AdaGrad：学習におけるパラメータを更新するかを決めるハイパーパラメータである学習係数を自動で調整することができる手法    \n",
    "・Adam：過去の勾配の移動平均、過去の勾配の二乗の移動平均の両方を用いて、その偏りを補正した推定値を計算することによって、移動平均を用いたバイアスを打ち消すことができ、更新量の偏りを小さくする手法"
   ]
  },
  {
   "cell_type": "code",
   "execution_count": null,
   "metadata": {
    "collapsed": true
   },
   "outputs": [],
   "source": []
  }
 ],
 "metadata": {
  "kernelspec": {
   "display_name": "Python 3",
   "language": "python",
   "name": "python3"
  },
  "language_info": {
   "codemirror_mode": {
    "name": "ipython",
    "version": 3
   },
   "file_extension": ".py",
   "mimetype": "text/x-python",
   "name": "python",
   "nbconvert_exporter": "python",
   "pygments_lexer": "ipython3",
   "version": "3.6.5"
  }
 },
 "nbformat": 4,
 "nbformat_minor": 2
}
