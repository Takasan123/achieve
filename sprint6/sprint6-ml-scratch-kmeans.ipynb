{
 "cells": [
  {
   "cell_type": "markdown",
   "metadata": {},
   "source": [
    "## Sprint6_k-means_スクラッチ\n",
    "### この課題の目的\n",
    "1.コーディング力を向上させる  2.全体の構造を意識したコーディングをする  3.スクラッチを通してK-meansを理解する  4.クラスタ分析を行う"
   ]
  },
  {
   "cell_type": "markdown",
   "metadata": {},
   "source": [
    "### データセットの用意"
   ]
  },
  {
   "cell_type": "code",
   "execution_count": 1,
   "metadata": {
    "collapsed": true
   },
   "outputs": [],
   "source": [
    "import numpy as np\n",
    "import pandas as pd\n",
    "import matplotlib.pyplot as plt\n",
    "%matplotlib inline"
   ]
  },
  {
   "cell_type": "markdown",
   "metadata": {},
   "source": [
    "### 小規模なデータの用意"
   ]
  },
  {
   "cell_type": "code",
   "execution_count": 2,
   "metadata": {
    "collapsed": true
   },
   "outputs": [],
   "source": [
    "from sklearn.datasets import make_blobs\n",
    "\n",
    "#　n_samples:サンプル数\n",
    "# n_features：特徴量（説明変数）の数\n",
    "# centers:クラスタの数　\n",
    "# cluster_std:クラスタ内の標準偏差（ばらつき度合い）　\n",
    "# shuffle:サンプルをシャッフル　\n",
    "# random_state:乱数生成を固定\n",
    "\n",
    "X, _ = make_blobs(n_samples =100,\\\n",
    "                  n_features=2, \\\n",
    "                  centers=4, \\\n",
    "                  cluster_std=0.5, \\\n",
    "                  shuffle=True, \\\n",
    "                  random_state=0)"
   ]
  },
  {
   "cell_type": "code",
   "execution_count": 3,
   "metadata": {
    "collapsed": false
   },
   "outputs": [
    {
     "data": {
      "text/plain": [
       "array([[ 0.72086751,  3.71347124],\n",
       "       [-1.89468423,  7.96898545],\n",
       "       [ 1.35678894,  4.36462484],\n",
       "       [ 1.05374379,  4.49286859],\n",
       "       [ 1.59141542,  4.90497725],\n",
       "       [ 0.78260667,  4.15263595],\n",
       "       [-1.95751686,  3.87291474],\n",
       "       [-0.77354537,  7.87923564],\n",
       "       [ 0.12313498,  5.27917503],\n",
       "       [-1.43284669,  7.71577043],\n",
       "       [-0.92819001,  7.02698199],\n",
       "       [-1.74836345,  7.06307447],\n",
       "       [-1.26789718,  7.25141327],\n",
       "       [-0.98661744,  7.74968685],\n",
       "       [-0.81984047,  7.50994722],\n",
       "       [ 2.99684287,  0.22378413],\n",
       "       [ 1.46870582,  1.86947425],\n",
       "       [-0.33533163,  3.390122  ],\n",
       "       [-1.86407034,  2.93379754],\n",
       "       [ 2.62496786,  0.28025075],\n",
       "       [ 2.11114739,  3.57660449],\n",
       "       [-1.8219901 ,  7.61654999],\n",
       "       [-1.91186205,  3.18750686],\n",
       "       [ 2.28809874,  0.12954182],\n",
       "       [ 0.5285368 ,  4.49723858],\n",
       "       [-1.57613028,  2.58614312],\n",
       "       [-0.565433  ,  3.65813966],\n",
       "       [ 0.802314  ,  4.38196181],\n",
       "       [ 2.79939362,  1.84560825],\n",
       "       [ 2.64465731,  0.80770124],\n",
       "       [ 1.7190373 ,  0.71788708],\n",
       "       [-0.93564005,  7.03443119],\n",
       "       [ 2.14398059,  0.69677319],\n",
       "       [ 2.06051753,  1.79059891],\n",
       "       [-1.21986433,  3.3789856 ],\n",
       "       [ 1.13280393,  3.87673946],\n",
       "       [-1.497272  ,  8.80022604],\n",
       "       [ 1.85367905,  1.5088862 ],\n",
       "       [-0.1666378 ,  8.50372399],\n",
       "       [-1.89928142,  2.50466299],\n",
       "       [ 1.04829186,  5.03092408],\n",
       "       [-1.44356727,  3.23539798],\n",
       "       [-1.57006498,  6.72375844],\n",
       "       [-1.98331513,  3.47639041],\n",
       "       [-1.87418794,  2.84306499],\n",
       "       [-1.86097353,  8.2576415 ],\n",
       "       [ 1.61986895,  0.60823883],\n",
       "       [-1.84482705,  3.25609891],\n",
       "       [ 0.72144399,  4.08475018],\n",
       "       [ 0.5323772 ,  3.31338909],\n",
       "       [ 0.3498724 ,  4.69253251],\n",
       "       [ 1.89949126,  0.92574633],\n",
       "       [-1.2386086 ,  2.81373288],\n",
       "       [-1.74448079,  3.84251413],\n",
       "       [-0.96358605,  2.37791651],\n",
       "       [-1.26041884,  7.46644456],\n",
       "       [-0.8623605 ,  8.24721209],\n",
       "       [ 2.4198128 ,  0.96215512],\n",
       "       [ 2.23345072,  1.25095024],\n",
       "       [-0.65424088,  7.99393132],\n",
       "       [-1.42525273,  7.14798437],\n",
       "       [ 1.51989121,  1.42488952],\n",
       "       [ 2.11872357,  1.09865834],\n",
       "       [ 1.74265969,  5.03846671],\n",
       "       [ 1.42002502,  1.38236201],\n",
       "       [-0.69842598,  8.16309188],\n",
       "       [-2.18485772,  2.68708996],\n",
       "       [-1.32890066,  2.37135151],\n",
       "       [ 2.15940501,  1.38598318],\n",
       "       [ 1.19820169,  4.47062449],\n",
       "       [-1.7653772 ,  8.17625727],\n",
       "       [ 1.4726926 ,  1.3480769 ],\n",
       "       [ 0.92466065,  4.50908658],\n",
       "       [-1.47602203,  7.8441996 ],\n",
       "       [ 0.99914934,  4.2101954 ],\n",
       "       [ 1.40848818,  3.93270482],\n",
       "       [-0.59312453,  3.37090459],\n",
       "       [-1.6609057 ,  3.31911046],\n",
       "       [ 2.25643834,  0.55525861],\n",
       "       [ 1.24016835,  1.12905479],\n",
       "       [ 1.64869438,  0.03452236],\n",
       "       [-1.61803727,  8.60696731],\n",
       "       [-1.37778493,  3.58107521],\n",
       "       [ 0.16932115,  4.19741719],\n",
       "       [ 1.73810647,  0.71629308],\n",
       "       [-1.05327803,  2.84037721],\n",
       "       [ 1.60161834,  0.92363636],\n",
       "       [ 1.84845803,  0.52393625],\n",
       "       [ 1.72330962,  4.2012082 ],\n",
       "       [ 1.00952869,  4.45502328],\n",
       "       [ 0.96217896,  4.51795326],\n",
       "       [-1.33869125,  2.36818187],\n",
       "       [ 0.4519936 ,  3.59377836],\n",
       "       [-1.19075663,  3.12161318],\n",
       "       [-2.27253281,  3.13757811],\n",
       "       [-1.80044744,  7.86154256],\n",
       "       [-1.64996061,  7.49068513],\n",
       "       [-1.56102482,  3.77455362],\n",
       "       [-0.78782636,  7.99482384],\n",
       "       [-0.30022483,  4.63059663]])"
      ]
     },
     "execution_count": 3,
     "metadata": {},
     "output_type": "execute_result"
    }
   ],
   "source": [
    "X"
   ]
  },
  {
   "cell_type": "code",
   "execution_count": 4,
   "metadata": {
    "collapsed": false
   },
   "outputs": [
    {
     "data": {
      "image/png": "[encoded data removed]",
      "text/plain": [
       "<Figure size 360x360 with 1 Axes>"
      ]
     },
     "metadata": {},
     "output_type": "display_data"
    }
   ],
   "source": [
    "import matplotlib.pyplot as plt\n",
    "%matplotlib inline\n",
    "plt.figure(figsize =(5,5))\n",
    "plt.scatter(X[:,0], X[:,1], marker='o', s=50)\n",
    "plt.axis('equal')\n",
    "plt.grid()\n",
    "plt.show()\n"
   ]
  },
  {
   "cell_type": "code",
   "execution_count": 5,
   "metadata": {
    "collapsed": true
   },
   "outputs": [],
   "source": [
    "label = np.random.randint(0,4,100)   # 初期のラベルを作る"
   ]
  },
  {
   "cell_type": "code",
   "execution_count": 6,
   "metadata": {
    "collapsed": false
   },
   "outputs": [
    {
     "data": {
      "text/plain": [
       "(100,)"
      ]
     },
     "execution_count": 6,
     "metadata": {},
     "output_type": "execute_result"
    }
   ],
   "source": [
    "label.shape"
   ]
  },
  {
   "cell_type": "code",
   "execution_count": 7,
   "metadata": {
    "collapsed": false
   },
   "outputs": [
    {
     "data": {
      "text/plain": [
       "array([2, 1, 1, 3, 0, 2, 1, 0, 2, 0, 2, 0, 3, 0, 3, 2, 2, 0, 2, 1, 0, 3, 2,\n",
       "       2, 2, 2, 3, 3, 1, 0, 0, 0, 3, 2, 3, 3, 3, 0, 3, 1, 1, 1, 3, 1, 0, 3,\n",
       "       3, 1, 0, 1, 0, 0, 2, 3, 0, 0, 0, 1, 2, 3, 0, 1, 3, 0, 0, 1, 3, 2, 2,\n",
       "       0, 3, 3, 3, 3, 2, 0, 3, 3, 1, 3, 2, 2, 1, 0, 2, 2, 0, 2, 1, 2, 0, 0,\n",
       "       2, 3, 1, 2, 2, 3, 2, 1])"
      ]
     },
     "execution_count": 7,
     "metadata": {},
     "output_type": "execute_result"
    }
   ],
   "source": [
    "label"
   ]
  },
  {
   "cell_type": "markdown",
   "metadata": {},
   "source": [
    "### K-meansのクラスを作成する\n",
    "K-meansのクラスScratchKMeansを作成する"
   ]
  },
  {
   "cell_type": "code",
   "execution_count": 10,
   "metadata": {
    "collapsed": true
   },
   "outputs": [],
   "source": [
    "import numpy as np\n",
    "import pandas as pd\n",
    "import matplotlib.pyplot as plt\n",
    "%matplotlib inline\n",
    "\n",
    "# K-meansのクラス\n",
    "class ScratchKMeans:\n",
    "    \n",
    "    def __init__(self, cluster, iteration):\n",
    "        self.cluster = cluster\n",
    "        self.iteration = iteration\n",
    "\n",
    "    \n",
    "    # 中心点表を作成する関数\n",
    "    def _get_center_point(self, X):\n",
    "        \n",
    "        # 中心点表を初期化する\n",
    "        self.center_point_list = []\n",
    "\n",
    "        for i in np.unique(self.label):\n",
    "\n",
    "            # X0軸方向の平均\n",
    "            X0_sum = X[self.label == i][:, 0].sum()\n",
    "            X0_cnt = len(X[self.label == i])\n",
    "            X0_point = X0_sum / X0_cnt\n",
    "\n",
    "            # X1軸方向の平均\n",
    "            X1_sum = X[self.label == i][:, 1].sum()\n",
    "            X1_cnt = len(X[self.label == i])\n",
    "            X1_point = X1_sum / X1_cnt\n",
    "\n",
    "            # 中心点（重心）を求める\n",
    "            center_point = [X0_point, X1_point]\n",
    "\n",
    "            # 中心点表を作成（更新）する\n",
    "            self.center_point_list.append(center_point)\n",
    "    \n",
    "    # 中心点と全データとの距離を求める関数\n",
    "    def _get_distance(self, X):\n",
    "        \n",
    "        # 中心点表を更新\n",
    "        self._get_center_point(X)\n",
    "        \n",
    "        # 距離表の枠を作成\n",
    "        distance_list = np.zeros((len(X), len(self.center_point_list)))\n",
    "        \n",
    "        for i, values in enumerate(self.center_point_list):\n",
    "\n",
    "            # 重心と全データとの距離表を作成\n",
    "            for j in range(len(X)):\n",
    "                \n",
    "                diff = values - X[j]\n",
    "                distance = np.linalg.norm(diff)\n",
    "                distance_list[j, i] = distance\n",
    "                \n",
    "        return distance_list\n",
    "    \n",
    "    # 学習する\n",
    "    def fit(self, X):\n",
    "        \n",
    "        self.label = np.random.randint(0, self.cluster, len(X))\n",
    "        \n",
    "        # 全データの一番近いクラスタラベルをゲット出来たので、\n",
    "        # 新しいクラスラベルの値へ、古いクラスラベルを更新してあげる\n",
    "        for i in range(self.iteration):\n",
    "            \n",
    "            # 距離表で、それぞれのXで最初のクラスラベルのインデックスを取得\n",
    "            # そのインデックスは、クラスタラベルに等しい\n",
    "            self.label = np.argmin(self._get_distance(X), axis=1)\n",
    "            \n",
    "            # 今時点の中心点を保持しておく\n",
    "            pre_center_point_list = self.center_point_list\n",
    "            \n",
    "            # クラスタラベルを最新\n",
    "            self.label = np.argmin(self._get_distance(X), axis=1)\n",
    "            \n",
    "            # 前後で中心点を比較\n",
    "            if pre_center_point_list == self.center_point_list:\n",
    "                #print(\"---学習終了しました---\",i*2,\"イテレーション回数\")\n",
    "                break\n",
    "    \n",
    "    # エルボー法 誤差平方和SSE\n",
    "    # 重心座標はfitで取得出来ているので、それを使って、\n",
    "    # クラスタ数が変化した時のSSEの変化度を取得する関数\n",
    "    def elbow(self, X, cluster):\n",
    "        self.cluster = cluster\n",
    "        self.label = np.random.randint(0, self.cluster, len(X))\n",
    "        \n",
    "        # SSE_list\n",
    "        sse_list = []\n",
    "        \n",
    "        # クラスタ数をパラメータとしてfitさせる\n",
    "        for n in range(self.cluster):\n",
    "            \n",
    "            self.cluster = n + 1\n",
    "            \n",
    "            # クラスタラベルを作成\n",
    "            self.label = np.random.randint(0, self.cluster, len(X))\n",
    "            \n",
    "            # 学習\n",
    "            self.fit(X)\n",
    "        \n",
    "            # |Xn - μk||**2の枠を作成\n",
    "            elbow_list = np.zeros((len(X), len(self.center_point_list)))\n",
    "            \n",
    "            for i, values in enumerate(self.center_point_list):\n",
    "\n",
    "                # ||Xn - μk||**2の表を作成する\n",
    "                for j in range(len(X)):    \n",
    "                    elbow_diff = X[j] - values\n",
    "                    \n",
    "                    # ドット積でやり方\n",
    "                    #elbow_list[j, i] = np.dot(elbow_diff, elbow_diff.T)\n",
    "                    \n",
    "                    # ノルムを取って二乗するやり方\n",
    "                    elbow_list[j, i] = np.linalg.norm(elbow_diff)**2\n",
    "\n",
    "            # 最小値を取得\n",
    "            elbow_list_min = elbow_list.min(axis=1)\n",
    "\n",
    "            # SSEを算出\n",
    "            sse = elbow_list_min.sum()\n",
    "            sse_list.append(sse)\n",
    "            \n",
    "        return sse_list"
   ]
  },
  {
   "cell_type": "code",
   "execution_count": 11,
   "metadata": {
    "collapsed": false
   },
   "outputs": [
    {
     "data": {
      "text/plain": [
       "[[0.92578446520713376, 4.3247579195037584],\n",
       " [-1.2681173257461036, 7.7637826560024017],\n",
       " [-1.4793567922695052, 3.1171689610225979],\n",
       " [1.9918690296485415, 0.96561070961077933]]"
      ]
     },
     "execution_count": 11,
     "metadata": {},
     "output_type": "execute_result"
    }
   ],
   "source": [
    "# クラスを実行\n",
    "skm = ScratchKMeans(cluster=4, iteration = 10)\n",
    "skm.fit(X)\n",
    "skm.center_point_list"
   ]
  },
  {
   "cell_type": "markdown",
   "metadata": {},
   "source": [
    "### sklearnでの比較"
   ]
  },
  {
   "cell_type": "code",
   "execution_count": 12,
   "metadata": {
    "collapsed": false
   },
   "outputs": [
    {
     "data": {
      "text/plain": [
       "array([[-1.47935679,  3.11716896],\n",
       "       [-1.26811733,  7.76378266],\n",
       "       [ 1.99186903,  0.96561071],\n",
       "       [ 0.92578447,  4.32475792]])"
      ]
     },
     "execution_count": 12,
     "metadata": {},
     "output_type": "execute_result"
    }
   ],
   "source": [
    "# sklearnの K-means法の結果と比較　。結果は同じであった\n",
    "from sklearn.cluster import KMeans\n",
    "km  = KMeans(n_clusters=4, random_state=0)\n",
    "km.fit(X)\n",
    "km.cluster_centers_"
   ]
  },
  {
   "cell_type": "markdown",
   "metadata": {},
   "source": [
    "### クラスタリングの可視化"
   ]
  },
  {
   "cell_type": "code",
   "execution_count": 14,
   "metadata": {
    "collapsed": false
   },
   "outputs": [
    {
     "data": {
      "image/png": "[encoded data removed]",
      "text/plain": [
       "<Figure size 360x360 with 1 Axes>"
      ]
     },
     "metadata": {},
     "output_type": "display_data"
    }
   ],
   "source": [
    "plt.figure(figsize =(5,5))\n",
    "plt.title('Clustering')\n",
    "plt.scatter(X[:,0], X[:,1], c=skm.label , marker='o', s=50)\n",
    "plt.grid()\n"
   ]
  },
  {
   "cell_type": "markdown",
   "metadata": {},
   "source": [
    "### エルボー法"
   ]
  },
  {
   "cell_type": "code",
   "execution_count": 15,
   "metadata": {
    "collapsed": true
   },
   "outputs": [],
   "source": [
    "skm2 = ScratchKMeans(cluster=4, iteration = 10)\n",
    "skm2.elbow(X, 10)\n",
    "sse = skm2.elbow(X, 10)"
   ]
  },
  {
   "cell_type": "code",
   "execution_count": 16,
   "metadata": {
    "collapsed": false
   },
   "outputs": [
    {
     "data": {
      "image/png": "[encoded data removed]",
      "text/plain": [
       "<Figure size 432x288 with 1 Axes>"
      ]
     },
     "metadata": {},
     "output_type": "display_data"
    }
   ],
   "source": [
    "# 描写\n",
    "plt.plot(range(0,10), sse)\n",
    "plt.show()"
   ]
  },
  {
   "cell_type": "code",
   "execution_count": null,
   "metadata": {
    "collapsed": true
   },
   "outputs": [],
   "source": []
  },
  {
   "cell_type": "code",
   "execution_count": null,
   "metadata": {
    "collapsed": true
   },
   "outputs": [],
   "source": []
  }
 ],
 "metadata": {
  "kernelspec": {
   "display_name": "Python 3",
   "language": "python",
   "name": "python3"
  },
  "language_info": {
   "codemirror_mode": {
    "name": "ipython",
    "version": 3
   },
   "file_extension": ".py",
   "mimetype": "text/x-python",
   "name": "python",
   "nbconvert_exporter": "python",
   "pygments_lexer": "ipython3",
   "version": "3.6.5"
  }
 },
 "nbformat": 4,
 "nbformat_minor": 2
}
