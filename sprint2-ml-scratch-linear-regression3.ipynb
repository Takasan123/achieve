{
 "cells": [
  {
   "cell_type": "markdown",
   "metadata": {},
   "source": [
    "### 線形回帰モデルのフルスクラッチ\n"
   ]
  },
  {
   "cell_type": "code",
   "execution_count": 1,
   "metadata": {
    "collapsed": false
   },
   "outputs": [],
   "source": [
    "import pandas as pd\n",
    "import numpy as np\n",
    "%matplotlib inline\n",
    "import matplotlib.pyplot as plt\n",
    "from sklearn.model_selection import train_test_split\n",
    "import warnings\n",
    "warnings.filterwarnings(\"ignore\")"
   ]
  },
  {
   "cell_type": "markdown",
   "metadata": {},
   "source": [
    "### データセットの用意"
   ]
  },
  {
   "cell_type": "code",
   "execution_count": 2,
   "metadata": {
    "collapsed": false
   },
   "outputs": [
    {
     "data": {
      "text/html": [
       "<div>\n",
       "<table border=\"1\" class=\"dataframe\">\n",
       "  <thead>\n",
       "    <tr style=\"text-align: right;\">\n",
       "      <th></th>\n",
       "      <th>SalePrice</th>\n",
       "      <th>GrLivArea</th>\n",
       "      <th>YearBuilt</th>\n",
       "    </tr>\n",
       "  </thead>\n",
       "  <tbody>\n",
       "    <tr>\n",
       "      <th>0</th>\n",
       "      <td>208500</td>\n",
       "      <td>1710</td>\n",
       "      <td>2003</td>\n",
       "    </tr>\n",
       "    <tr>\n",
       "      <th>1</th>\n",
       "      <td>181500</td>\n",
       "      <td>1262</td>\n",
       "      <td>1976</td>\n",
       "    </tr>\n",
       "    <tr>\n",
       "      <th>2</th>\n",
       "      <td>223500</td>\n",
       "      <td>1786</td>\n",
       "      <td>2001</td>\n",
       "    </tr>\n",
       "    <tr>\n",
       "      <th>3</th>\n",
       "      <td>140000</td>\n",
       "      <td>1717</td>\n",
       "      <td>1915</td>\n",
       "    </tr>\n",
       "    <tr>\n",
       "      <th>4</th>\n",
       "      <td>250000</td>\n",
       "      <td>2198</td>\n",
       "      <td>2000</td>\n",
       "    </tr>\n",
       "  </tbody>\n",
       "</table>\n",
       "</div>"
      ],
      "text/plain": [
       "   SalePrice  GrLivArea  YearBuilt\n",
       "0     208500       1710       2003\n",
       "1     181500       1262       1976\n",
       "2     223500       1786       2001\n",
       "3     140000       1717       1915\n",
       "4     250000       2198       2000"
      ]
     },
     "execution_count": 2,
     "metadata": {},
     "output_type": "execute_result"
    }
   ],
   "source": [
    "df = pd.read_csv(\"./train.csv\")\n",
    "df =df[['SalePrice','GrLivArea','YearBuilt']]\n",
    "df.head()"
   ]
  },
  {
   "cell_type": "code",
   "execution_count": 3,
   "metadata": {
    "collapsed": true
   },
   "outputs": [],
   "source": [
    "X = df[['GrLivArea','YearBuilt']].values\n",
    "y = df[['SalePrice']].values"
   ]
  },
  {
   "cell_type": "code",
   "execution_count": 4,
   "metadata": {
    "collapsed": true
   },
   "outputs": [],
   "source": [
    "X_train, X_test, y_train, y_test = train_test_split(X, y, test_size=0.2, random_state=42)"
   ]
  },
  {
   "cell_type": "markdown",
   "metadata": {},
   "source": [
    "### テストデータの分割\n",
    "train.csvを学習用（train）8割、検証用（val）2割に分割する"
   ]
  },
  {
   "cell_type": "code",
   "execution_count": 5,
   "metadata": {
    "collapsed": true
   },
   "outputs": [],
   "source": [
    "def train_test_split(X, y, train_size):\n",
    "    \"\"\"\n",
    "    学習用データを分割する。\n",
    "\n",
    "    Parameters\n",
    "    ----------\n",
    "    X : 次の形のndarray, shape (n_samples, n_features)\n",
    "      学習データ\n",
    "    y : 次の形のndarray, shape (n_samples, )\n",
    "      正解値\n",
    "    train_size : float (0<train_size<1)\n",
    "      何割をtrainとするか指定\n",
    "\n",
    "    Returns\n",
    "    ----------\n",
    "    X_train : 次の形のndarray, shape (n_samples, n_features)\n",
    "      学習データ\n",
    "    X_test : 次の形のndarray, shape (n_samples, n_features)\n",
    "      検証データ\n",
    "    y_train : 次の形のndarray, shape (n_samples, )\n",
    "      学習データの正解値\n",
    "    y_test : 次の形のndarray, shape (n_samples, )\n",
    "      検証データの正解値\n",
    "    \"\"\"\n",
    "    #ここにコードを書く\n",
    "    pass\n",
    "    train_num  = np.fix(len(X) * train_size)\n",
    "    test_num = len(X) - train_num\n",
    "    X_len = len(X)\n",
    "    Xy = pd.concat([X, y])\n",
    "    Xy.take(np.random.permutation(len(Xy)))\n",
    "    X = Xy[:1]\n",
    "#     y =\n",
    "    X_train = 1\n",
    "    X_test =1\n",
    "    y_train =1\n",
    "    y_test =1\n",
    "    \n",
    "#     return X_train, X_test, y_train, y_test\n",
    "    return "
   ]
  },
  {
   "cell_type": "code",
   "execution_count": 6,
   "metadata": {
    "collapsed": true
   },
   "outputs": [],
   "source": [
    "SalePrice =df['SalePrice']\n",
    "GrLivArea =df['GrLivArea']\n",
    "YearBuilt =df['YearBuilt']"
   ]
  },
  {
   "cell_type": "markdown",
   "metadata": {},
   "source": [
    "### プロット"
   ]
  },
  {
   "cell_type": "code",
   "execution_count": 7,
   "metadata": {
    "collapsed": false
   },
   "outputs": [
    {
     "data": {
      "image/png": "[encoded data removed]",
      "text/plain": [
       "<Figure size 432x288 with 1 Axes>"
      ]
     },
     "metadata": {},
     "output_type": "display_data"
    }
   ],
   "source": [
    "plt.scatter(GrLivArea, SalePrice)\n",
    "plt.title(\"GrLivArea, SalePrice\")\n",
    "plt.xlabel(\"GrLivArea\")\n",
    "plt.ylabel(\"SalePrice\")\n",
    "plt.grid(True)"
   ]
  },
  {
   "cell_type": "code",
   "execution_count": 8,
   "metadata": {
    "collapsed": false
   },
   "outputs": [
    {
     "data": {
      "image/png": "[encoded data removed]",
      "text/plain": [
       "<Figure size 432x288 with 1 Axes>"
      ]
     },
     "metadata": {},
     "output_type": "display_data"
    }
   ],
   "source": [
    "plt.scatter(YearBuilt, SalePrice)\n",
    "plt.title(\"YearBuilt, SalePrice\")\n",
    "plt.xlabel(\"YearBuilt\")\n",
    "plt.ylabel(\"SalePrice\")\n",
    "plt.grid(True)"
   ]
  },
  {
   "cell_type": "markdown",
   "metadata": {},
   "source": [
    "目的変数と説明変数間には正の相関があることが分かる"
   ]
  },
  {
   "cell_type": "code",
   "execution_count": 9,
   "metadata": {
    "collapsed": true
   },
   "outputs": [],
   "source": [
    "from sklearn.preprocessing import StandardScaler\n",
    "stdsc = StandardScaler()"
   ]
  },
  {
   "cell_type": "code",
   "execution_count": 10,
   "metadata": {
    "collapsed": false
   },
   "outputs": [
    {
     "data": {
      "image/png": "[encoded data removed]",
      "text/plain": [
       "<Figure size 432x288 with 1 Axes>"
      ]
     },
     "metadata": {},
     "output_type": "display_data"
    }
   ],
   "source": [
    "GrLivArea_std = stdsc.fit_transform(GrLivArea.values.reshape(-1,1))\n",
    "plt.scatter(GrLivArea_std, SalePrice)\n",
    "plt.title(\"GrLivArea_std, SalePrice\")\n",
    "plt.xlabel(\"GrLivArea_std\")\n",
    "plt.ylabel(\"SalePrice\")\n",
    "plt.grid(True)"
   ]
  },
  {
   "cell_type": "code",
   "execution_count": 11,
   "metadata": {
    "collapsed": false
   },
   "outputs": [
    {
     "data": {
      "image/png": "[encoded data removed]",
      "text/plain": [
       "<Figure size 432x288 with 1 Axes>"
      ]
     },
     "metadata": {},
     "output_type": "display_data"
    }
   ],
   "source": [
    "YearBuilt_std = stdsc.fit_transform(YearBuilt.values.reshape(-1,1))\n",
    "plt.scatter(YearBuilt_std, SalePrice)\n",
    "plt.title(\"YearBuilt_std, SalePrice\")\n",
    "plt.xlabel(\"YearBuilt_std\")\n",
    "plt.ylabel(\"SalePrice\")\n",
    "plt.grid(True)"
   ]
  },
  {
   "cell_type": "code",
   "execution_count": 12,
   "metadata": {
    "collapsed": true
   },
   "outputs": [],
   "source": [
    "def hypo(X,  theta):\n",
    "    h = np.dot(X, theta)\n",
    "    return h\n",
    "\n",
    "def compute_cost(h, y):\n",
    "    cost = 0.5 * np.sum((h -y) **2)\n",
    "    return cost\n",
    "\n",
    "def gradient_descent(X, y, iterations, alpha):\n",
    "    \"\"\"\n",
    "    args:\n",
    "      alpha: Step size/Learning rate\n",
    "      iterations: No. of iterations(Number of iterations)\n",
    "    \"\"\"\n",
    "    theta = np.random.rand(2,1)\n",
    "    past_costs = []\n",
    "    past_thetas = [theta]   \n",
    "     \n",
    "    for i in range(iterations):\n",
    "        h = hypo(X, theta)\n",
    "        cost = compute_cost(h, y)\n",
    "        past_costs.append(cost)\n",
    "        \n",
    "        theta = theta - alpha * np.dot(X.T, (h - y))\n",
    "        #print(h.shape,X.shape)\n",
    "        past_thetas.append(theta)\n",
    "    \n",
    "    plt.plot(past_costs )\n",
    "    plt.show()"
   ]
  },
  {
   "cell_type": "markdown",
   "metadata": {},
   "source": [
    "### 線形回帰のクラスを作成する"
   ]
  },
  {
   "cell_type": "code",
   "execution_count": 13,
   "metadata": {
    "collapsed": true
   },
   "outputs": [],
   "source": [
    "class ScratchLinearRegression():\n",
    "    \"\"\"\n",
    "    線形回帰\n",
    "    ＊コンストラクタ（__init__）のパラメータはここに書いておくと分かりやすい\n",
    "\n",
    "    Parameters\n",
    "    ----------\n",
    "    num_iter : int\n",
    "      イテレーション数\n",
    "    lr : float\n",
    "      学習率\n",
    "    no_bias : bool\n",
    "      バイアス項を入れない場合はTrue\n",
    "    verbose : bool\n",
    "      学習過程を出力する場合はTrue\n",
    "\n",
    "    Attributes\n",
    "    ----------\n",
    "    self.coef_ : 次の形のndarray, shape (n_features,)\n",
    "      パラメータ\n",
    "    self.loss : 次の形のndarray, shape (self.iter,)\n",
    "      学習用データに対する損失の記録\n",
    "    self.val_loss : 次の形のndarray, shape (self.iter,)\n",
    "      検証用データに対する損失の記録\n",
    "\n",
    "    \"\"\"\n",
    "\n",
    "    def __init__(self, num_iter, lr, bias, verbose):\n",
    "        # ハイパーパラメータを属性として記録\n",
    "        self.iter = num_iter\n",
    "        self.lr = lr\n",
    "        self.bias = bias\n",
    "        self.verbose = verbose\n",
    "        # 損失を記録する配列を用意\n",
    "        self.loss = []\n",
    "        self.val_loss = []\n",
    "        #学習したthetaを保持する\n",
    "        self.theta = np.random.rand(2,1)\n",
    "\n",
    "    def _linear_hypothesis(self, X):\n",
    "        \"\"\"\n",
    "        線形の仮定関数を計算する。\n",
    "\n",
    "        Parameters\n",
    "        ----------\n",
    "        X : 次の形のndarray, shape (n_samples, n_features)\n",
    "          学習データ\n",
    "\n",
    "        Returns\n",
    "        -------\n",
    "          次の形のndarray, shape (n_samples, 1)\n",
    "          線形の仮定関数による推定結果\n",
    "\n",
    "        \"\"\"\n",
    "        hypothesis = np.dot(X, self.theta)\n",
    "        return hypothesis\n",
    "\n",
    "    def _compute_cost(self, h, y):\n",
    "        \"\"\"\n",
    "        平均二乗誤差を計算する。MSEは共通の関数を作っておき呼び出す\n",
    "\n",
    "        Parameters\n",
    "        ----------\n",
    "        X : 次の形のndarray, shape (n_samples, n_features)\n",
    "          学習データ\n",
    "        y : 次の形のndarray, shape (n_samples, 1)\n",
    "          正解値\n",
    "\n",
    "        Returns\n",
    "        -------\n",
    "          次の形のndarray, shape (1,)\n",
    "          平均二乗誤差\n",
    "        \"\"\"\n",
    "        cost = 0.5 * np.sum((h -y) **2)\n",
    "        return cost\n",
    "\n",
    "    def _gradient_descent(self, X, y):\n",
    "        \"\"\"\n",
    "        説明を記述\n",
    "        \"\"\"\n",
    "        ##コストの推移の記録のためのコードをコメントアウトしています。\n",
    "#         past_costs = []\n",
    "        \n",
    "        for i in range(self.iter):\n",
    "            h = self._linear_hypothesis(X)\n",
    "            cost = self._compute_cost(h, y)\n",
    "#             past_costs.append(cost)\n",
    "            self.theta = self.theta - self.lr * np.dot(X.T, (h - y))\n",
    "#         plt.plot(past_costs )\n",
    "#         plt.show()\n",
    "        \n",
    "    def fit(self, X, y, X_val=None, y_val=None):\n",
    "        \"\"\"\n",
    "        線形回帰を学習する。検証用データが入力された場合はそれに対する損失と精度もイテレーションごとに計算する。\n",
    "\n",
    "        Parameters\n",
    "        ----------\n",
    "        X : 次の形のndarray, shape (n_samples, n_features)\n",
    "            学習用データの特徴量\n",
    "        y : 次の形のndarray, shape (n_samples, )\n",
    "            学習用データの正解値\n",
    "        X_val : 次の形のndarray, shape (n_samples, n_features)\n",
    "            検証用データの特徴量\n",
    "        y_val : 次の形のndarray, shape (n_samples, )\n",
    "            検証用データの正解値\n",
    "        \"\"\"\n",
    "        self._gradient_descent(X, y)\n",
    "\n",
    "        if self.verbose:\n",
    "            #verboseをTrueにした際は学習過程を出力\n",
    "            print()\n",
    "        pass\n",
    "\n",
    "    def predict(self, X):\n",
    "        \"\"\"\n",
    "        線形回帰を使い推定する。\n",
    "\n",
    "        Parameters\n",
    "        ----------\n",
    "        X : 次の形のndarray, shape (n_samples, n_features)\n",
    "            サンプル\n",
    "\n",
    "        Returns\n",
    "        -------\n",
    "            次の形のndarray, shape (n_samples, 1)\n",
    "            線形回帰による推定結果\n",
    "        \"\"\"\n",
    "\n",
    "        return self._linear_hypothesis(X)"
   ]
  },
  {
   "cell_type": "code",
   "execution_count": 14,
   "metadata": {
    "collapsed": true
   },
   "outputs": [],
   "source": [
    "SLR =  ScratchLinearRegression(1000, 1e-13, 0, False)"
   ]
  },
  {
   "cell_type": "code",
   "execution_count": 15,
   "metadata": {
    "collapsed": true
   },
   "outputs": [],
   "source": [
    "SLR._gradient_descent(X, y)"
   ]
  },
  {
   "cell_type": "code",
   "execution_count": 16,
   "metadata": {
    "collapsed": false
   },
   "outputs": [
    {
     "data": {
      "text/plain": [
       "array([[ 29.8708536 ],\n",
       "       [ 33.88085329]])"
      ]
     },
     "execution_count": 16,
     "metadata": {},
     "output_type": "execute_result"
    }
   ],
   "source": [
    "SLR.theta"
   ]
  },
  {
   "cell_type": "code",
   "execution_count": 17,
   "metadata": {
    "collapsed": true
   },
   "outputs": [],
   "source": [
    "SLR.fit(X_train, y_train)"
   ]
  },
  {
   "cell_type": "code",
   "execution_count": 18,
   "metadata": {
    "collapsed": false
   },
   "outputs": [
    {
     "data": {
      "text/plain": [
       "array([[ 131555.61294959],\n",
       "       [ 195891.97594267],\n",
       "       [ 128316.16029984],\n",
       "       [ 154975.80889239],\n",
       "       [ 155892.54456643],\n",
       "       [ 114220.05084235],\n",
       "       [ 166361.88141254],\n",
       "       [ 147945.56624891],\n",
       "       [ 114130.08832049],\n",
       "       [ 144359.29681894],\n",
       "       [ 146547.07001185],\n",
       "       [ 123922.90206158],\n",
       "       [ 123248.58407895],\n",
       "       [ 152314.83036417],\n",
       "       [ 158412.8984383 ],\n",
       "       [ 128675.60945594],\n",
       "       [ 159807.91892419],\n",
       "       [ 134093.87913956],\n",
       "       [ 127353.24057083],\n",
       "       [ 150001.67094452],\n",
       "       [ 161055.56371707],\n",
       "       [ 154722.4303852 ],\n",
       "       [ 149970.12392217],\n",
       "       [ 125894.32417754],\n",
       "       [ 147877.59319333],\n",
       "       [ 138210.96754166],\n",
       "       [ 144551.65377288],\n",
       "       [ 122753.18881168],\n",
       "       [ 154794.68105463],\n",
       "       [ 144992.71068882],\n",
       "       [ 136534.22897698],\n",
       "       [ 172966.97480146],\n",
       "       [ 212526.35159012],\n",
       "       [ 126542.37508003],\n",
       "       [ 156495.61420799],\n",
       "       [ 134399.79180703],\n",
       "       [ 164831.51621251],\n",
       "       [ 168187.59939561],\n",
       "       [ 191715.67017837],\n",
       "       [ 123707.15238164],\n",
       "       [ 134625.49997438],\n",
       "       [ 175154.34706303],\n",
       "       [ 127136.08763119],\n",
       "       [ 173029.8683805 ],\n",
       "       [ 128225.39591529],\n",
       "       [ 174076.8014574 ],\n",
       "       [ 125282.09791126],\n",
       "       [ 127113.69723356],\n",
       "       [ 183317.6764575 ],\n",
       "       [ 149800.15736586],\n",
       "       [ 127730.60204504],\n",
       "       [ 152396.43812399],\n",
       "       [ 141699.12015341],\n",
       "       [ 206261.19131383],\n",
       "       [ 124489.14473856],\n",
       "       [ 160419.9447248 ],\n",
       "       [ 161540.80003125],\n",
       "       [ 134534.53512415],\n",
       "       [ 134125.02523057],\n",
       "       [ 121434.49614341],\n",
       "       [ 107740.54414583],\n",
       "       [ 138585.25419605],\n",
       "       [ 190306.81452256],\n",
       "       [ 151320.16314713],\n",
       "       [ 162166.05960476],\n",
       "       [ 175119.32428951],\n",
       "       [ 129143.93578038],\n",
       "       [ 181715.66198506],\n",
       "       [ 129007.78920355],\n",
       "       [ 148971.17909128],\n",
       "       [ 151190.29884088],\n",
       "       [ 137572.47419524],\n",
       "       [ 124764.71317771],\n",
       "       [ 129836.76747813],\n",
       "       [ 186116.87405401],\n",
       "       [ 142072.20401376],\n",
       "       [ 186711.18800219],\n",
       "       [ 187584.34567501],\n",
       "       [ 134696.94878112],\n",
       "       [ 120295.52805318],\n",
       "       [ 128679.68660413],\n",
       "       [ 129985.94736219],\n",
       "       [ 127910.52708877],\n",
       "       [ 123059.5024105 ],\n",
       "       [ 145677.3880902 ],\n",
       "       [ 150750.2442533 ],\n",
       "       [ 168768.07817386],\n",
       "       [ 148183.90679215],\n",
       "       [ 124489.14473856],\n",
       "       [ 149205.04155499],\n",
       "       [ 150767.95610574],\n",
       "       [ 154183.25665103],\n",
       "       [ 122203.45519309],\n",
       "       [ 199906.46944701],\n",
       "       [ 160132.74623812],\n",
       "       [ 143489.61489729],\n",
       "       [ 149287.85210885],\n",
       "       [ 148728.16000285],\n",
       "       [ 150906.17517402],\n",
       "       [ 184366.88249154],\n",
       "       [ 155726.85562397],\n",
       "       [ 161707.09037072],\n",
       "       [ 178786.6000823 ],\n",
       "       [ 121358.56925714],\n",
       "       [ 146973.48989518],\n",
       "       [ 147892.02976027],\n",
       "       [ 130124.36689615],\n",
       "       [ 159844.34495741],\n",
       "       [ 129790.78388884],\n",
       "       [ 172814.72009758],\n",
       "       [ 119486.26628776],\n",
       "       [ 131096.24278421],\n",
       "       [ 130376.5426093 ],\n",
       "       [ 147645.334455  ],\n",
       "       [ 163016.62641428],\n",
       "       [ 119828.20405711],\n",
       "       [ 124386.75030648],\n",
       "       [ 123976.83948156],\n",
       "       [ 166009.98515578],\n",
       "       [ 156077.14815535],\n",
       "       [ 120938.49947913],\n",
       "       [ 124489.14473856],\n",
       "       [ 154632.668329  ],\n",
       "       [ 161348.84400865],\n",
       "       [ 146613.23887638],\n",
       "       [ 126258.65234452],\n",
       "       [ 181337.69911383],\n",
       "       [ 124684.30821192],\n",
       "       [ 134250.61192297],\n",
       "       [ 156280.2654594 ],\n",
       "       [ 154218.47989023],\n",
       "       [ 172327.88005802],\n",
       "       [ 161927.71906153],\n",
       "       [ 176285.76225391],\n",
       "       [ 107110.0046301 ],\n",
       "       [ 159816.87508324],\n",
       "       [ 159258.78670262],\n",
       "       [ 126829.97449805],\n",
       "       [ 157044.74642956],\n",
       "       [ 264504.36524364],\n",
       "       [ 202903.50440535],\n",
       "       [ 125570.2987263 ],\n",
       "       [ 159439.31314336],\n",
       "       [ 155201.31659406],\n",
       "       [ 130709.72468527],\n",
       "       [ 124931.00351719],\n",
       "       [ 170398.76531451],\n",
       "       [ 147927.05253379],\n",
       "       [ 119809.48987631],\n",
       "       [ 121088.88215722],\n",
       "       [ 134247.73756882],\n",
       "       [ 143031.44752593],\n",
       "       [ 189893.82887781],\n",
       "       [ 180267.50594187],\n",
       "       [ 130075.90988405],\n",
       "       [ 161374.71015744],\n",
       "       [ 139521.10498223],\n",
       "       [ 143585.25829271],\n",
       "       [ 110868.44573878],\n",
       "       [ 134543.89221455],\n",
       "       [ 140258.31654389],\n",
       "       [ 131834.25620856],\n",
       "       [ 156945.62728297],\n",
       "       [ 149836.18246774],\n",
       "       [ 136830.38362271],\n",
       "       [ 161113.97921658],\n",
       "       [ 168808.78182094],\n",
       "       [ 194532.57962731],\n",
       "       [ 206350.55243867],\n",
       "       [ 184592.79112455],\n",
       "       [ 168835.6502981 ],\n",
       "       [ 123707.15238164],\n",
       "       [ 148279.75065324],\n",
       "       [ 152085.84691133],\n",
       "       [ 205927.80877219],\n",
       "       [ 152437.34223674],\n",
       "       [ 147716.78326174],\n",
       "       [ 159056.67172693],\n",
       "       [ 142258.01039672],\n",
       "       [ 153674.02621385],\n",
       "       [ 139624.70220834],\n",
       "       [ 130088.74272561],\n",
       "       [ 127523.00666147],\n",
       "       [ 143792.45274493],\n",
       "       [ 170613.31220041],\n",
       "       [ 155669.44245282],\n",
       "       [ 158462.35777875],\n",
       "       [ 150987.18153683],\n",
       "       [ 145595.78033037],\n",
       "       [ 132842.55812984],\n",
       "       [ 143944.90791449],\n",
       "       [ 129868.9158975 ],\n",
       "       [ 140241.8074855 ],\n",
       "       [ 134210.50967291],\n",
       "       [ 143084.58308323],\n",
       "       [ 168953.88455682],\n",
       "       [ 140694.8953803 ],\n",
       "       [ 139706.71089952],\n",
       "       [ 160352.57306624],\n",
       "       [ 140804.77487699],\n",
       "       [ 150929.36743434],\n",
       "       [ 148350.19713162],\n",
       "       [ 140800.29679747],\n",
       "       [ 196395.92643764],\n",
       "       [ 144250.21918494],\n",
       "       [ 128171.25802963],\n",
       "       [ 171554.04199747],\n",
       "       [ 133702.28156408],\n",
       "       [ 151866.22054888],\n",
       "       [ 124561.99680501],\n",
       "       [ 180361.34514624],\n",
       "       [ 140974.54096763],\n",
       "       [ 137734.68738653],\n",
       "       [ 149497.72044955],\n",
       "       [ 143099.22011584],\n",
       "       [ 153750.35403146],\n",
       "       [ 147017.86975909],\n",
       "       [ 134453.92969269],\n",
       "       [ 142833.61016411],\n",
       "       [ 159160.46941872],\n",
       "       [ 125002.85325527],\n",
       "       [ 143858.62160946],\n",
       "       [ 155636.69263644],\n",
       "       [ 133117.72563765],\n",
       "       [ 149655.05462998],\n",
       "       [ 137284.67431155],\n",
       "       [ 132051.60961387],\n",
       "       [ 125885.9694155 ],\n",
       "       [ 154534.35104511],\n",
       "       [ 133177.14346552],\n",
       "       [ 125201.49247979],\n",
       "       [ 150442.92832613],\n",
       "       [ 123113.03889914],\n",
       "       [ 137761.75632936],\n",
       "       [ 167166.26416709],\n",
       "       [ 142681.5559259 ],\n",
       "       [ 139205.23382735],\n",
       "       [ 129943.84045541],\n",
       "       [ 172940.30678998],\n",
       "       [ 126447.33308162],\n",
       "       [ 115886.16168786],\n",
       "       [ 209096.61447789],\n",
       "       [ 160285.20140768],\n",
       "       [ 209514.27866783],\n",
       "       [ 164776.97739551],\n",
       "       [ 140471.99373237],\n",
       "       [ 146213.28653887],\n",
       "       [ 135429.88272893],\n",
       "       [ 131816.34389046],\n",
       "       [ 119580.50642348],\n",
       "       [ 164632.27559097],\n",
       "       [ 149178.37354351],\n",
       "       [ 148220.93422239],\n",
       "       [ 114351.71933965],\n",
       "       [ 135466.30876215],\n",
       "       [ 132225.85378404],\n",
       "       [ 136209.80259439],\n",
       "       [ 141438.18874687],\n",
       "       [ 154529.27156856],\n",
       "       [ 174389.26469585],\n",
       "       [ 170145.18634165],\n",
       "       [ 137855.79599941],\n",
       "       [ 125092.81577714],\n",
       "       [ 156054.9582234 ],\n",
       "       [ 160185.88179542],\n",
       "       [ 168570.04034636],\n",
       "       [ 144025.31288028],\n",
       "       [ 124444.16347763],\n",
       "       [ 128644.06243359],\n",
       "       [ 147882.07127286],\n",
       "       [ 174317.01402642],\n",
       "       [ 143800.40657562],\n",
       "       [ 170019.19871791],\n",
       "       [ 133922.50932354],\n",
       "       [ 137829.12798792],\n",
       "       [ 129197.27180335],\n",
       "       [ 159362.38392873],\n",
       "       [ 165977.83673641],\n",
       "       [ 148184.30772349],\n",
       "       [ 150592.50914154],\n",
       "       [ 161986.13456104],\n",
       "       [ 114130.08832049],\n",
       "       [ 154065.42332366],\n",
       "       [ 118622.46570534],\n",
       "       [ 159861.85634417],\n",
       "       [ 148832.35862598],\n",
       "       [ 164533.35691006],\n",
       "       [ 132937.80059392],\n",
       "       [ 152157.29571807],\n",
       "       [ 149160.06029406],\n",
       "       [ 148423.45012941],\n",
       "       [ 123607.83276938]])"
      ]
     },
     "execution_count": 18,
     "metadata": {},
     "output_type": "execute_result"
    }
   ],
   "source": [
    "SLR.predict(X_test)"
   ]
  },
  {
   "cell_type": "markdown",
   "metadata": {},
   "source": [
    "### 説明するもの"
   ]
  },
  {
   "cell_type": "markdown",
   "metadata": {
    "collapsed": true
   },
   "source": [
    "### 教師あり学習\n",
    "教師あり学習とは、機械学習の手法の一つである。事前に与えられたデータをいわば「例題（＝先生からの助言）」とみなして、それをガイドに学習（＝データへの何らかのフィッティング）を行うところからこの名がある。"
   ]
  },
  {
   "cell_type": "markdown",
   "metadata": {
    "collapsed": true
   },
   "source": [
    "### 分類問題\n",
    "「分類問題」とは，データをそれぞれカテゴリに分類するもので，機械学習の代表的な使い道の一つである。\n",
    "例えばメールをスパムと非スパムに分類したり，文中の単語に名詞や動詞などの品詞ラベルを割り振ったり，Webページの内容に応じて「スポーツ」や「政治」などのジャンルに分類したりするのもすべて分類問題と見なすことで，機械学習を使って解くことができるようになる。\n",
    "「分類」に雰囲気のよく似た言葉として「クラスタリング」というものもあるが，機械学習の分野ではその2つは明確に区別していいる。\n",
    "「分類問題」では，データをどのようなカテゴリーに分けるかは問題を解きたい人が指定している。したがって学習用のデータには正解カテゴリーがラベルとして割り振られており，それを使って「このカテゴリに属するデータはどのようなものか」を学習する。\n",
    "一方の「クラスタリング」では，一般に問題を解きたい人がカテゴリを明示的に与えることはでない。できることは「2つのデータがこういう関係を満たしていれば似ているとする」といった条件と，データ全体をいくつのかたまり（クラスタ）に分割するのかを決めることだけである⁠。"
   ]
  },
  {
   "cell_type": "markdown",
   "metadata": {
    "collapsed": true
   },
   "source": [
    "### 回帰問題\n",
    "回帰とは、株価分析のように、連続するデータの予測を行うときなどに使用する。\n",
    "主に数値を扱うときである。\n",
    "例えば、そのデータの特徴量の傾向をみて(座標上に線を書いて)、具体的な数字を出す（線上から割り出す）、予測するのが回帰である。"
   ]
  },
  {
   "cell_type": "markdown",
   "metadata": {
    "collapsed": true
   },
   "source": [
    "### 教師なし学習\n",
    "教師なし学習は、学習対象のデータはあるが、それが何かという正解（文脈によってはラベル、教師信号ともいう）は与えられていないので、どうにかしてなにかしらの構造や法則を見出すための手法である。\n",
    "大抵の場合、クラスタリング系のアルゴリズムを扱うことが多い。"
   ]
  },
  {
   "cell_type": "markdown",
   "metadata": {
    "collapsed": true
   },
   "source": [
    "### フィーチャースケーリング\n",
    "再急降下法では最小二乗法の最小値を求める必要がある。そのとき特徴量に対して、ある幅で最小値に近づいていく(収束する)必要があるが、その特徴量の範囲がそれぞれ異なると時間がかかってしまう。そのため、特徴量の範囲を調整することをfeature scaling(フィーチャースケーリング)と言い、それによって処理時間を短くすることができる。"
   ]
  },
  {
   "cell_type": "markdown",
   "metadata": {},
   "source": [
    "### 正規化\n",
    "正規化には二種類ある 一つは最大値を1、最小値を0にする正規化である。データXが与えられたとき、\n",
    "Y=X−xminxmax−xmin\n",
    "Y=X−xminxmax−xmin\n",
    " \n",
    "と変換すると、Y の最大値は 1、最小値は 0 になる。\n",
    "\n",
    "もう一つは平均を0、分散を1にする正規化(標準化)である。データXが与えられたとき、\n",
    "Y=X−μσ\n",
    "Y=X−μσ\n",
    " \n",
    "と変換すると、Yの平均は0、分散（および標準偏差）は1となる。"
   ]
  },
  {
   "cell_type": "markdown",
   "metadata": {},
   "source": [
    "### $\\theta_0$の役割\n",
    "線形回帰の直線はy=b0+b1xy=b0+b1xという方程式で表すことができる。b0b0はy切片を表し、b1b1は傾きを表す。\n",
    "線形回帰モデルに出てくるθ0θ0は直線の切片を示している。\n",
    "\n",
    "例として、ある会社が、生産部門で働く従業員の業務遂行能力をy=130+4.3xy=130+4.3xという回帰モデルを使用して予測できると判断したとする。ここで、xxは従業員が受ける社内教育の時間（0～20）を表し、yyは職業技能検定での従業員のスコアを表す。yy切片の値（130）は、社内教育を受けていない従業員の平均職業技能スコアを示している。傾きの値（4.3）は、社内教育の時間が増えるごとに、職業技能スコアが平均で4.3ポイント増加することを示している。\n",
    "\n",
    "上記の例からわかるように説明変数の値が00のときの目的変数の値が切片θ0θ0に変換する。"
   ]
  },
  {
   "cell_type": "markdown",
   "metadata": {},
   "source": [
    "### 学習率\n",
    "モデルの適合性を理解することは、モデルの精度が悪いという問題の根本的な原因を理解する上で重要である。トレーニングデータと評価データの予測エラーを見て、予測モデルがトレーニングデータに対してアンダーフィットかオーバーフィットかを判断できまる。\n",
    "\n",
    "トレーニングデータでのモデルのパフォーマンスが悪いときは、モデルがトレーニングデータにアンダーフィットしている。これは、モデルが入力例 (X と呼ばれることが多い) とターゲット値 (Y と呼ばれることが多い) の関係をキャプチャできないことが原因である。トレーニングデータでのモデルのパフォーマンスがよくても、評価データでのパフォーマンスはよくないことが観察される場合、モデルがトレーニングデータにオーバーフィットしている。これは、モデルが見たデータを記憶していて、見ていない例に対して一般化できないことが原因である。\n",
    "\n",
    "トレーニングデータでのパフォーマンスが悪い原因は、モデルがターゲットを説明するには単純すぎる (入力機能が十分に説明されていない) ことである可能性がある。モデルの柔軟性を高めることで、パフォーマンスを改善できる。モデルの柔軟性を高めるには、次の操作を試してください。\n",
    "\n",
    "使用する正則化の量を減らす\n",
    "モデルがトレーニングデータにオーバーフィットしている場合は、モデルの柔軟性を低下させる措置を取るのが適切である。モデルの柔軟性を低下させるには、次の操作を試してください。\n",
    "\n",
    "使用する正則化の量を増やす。\n",
    "学習アルゴリズムに学習するのに十分なデータがないため、トレーニングデータとテストデータの精度が悪くなることがあります。次の手順を実行してパフォーマンスを向上させることができます。\n",
    "\n",
    "トレーニングデータの例の量を増やす。\n",
    "既存のトレーニングデータのパスの数を増やす。"
   ]
  },
  {
   "cell_type": "markdown",
   "metadata": {},
   "source": [
    "### 最急降下法(勾配降下法、GradientDescent)\n",
    "最急降下法は、関数（ポテンシャル面）の傾き（一階微分）のみから、関数の最小値を探索する連続最適化問題の勾配法のアルゴリズムの一つ。勾配法としては最も単純であり、直接・間接にこのアルゴリズムを使用している場合は多い。最急降下法をオンライン学習に改良した物を確率的勾配降下法と呼ぶ。\n",
    "\n",
    "\n",
    "$\\theta_j := \\theta_j - \\alpha \\frac{1}{m} \\displaystyle\\sum_{i=1}^m[(h_\\theta(x^{(i)}-y^{(i)})x_j^{(i)} ]$"
   ]
  },
  {
   "cell_type": "markdown",
   "metadata": {},
   "source": [
    "## 正規方程式\n",
    "Xを行列、β,yを縦ベクトルとし、∥⋅∥をノルムとする。またXTをXの転置行列とする。XTXが正則なとき, S(β)=∥Xβ−y∥2つまり∥Xβ−y∥を最小にするβはただ1つ存在し、それは、正規方程式： \n",
    "$$X^{T}X^{β}=X^{T}y$$\n",
    "の解である。 \n",
    "∥Xβ−y∥=0, すなわちXβ=yとなる解が見つかればよい(→補足1)のですが、見つからないときでもこの定理により、∥Xβ−y∥を最小にするようなβを見つけられます。 正規方程式はXβ=yの両辺に左からXTを掛けたものですが、このことを用いて正規方程式を覚えるのがオススメです。"
   ]
  },
  {
   "cell_type": "markdown",
   "metadata": {},
   "source": [
    "### 学習曲線\n",
    "訓練データサイズを横軸に推論誤差あるいは推論精度をプロットした曲線を学習曲線という。一般論として推論精度は訓練データサイズに対して比例しない。ある程度のサイズがないと推論精度は向上しないし、ある程度以上の訓練データ量になると対数関数の様に訓練データサイズに対しての推論精度の向上率は鈍化する。"
   ]
  }
 ],
 "metadata": {
  "kernelspec": {
   "display_name": "Python 3",
   "language": "python",
   "name": "python3"
  },
  "language_info": {
   "codemirror_mode": {
    "name": "ipython",
    "version": 3
   },
   "file_extension": ".py",
   "mimetype": "text/x-python",
   "name": "python",
   "nbconvert_exporter": "python",
   "pygments_lexer": "ipython3",
   "version": "3.6.5"
  }
 },
 "nbformat": 4,
 "nbformat_minor": 2
}
