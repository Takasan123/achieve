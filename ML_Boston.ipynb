{
 "cells": [
  {
   "cell_type": "markdown",
   "metadata": {},
   "source": [
    "## 授業前課題　ボストン住宅価格　線形回帰"
   ]
  },
  {
   "cell_type": "markdown",
   "metadata": {},
   "source": [
    "### 線形回帰とは何か\n",
    "線形回帰とは、2つの変数をとった時、YをXの「関数」として説明できないかを見ることである。例えば、「平均気温」をX、「ビールの売上」をYとすると、YとXの間に何か定量的な法則がないかを探る発想である。 \n",
    "回帰分析は、蓄積されたデータから法則を読み取る、基本的なツール。2つの変数のうち、より結果に近いもの（目的変数）をY、原因に近いもの（説明変数）をXと置くと、Y＝aX＋b というシンプルな式に落とし込め、直感的に分かりやすく、a、bが数値として得られるので、具体的数値の形でYを予測することができる。  \n",
    "線形回帰は、連続値をとる目的変数を予測するために使用される。具体的に言うと、そのデータの特徴量の傾向をみて(座標上に線を書いて)、具体的な数字を出す（線上から割り出す）、予測するのが回帰である。  \n",
    "一方で、分類は、回帰とは違い具体的な数字を出すのではなく、与えられたクラスに分ける（ラベリングする）ことを目的としている。例えば、花弁の数をみて、少ないとパンジー、多いとたんぽぽのように、あらかじめ与えられたクラス（ここでは、パンジーとたんぽぽ）に分けることを分類という。"
   ]
  },
  {
   "cell_type": "markdown",
   "metadata": {},
   "source": [
    "### 必要なライブラリをimportする"
   ]
  },
  {
   "cell_type": "code",
   "execution_count": 1,
   "metadata": {},
   "outputs": [],
   "source": [
    "import numpy as np # 線形代数ライブラリ\n",
    "import matplotlib.pyplot as plt # 描画ライブラリ\n",
    "import seaborn as sns # 描画ライブラリ\n",
    "from sklearn.datasets import load_boston # ボストン住宅価格データ\n",
    "from scipy.stats import zscore # zスコアライブラリ\n",
    "import pandas as pd # データ操作ライブラリ\n",
    "from sklearn.linear_model import LinearRegression # 線形回帰モデル\n",
    "from sklearn.preprocessing import PolynomialFeatures # 多項式モデル\n",
    "from sklearn.model_selection import train_test_split # テストデータの分割\n",
    "from sklearn.metrics import mean_squared_error # 平均二乗誤差回帰損失"
   ]
  },
  {
   "cell_type": "markdown",
   "metadata": {},
   "source": [
    "### 取得データをDataFrameにする\n",
    "#### ボストン住宅価格ライブラリからデータを取得"
   ]
  },
  {
   "cell_type": "code",
   "execution_count": 2,
   "metadata": {},
   "outputs": [
    {
     "name": "stdout",
     "output_type": "stream",
     "text": [
      "      CRIM    ZN  INDUS  CHAS    NOX     RM   AGE     DIS  RAD    TAX  \\\n",
      "0  0.00632  18.0   2.31   0.0  0.538  6.575  65.2  4.0900  1.0  296.0   \n",
      "1  0.02731   0.0   7.07   0.0  0.469  6.421  78.9  4.9671  2.0  242.0   \n",
      "2  0.02729   0.0   7.07   0.0  0.469  7.185  61.1  4.9671  2.0  242.0   \n",
      "3  0.03237   0.0   2.18   0.0  0.458  6.998  45.8  6.0622  3.0  222.0   \n",
      "4  0.06905   0.0   2.18   0.0  0.458  7.147  54.2  6.0622  3.0  222.0   \n",
      "\n",
      "   PTRATIO       B  LSTAT  \n",
      "0     15.3  396.90   4.98  \n",
      "1     17.8  396.90   9.14  \n",
      "2     17.8  392.83   4.03  \n",
      "3     18.7  394.63   2.94  \n",
      "4     18.7  396.90   5.33  \n"
     ]
    }
   ],
   "source": [
    "# ボストン住宅価格データを読み込み\n",
    "Instance_BostonData = load_boston() # インスタンスを生成\n",
    "\n",
    "# 変数にデータをPandas型に変換し、格納\n",
    "Data = pd.DataFrame(Instance_BostonData.data,columns=Instance_BostonData.feature_names) # 説明変数データ\n",
    "HousePrices = pd.DataFrame(Instance_BostonData.target,columns={\"HousePrices\"})  # 目的変数データ（住宅価格）\n",
    "\n",
    "# 説明変数データの先頭５行表示\n",
    "print(Data.head())"
   ]
  },
  {
   "cell_type": "markdown",
   "metadata": {},
   "source": [
    "### 説明変数を'LSTAT'のみにする\n",
    "LSTAT:給与の低い職業に従事する人口の割合 (%)\n",
    "\n",
    "※head()メソッドなどを使用して、データを確認する。\n",
    "1.x.head()\n",
    "2.y.head()"
   ]
  },
  {
   "cell_type": "code",
   "execution_count": 3,
   "metadata": {},
   "outputs": [
    {
     "name": "stdout",
     "output_type": "stream",
     "text": [
      "-- Data LSTAT --\n",
      "0    4.98\n",
      "1    9.14\n",
      "2    4.03\n",
      "3    2.94\n",
      "4    5.33\n",
      "Name: LSTAT, dtype: float64\n",
      "-----------------------------\n",
      "--House prices--\n",
      "   HousePrices\n",
      "0         24.0\n",
      "1         21.6\n",
      "2         34.7\n",
      "3         33.4\n",
      "4         36.2\n"
     ]
    }
   ],
   "source": [
    "# データから今回の対象となる目的変数「LSTAT」を抽出\n",
    "DataLstat = Data[\"LSTAT\"]  # LSAST：給与\n",
    "\n",
    "# 先頭の５行を表示\n",
    "print(\"-- Data LSTAT --\")\n",
    "print(DataLstat.head())  # 説明変数となるData_Lstat（給与）\n",
    "print(\"-----------------------------\")\n",
    "print(\"--House prices--\")\n",
    "print(HousePrices.head())  # 目的変数となるHousePrices（住宅価格）"
   ]
  },
  {
   "cell_type": "markdown",
   "metadata": {},
   "source": [
    "### 単回帰と重回帰についての違いを記述せよ\n",
    "単回帰は、Yを説明する、おそらく無数にある要素のうち、一つ変数Xに代表させて説明しようとしている。\n",
    "メリットとしては、要素を絞り込んだことによるシンプルさ、メッセージの明確さであり、 ヒントになる異常値の発見がしやすい。例えば、経営者が、「このビジネスの本質（因果）は何か？」を考える、ときなどに使う。  \n",
    "一方で、重回帰は、事象を複数の変数で説明しようとしている。（通常のビジネス事象は、複数の要素が絡み合って発生しているので）より実態に近い予測式ができる。売上を予測したいマーケティング担当者や出店担当者など、より現場に近い人々が、実務に使う数字を予測したいときに使う。"
   ]
  },
  {
   "cell_type": "markdown",
   "metadata": {},
   "source": [
    "### テストデータに分割する"
   ]
  },
  {
   "cell_type": "code",
   "execution_count": 4,
   "metadata": {},
   "outputs": [
    {
     "name": "stdout",
     "output_type": "stream",
     "text": [
      "DataLstat:TrainSize(404,), TestSize:(102,)\n",
      "HousePrices:TrainSize(404, 1), TestSize:(102, 1)\n"
     ]
    }
   ],
   "source": [
    "# データセットのデータを8対２（トレーニング対テスト）に分ける\n",
    "(DataLstat_train,DataLstat_test,\n",
    "HousePrices_train,HousePrices_test) = train_test_split(DataLstat, HousePrices, test_size=0.2, random_state=0)\n",
    "# テスト20% 分割はランダムなし\n",
    "\n",
    "# 各データの形状を確認\n",
    "print(\"DataLstat:TrainSize{}, TestSize:{}\" .format(DataLstat_train.shape,DataLstat_test.shape))\n",
    "print(\"HousePrices:TrainSize{}, TestSize:{}\" .format(HousePrices_train.shape,HousePrices_test.shape))"
   ]
  },
  {
   "cell_type": "markdown",
   "metadata": {},
   "source": [
    "### 学習"
   ]
  },
  {
   "cell_type": "code",
   "execution_count": 5,
   "metadata": {},
   "outputs": [
    {
     "name": "stderr",
     "output_type": "stream",
     "text": [
      "/Library/Frameworks/Python.framework/Versions/3.7/lib/python3.7/site-packages/sklearn/linear_model/base.py:485: RuntimeWarning: internal gelsd driver lwork query error, required iwork dimension not returned. This is likely the result of LAPACK bug 0038, fixed in LAPACK 3.2.2 (released July 21, 2010). Falling back to 'gelss' driver.\n",
      "  linalg.lstsq(X, y)\n"
     ]
    },
    {
     "data": {
      "text/plain": [
       "LinearRegression(copy_X=True, fit_intercept=True, n_jobs=None,\n",
       "         normalize=False)"
      ]
     },
     "execution_count": 5,
     "metadata": {},
     "output_type": "execute_result"
    }
   ],
   "source": [
    "# 線形回帰モデル\n",
    "lin_1d = LinearRegression() # 線形モデルインスタンスの生成\n",
    "\n",
    "# 線形回帰によるモデル生成\n",
    "lin_1d.fit(DataLstat_train[:,None], HousePrices_train) # DataLstat_trainをベクトルから行列に変換"
   ]
  },
  {
   "cell_type": "markdown",
   "metadata": {},
   "source": [
    "### 決定係数"
   ]
  },
  {
   "cell_type": "code",
   "execution_count": 6,
   "metadata": {},
   "outputs": [
    {
     "name": "stdout",
     "output_type": "stream",
     "text": [
      "一次式における'LSTAT'の住宅価格への決定係数は0.43\n"
     ]
    }
   ],
   "source": [
    "# 線形モデル決定係数\n",
    "score_1d = lin_1d.score(DataLstat_test[:,None], HousePrices_test)\n",
    "print(\"一次式における'LSTAT'の住宅価格への決定係数は%.2f\"%(score_1d))"
   ]
  },
  {
   "cell_type": "markdown",
   "metadata": {},
   "source": [
    "### 決定係数とは何か記述せよ\n",
    "決定係数とは、回帰分析によって求められた目的変数の予測値が、実際の目的変数の値とどのくらい一致しているかを表している指標であり、以下の式で表される。  決定係数＝（平均から回帰式上の推計値までの距離の二乗の和）÷（平均から各点までの距離の二乗の和）  \n",
    "決定係数について解説すると、各点の値＝回帰式上の推計値＋回帰式の誤差（＝各点の値と回帰式上の推計値との差）と考えることが出来る。\n",
    "この場合の回帰式の誤差に関して、以下の式が成り立つことが証明されている。  \n",
    "（平均から各点までの距離の二乗の和） ＝（平均から回帰式上の推計値までの距離の二乗の和） ＋（回帰式上の誤差の二乗の和）  \n",
    "意味合いとしては、全変動 ＝ 回帰で説明できる変動 ＋ 回帰では説明できない変動  よって、決定係数とは、全変動 のうち、 回帰で説明できる変動 の占める割合 と言える。  最も説明変数が、目的変数を説明できる場合、決定係数は1に限りなく近づく。"
   ]
  },
  {
   "cell_type": "markdown",
   "metadata": {},
   "source": [
    "### 決定係数をいかなる場合も信じても良いか記述せよ\n",
    "決定係数は説明変数の数が増えるほど1に近づくという性質を持っている。そのため、説明変数の数が多い場合には、この点を補正した自由度調整済み決定係数を使用する。  \n",
    "自由調整済み決定係数さえ高ければなんでもよい」という考え方は不適切である。分析を行うからにはその目的があり、検証したい仮説があるはずであるが、こうした目的や仮説とは一切関係ない変数を、決定係数が上がるからという理由だけで無秩序に分析に加えてしまうと、そのモデルは解釈が難しくなり当初の目的を果たせなくなる。  \n",
    "また、決定係数はあくまで「予測の当てはまりの良さ」を表す指標である。分析の目的が「ある変数の値を予測したい」の場合には適切な指標だが、「雨が降った日数がコンビニの月間の売上に影響があるかどうか知りたい」のように、ある変数の影響の有無が主眼であり予測は重視しない場合には、決定係数に注目することはあまり意味がないと言える。この場合には「雨が降った日数」という説明変数の回帰係数や、その係数に対する検定の結果（有意かどうか）にまず注目すべきである。"
   ]
  },
  {
   "cell_type": "markdown",
   "metadata": {},
   "source": [
    "### 2,3,4次式の回帰\n",
    "モデル生成"
   ]
  },
  {
   "cell_type": "code",
   "execution_count": 7,
   "metadata": {},
   "outputs": [
    {
     "name": "stdout",
     "output_type": "stream",
     "text": [
      "二次式における'LSTAT'の住宅価格への決定係数は0.52\n",
      "三次式における'LSTAT'の住宅価格への決定係数は0.54\n",
      "四次式における'LSTAT'の住宅価格への決定係数は0.57\n"
     ]
    }
   ],
   "source": [
    "# 回帰モデルのインスタンス読込み\n",
    "lin_2d = LinearRegression()\n",
    "lin_3d = LinearRegression()\n",
    "lin_4d = LinearRegression()\n",
    "\n",
    "# 2,3,4次の多項式生成\n",
    "degree_2 = PolynomialFeatures(2)\n",
    "degree_3 = PolynomialFeatures(3)\n",
    "degree_4 = PolynomialFeatures(4)\n",
    "\n",
    "# データを2,3,4次に合うように変換 \n",
    "x_train_2 = degree_2.fit_transform(DataLstat_train[:,None])\n",
    "x_train_3 = degree_3.fit_transform(DataLstat_train[:,None])\n",
    "x_train_4 = degree_4.fit_transform(DataLstat_train[:,None])\n",
    "\n",
    "# 予測モデル生成\n",
    "lin_2d.fit(x_train_2, HousePrices_train)\n",
    "lin_3d.fit(x_train_3, HousePrices_train)\n",
    "lin_4d.fit(x_train_4, HousePrices_train)\n",
    "\n",
    "# 予測モデルをテスト\n",
    "x_test_2 = degree_2.fit_transform(DataLstat_test[:,None])\n",
    "x_test_3 = degree_3.fit_transform(DataLstat_test[:,None])\n",
    "x_test_4 = degree_4.fit_transform(DataLstat_test[:,None])\n",
    "\n",
    "# 決定係数算出\n",
    "score_2d = lin_2d.score(x_test_2, HousePrices_test)\n",
    "score_3d = lin_3d.score(x_test_3, HousePrices_test)\n",
    "score_4d = lin_4d.score(x_test_4, HousePrices_test)\n",
    "\n",
    "print(\"二次式における'LSTAT'の住宅価格への決定係数は%.2f\"%score_2d)\n",
    "print(\"三次式における'LSTAT'の住宅価格への決定係数は%.2f\"%score_3d)\n",
    "print(\"四次式における'LSTAT'の住宅価格への決定係数は%.2f\"%score_4d)"
   ]
  },
  {
   "cell_type": "markdown",
   "metadata": {},
   "source": [
    "### 次数が大きくなるとどうなるか記述せよ\n",
    "説明変数をXとして、次数を増やしていくと、一般に次式のように表すことができる。\n",
    "fθ(X) = θ0 + θ1X + θ2X2+ θ3X3 +・・・ + θn Xn　　　（ただし、Xの２乗をX2などと表す）\n",
    "次元を増やしていくと、メリットとしては、データにフィットしやすくなる。一方で、デメリットとしては、過学習が起きることが挙げられる。\n",
    "\n"
   ]
  },
  {
   "cell_type": "markdown",
   "metadata": {},
   "source": [
    "### 重回帰"
   ]
  },
  {
   "cell_type": "code",
   "execution_count": 8,
   "metadata": {},
   "outputs": [
    {
     "data": {
      "text/plain": [
       "HousePrices    1.000000\n",
       "LSTAT          0.737663\n",
       "RM             0.695360\n",
       "PTRATIO        0.507787\n",
       "INDUS          0.483725\n",
       "TAX            0.468536\n",
       "NOX            0.427321\n",
       "CRIM           0.388305\n",
       "RAD            0.381626\n",
       "AGE            0.376955\n",
       "ZN             0.360445\n",
       "B              0.333461\n",
       "DIS            0.249929\n",
       "CHAS           0.175260\n",
       "Name: HousePrices, dtype: float64"
      ]
     },
     "execution_count": 8,
     "metadata": {},
     "output_type": "execute_result"
    }
   ],
   "source": [
    "# 目的変数と各説明変数の相関を求める\n",
    "Data_join = pd.concat([HousePrices, Data],axis=1)\n",
    "Data_join.corr()[\"HousePrices\"].abs().sort_values(ascending=False)"
   ]
  },
  {
   "cell_type": "code",
   "execution_count": 9,
   "metadata": {},
   "outputs": [
    {
     "data": {
      "text/plain": [
       "<matplotlib.axes._subplots.AxesSubplot at 0x110579ac8>"
      ]
     },
     "execution_count": 9,
     "metadata": {},
     "output_type": "execute_result"
    },
    {
     "data": {
      "image/png": "[encoded data removed]",
      "text/plain": [
       "<Figure size 432x288 with 2 Axes>"
      ]
     },
     "metadata": {
      "needs_background": "light"
     },
     "output_type": "display_data"
    }
   ],
   "source": [
    "sns.heatmap(Data_join.corr())"
   ]
  },
  {
   "cell_type": "code",
   "execution_count": 10,
   "metadata": {},
   "outputs": [
    {
     "name": "stdout",
     "output_type": "stream",
     "text": [
      "多重回帰における住宅価格への決定係数は0.71\n"
     ]
    }
   ],
   "source": [
    "# データセットのデータを8対２（トレーニング対テスト）に分ける\n",
    "(DataLstat_train,DataLstat_test,\n",
    "HousePrices_train,HousePrices_test) = train_test_split(DataLstat, HousePrices, test_size=0.2, random_state=0)\n",
    "# テスト20% 分割はランダムなし\n",
    "x_train, x_test, y_train, y_test = train_test_split(Data, HousePrices, test_size=0.2, random_state=0)\n",
    "\n",
    "# x_train_multi = x_train.loc[:,[\"LSTAT\",\"PTRATIO\", \"INDUS\"]]\n",
    "# x_test_multi = x_test.loc[:,[\"LSTAT\",\"PTRATIO\", \"INDUS\"]]\n",
    "\n",
    "x_train_multi = x_train.loc[:,[\"LSTAT\",\"RM\", \"DIS\", \"ZN\"]]\n",
    "x_test_multi = x_test.loc[:,[\"LSTAT\",\"RM\", \"DIS\", \"ZN\"]]\n",
    "\n",
    "degree_2 = PolynomialFeatures(2)\n",
    "x_tarin = degree_2.fit_transform(x_train_multi)\n",
    "x_test = degree_2.fit_transform(x_test_multi)\n",
    "\n",
    "lin_multi = LinearRegression()\n",
    "lin_multi.fit(x_tarin, y_train)\n",
    "\n",
    "# 線形モデル決定係数\n",
    "score_multi = lin_multi.score(x_test, y_test)\n",
    "print(\"多重回帰における住宅価格への決定係数は%.2f\"%(score_multi))"
   ]
  },
  {
   "cell_type": "markdown",
   "metadata": {},
   "source": [
    "### 重回帰について記述せよ\n",
    "複数の特徴量を使う回帰を重回帰という。 特徴量を増やせば、誤差関数の誤差が小さくなり、決定係数の値をより高めることが可能で、予測の精度をより向上させることができるというメリットがある。 ただデメリットとしては次数を増やすことによって決定係数の数値がかなり悪くなってしまうことがある。説明変数を増やし、次数をあげると精度と表現力が向上する一方で過学習がおこってしまうというデメリットがある。"
   ]
  }
 ],
 "metadata": {
  "kernelspec": {
   "display_name": "Python 3",
   "language": "python",
   "name": "python3"
  },
  "language_info": {
   "codemirror_mode": {
    "name": "ipython",
    "version": 3
   },
   "file_extension": ".py",
   "mimetype": "text/x-python",
   "name": "python",
   "nbconvert_exporter": "python",
   "pygments_lexer": "ipython3",
   "version": "3.7.0"
  }
 },
 "nbformat": 4,
 "nbformat_minor": 2
}
