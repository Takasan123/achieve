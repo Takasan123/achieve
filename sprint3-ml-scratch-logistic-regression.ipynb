{
 "cells": [
  {
   "cell_type": "markdown",
   "metadata": {},
   "source": [
    "## ロジスティック回帰\n",
    "Irisデータセットを使用して、ロジスティック回帰のアルゴリズムを構築\n",
    "\n",
    "### ロジスティック回帰とは\n",
    "ロジスティック回帰とは、分類のアルゴリズムの１つであり、基本的には目的変数が２値のときに利用する。値域が[0,1]で総和が1になるようなxの線形関数を用いてK個のクラス事後確率をモデル化したいという欲求から生まれたモデルである。\n",
    "\n",
    "\n",
    "\n",
    "### データセットの用意"
   ]
  },
  {
   "cell_type": "code",
   "execution_count": 1,
   "metadata": {},
   "outputs": [
    {
     "data": {
      "text/html": [
       "<div>\n",
       "<style scoped>\n",
       "    .dataframe tbody tr th:only-of-type {\n",
       "        vertical-align: middle;\n",
       "    }\n",
       "\n",
       "    .dataframe tbody tr th {\n",
       "        vertical-align: top;\n",
       "    }\n",
       "\n",
       "    .dataframe thead th {\n",
       "        text-align: right;\n",
       "    }\n",
       "</style>\n",
       "<table border=\"1\" class=\"dataframe\">\n",
       "  <thead>\n",
       "    <tr style=\"text-align: right;\">\n",
       "      <th></th>\n",
       "      <th>Id</th>\n",
       "      <th>SepalLengthCm</th>\n",
       "      <th>SepalWidthCm</th>\n",
       "      <th>PetalLengthCm</th>\n",
       "      <th>PetalWidthCm</th>\n",
       "      <th>Species</th>\n",
       "    </tr>\n",
       "  </thead>\n",
       "  <tbody>\n",
       "    <tr>\n",
       "      <th>0</th>\n",
       "      <td>1</td>\n",
       "      <td>5.1</td>\n",
       "      <td>3.5</td>\n",
       "      <td>1.4</td>\n",
       "      <td>0.2</td>\n",
       "      <td>Iris-setosa</td>\n",
       "    </tr>\n",
       "    <tr>\n",
       "      <th>1</th>\n",
       "      <td>2</td>\n",
       "      <td>4.9</td>\n",
       "      <td>3.0</td>\n",
       "      <td>1.4</td>\n",
       "      <td>0.2</td>\n",
       "      <td>Iris-setosa</td>\n",
       "    </tr>\n",
       "    <tr>\n",
       "      <th>2</th>\n",
       "      <td>3</td>\n",
       "      <td>4.7</td>\n",
       "      <td>3.2</td>\n",
       "      <td>1.3</td>\n",
       "      <td>0.2</td>\n",
       "      <td>Iris-setosa</td>\n",
       "    </tr>\n",
       "    <tr>\n",
       "      <th>3</th>\n",
       "      <td>4</td>\n",
       "      <td>4.6</td>\n",
       "      <td>3.1</td>\n",
       "      <td>1.5</td>\n",
       "      <td>0.2</td>\n",
       "      <td>Iris-setosa</td>\n",
       "    </tr>\n",
       "    <tr>\n",
       "      <th>4</th>\n",
       "      <td>5</td>\n",
       "      <td>5.0</td>\n",
       "      <td>3.6</td>\n",
       "      <td>1.4</td>\n",
       "      <td>0.2</td>\n",
       "      <td>Iris-setosa</td>\n",
       "    </tr>\n",
       "  </tbody>\n",
       "</table>\n",
       "</div>"
      ],
      "text/plain": [
       "   Id  SepalLengthCm  SepalWidthCm  PetalLengthCm  PetalWidthCm      Species\n",
       "0   1            5.1           3.5            1.4           0.2  Iris-setosa\n",
       "1   2            4.9           3.0            1.4           0.2  Iris-setosa\n",
       "2   3            4.7           3.2            1.3           0.2  Iris-setosa\n",
       "3   4            4.6           3.1            1.5           0.2  Iris-setosa\n",
       "4   5            5.0           3.6            1.4           0.2  Iris-setosa"
      ]
     },
     "execution_count": 1,
     "metadata": {},
     "output_type": "execute_result"
    }
   ],
   "source": [
    "import numpy as np  # 線形代数ライブラリー\n",
    "import pandas as pd  # データの加工, CSVファイルの読み書き\n",
    "import matplotlib.pyplot as plt  # 描画ライブラリー\n",
    "\n",
    "import seaborn as sns  # 描画スタイル変更ライブラリ\n",
    "%matplotlib inline\n",
    "from sklearn.model_selection import train_test_split\n",
    "\n",
    "iris_df = pd.read_csv('/Users/andoutakaaki/DIC_study/Sprint3/Iris.csv')  # csvファイルの読み込み\n",
    "iris_df.head()"
   ]
  },
  {
   "cell_type": "code",
   "execution_count": null,
   "metadata": {},
   "outputs": [],
   "source": []
  },
  {
   "cell_type": "code",
   "execution_count": null,
   "metadata": {},
   "outputs": [],
   "source": []
  },
  {
   "cell_type": "markdown",
   "metadata": {},
   "source": [
    "### ２値分類\n",
    "今回は以下の2つのクラスを分類\n",
    "\n",
    "Iris-versicolor\n",
    "Iris-virginica"
   ]
  },
  {
   "cell_type": "code",
   "execution_count": 2,
   "metadata": {},
   "outputs": [],
   "source": [
    "# 2クラスに絞る\n",
    "iris_df = iris_df[iris_df[\"Species\"] != \"Iris-setosa\"]\n",
    "\n",
    "y_df = iris_df[[\"Species\"]]\n",
    "x_df = iris_df[['SepalLengthCm', 'SepalWidthCm', 'PetalLengthCm', 'PetalWidthCm']]"
   ]
  },
  {
   "cell_type": "code",
   "execution_count": null,
   "metadata": {},
   "outputs": [],
   "source": []
  },
  {
   "cell_type": "code",
   "execution_count": 3,
   "metadata": {},
   "outputs": [
    {
     "name": "stderr",
     "output_type": "stream",
     "text": [
      "/Library/Frameworks/Python.framework/Versions/3.7/lib/python3.7/site-packages/ipykernel_launcher.py:3: SettingWithCopyWarning: \n",
      "A value is trying to be set on a copy of a slice from a DataFrame.\n",
      "Try using .loc[row_indexer,col_indexer] = value instead\n",
      "\n",
      "See the caveats in the documentation: http://pandas.pydata.org/pandas-docs/stable/indexing.html#indexing-view-versus-copy\n",
      "  This is separate from the ipykernel package so we can avoid doing imports until\n"
     ]
    }
   ],
   "source": [
    "# numpyでSpecies（種類）を数値（0,1）に変換\n",
    "class_mapping = {label:idx for idx,label in enumerate(np.unique(y_df[\"Species\"]))} \n",
    "y_df[\"Species\"]=y_df[\"Species\"].map(class_mapping)"
   ]
  },
  {
   "cell_type": "code",
   "execution_count": 4,
   "metadata": {},
   "outputs": [],
   "source": [
    "X_train, X_test, y_train, y_test=train_test_split(x_df,y_df, train_size=0.8,test_size=0.2,stratify=y_df.Species)"
   ]
  },
  {
   "cell_type": "code",
   "execution_count": 5,
   "metadata": {},
   "outputs": [
    {
     "data": {
      "text/html": [
       "<div>\n",
       "<style scoped>\n",
       "    .dataframe tbody tr th:only-of-type {\n",
       "        vertical-align: middle;\n",
       "    }\n",
       "\n",
       "    .dataframe tbody tr th {\n",
       "        vertical-align: top;\n",
       "    }\n",
       "\n",
       "    .dataframe thead th {\n",
       "        text-align: right;\n",
       "    }\n",
       "</style>\n",
       "<table border=\"1\" class=\"dataframe\">\n",
       "  <thead>\n",
       "    <tr style=\"text-align: right;\">\n",
       "      <th></th>\n",
       "      <th>SepalLengthCm</th>\n",
       "      <th>SepalWidthCm</th>\n",
       "      <th>PetalLengthCm</th>\n",
       "      <th>PetalWidthCm</th>\n",
       "    </tr>\n",
       "  </thead>\n",
       "  <tbody>\n",
       "    <tr>\n",
       "      <th>143</th>\n",
       "      <td>6.8</td>\n",
       "      <td>3.2</td>\n",
       "      <td>5.9</td>\n",
       "      <td>2.3</td>\n",
       "    </tr>\n",
       "    <tr>\n",
       "      <th>130</th>\n",
       "      <td>7.4</td>\n",
       "      <td>2.8</td>\n",
       "      <td>6.1</td>\n",
       "      <td>1.9</td>\n",
       "    </tr>\n",
       "    <tr>\n",
       "      <th>86</th>\n",
       "      <td>6.7</td>\n",
       "      <td>3.1</td>\n",
       "      <td>4.7</td>\n",
       "      <td>1.5</td>\n",
       "    </tr>\n",
       "    <tr>\n",
       "      <th>91</th>\n",
       "      <td>6.1</td>\n",
       "      <td>3.0</td>\n",
       "      <td>4.6</td>\n",
       "      <td>1.4</td>\n",
       "    </tr>\n",
       "    <tr>\n",
       "      <th>112</th>\n",
       "      <td>6.8</td>\n",
       "      <td>3.0</td>\n",
       "      <td>5.5</td>\n",
       "      <td>2.1</td>\n",
       "    </tr>\n",
       "  </tbody>\n",
       "</table>\n",
       "</div>"
      ],
      "text/plain": [
       "     SepalLengthCm  SepalWidthCm  PetalLengthCm  PetalWidthCm\n",
       "143            6.8           3.2            5.9           2.3\n",
       "130            7.4           2.8            6.1           1.9\n",
       "86             6.7           3.1            4.7           1.5\n",
       "91             6.1           3.0            4.6           1.4\n",
       "112            6.8           3.0            5.5           2.1"
      ]
     },
     "execution_count": 5,
     "metadata": {},
     "output_type": "execute_result"
    }
   ],
   "source": [
    "X_train.head()"
   ]
  },
  {
   "cell_type": "markdown",
   "metadata": {},
   "source": [
    "### EDA"
   ]
  },
  {
   "cell_type": "code",
   "execution_count": 6,
   "metadata": {},
   "outputs": [
    {
     "name": "stdout",
     "output_type": "stream",
     "text": [
      "<class 'pandas.core.frame.DataFrame'>\n",
      "Int64Index: 100 entries, 50 to 149\n",
      "Data columns (total 6 columns):\n",
      "Id               100 non-null int64\n",
      "SepalLengthCm    100 non-null float64\n",
      "SepalWidthCm     100 non-null float64\n",
      "PetalLengthCm    100 non-null float64\n",
      "PetalWidthCm     100 non-null float64\n",
      "Species          100 non-null object\n",
      "dtypes: float64(4), int64(1), object(1)\n",
      "memory usage: 5.5+ KB\n"
     ]
    }
   ],
   "source": [
    "iris_df.info()"
   ]
  },
  {
   "cell_type": "markdown",
   "metadata": {},
   "source": [
    "IDを除いて４つの特徴があり、各々がく片（Sepal）と花びら（Petal）の長さ（Length）と幅（Width）で、\n",
    "種類は、Iris-versicolorとIris-virginica。欠損値はない"
   ]
  },
  {
   "cell_type": "markdown",
   "metadata": {},
   "source": [
    "### 可視化"
   ]
  },
  {
   "cell_type": "markdown",
   "metadata": {},
   "source": [
    "2種類のがく片（Sepal）の長さ（Length）と幅（Width）の描写"
   ]
  },
  {
   "cell_type": "code",
   "execution_count": 7,
   "metadata": {},
   "outputs": [
    {
     "data": {
      "text/plain": [
       "[<matplotlib.lines.Line2D at 0x112b462b0>]"
      ]
     },
     "execution_count": 7,
     "metadata": {},
     "output_type": "execute_result"
    },
    {
     "data": {
      "image/png": "[encoded data removed]",
      "text/plain": [
       "<Figure size 432x288 with 1 Axes>"
      ]
     },
     "metadata": {
      "needs_background": "light"
     },
     "output_type": "display_data"
    }
   ],
   "source": [
    "iris_versicolor = iris_df[iris_df['Species'] == 'Iris-versicolor']\n",
    "iris_virginica  = iris_df[iris_df['Species']=='Iris-virginica']\n",
    "\n",
    "plt.plot(iris_versicolor[\"SepalLengthCm\"], iris_versicolor['SepalWidthCm'], 'o')\n",
    "plt.plot(iris_virginica[\"SepalLengthCm\"], iris_virginica['SepalWidthCm'], 'x')"
   ]
  },
  {
   "cell_type": "markdown",
   "metadata": {},
   "source": [
    "２種類の花びら（Petal）の長さ（Length）と幅（Width）の描写"
   ]
  },
  {
   "cell_type": "code",
   "execution_count": 8,
   "metadata": {},
   "outputs": [
    {
     "data": {
      "text/plain": [
       "[<matplotlib.lines.Line2D at 0x114c3c5f8>]"
      ]
     },
     "execution_count": 8,
     "metadata": {},
     "output_type": "execute_result"
    },
    {
     "data": {
      "image/png": "[encoded data removed]",
      "text/plain": [
       "<Figure size 432x288 with 1 Axes>"
      ]
     },
     "metadata": {
      "needs_background": "light"
     },
     "output_type": "display_data"
    }
   ],
   "source": [
    "plt.plot(iris_versicolor['PetalLengthCm'], iris_versicolor['PetalWidthCm'], 'o')\n",
    "plt.plot(iris_virginica['PetalLengthCm'], iris_virginica['PetalWidthCm'], 'x')"
   ]
  },
  {
   "cell_type": "markdown",
   "metadata": {},
   "source": [
    "どちらも、長さと幅なので正の相関を表すが、がく片よりも花びらの方が相関している"
   ]
  },
  {
   "cell_type": "markdown",
   "metadata": {},
   "source": [
    "### シグモイド関数を描画"
   ]
  },
  {
   "cell_type": "code",
   "execution_count": 9,
   "metadata": {},
   "outputs": [
    {
     "data": {
      "image/png": "[encoded data removed]",
      "text/plain": [
       "<Figure size 432x288 with 1 Axes>"
      ]
     },
     "metadata": {
      "needs_background": "light"
     },
     "output_type": "display_data"
    }
   ],
   "source": [
    "# シグモイド関数を描画する\n",
    "import math\n",
    "\n",
    "x = np.arange(-10, 10, 0.1)\n",
    "e = math.e\n",
    "\n",
    "y = 1 / (1 + e**-x)\n",
    "\n",
    "plt.plot(x, y)\n",
    "plt.xlabel(\"dot(theta.T, X)\", fontsize= 15)\n",
    "plt.ylabel(\"probability\", fontsize= 15)\n",
    "plt.title(\"Sigmoid function\", fontsize=20)\n",
    "plt.show()"
   ]
  },
  {
   "cell_type": "markdown",
   "metadata": {},
   "source": [
    "### シグモイド関数の実装"
   ]
  },
  {
   "cell_type": "code",
   "execution_count": 10,
   "metadata": {},
   "outputs": [
    {
     "data": {
      "text/plain": [
       "0.6224593312018546"
      ]
     },
     "execution_count": 10,
     "metadata": {},
     "output_type": "execute_result"
    }
   ],
   "source": [
    "def sigmoid(z):\n",
    "    s = 1 / (1 + np.exp(-z))\n",
    "    return s\n",
    "\n",
    "sigmoid(0.5)"
   ]
  },
  {
   "cell_type": "markdown",
   "metadata": {},
   "source": [
    "### シグモイド関数\n",
    "ロジスティック回帰では予測する出力が数値ではなくカテゴリーに属するかどうかの確率になる。 そのため下記３つの条件をみたすシグモイド関数がよく用いられる。\n",
    "\n",
    "$h_\\theta(x)$がどんな値を取ったときも0から1の値を取ることができる。\n",
    "単調増加のため値の大小関係は崩れない。\n",
    "$h_\\theta(x)$の正負で分類が可能であり、判定が楽。\n",
    "\n",
    "### 正則化とは\n",
    "あるパラメータ$\\theta_j$が大きな値をとってしまうと収束できなかったり、収束が遅くなってしまう。 そのため$\\theta$が大きいものはコストが大きくなるようにペナルティを与えて、 $\\theta$が大きい値を取らないように補正することを正則化と呼ぶ。\n",
    "\n",
    "正則化によって各特徴量の係数に当たるパラメータ $\\theta$ の値を小さくして、そのパラメータの特徴量の影響を 軽減させることで、目的関数$J\\theta$の値を収束させる。\n",
    "\n",
    "### ロジスティック回帰における、目的関数(コスト関数)\n",
    "ロジスティック回帰における、目的関数(コスト関数)を実装すること。\n",
    "数式は以下になる。（この数式には、正則項が含まれていることに注意。）\n",
    "\n",
    "$h_θ(x) = g(θ^T x).$\n",
    "\n",
    "$g(z) = \\frac{1}{1+e^{−z}}.$\n"
   ]
  },
  {
   "cell_type": "code",
   "execution_count": 11,
   "metadata": {},
   "outputs": [
    {
     "data": {
      "text/html": [
       "<div>\n",
       "<style scoped>\n",
       "    .dataframe tbody tr th:only-of-type {\n",
       "        vertical-align: middle;\n",
       "    }\n",
       "\n",
       "    .dataframe tbody tr th {\n",
       "        vertical-align: top;\n",
       "    }\n",
       "\n",
       "    .dataframe thead th {\n",
       "        text-align: right;\n",
       "    }\n",
       "</style>\n",
       "<table border=\"1\" class=\"dataframe\">\n",
       "  <thead>\n",
       "    <tr style=\"text-align: right;\">\n",
       "      <th></th>\n",
       "      <th>x0</th>\n",
       "      <th>SepalLengthCm</th>\n",
       "      <th>SepalWidthCm</th>\n",
       "      <th>PetalLengthCm</th>\n",
       "      <th>PetalWidthCm</th>\n",
       "    </tr>\n",
       "  </thead>\n",
       "  <tbody>\n",
       "    <tr>\n",
       "      <th>50</th>\n",
       "      <td>1</td>\n",
       "      <td>7.0</td>\n",
       "      <td>3.2</td>\n",
       "      <td>4.7</td>\n",
       "      <td>1.4</td>\n",
       "    </tr>\n",
       "    <tr>\n",
       "      <th>51</th>\n",
       "      <td>1</td>\n",
       "      <td>6.4</td>\n",
       "      <td>3.2</td>\n",
       "      <td>4.5</td>\n",
       "      <td>1.5</td>\n",
       "    </tr>\n",
       "    <tr>\n",
       "      <th>52</th>\n",
       "      <td>1</td>\n",
       "      <td>6.9</td>\n",
       "      <td>3.1</td>\n",
       "      <td>4.9</td>\n",
       "      <td>1.5</td>\n",
       "    </tr>\n",
       "    <tr>\n",
       "      <th>53</th>\n",
       "      <td>1</td>\n",
       "      <td>5.5</td>\n",
       "      <td>2.3</td>\n",
       "      <td>4.0</td>\n",
       "      <td>1.3</td>\n",
       "    </tr>\n",
       "    <tr>\n",
       "      <th>54</th>\n",
       "      <td>1</td>\n",
       "      <td>6.5</td>\n",
       "      <td>2.8</td>\n",
       "      <td>4.6</td>\n",
       "      <td>1.5</td>\n",
       "    </tr>\n",
       "  </tbody>\n",
       "</table>\n",
       "</div>"
      ],
      "text/plain": [
       "    x0  SepalLengthCm  SepalWidthCm  PetalLengthCm  PetalWidthCm\n",
       "50   1            7.0           3.2            4.7           1.4\n",
       "51   1            6.4           3.2            4.5           1.5\n",
       "52   1            6.9           3.1            4.9           1.5\n",
       "53   1            5.5           2.3            4.0           1.3\n",
       "54   1            6.5           2.8            4.6           1.5"
      ]
     },
     "execution_count": 11,
     "metadata": {},
     "output_type": "execute_result"
    }
   ],
   "source": [
    "# 切片を追加する\n",
    "x_df.insert(0, \"x0\", 1)\n",
    "\n",
    "# thetaを設定する\n",
    "theta = pd.DataFrame([0.1,0.2,0.3,0.4,0.5])\n",
    "\n",
    "x_df.head()"
   ]
  },
  {
   "cell_type": "markdown",
   "metadata": {},
   "source": [
    "### 二乗誤差と交差エントロピー誤差\n",
    "\n",
    "なぜロジスティック回帰では二乗誤差ではなく交差エントロピー誤差関数を目的関数とするのか。\n",
    "\n",
    "回帰問題の目的は予測した誤差を最小にするのが目的であるのに対し、 分類問題の目的はそれぞれのデータがあるクラスと予測する確率を出し、すべてのデータで予測した分類が正解する、つまりそれぞれの事象の同時確率が最大になることが目的となるため。\n",
    "\n",
    "各データの同時確率（積集合）が目的関数になる。 これだとそれぞれ0~1の値を取るためデータ数が増えるとアンダーフローになり正しく判定できなくなる。 これを防ぐために対数をとった式が今回採用する交差誤差エントロピー誤差関数となる。 (合わせてフィーチャースケーリングもできるというメリットもある。）"
   ]
  },
  {
   "cell_type": "markdown",
   "metadata": {},
   "source": [
    "### 目的関数の実装"
   ]
  },
  {
   "cell_type": "code",
   "execution_count": 12,
   "metadata": {},
   "outputs": [
    {
     "data": {
      "text/plain": [
       "2.2509192579971002"
      ]
     },
     "execution_count": 12,
     "metadata": {},
     "output_type": "execute_result"
    }
   ],
   "source": [
    "def compute_cost(X, y, theta, lam):\n",
    "    z=np.dot(X,theta)\n",
    "    sig=sigmoid(z)\n",
    "    m=len(X)\n",
    "    correct_or_not = np.ones(theta.count())\n",
    "    correct_or_not[0] = 0\n",
    "    # シグモイド関数、ラムダ、目的変数を目的関数に組み込む\n",
    "    return ((-1*y*np.log(sig)-(1-y)*np.log(1-sig)).sum()/m)[0]+(lam/(2*m))*((theta**2)* correct_or_not[:, np.newaxis]).sum()[0]\n",
    "\n",
    "compute_cost(x_df, y_df, theta, 0.01)"
   ]
  },
  {
   "cell_type": "markdown",
   "metadata": {},
   "source": [
    "### 最急降下法\n",
    "\n",
    "最急降下法を実装すること。また、内部からコスト関数を呼び出し、アルゴリズムを完成させること。\n",
    "数式は以下になる。\n",
    "\n",
    "$\\frac{\\partial J(\\theta)}{\\partial \\theta_0} = \\frac{1}{m}  \\sum_{i=1}^{m}(h_θ(x^{(i)}) − y^{(i)})x_j^{(i)}  ,j = 0$\n",
    "\n",
    "$\\frac{\\partial J(\\theta)}{\\partial \\theta_j} = \\biggl(\\frac{1}{m}  \\sum_{i=1}^{m}(h_θ(x^{(i)}) − y^{(i)})x_j^{(i)} \\biggr) + \\frac{λ}{m}\\theta_j　 ,j\\geq 1$"
   ]
  },
  {
   "cell_type": "code",
   "execution_count": 13,
   "metadata": {},
   "outputs": [],
   "source": [
    "import pandas as pd"
   ]
  },
  {
   "cell_type": "code",
   "execution_count": 14,
   "metadata": {},
   "outputs": [
    {
     "data": {
      "text/plain": [
       "[5.810770454649666,\n",
       " 5.651227946256371,\n",
       " 5.49168761908524,\n",
       " 5.3321501388582275,\n",
       " 5.172616412516046,\n",
       " 5.013087677058401,\n",
       " 4.853565621636149,\n",
       " 4.694052555529916,\n",
       " 4.534551639521547,\n",
       " 4.375067204927222,\n",
       " 4.2156051939325865,\n",
       " 4.056173767900891,\n",
       " 3.896784148357801,\n",
       " 3.737451780277683,\n",
       " 3.5781979416036815,\n",
       " 3.419051969842399,\n",
       " 3.260054340123075,\n",
       " 3.1012609139452474,\n",
       " 2.942748788577604,\n",
       " 2.784624316542013,\n",
       " 2.627034029949297,\n",
       " 2.470179379063005,\n",
       " 2.3143363328509516,\n",
       " 2.159880890244535,\n",
       " 2.0073212151513617,\n",
       " 1.8573360833853318,\n",
       " 1.7108170675738361,\n",
       " 1.5689077008109649,\n",
       " 1.4330262818624475,\n",
       " 1.304850719522101,\n",
       " 1.1862374447656,\n",
       " 1.0790499287834543,\n",
       " 0.984896192716389,\n",
       " 0.9048219843832017,\n",
       " 0.8390575590868171,\n",
       " 0.7869283295905991,\n",
       " 0.7469817878986111,\n",
       " 0.7172817791322169,\n",
       " 0.695750341130467,\n",
       " 0.6804440630790878,\n",
       " 0.6697131239606122,\n",
       " 0.6622517708587817,\n",
       " 0.6570778482842431,\n",
       " 0.6534792705855954,\n",
       " 0.6509532145121076,\n",
       " 0.6491512704002858,\n",
       " 0.647835263818795,\n",
       " 0.6468439466989072,\n",
       " 0.646068909324482,\n",
       " 0.6454376326530213,\n",
       " 0.6449017841489397,\n",
       " 0.6444292379984475,\n",
       " 0.643998683399651,\n",
       " 0.6435960048362275,\n",
       " 0.6432118631826033,\n",
       " 0.6428400847107413,\n",
       " 0.642476590827713,\n",
       " 0.6421186883641639,\n",
       " 0.6417645996067924,\n",
       " 0.6414131514172049,\n",
       " 0.6410635697517713,\n",
       " 0.6407153439317204,\n",
       " 0.6403681370297317,\n",
       " 0.6400217267261242,\n",
       " 0.6396759662858368,\n",
       " 0.6393307588168035,\n",
       " 0.638986040292331,\n",
       " 0.6386417683551463,\n",
       " 0.6382979149349105,\n",
       " 0.6379544613806433,\n",
       " 0.6376113952514958,\n",
       " 0.6372687082009583,\n",
       " 0.6369263945819786,\n",
       " 0.6365844505273665,\n",
       " 0.6362428733435342,\n",
       " 0.6359016611108069,\n",
       " 0.6355608124199126,\n",
       " 0.63522032619825,\n",
       " 0.6348802015953415,\n",
       " 0.6345404379073087,\n",
       " 0.6342010345270704,\n",
       " 0.6338619909115041,\n",
       " 0.6335233065597897,\n",
       " 0.6331849809991259,\n",
       " 0.6328470137753113,\n",
       " 0.6325094044465287,\n",
       " 0.6321721525792472,\n",
       " 0.6318352577455161,\n",
       " 0.6314987195211814,\n",
       " 0.6311625374847061,\n",
       " 0.6308267112163938,\n",
       " 0.6304912402978751,\n",
       " 0.6301561243117684,\n",
       " 0.6298213628414558,\n",
       " 0.6294869554709357,\n",
       " 0.6291529017847243,\n",
       " 0.6288192013677921,\n",
       " 0.6284858538055208,\n",
       " 0.6281528586836747,\n",
       " 0.6278202155883834,\n",
       " 0.627487924106129,\n",
       " 0.6271559838237384,\n",
       " 0.6268243943283777,\n",
       " 0.6264931552075499,\n",
       " 0.6261622660490923,\n",
       " 0.6258317264411756,\n",
       " 0.6255015359723032,\n",
       " 0.6251716942313106,\n",
       " 0.6248422008073664,\n",
       " 0.6245130552899715,\n",
       " 0.6241842572689598,\n",
       " 0.6238558063344986,\n",
       " 0.6235277020770889,\n",
       " 0.623199944087566,\n",
       " 0.6228725319570996,\n",
       " 0.6225454652771948,\n",
       " 0.6222187436396925,\n",
       " 0.6218923666367697,\n",
       " 0.6215663338609396,\n",
       " 0.6212406449050533,\n",
       " 0.620915299362299,\n",
       " 0.6205902968262035,\n",
       " 0.6202656368906324,\n",
       " 0.6199413191497901,\n",
       " 0.6196173431982209,\n",
       " 0.6192937086308095,\n",
       " 0.6189704150427812,\n",
       " 0.6186474620297019,\n",
       " 0.6183248491874805,\n",
       " 0.618002576112367,\n",
       " 0.6176806424009544,\n",
       " 0.6173590476501789,\n",
       " 0.6170377914573201,\n",
       " 0.6167168734200021,\n",
       " 0.6163962931361929,\n",
       " 0.6160760502042064,\n",
       " 0.6157561442227012,\n",
       " 0.6154365747906818,\n",
       " 0.6151173415075001,\n",
       " 0.6147984439728535,\n",
       " 0.6144798817867876,\n",
       " 0.6141616545496953,\n",
       " 0.6138437618623178,\n",
       " 0.613526203325745,\n",
       " 0.6132089785414157,\n",
       " 0.6128920871111178,\n",
       " 0.6125755286369898,\n",
       " 0.6122593027215198,\n",
       " 0.6119434089675472,\n",
       " 0.6116278469782622,\n",
       " 0.6113126163572062,\n",
       " 0.6109977167082734,\n",
       " 0.6106831476357094,\n",
       " 0.6103689087441131,\n",
       " 0.6100549996384365,\n",
       " 0.6097414199239848,\n",
       " 0.6094281692064173,\n",
       " 0.6091152470917477,\n",
       " 0.6088026531863442,\n",
       " 0.60849038709693,\n",
       " 0.6081784484305839,\n",
       " 0.6078668367947402,\n",
       " 0.6075555517971899,\n",
       " 0.6072445930460796,\n",
       " 0.6069339601499139,\n",
       " 0.6066236527175538,\n",
       " 0.6063136703582177,\n",
       " 0.606004012681483,\n",
       " 0.6056946792972842,\n",
       " 0.6053856698159154,\n",
       " 0.6050769838480285,\n",
       " 0.6047686210046362,\n",
       " 0.6044605808971093,\n",
       " 0.6041528631371795,\n",
       " 0.6038454673369383,\n",
       " 0.6035383931088382,\n",
       " 0.6032316400656922,\n",
       " 0.6029252078206748,\n",
       " 0.6026190959873219,\n",
       " 0.6023133041795312,\n",
       " 0.6020078320115628,\n",
       " 0.601702679098039,\n",
       " 0.6013978450539447,\n",
       " 0.6010933294946282,\n",
       " 0.600789132035801,\n",
       " 0.6004852522935381,\n",
       " 0.6001816898842786,\n",
       " 0.5998784444248259,\n",
       " 0.599575515532347,\n",
       " 0.5992729028243748,\n",
       " 0.5989706059188067,\n",
       " 0.5986686244339048,\n",
       " 0.5983669579882981,\n",
       " 0.5980656062009801,\n",
       " 0.5977645686913111,\n",
       " 0.5974638450790174,\n",
       " 0.5971634349841919,\n",
       " 0.5968633380272946,\n",
       " 0.5965635538291522,\n",
       " 0.5962640820109592]"
      ]
     },
     "execution_count": 14,
     "metadata": {},
     "output_type": "execute_result"
    }
   ],
   "source": [
    "def gradient_descent(X, y, theta, iterations, alpha, lam):\n",
    "    \"\"\"\n",
    "    args:\n",
    "      alpha: Step size/Learning rate\n",
    "      iterations: No. of iterations(Number of iterations)\n",
    "    \"\"\"\n",
    "    past_costs = []\n",
    "    past_thetas = [theta]\n",
    "    \n",
    "    correct_or_not = pd.DataFrame(np.ones(theta.count()))\n",
    "    correct_or_not[0][0]= 0\n",
    "    \n",
    "    m=len(X)\n",
    "    \n",
    "    for a in range(iterations):\n",
    "        reg_term = lam * theta * correct_or_not\n",
    "        z=np.dot(X,theta)\n",
    "        sig=sigmoid(z)\n",
    "        theta = theta - alpha/m*(np.dot(X.T, (sig-y)) + reg_term)\n",
    "        past_costs.append(compute_cost(X, y, theta, lam))\n",
    "        past_thetas.append(theta)\n",
    "\n",
    "    \n",
    "    return past_costs,past_thetas\n",
    "\n",
    "theta = pd.DataFrame([0.9,0.8,0.6,0.9,0.6])\n",
    "(past_costs,past_thetas)=gradient_descent(x_df, y_df, theta, iterations=200, alpha=0.01, lam=0.01)\n",
    "past_costs"
   ]
  },
  {
   "cell_type": "markdown",
   "metadata": {},
   "source": [
    "### 学習曲線の描写"
   ]
  },
  {
   "cell_type": "code",
   "execution_count": 15,
   "metadata": {},
   "outputs": [],
   "source": [
    "def plot_learning_curve(X, y, theta, iterations, alpha, lam):\n",
    "    # データを用意\n",
    "    past_costs, past_thetas = gradient_descent(X, y, theta, iterations, alpha, lam)\n",
    "    \n",
    "    plt.figure(figsize=(12, 8))\n",
    "    plt.plot(range(iterations), past_costs, label='Iris-setosa')\n",
    "    # 凡例\n",
    "    plt.legend()\n",
    "\n",
    "    # 座標系の名前\n",
    "    plt.title('Cost Fusion J')\n",
    "    # x軸の名前\n",
    "    plt.xlabel(\"Iterations\")\n",
    "    # y軸の名前\n",
    "    plt.ylabel(\"Cost\")"
   ]
  },
  {
   "cell_type": "code",
   "execution_count": 16,
   "metadata": {},
   "outputs": [
    {
     "data": {
      "image/png": "[encoded data removed]",
      "text/plain": [
       "<Figure size 864x576 with 1 Axes>"
      ]
     },
     "metadata": {
      "needs_background": "light"
     },
     "output_type": "display_data"
    }
   ],
   "source": [
    "plot_learning_curve(x_df, y_df, theta, iterations=200, alpha=0.01, lam=0.01)"
   ]
  },
  {
   "cell_type": "markdown",
   "metadata": {},
   "source": [
    "### 予測関数\n",
    "学習済みの分類器を使用して、実際に予測を行う関数を作成"
   ]
  },
  {
   "cell_type": "code",
   "execution_count": 17,
   "metadata": {},
   "outputs": [],
   "source": [
    "def predict_probs(X, theta):\n",
    "    z=np.dot(X,theta)\n",
    "    sig=sigmoid(z)\n",
    "    return sig"
   ]
  },
  {
   "cell_type": "code",
   "execution_count": 18,
   "metadata": {},
   "outputs": [
    {
     "data": {
      "text/plain": [
       "array([[0.40828362],\n",
       "       [0.47008586],\n",
       "       [0.44566665],\n",
       "       [0.51031983],\n",
       "       [0.46847972],\n",
       "       [0.52226293],\n",
       "       [0.50728339],\n",
       "       [0.48640808],\n",
       "       [0.43244889],\n",
       "       [0.54591748],\n",
       "       [0.49198499],\n",
       "       [0.50331634],\n",
       "       [0.41993865],\n",
       "       [0.50565333],\n",
       "       [0.4678755 ],\n",
       "       [0.41918002],\n",
       "       [0.55695821],\n",
       "       [0.44573379],\n",
       "       [0.49651221],\n",
       "       [0.46628432],\n",
       "       [0.58243562],\n",
       "       [0.44347502],\n",
       "       [0.51302914],\n",
       "       [0.48101353],\n",
       "       [0.43241725],\n",
       "       [0.43018743],\n",
       "       [0.43825298],\n",
       "       [0.49981917],\n",
       "       [0.51460793],\n",
       "       [0.41448077],\n",
       "       [0.47033962],\n",
       "       [0.4507031 ],\n",
       "       [0.45638777],\n",
       "       [0.57083744],\n",
       "       [0.57810493],\n",
       "       [0.52470304],\n",
       "       [0.45275222],\n",
       "       [0.45305451],\n",
       "       [0.50329823],\n",
       "       [0.50933643],\n",
       "       [0.52502136],\n",
       "       [0.49796989],\n",
       "       [0.46402263],\n",
       "       [0.47614317],\n",
       "       [0.51196346],\n",
       "       [0.48715079],\n",
       "       [0.50021038],\n",
       "       [0.45367749],\n",
       "       [0.45548301],\n",
       "       [0.49351084],\n",
       "       [0.70175063],\n",
       "       [0.62768256],\n",
       "       [0.57125283],\n",
       "       [0.59784039],\n",
       "       [0.63807006],\n",
       "       [0.56780549],\n",
       "       [0.65494162],\n",
       "       [0.54164872],\n",
       "       [0.57188206],\n",
       "       [0.62027972],\n",
       "       [0.5649135 ],\n",
       "       [0.57964205],\n",
       "       [0.57472478],\n",
       "       [0.64355422],\n",
       "       [0.68389518],\n",
       "       [0.62541457],\n",
       "       [0.56944016],\n",
       "       [0.57276117],\n",
       "       [0.6045722 ],\n",
       "       [0.55380516],\n",
       "       [0.60162293],\n",
       "       [0.64548255],\n",
       "       [0.55286098],\n",
       "       [0.54959627],\n",
       "       [0.59769565],\n",
       "       [0.5294319 ],\n",
       "       [0.55265187],\n",
       "       [0.56937695],\n",
       "       [0.6239158 ],\n",
       "       [0.49092609],\n",
       "       [0.52961798],\n",
       "       [0.50502163],\n",
       "       [0.63563873],\n",
       "       [0.52591676],\n",
       "       [0.57136479],\n",
       "       [0.54650152],\n",
       "       [0.66559526],\n",
       "       [0.57949146],\n",
       "       [0.57288427],\n",
       "       [0.55658991],\n",
       "       [0.62758892],\n",
       "       [0.56010701],\n",
       "       [0.62768256],\n",
       "       [0.62547496],\n",
       "       [0.64496994],\n",
       "       [0.58867819],\n",
       "       [0.57004237],\n",
       "       [0.57293354],\n",
       "       [0.65103677],\n",
       "       [0.60420487]])"
      ]
     },
     "execution_count": 18,
     "metadata": {},
     "output_type": "execute_result"
    }
   ],
   "source": [
    "predict_probs(x_df, past_thetas[-1])"
   ]
  },
  {
   "cell_type": "code",
   "execution_count": 19,
   "metadata": {},
   "outputs": [
    {
     "data": {
      "text/plain": [
       "['Iris-virginica']"
      ]
     },
     "execution_count": 19,
     "metadata": {},
     "output_type": "execute_result"
    }
   ],
   "source": [
    "species=[]\n",
    "species.append('Iris-virginica')\n",
    "species"
   ]
  },
  {
   "cell_type": "code",
   "execution_count": 20,
   "metadata": {},
   "outputs": [],
   "source": [
    "# 分類を行う。\n",
    "def predict(X, theta, threshold=0.5):\n",
    "    probs=predict_probs(X, theta)\n",
    "    species=[]\n",
    "    \n",
    "    for i in range(len(X)):\n",
    "        if probs[i,-1]>=0.5:\n",
    "            species.append('Iris-virginica')\n",
    "        else:\n",
    "            species.append('Iris-versicolor')\n",
    "        \n",
    "    return species"
   ]
  },
  {
   "cell_type": "code",
   "execution_count": 21,
   "metadata": {},
   "outputs": [],
   "source": [
    "pred= predict(x_df,past_thetas[-1])"
   ]
  },
  {
   "cell_type": "code",
   "execution_count": 22,
   "metadata": {},
   "outputs": [
    {
     "name": "stdout",
     "output_type": "stream",
     "text": [
      "Iris-versicolor\n"
     ]
    }
   ],
   "source": [
    "real=iris_df[[\"Species\"]]\n",
    "print(str(real.iloc[0][0]))"
   ]
  },
  {
   "cell_type": "code",
   "execution_count": 23,
   "metadata": {},
   "outputs": [
    {
     "name": "stdout",
     "output_type": "stream",
     "text": [
      "0.81\n"
     ]
    }
   ],
   "source": [
    "# 正解率\n",
    "count = 0\n",
    "for i in range(len(pred)):\n",
    "\n",
    "#     print(pred[i])\n",
    "#     print(real.iloc[i][0])\n",
    "    if pred[i] == real.iloc[i][0]:\n",
    "        count += 1\n",
    "print(count/100)"
   ]
  },
  {
   "cell_type": "markdown",
   "metadata": {},
   "source": [
    "今回のモデルの正答率８１％"
   ]
  },
  {
   "cell_type": "markdown",
   "metadata": {},
   "source": [
    "### クラス化"
   ]
  },
  {
   "cell_type": "code",
   "execution_count": 24,
   "metadata": {},
   "outputs": [],
   "source": [
    "class LogisticRegression():\n",
    "\n",
    "    def __init__(self, theta):\n",
    "        self.theta = theta     # ハイパーパラメータを属性として記録\n",
    "        \n",
    "    def compute_cost(self, X, y, lam):\n",
    "        z=np.dot(X, self.theta)\n",
    "        sig=sigmoid(z)\n",
    "        m=len(X)\n",
    "        # シグモイド関数、ラムダ、目的変数を目的関数に組み込む\n",
    "        return ((-1*y*np.log(sig)-(1-y)*np.log(1-sig)).sum()/m)[0]+(lam/(2*m))*((self.theta**2)** pd.DataFrame([0,1,1,1,1])).sum()[0]\n",
    "\n",
    "    def gradient_descent(self, X, y, iterations, alpha, lam, reset_theta=False):\n",
    "        \"\"\"\n",
    "        args:\n",
    "          alpha: Step size/Learning rate\n",
    "          iterations: No. of iterations(Number of iterations)\n",
    "        \"\"\"\n",
    "        if reset_theta:\n",
    "            self.theta = pd.DataFrame(np.random.rand(5))\n",
    "        \n",
    "        past_costs = []\n",
    "        past_thetas = [self.theta]\n",
    "        correct_or_not = pd.DataFrame(np.ones(self.theta.count()))\n",
    "        correct_or_not[0][0]= 0\n",
    "\n",
    "        m=len(X)\n",
    "\n",
    "        for a in range(iterations):\n",
    "            reg_term = lam * theta * correct_or_not\n",
    "            z=np.dot(X, self.theta)\n",
    "            sig=sigmoid(z)\n",
    "            self.theta = self.theta - alpha/m*(np.dot(X.T, (sig-y)) + reg_term)\n",
    "            past_costs.append(self.compute_cost(X, y, lam))\n",
    "            past_thetas.append(self.theta)\n",
    "\n",
    "        return past_costs,past_thetas\n",
    "\n",
    "    def plot_learning_curve(self, X, y, iterations, alpha, lam, reset_theta=False):\n",
    "        if reset_theta:\n",
    "            self.theta = pd.DataFrame(np.random.rand(5))\n",
    "\n",
    "        past_costs, past_thetas = self.gradient_descent(X, y, iterations, alpha, lam)\n",
    "\n",
    "        plt.figure(figsize=(12, 8))\n",
    "        plt.plot(range(iterations), past_costs, label='Iris-setosa')\n",
    "\n",
    "        plt.legend()\n",
    "        plt.title('Cost Fusion J')\n",
    "        plt.xlabel(\"Iterations\")\n",
    "        plt.ylabel(\"Cost\")\n",
    "        \n",
    "    def predict_probs(self, X):\n",
    "        z=np.dot(X, self.theta)\n",
    "        return sigmoid(z)\n",
    "\n",
    "    def predict(self, X):\n",
    "        probs=self.predict_probs(X)\n",
    "        species=[]\n",
    "        for i in range(len(X)):\n",
    "            if probs[i,-1]>=0.5:\n",
    "                species.append(1)\n",
    "            else:\n",
    "                species.append(0)\n",
    "        return species"
   ]
  },
  {
   "cell_type": "code",
   "execution_count": 25,
   "metadata": {},
   "outputs": [],
   "source": [
    "theta = pd.DataFrame([0.1,0.2,0.3,0.4,0.5])\n",
    "model = LogisticRegression(theta)"
   ]
  },
  {
   "cell_type": "code",
   "execution_count": 26,
   "metadata": {},
   "outputs": [
    {
     "data": {
      "text/plain": [
       "2.2509692579971"
      ]
     },
     "execution_count": 26,
     "metadata": {},
     "output_type": "execute_result"
    }
   ],
   "source": [
    "model.compute_cost(x_df, y_df, 0.01)"
   ]
  },
  {
   "cell_type": "code",
   "execution_count": 27,
   "metadata": {},
   "outputs": [
    {
     "data": {
      "text/html": [
       "<div>\n",
       "<style scoped>\n",
       "    .dataframe tbody tr th:only-of-type {\n",
       "        vertical-align: middle;\n",
       "    }\n",
       "\n",
       "    .dataframe tbody tr th {\n",
       "        vertical-align: top;\n",
       "    }\n",
       "\n",
       "    .dataframe thead th {\n",
       "        text-align: right;\n",
       "    }\n",
       "</style>\n",
       "<table border=\"1\" class=\"dataframe\">\n",
       "  <thead>\n",
       "    <tr style=\"text-align: right;\">\n",
       "      <th></th>\n",
       "      <th>0</th>\n",
       "    </tr>\n",
       "  </thead>\n",
       "  <tbody>\n",
       "    <tr>\n",
       "      <th>0</th>\n",
       "      <td>-0.202929</td>\n",
       "    </tr>\n",
       "    <tr>\n",
       "      <th>1</th>\n",
       "      <td>-1.920887</td>\n",
       "    </tr>\n",
       "    <tr>\n",
       "      <th>2</th>\n",
       "      <td>-1.553781</td>\n",
       "    </tr>\n",
       "    <tr>\n",
       "      <th>3</th>\n",
       "      <td>2.457424</td>\n",
       "    </tr>\n",
       "    <tr>\n",
       "      <th>4</th>\n",
       "      <td>2.828328</td>\n",
       "    </tr>\n",
       "  </tbody>\n",
       "</table>\n",
       "</div>"
      ],
      "text/plain": [
       "          0\n",
       "0 -0.202929\n",
       "1 -1.920887\n",
       "2 -1.553781\n",
       "3  2.457424\n",
       "4  2.828328"
      ]
     },
     "execution_count": 27,
     "metadata": {},
     "output_type": "execute_result"
    }
   ],
   "source": [
    "(past_costs,past_thetas)=model.gradient_descent(x_df, y_df, 1000, 0.05, 0.01, True)\n",
    "past_thetas[-1]"
   ]
  },
  {
   "cell_type": "code",
   "execution_count": 28,
   "metadata": {},
   "outputs": [
    {
     "data": {
      "image/png": "[encoded data removed]",
      "text/plain": [
       "<Figure size 864x576 with 1 Axes>"
      ]
     },
     "metadata": {
      "needs_background": "light"
     },
     "output_type": "display_data"
    }
   ],
   "source": [
    "model.plot_learning_curve(x_df, y_df, 500, 0.03, 0.01, True)"
   ]
  },
  {
   "cell_type": "code",
   "execution_count": 29,
   "metadata": {},
   "outputs": [
    {
     "data": {
      "text/plain": [
       "[0,\n",
       " 0,\n",
       " 0,\n",
       " 0,\n",
       " 0,\n",
       " 0,\n",
       " 0,\n",
       " 0,\n",
       " 0,\n",
       " 0,\n",
       " 0,\n",
       " 0,\n",
       " 0,\n",
       " 0,\n",
       " 0,\n",
       " 0,\n",
       " 1,\n",
       " 0,\n",
       " 0,\n",
       " 0,\n",
       " 1,\n",
       " 0,\n",
       " 0,\n",
       " 0,\n",
       " 0,\n",
       " 0,\n",
       " 0,\n",
       " 0,\n",
       " 0,\n",
       " 0,\n",
       " 0,\n",
       " 0,\n",
       " 0,\n",
       " 1,\n",
       " 1,\n",
       " 0,\n",
       " 0,\n",
       " 0,\n",
       " 0,\n",
       " 0,\n",
       " 0,\n",
       " 0,\n",
       " 0,\n",
       " 0,\n",
       " 0,\n",
       " 0,\n",
       " 0,\n",
       " 0,\n",
       " 0,\n",
       " 0,\n",
       " 1,\n",
       " 1,\n",
       " 1,\n",
       " 1,\n",
       " 1,\n",
       " 1,\n",
       " 1,\n",
       " 1,\n",
       " 1,\n",
       " 1,\n",
       " 1,\n",
       " 1,\n",
       " 1,\n",
       " 1,\n",
       " 1,\n",
       " 1,\n",
       " 1,\n",
       " 1,\n",
       " 1,\n",
       " 1,\n",
       " 1,\n",
       " 1,\n",
       " 1,\n",
       " 1,\n",
       " 1,\n",
       " 1,\n",
       " 1,\n",
       " 1,\n",
       " 1,\n",
       " 0,\n",
       " 1,\n",
       " 1,\n",
       " 1,\n",
       " 1,\n",
       " 1,\n",
       " 1,\n",
       " 1,\n",
       " 1,\n",
       " 1,\n",
       " 1,\n",
       " 1,\n",
       " 1,\n",
       " 1,\n",
       " 1,\n",
       " 1,\n",
       " 1,\n",
       " 1,\n",
       " 1,\n",
       " 1,\n",
       " 1]"
      ]
     },
     "execution_count": 29,
     "metadata": {},
     "output_type": "execute_result"
    }
   ],
   "source": [
    "model.predict(x_df)"
   ]
  },
  {
   "cell_type": "code",
   "execution_count": 30,
   "metadata": {},
   "outputs": [
    {
     "name": "stdout",
     "output_type": "stream",
     "text": [
      "0.96\n"
     ]
    }
   ],
   "source": [
    "pred= predict(x_df,past_thetas[-1])\n",
    "\n",
    "# 正解率\n",
    "count = 0\n",
    "for i in range(len(pred)):\n",
    "\n",
    "#     print(pred[i])\n",
    "#     print(real.iloc[i][0])\n",
    "    if pred[i] == real.iloc[i][0]:\n",
    "        count += 1\n",
    "print(count/100)"
   ]
  },
  {
   "cell_type": "markdown",
   "metadata": {},
   "source": [
    "### テスト\n",
    "上記で作成した、関数のテストを作成せよ。尚このテストには、sklearnにおける、LinearRegressionのテストを参考にする\n",
    "以下のテストを最低限作成する\n",
    "\n",
    "sigmoid function\n",
    "コスト関数\n",
    "最急降下法\n",
    "predict関数\n",
    "\n",
    "計算サイトで確認\n",
    "https://keisan.casio.jp/exec/system/1515561226\n",
    "\n",
    "下記の値になるか確認\n",
    "\n",
    "・0.5のとき0.6224593312018545646389\n",
    "・0のとき0.5\n",
    "・-0.7のとき0.3318122278318338934692"
   ]
  },
  {
   "cell_type": "code",
   "execution_count": 31,
   "metadata": {},
   "outputs": [
    {
     "name": "stdout",
     "output_type": "stream",
     "text": [
      "0.6224593312018546\n",
      "0.5\n",
      "0.3318122278318339\n"
     ]
    }
   ],
   "source": [
    "print(sigmoid(0.5))\n",
    "print(sigmoid(0))\n",
    "print(sigmoid(-0.7))"
   ]
  },
  {
   "cell_type": "markdown",
   "metadata": {},
   "source": [
    "想定通りの結果となったことを確認"
   ]
  },
  {
   "cell_type": "markdown",
   "metadata": {},
   "source": [
    "### コスト関数のテスト"
   ]
  },
  {
   "cell_type": "code",
   "execution_count": 32,
   "metadata": {},
   "outputs": [
    {
     "name": "stdout",
     "output_type": "stream",
     "text": [
      "compute_cost is 0.6931471805599453\n",
      "compute_cost is 0.9431471805599453\n"
     ]
    }
   ],
   "source": [
    "X = pd.DataFrame([[-1],  [-1]])\n",
    "# 切片\n",
    "X[\"x0\"] = 1\n",
    "X=X.iloc[:,[1, 0]]\n",
    "X\n",
    "theta = pd.DataFrame([1, 1])\n",
    "y = pd.DataFrame([1, 0])\n",
    "# (-log(1/2) -log(1/2) )/2 = \n",
    "# In [10]: -math.log(1/2)\n",
    "# Out[10]: 0.6931471805599453\n",
    "# 正則項なし \n",
    "print(\"compute_cost is {}\".format(compute_cost(X, y, theta, 0)))\n",
    "\n",
    "# (-log(1/2) -log(1/2) )/2 + 1/2*2 (1 ^2) =  \n",
    "# In [13]: -math.log(1/2) + 1/4\n",
    "# Out[13]: 0.9431471805599453\n",
    "# 正則項あり\n",
    "print(\"compute_cost is {}\".format(compute_cost(X, y, theta, 1)))"
   ]
  },
  {
   "cell_type": "markdown",
   "metadata": {},
   "source": [
    "ipython で確認した値と同値であることを確認"
   ]
  },
  {
   "cell_type": "markdown",
   "metadata": {},
   "source": [
    "### 最急降下法　predict関数のテスト\n",
    "\n",
    "データを用意。 \n",
    "x1軸,x2軸の値が1,-1の点を４点用意して、\n",
    "正の値を取るものを1,負の値を取るものを0に分類。"
   ]
  },
  {
   "cell_type": "code",
   "execution_count": 33,
   "metadata": {},
   "outputs": [
    {
     "data": {
      "image/png": "[encoded data removed]",
      "text/plain": [
       "<Figure size 432x288 with 1 Axes>"
      ]
     },
     "metadata": {
      "needs_background": "light"
     },
     "output_type": "display_data"
    },
    {
     "data": {
      "text/html": [
       "<div>\n",
       "<style scoped>\n",
       "    .dataframe tbody tr th:only-of-type {\n",
       "        vertical-align: middle;\n",
       "    }\n",
       "\n",
       "    .dataframe tbody tr th {\n",
       "        vertical-align: top;\n",
       "    }\n",
       "\n",
       "    .dataframe thead th {\n",
       "        text-align: right;\n",
       "    }\n",
       "</style>\n",
       "<table border=\"1\" class=\"dataframe\">\n",
       "  <thead>\n",
       "    <tr style=\"text-align: right;\">\n",
       "      <th></th>\n",
       "      <th>x0</th>\n",
       "      <th>0</th>\n",
       "      <th>1</th>\n",
       "    </tr>\n",
       "  </thead>\n",
       "  <tbody>\n",
       "    <tr>\n",
       "      <th>0</th>\n",
       "      <td>1</td>\n",
       "      <td>1</td>\n",
       "      <td>0</td>\n",
       "    </tr>\n",
       "    <tr>\n",
       "      <th>1</th>\n",
       "      <td>1</td>\n",
       "      <td>0</td>\n",
       "      <td>1</td>\n",
       "    </tr>\n",
       "    <tr>\n",
       "      <th>2</th>\n",
       "      <td>1</td>\n",
       "      <td>-1</td>\n",
       "      <td>0</td>\n",
       "    </tr>\n",
       "    <tr>\n",
       "      <th>3</th>\n",
       "      <td>1</td>\n",
       "      <td>0</td>\n",
       "      <td>-1</td>\n",
       "    </tr>\n",
       "  </tbody>\n",
       "</table>\n",
       "</div>"
      ],
      "text/plain": [
       "   x0  0  1\n",
       "0   1  1  0\n",
       "1   1  0  1\n",
       "2   1 -1  0\n",
       "3   1  0 -1"
      ]
     },
     "execution_count": 33,
     "metadata": {},
     "output_type": "execute_result"
    }
   ],
   "source": [
    "X = pd.DataFrame([[1,0], [0,1], [-1,0], [0,-1]])\n",
    "plt.plot(X[0][0:2], X[1][0:2], 'o')\n",
    "plt.plot(X[0][2:], X[1][2:], 'x')\n",
    "plt.show()\n",
    "# 切片\n",
    "X[\"x0\"] = 1\n",
    "X=X.iloc[:,[2, 0,1]]\n",
    "X\n"
   ]
  },
  {
   "cell_type": "code",
   "execution_count": 34,
   "metadata": {},
   "outputs": [
    {
     "data": {
      "text/html": [
       "<div>\n",
       "<style scoped>\n",
       "    .dataframe tbody tr th:only-of-type {\n",
       "        vertical-align: middle;\n",
       "    }\n",
       "\n",
       "    .dataframe tbody tr th {\n",
       "        vertical-align: top;\n",
       "    }\n",
       "\n",
       "    .dataframe thead th {\n",
       "        text-align: right;\n",
       "    }\n",
       "</style>\n",
       "<table border=\"1\" class=\"dataframe\">\n",
       "  <thead>\n",
       "    <tr style=\"text-align: right;\">\n",
       "      <th></th>\n",
       "      <th>0</th>\n",
       "    </tr>\n",
       "  </thead>\n",
       "  <tbody>\n",
       "    <tr>\n",
       "      <th>0</th>\n",
       "      <td>1</td>\n",
       "    </tr>\n",
       "    <tr>\n",
       "      <th>1</th>\n",
       "      <td>1</td>\n",
       "    </tr>\n",
       "    <tr>\n",
       "      <th>2</th>\n",
       "      <td>0</td>\n",
       "    </tr>\n",
       "    <tr>\n",
       "      <th>3</th>\n",
       "      <td>0</td>\n",
       "    </tr>\n",
       "  </tbody>\n",
       "</table>\n",
       "</div>"
      ],
      "text/plain": [
       "   0\n",
       "0  1\n",
       "1  1\n",
       "2  0\n",
       "3  0"
      ]
     },
     "execution_count": 34,
     "metadata": {},
     "output_type": "execute_result"
    }
   ],
   "source": [
    "y = pd.DataFrame([1, 1, 0, 0])\n",
    "y"
   ]
  },
  {
   "cell_type": "code",
   "execution_count": 35,
   "metadata": {},
   "outputs": [],
   "source": [
    "theta = pd.DataFrame([0.1,0.2,0.3])\n",
    "\n",
    "#print(\"compute_cost is {}\".format(compute_cost(X, y, theta, 1)))\n",
    "\n",
    "past_cost, past_thetas = gradient_descent(X, y, theta, 500, 0.01, 0.01)"
   ]
  },
  {
   "cell_type": "code",
   "execution_count": 36,
   "metadata": {},
   "outputs": [
    {
     "data": {
      "text/plain": [
       "0.29650414611581694"
      ]
     },
     "execution_count": 36,
     "metadata": {},
     "output_type": "execute_result"
    }
   ],
   "source": [
    "past_cost[-1]"
   ]
  },
  {
   "cell_type": "code",
   "execution_count": 37,
   "metadata": {},
   "outputs": [
    {
     "data": {
      "text/html": [
       "<div>\n",
       "<style scoped>\n",
       "    .dataframe tbody tr th:only-of-type {\n",
       "        vertical-align: middle;\n",
       "    }\n",
       "\n",
       "    .dataframe tbody tr th {\n",
       "        vertical-align: top;\n",
       "    }\n",
       "\n",
       "    .dataframe thead th {\n",
       "        text-align: right;\n",
       "    }\n",
       "</style>\n",
       "<table border=\"1\" class=\"dataframe\">\n",
       "  <thead>\n",
       "    <tr style=\"text-align: right;\">\n",
       "      <th></th>\n",
       "      <th>0</th>\n",
       "    </tr>\n",
       "  </thead>\n",
       "  <tbody>\n",
       "    <tr>\n",
       "      <th>0</th>\n",
       "      <td>0.033340</td>\n",
       "    </tr>\n",
       "    <tr>\n",
       "      <th>1</th>\n",
       "      <td>1.047306</td>\n",
       "    </tr>\n",
       "    <tr>\n",
       "      <th>2</th>\n",
       "      <td>1.104357</td>\n",
       "    </tr>\n",
       "  </tbody>\n",
       "</table>\n",
       "</div>"
      ],
      "text/plain": [
       "          0\n",
       "0  0.033340\n",
       "1  1.047306\n",
       "2  1.104357"
      ]
     },
     "execution_count": 37,
     "metadata": {},
     "output_type": "execute_result"
    }
   ],
   "source": [
    "past_thetas[-1]"
   ]
  },
  {
   "cell_type": "markdown",
   "metadata": {},
   "source": [
    "最急降下法で収束した$\\theta$が[0, 1, 1]付近になっていることを確認"
   ]
  },
  {
   "cell_type": "code",
   "execution_count": 38,
   "metadata": {},
   "outputs": [],
   "source": [
    "def predict_probs_test(X, theta):\n",
    "    z=np.dot(X,theta)\n",
    "    sig=sigmoid(z)\n",
    "    return sig\n",
    "\n",
    "# 分類を行う。\n",
    "def predict_test(X, theta, threshold=0.5):\n",
    "    probs=predict_probs_test(X, past_thetas[-1])\n",
    "    species=[]\n",
    "    \n",
    "    for i in range(len(X)):\n",
    "        if probs[i,-1]>=0.5:\n",
    "            species.append(1)\n",
    "        else:\n",
    "            species.append(0)\n",
    "        \n",
    "    return species\n",
    "pred_val = predict_test(X, past_thetas[-1])"
   ]
  },
  {
   "cell_type": "code",
   "execution_count": 39,
   "metadata": {},
   "outputs": [
    {
     "name": "stdout",
     "output_type": "stream",
     "text": [
      "[1, 1, 0, 0]\n",
      "[[1 1 0 0]]\n"
     ]
    }
   ],
   "source": [
    "print(pred_val)\n",
    "\n",
    "print(y.T.values)"
   ]
  },
  {
   "cell_type": "markdown",
   "metadata": {},
   "source": [
    "予測関数を通した分類が想定した値になっていることを確認"
   ]
  },
  {
   "cell_type": "code",
   "execution_count": null,
   "metadata": {},
   "outputs": [],
   "source": []
  }
 ],
 "metadata": {
  "kernelspec": {
   "display_name": "Python 3",
   "language": "python",
   "name": "python3"
  },
  "language_info": {
   "codemirror_mode": {
    "name": "ipython",
    "version": 3
   },
   "file_extension": ".py",
   "mimetype": "text/x-python",
   "name": "python",
   "nbconvert_exporter": "python",
   "pygments_lexer": "ipython3",
   "version": "3.7.0"
  }
 },
 "nbformat": 4,
 "nbformat_minor": 2
}
