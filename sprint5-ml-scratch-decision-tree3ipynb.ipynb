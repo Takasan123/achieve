{
 "cells": [
  {
   "cell_type": "markdown",
   "metadata": {},
   "source": [
    "### AIF_sprint5_decision_tree\n",
    "##### この課題の目的\n",
    "コーディング力を向上させる\n",
    "スクラッチを通して決定木を理解する\n",
    "複雑なアルゴリズムの実装に慣れる"
   ]
  },
  {
   "cell_type": "markdown",
   "metadata": {},
   "source": [
    "#### データセットの用意"
   ]
  },
  {
   "cell_type": "code",
   "execution_count": 1,
   "metadata": {},
   "outputs": [],
   "source": [
    "import numpy as np  # 線形代数ライブラリー\n",
    "import pandas as pd  # データの加工, CSVファイルの読み書き\n",
    "import seaborn as sns  # 描画スタイル変更ライブラリ"
   ]
  },
  {
   "cell_type": "code",
   "execution_count": 2,
   "metadata": {},
   "outputs": [],
   "source": [
    "X = np.array([[-0.44699 , -2.8073  ],[-1.4621  , -2.4586  ],\n",
    "       [ 0.10645 ,  1.9242  ],[-3.5944  , -4.0112  ],\n",
    "       [-0.9888  ,  4.5718  ],[-3.1625  , -3.9606  ],\n",
    "       [ 0.56421 ,  0.72888 ],[-0.60216 ,  8.4636  ],\n",
    "       [-0.61251 , -0.75345 ],[-0.73535 , -2.2718  ],\n",
    "       [-0.80647 , -2.2135  ],[ 0.86291 ,  2.3946  ],\n",
    "       [-3.1108  ,  0.15394 ],[-2.9362  ,  2.5462  ],\n",
    "       [-0.57242 , -2.9915  ],[ 1.4771  ,  3.4896  ],\n",
    "       [ 0.58619 ,  0.37158 ],[ 0.6017  ,  4.3439  ],\n",
    "       [-2.1086  ,  8.3428  ],[-4.1013  , -4.353   ],\n",
    "       [-1.9948  , -1.3927  ],[ 0.35084 , -0.031994],\n",
    "       [ 0.96765 ,  7.8929  ],[-1.281   , 15.6824  ],\n",
    "       [ 0.96765 , 10.083   ],[ 1.3763  ,  1.3347  ],\n",
    "       [-2.234   , -2.5323  ],[-2.9452  , -1.8219  ],\n",
    "       [ 0.14654 , -0.28733 ],[ 0.5461  ,  5.8245  ],\n",
    "       [-0.65259 ,  9.3444  ],[ 0.59912 ,  5.3524  ],\n",
    "       [ 0.50214 , -0.31818 ],[-3.0603  , -3.6461  ],\n",
    "       [-6.6797  ,  0.67661 ],[-2.353   , -0.72261 ],\n",
    "       [ 1.1319  ,  2.4023  ],[-0.12243 ,  9.0162  ],\n",
    "       [-2.5677  , 13.1779  ],[ 0.057313,  5.4681  ]])\n",
    "y = np.array([0, 0, 0, 0, 0, 0, 0, 0, 0, 0, 0, 0, 0, 0, 0, 0, 0, 0, 0, 0, 1, 1,\n",
    "       1, 1, 1, 1, 1, 1, 1, 1, 1, 1, 1, 1, 1, 1, 1, 1, 1, 1])\n"
   ]
  },
  {
   "cell_type": "markdown",
   "metadata": {},
   "source": [
    "#### データセットの理解"
   ]
  },
  {
   "cell_type": "code",
   "execution_count": 3,
   "metadata": {},
   "outputs": [
    {
     "data": {
      "text/plain": [
       "<matplotlib.collections.PathCollection at 0x111be1a58>"
      ]
     },
     "execution_count": 3,
     "metadata": {},
     "output_type": "execute_result"
    },
    {
     "data": {
      "image/png": "[encoded data removed]",
      "text/plain": [
       "<Figure size 432x288 with 1 Axes>"
      ]
     },
     "metadata": {
      "needs_background": "light"
     },
     "output_type": "display_data"
    }
   ],
   "source": [
    "import matplotlib.pyplot as plt  # 描画ライブラリ\n",
    "%matplotlib inline\n",
    "plt.scatter(X[:,0], X[:,1], s=50, c=y, marker='o')"
   ]
  },
  {
   "cell_type": "markdown",
   "metadata": {},
   "source": [
    "### テストデータの分割\n",
    "\n",
    "学習用（train）8割、検証用（val）2割に分割する。シャッフルは必要ない。"
   ]
  },
  {
   "cell_type": "code",
   "execution_count": 4,
   "metadata": {},
   "outputs": [],
   "source": [
    "from sklearn.model_selection import train_test_split\n",
    "X_train, X_test, y_train, y_test = train_test_split(X, y, train_size=0.8, test_size=0.2, stratify=y)"
   ]
  },
  {
   "cell_type": "markdown",
   "metadata": {},
   "source": [
    "### 学習"
   ]
  },
  {
   "cell_type": "code",
   "execution_count": 5,
   "metadata": {},
   "outputs": [],
   "source": [
    "class ScratchDecesionTreeClassifier:\n",
    "    \n",
    "    def __init__(self):\n",
    "        self.X = X\n",
    "        \n",
    "    \n",
    "    # 情報利得（information gain）求める関数\n",
    "    def _info_gain(self, I_total, I_A, I_B, nodeA_class0, nodeA_class1):\n",
    "\n",
    "        total_class0 = np.sum(y==0, axis=0)  # 0ラベルの個数\n",
    "        total_class1 = np.sum(y==1, axis=0)  # 1ラベルの個数\n",
    "\n",
    "        # ノードA/Bのサンプル数\n",
    "        nodeA_count = nodeA_class0 + nodeA_class1\n",
    "        nodeB_count = len(self.X) - nodeA_count\n",
    "\n",
    "        # 情報利得の算出\n",
    "        info_gain = I_total - (I_A * ( nodeA_count / len(self.X)) + I_B * ( nodeB_count / len(self.X)))\n",
    "\n",
    "        return info_gain\n",
    "    \n",
    "    # ジニ不純度（ジニ係数）を求める関数\n",
    "    def _gini_impurity(self, nodeA_class0, nodeA_class1):\n",
    "        # 全体\n",
    "        total_count = len(self.X)   # 全体の個数\n",
    "        total_class0 = np.sum(y==0, axis=0)  # 0ラベルの個数\n",
    "        total_class1 = np.sum(y==1, axis=0)  # 1ラベルの個数\n",
    "    \n",
    "        # ノードAのサンプル数\n",
    "        nodeA_count = nodeA_class0 + nodeA_class1\n",
    "    \n",
    "        # ノードBのサンプル数、class0の数、class1の数\n",
    "        nodeB_count = total_count - nodeA_count\n",
    "        nodeB_class0 = total_class0 - nodeA_class0\n",
    "        nodeB_class1 = total_class1 - nodeA_class1\n",
    "\n",
    "        # ルートのジニ係数\n",
    "        I_total = 1 - ((total_class0     / total_count)**2  +  (total_class1 / total_count)**2)\n",
    "\n",
    "        # ノードAのジニ係数\n",
    "        if nodeA_count == 0:\n",
    "            I_A = 0\n",
    "        else:\n",
    "            I_A = 1 - ((nodeA_class0 / nodeA_count)**2 + (nodeA_class1 / nodeA_count)**2)\n",
    "\n",
    "        # ノードBのジニ係数\n",
    "        if nodeB_count == 0:\n",
    "            I_B = 0\n",
    "        else:\n",
    "            I_B = 1 - ((nodeB_class0 / nodeB_count)**2  + (nodeB_class1 / nodeB_count)**2)\n",
    "\n",
    "        return I_total, I_A, I_B\n",
    "\n",
    "    \n",
    "    # ノード分割する（場合分けする）\n",
    "    def _divide_nodeA_or_nodeB(self, col):\n",
    "        ig_box = np.array([])\n",
    "        \n",
    "        for i in range(len(self.X)):\n",
    "        \n",
    "            # 全体と行を大小比較してTrue/Falseをゲットする！\n",
    "            nodeA = self.X[:, col] >= self.X[i, col]    \n",
    "            nodeB = self.X[:, col] < self.X[i, col]\n",
    "\n",
    "            # ジニ変数を取得する。ここが大事で、とても勉強になった書き方\n",
    "            I_total, I_A, I_B = self._gini_impurity(np.sum(y[nodeA] == 0, axis=0), np.sum(y[nodeA] == 1, axis=0))\n",
    "            \n",
    "            # 情報利得をゲットする\n",
    "            ig_box = np.append(ig_box, self._info_gain(I_total, I_A, I_B, np.sum(y[nodeA] == 0, axis=0),np.sum(y[nodeA] == 1, axis=0)))\n",
    "        return ig_box\n",
    "    \n",
    "    # 学習する\n",
    "    def fit(self, X, y):\n",
    "        ig_box0 = self._divide_nodeA_or_nodeB(0)\n",
    "        ig_box1 = self._divide_nodeA_or_nodeB(1)\n",
    "\n",
    "        # X0とX1の情報利得を統合する\n",
    "        ig_box_all = np.concatenate([ig_box0, ig_box1])\n",
    "\n",
    "        # 最大の情報利得をもつ値のインデックスを取得する\n",
    "        max_index = np.argmax(ig_box_all)\n",
    "\n",
    "        # 商（インデックス（71）÷40） →　カラム\n",
    "        self.max_index_col = max_index//ig_box0.shape[0]\n",
    "\n",
    "        # 余り（インデックス（71）÷40） →　列\n",
    "        self.max_index_i = max_index%ig_box0.shape[0]\n",
    "        \n",
    "        # 閾値で分類したnodeA/Bそれぞのノードのクラス（0 or 1）をカウントする\n",
    "        nA_count = self.X[:, self.max_index_col] >= self.X[self.max_index_i, self.max_index_col]\n",
    "        nB_count = self.X[:, self.max_index_col] < self.X[self.max_index_i, self.max_index_col]\n",
    "        #print(nA_count)\n",
    "        #print(nB_count)\n",
    "        \n",
    "        #print(y[nA_count])\n",
    "        #print(y[nB_count])\n",
    "        classA0 = np.sum(y[nA_count] == 0, axis=0)\n",
    "        classA1 = np.sum(y[nA_count] == 1, axis=0)\n",
    "        \n",
    "        classB0 = np.sum(y[nB_count] == 0, axis=0)\n",
    "        classB1 = np.sum(y[nB_count] == 1, axis=0)\n",
    "        \n",
    "        \n",
    "        # 閾値で分けたnodeA,nodeBのクラスを取得する\n",
    "        if classA0 > classA1:\n",
    "            self.nodeA_confirm_class = 0\n",
    "            self.nodeB_confirm_class = 1\n",
    "        else:\n",
    "            self.nodeA_confirm_class = 1\n",
    "            self.nodeB_confirm_class = 0\n",
    "        \n",
    "        print(\"classA0の数   :\", classA0)\n",
    "        #print(\"classA1の数   :\", classA1)\n",
    "        #print(\"nodeAのクラス！！　：\", self.nodeA_confirm_class)\n",
    "        \n",
    "        #print(\"classB0の数   :\", classB0)\n",
    "        #print(\"classB1の数   :\", classB1)\n",
    "        #print(\"nodeBのクラス！！　：\", self.nodeB_confirm_class)\n",
    "        \n",
    "        print(max_index)\n",
    "        print(\"インデックス, カラム：\",self.max_index_i, self.max_index_col)\n",
    "        print(\"情報利得の最大値\", ig_box_all[max_index])\n",
    "        print(\"切る位置（＝閾値）\", self.X[self.max_index_i, self.max_index_col])\n",
    "    \n",
    "    # 予測する\n",
    "    def predict(self, X):\n",
    "        \n",
    "        # 予測結果の枠を作成\n",
    "        pred = np.zeros(len(X)).astype(int)\n",
    "        \n",
    "        # fitで求めた閾値と、予測する列の値を比較する。True,Falseを変数に代入する\n",
    "        nodeA = X[:, self.max_index_col] >= self.X[self.max_index_i, self.max_index_col]    \n",
    "        nodeB = X[:, self.max_index_col] < self.X[self.max_index_i, self.max_index_col]\n",
    "        \n",
    "        # \n",
    "        pred[nodeA] = self.nodeA_confirm_class\n",
    "        pred[nodeB] = self.nodeB_confirm_class\n",
    "        # print(pred[nodeA])\n",
    "        # print(pred[nodeB])\n",
    "        #pred[nodeB] = self.nodeA_confirm_class\n",
    "        \n",
    "        return pred\n"
   ]
  },
  {
   "cell_type": "code",
   "execution_count": 6,
   "metadata": {},
   "outputs": [],
   "source": [
    "b = ScratchDecesionTreeClassifier()"
   ]
  },
  {
   "cell_type": "code",
   "execution_count": 7,
   "metadata": {},
   "outputs": [
    {
     "name": "stdout",
     "output_type": "stream",
     "text": [
      "classA0の数   : 2\n",
      "71\n",
      "インデックス, カラム： 31 1\n",
      "情報利得の最大値 0.07680250783699061\n",
      "切る位置（＝閾値） 5.3524\n"
     ]
    }
   ],
   "source": [
    "b.fit(X, y)"
   ]
  },
  {
   "cell_type": "code",
   "execution_count": 8,
   "metadata": {},
   "outputs": [
    {
     "name": "stdout",
     "output_type": "stream",
     "text": [
      "classA0の数   : 2\n",
      "71\n",
      "インデックス, カラム： 31 1\n",
      "情報利得の最大値 0.07680250783699061\n",
      "切る位置（＝閾値） 5.3524\n"
     ]
    }
   ],
   "source": [
    "# インスタンス1作成\n",
    "sdtc1 = ScratchDecesionTreeClassifier()\n",
    "\n",
    "# 学習\n",
    "sdtc1.fit(X, y)\n",
    "# print(\"\")\n",
    "\n",
    "# インスタンス2作成\n",
    "#sdtc2 = ScratchDecesionTreeClassifier()\n",
    "\n",
    "# 学習\n",
    "#sdtc2.fit(X_train, y_train)"
   ]
  },
  {
   "cell_type": "code",
   "execution_count": 9,
   "metadata": {},
   "outputs": [
    {
     "data": {
      "text/plain": [
       "array([0, 0, 0, 0, 0, 0, 0, 1, 0, 0, 0, 0, 0, 0, 0, 0, 0, 0, 1, 0, 0, 0,\n",
       "       1, 1, 1, 0, 0, 0, 0, 1, 1, 1, 0, 0, 0, 0, 0, 1, 1, 1])"
      ]
     },
     "execution_count": 9,
     "metadata": {},
     "output_type": "execute_result"
    }
   ],
   "source": [
    "# 推論\n",
    "sdtc1.predict(X)"
   ]
  },
  {
   "cell_type": "markdown",
   "metadata": {},
   "source": [
    "### 実行"
   ]
  },
  {
   "cell_type": "code",
   "execution_count": 10,
   "metadata": {},
   "outputs": [
    {
     "name": "stdout",
     "output_type": "stream",
     "text": [
      "classA0の数   : 2\n",
      "71\n",
      "インデックス, カラム： 31 1\n",
      "情報利得の最大値 0.07680250783699061\n",
      "切る位置（＝閾値） 5.3524\n"
     ]
    },
    {
     "data": {
      "image/png": "[encoded data removed]",
      "text/plain": [
       "<Figure size 432x288 with 1 Axes>"
      ]
     },
     "metadata": {
      "needs_background": "light"
     },
     "output_type": "display_data"
    }
   ],
   "source": [
    "from matplotlib.colors import ListedColormap\n",
    "\n",
    "# 可視化関数\n",
    "def plot_decision_regions(X, model):\n",
    "    plt.scatter(X[:,0], X[:,1], s=80, c=y, marker='o')\n",
    "    \n",
    "    #サポートベクターも同様にプロット\n",
    "    step = 0.1\n",
    "    mesh_f0, mesh_f1  = np.meshgrid(np.arange(np.min(X[:,0])-0.5, np.max(X[:,0])+0.5, step), np.arange(np.min(X[:,1])-0.5, np.max(X[:,1])+0.5, step))\n",
    "    mesh = np.c_[np.ravel(mesh_f0),np.ravel(mesh_f1)]\n",
    "    pred = model.predict(mesh).reshape(mesh_f0.shape)\n",
    "    plt.contour(mesh_f0, mesh_f1, pred, 1)\n",
    "    plt.show()\n",
    "    \n",
    "tree = ScratchDecesionTreeClassifier()\n",
    "tree.fit(X, y)\n",
    "plot_decision_regions(X, tree)"
   ]
  },
  {
   "cell_type": "code",
   "execution_count": 11,
   "metadata": {},
   "outputs": [
    {
     "data": {
      "text/plain": [
       "((32, 2), (8, 2), (32,), (8,))"
      ]
     },
     "execution_count": 11,
     "metadata": {},
     "output_type": "execute_result"
    }
   ],
   "source": [
    "X_train.shape, X_test.shape, y_train.shape, y_test.shape"
   ]
  },
  {
   "cell_type": "code",
   "execution_count": 12,
   "metadata": {},
   "outputs": [],
   "source": [
    "XX = pd.DataFrame(X)\n",
    "\n",
    "XX_train = pd.DataFrame(X_train)\n",
    "XX_test =  pd.DataFrame(X_test)\n",
    "yy_train = pd.DataFrame(y_train)\n",
    "yy_test =  pd.DataFrame(y_test)"
   ]
  },
  {
   "cell_type": "code",
   "execution_count": 13,
   "metadata": {},
   "outputs": [
    {
     "data": {
      "text/html": [
       "<div>\n",
       "<style scoped>\n",
       "    .dataframe tbody tr th:only-of-type {\n",
       "        vertical-align: middle;\n",
       "    }\n",
       "\n",
       "    .dataframe tbody tr th {\n",
       "        vertical-align: top;\n",
       "    }\n",
       "\n",
       "    .dataframe thead th {\n",
       "        text-align: right;\n",
       "    }\n",
       "</style>\n",
       "<table border=\"1\" class=\"dataframe\">\n",
       "  <thead>\n",
       "    <tr style=\"text-align: right;\">\n",
       "      <th></th>\n",
       "      <th>0</th>\n",
       "      <th>1</th>\n",
       "    </tr>\n",
       "  </thead>\n",
       "  <tbody>\n",
       "    <tr>\n",
       "      <th>0</th>\n",
       "      <td>0.10645</td>\n",
       "      <td>1.92420</td>\n",
       "    </tr>\n",
       "    <tr>\n",
       "      <th>1</th>\n",
       "      <td>0.86291</td>\n",
       "      <td>2.39460</td>\n",
       "    </tr>\n",
       "    <tr>\n",
       "      <th>2</th>\n",
       "      <td>-3.06030</td>\n",
       "      <td>-3.64610</td>\n",
       "    </tr>\n",
       "    <tr>\n",
       "      <th>3</th>\n",
       "      <td>-2.93620</td>\n",
       "      <td>2.54620</td>\n",
       "    </tr>\n",
       "    <tr>\n",
       "      <th>4</th>\n",
       "      <td>-1.99480</td>\n",
       "      <td>-1.39270</td>\n",
       "    </tr>\n",
       "    <tr>\n",
       "      <th>5</th>\n",
       "      <td>-2.56770</td>\n",
       "      <td>13.17790</td>\n",
       "    </tr>\n",
       "    <tr>\n",
       "      <th>6</th>\n",
       "      <td>-4.10130</td>\n",
       "      <td>-4.35300</td>\n",
       "    </tr>\n",
       "    <tr>\n",
       "      <th>7</th>\n",
       "      <td>-2.35300</td>\n",
       "      <td>-0.72261</td>\n",
       "    </tr>\n",
       "  </tbody>\n",
       "</table>\n",
       "</div>"
      ],
      "text/plain": [
       "         0         1\n",
       "0  0.10645   1.92420\n",
       "1  0.86291   2.39460\n",
       "2 -3.06030  -3.64610\n",
       "3 -2.93620   2.54620\n",
       "4 -1.99480  -1.39270\n",
       "5 -2.56770  13.17790\n",
       "6 -4.10130  -4.35300\n",
       "7 -2.35300  -0.72261"
      ]
     },
     "execution_count": 13,
     "metadata": {},
     "output_type": "execute_result"
    }
   ],
   "source": [
    "XX_test"
   ]
  },
  {
   "cell_type": "code",
   "execution_count": 14,
   "metadata": {},
   "outputs": [
    {
     "data": {
      "text/html": [
       "<div>\n",
       "<style scoped>\n",
       "    .dataframe tbody tr th:only-of-type {\n",
       "        vertical-align: middle;\n",
       "    }\n",
       "\n",
       "    .dataframe tbody tr th {\n",
       "        vertical-align: top;\n",
       "    }\n",
       "\n",
       "    .dataframe thead th {\n",
       "        text-align: right;\n",
       "    }\n",
       "</style>\n",
       "<table border=\"1\" class=\"dataframe\">\n",
       "  <thead>\n",
       "    <tr style=\"text-align: right;\">\n",
       "      <th></th>\n",
       "      <th>0</th>\n",
       "    </tr>\n",
       "  </thead>\n",
       "  <tbody>\n",
       "    <tr>\n",
       "      <th>0</th>\n",
       "      <td>0</td>\n",
       "    </tr>\n",
       "    <tr>\n",
       "      <th>1</th>\n",
       "      <td>0</td>\n",
       "    </tr>\n",
       "    <tr>\n",
       "      <th>2</th>\n",
       "      <td>1</td>\n",
       "    </tr>\n",
       "    <tr>\n",
       "      <th>3</th>\n",
       "      <td>0</td>\n",
       "    </tr>\n",
       "    <tr>\n",
       "      <th>4</th>\n",
       "      <td>1</td>\n",
       "    </tr>\n",
       "    <tr>\n",
       "      <th>5</th>\n",
       "      <td>1</td>\n",
       "    </tr>\n",
       "    <tr>\n",
       "      <th>6</th>\n",
       "      <td>0</td>\n",
       "    </tr>\n",
       "    <tr>\n",
       "      <th>7</th>\n",
       "      <td>1</td>\n",
       "    </tr>\n",
       "  </tbody>\n",
       "</table>\n",
       "</div>"
      ],
      "text/plain": [
       "   0\n",
       "0  0\n",
       "1  0\n",
       "2  1\n",
       "3  0\n",
       "4  1\n",
       "5  1\n",
       "6  0\n",
       "7  1"
      ]
     },
     "execution_count": 14,
     "metadata": {},
     "output_type": "execute_result"
    }
   ],
   "source": [
    "yy_test"
   ]
  },
  {
   "cell_type": "code",
   "execution_count": 15,
   "metadata": {},
   "outputs": [
    {
     "data": {
      "text/html": [
       "<div>\n",
       "<style scoped>\n",
       "    .dataframe tbody tr th:only-of-type {\n",
       "        vertical-align: middle;\n",
       "    }\n",
       "\n",
       "    .dataframe tbody tr th {\n",
       "        vertical-align: top;\n",
       "    }\n",
       "\n",
       "    .dataframe thead th {\n",
       "        text-align: right;\n",
       "    }\n",
       "</style>\n",
       "<table border=\"1\" class=\"dataframe\">\n",
       "  <thead>\n",
       "    <tr style=\"text-align: right;\">\n",
       "      <th></th>\n",
       "      <th>0</th>\n",
       "      <th>1</th>\n",
       "    </tr>\n",
       "  </thead>\n",
       "  <tbody>\n",
       "    <tr>\n",
       "      <th>0</th>\n",
       "      <td>-0.446990</td>\n",
       "      <td>-2.807300</td>\n",
       "    </tr>\n",
       "    <tr>\n",
       "      <th>1</th>\n",
       "      <td>-1.462100</td>\n",
       "      <td>-2.458600</td>\n",
       "    </tr>\n",
       "    <tr>\n",
       "      <th>2</th>\n",
       "      <td>0.106450</td>\n",
       "      <td>1.924200</td>\n",
       "    </tr>\n",
       "    <tr>\n",
       "      <th>3</th>\n",
       "      <td>-3.594400</td>\n",
       "      <td>-4.011200</td>\n",
       "    </tr>\n",
       "    <tr>\n",
       "      <th>4</th>\n",
       "      <td>-0.988800</td>\n",
       "      <td>4.571800</td>\n",
       "    </tr>\n",
       "    <tr>\n",
       "      <th>5</th>\n",
       "      <td>-3.162500</td>\n",
       "      <td>-3.960600</td>\n",
       "    </tr>\n",
       "    <tr>\n",
       "      <th>6</th>\n",
       "      <td>0.564210</td>\n",
       "      <td>0.728880</td>\n",
       "    </tr>\n",
       "    <tr>\n",
       "      <th>7</th>\n",
       "      <td>-0.602160</td>\n",
       "      <td>8.463600</td>\n",
       "    </tr>\n",
       "    <tr>\n",
       "      <th>8</th>\n",
       "      <td>-0.612510</td>\n",
       "      <td>-0.753450</td>\n",
       "    </tr>\n",
       "    <tr>\n",
       "      <th>9</th>\n",
       "      <td>-0.735350</td>\n",
       "      <td>-2.271800</td>\n",
       "    </tr>\n",
       "    <tr>\n",
       "      <th>10</th>\n",
       "      <td>-0.806470</td>\n",
       "      <td>-2.213500</td>\n",
       "    </tr>\n",
       "    <tr>\n",
       "      <th>11</th>\n",
       "      <td>0.862910</td>\n",
       "      <td>2.394600</td>\n",
       "    </tr>\n",
       "    <tr>\n",
       "      <th>12</th>\n",
       "      <td>-3.110800</td>\n",
       "      <td>0.153940</td>\n",
       "    </tr>\n",
       "    <tr>\n",
       "      <th>13</th>\n",
       "      <td>-2.936200</td>\n",
       "      <td>2.546200</td>\n",
       "    </tr>\n",
       "    <tr>\n",
       "      <th>14</th>\n",
       "      <td>-0.572420</td>\n",
       "      <td>-2.991500</td>\n",
       "    </tr>\n",
       "    <tr>\n",
       "      <th>15</th>\n",
       "      <td>1.477100</td>\n",
       "      <td>3.489600</td>\n",
       "    </tr>\n",
       "    <tr>\n",
       "      <th>16</th>\n",
       "      <td>0.586190</td>\n",
       "      <td>0.371580</td>\n",
       "    </tr>\n",
       "    <tr>\n",
       "      <th>17</th>\n",
       "      <td>0.601700</td>\n",
       "      <td>4.343900</td>\n",
       "    </tr>\n",
       "    <tr>\n",
       "      <th>18</th>\n",
       "      <td>-2.108600</td>\n",
       "      <td>8.342800</td>\n",
       "    </tr>\n",
       "    <tr>\n",
       "      <th>19</th>\n",
       "      <td>-4.101300</td>\n",
       "      <td>-4.353000</td>\n",
       "    </tr>\n",
       "    <tr>\n",
       "      <th>20</th>\n",
       "      <td>-1.994800</td>\n",
       "      <td>-1.392700</td>\n",
       "    </tr>\n",
       "    <tr>\n",
       "      <th>21</th>\n",
       "      <td>0.350840</td>\n",
       "      <td>-0.031994</td>\n",
       "    </tr>\n",
       "    <tr>\n",
       "      <th>22</th>\n",
       "      <td>0.967650</td>\n",
       "      <td>7.892900</td>\n",
       "    </tr>\n",
       "    <tr>\n",
       "      <th>23</th>\n",
       "      <td>-1.281000</td>\n",
       "      <td>15.682400</td>\n",
       "    </tr>\n",
       "    <tr>\n",
       "      <th>24</th>\n",
       "      <td>0.967650</td>\n",
       "      <td>10.083000</td>\n",
       "    </tr>\n",
       "    <tr>\n",
       "      <th>25</th>\n",
       "      <td>1.376300</td>\n",
       "      <td>1.334700</td>\n",
       "    </tr>\n",
       "    <tr>\n",
       "      <th>26</th>\n",
       "      <td>-2.234000</td>\n",
       "      <td>-2.532300</td>\n",
       "    </tr>\n",
       "    <tr>\n",
       "      <th>27</th>\n",
       "      <td>-2.945200</td>\n",
       "      <td>-1.821900</td>\n",
       "    </tr>\n",
       "    <tr>\n",
       "      <th>28</th>\n",
       "      <td>0.146540</td>\n",
       "      <td>-0.287330</td>\n",
       "    </tr>\n",
       "    <tr>\n",
       "      <th>29</th>\n",
       "      <td>0.546100</td>\n",
       "      <td>5.824500</td>\n",
       "    </tr>\n",
       "    <tr>\n",
       "      <th>30</th>\n",
       "      <td>-0.652590</td>\n",
       "      <td>9.344400</td>\n",
       "    </tr>\n",
       "    <tr>\n",
       "      <th>31</th>\n",
       "      <td>0.599120</td>\n",
       "      <td>5.352400</td>\n",
       "    </tr>\n",
       "    <tr>\n",
       "      <th>32</th>\n",
       "      <td>0.502140</td>\n",
       "      <td>-0.318180</td>\n",
       "    </tr>\n",
       "    <tr>\n",
       "      <th>33</th>\n",
       "      <td>-3.060300</td>\n",
       "      <td>-3.646100</td>\n",
       "    </tr>\n",
       "    <tr>\n",
       "      <th>34</th>\n",
       "      <td>-6.679700</td>\n",
       "      <td>0.676610</td>\n",
       "    </tr>\n",
       "    <tr>\n",
       "      <th>35</th>\n",
       "      <td>-2.353000</td>\n",
       "      <td>-0.722610</td>\n",
       "    </tr>\n",
       "    <tr>\n",
       "      <th>36</th>\n",
       "      <td>1.131900</td>\n",
       "      <td>2.402300</td>\n",
       "    </tr>\n",
       "    <tr>\n",
       "      <th>37</th>\n",
       "      <td>-0.122430</td>\n",
       "      <td>9.016200</td>\n",
       "    </tr>\n",
       "    <tr>\n",
       "      <th>38</th>\n",
       "      <td>-2.567700</td>\n",
       "      <td>13.177900</td>\n",
       "    </tr>\n",
       "    <tr>\n",
       "      <th>39</th>\n",
       "      <td>0.057313</td>\n",
       "      <td>5.468100</td>\n",
       "    </tr>\n",
       "  </tbody>\n",
       "</table>\n",
       "</div>"
      ],
      "text/plain": [
       "           0          1\n",
       "0  -0.446990  -2.807300\n",
       "1  -1.462100  -2.458600\n",
       "2   0.106450   1.924200\n",
       "3  -3.594400  -4.011200\n",
       "4  -0.988800   4.571800\n",
       "5  -3.162500  -3.960600\n",
       "6   0.564210   0.728880\n",
       "7  -0.602160   8.463600\n",
       "8  -0.612510  -0.753450\n",
       "9  -0.735350  -2.271800\n",
       "10 -0.806470  -2.213500\n",
       "11  0.862910   2.394600\n",
       "12 -3.110800   0.153940\n",
       "13 -2.936200   2.546200\n",
       "14 -0.572420  -2.991500\n",
       "15  1.477100   3.489600\n",
       "16  0.586190   0.371580\n",
       "17  0.601700   4.343900\n",
       "18 -2.108600   8.342800\n",
       "19 -4.101300  -4.353000\n",
       "20 -1.994800  -1.392700\n",
       "21  0.350840  -0.031994\n",
       "22  0.967650   7.892900\n",
       "23 -1.281000  15.682400\n",
       "24  0.967650  10.083000\n",
       "25  1.376300   1.334700\n",
       "26 -2.234000  -2.532300\n",
       "27 -2.945200  -1.821900\n",
       "28  0.146540  -0.287330\n",
       "29  0.546100   5.824500\n",
       "30 -0.652590   9.344400\n",
       "31  0.599120   5.352400\n",
       "32  0.502140  -0.318180\n",
       "33 -3.060300  -3.646100\n",
       "34 -6.679700   0.676610\n",
       "35 -2.353000  -0.722610\n",
       "36  1.131900   2.402300\n",
       "37 -0.122430   9.016200\n",
       "38 -2.567700  13.177900\n",
       "39  0.057313   5.468100"
      ]
     },
     "execution_count": 15,
     "metadata": {},
     "output_type": "execute_result"
    }
   ],
   "source": [
    "XX"
   ]
  },
  {
   "cell_type": "markdown",
   "metadata": {},
   "source": [
    "### 説明"
   ]
  },
  {
   "cell_type": "markdown",
   "metadata": {},
   "source": [
    "### 決定木とは何か\n",
    "決定木とは、データを分割するルールを次々と作成していくことにより、分類を実行するアルゴリズムです。すなわち、属性とその値の組｛属性1＝値1，属性2＝値2, 属性3＝値3,…，属性n＝値n｝によって表現されたデータをいくつかのクラスと呼ぶものに分類することです。例えば、人事担当者が面接者のデータ{年齢=30, プログラミング経験=あり}などのデータを使って、採用するかしないかを判断するということです。"
   ]
  },
  {
   "cell_type": "markdown",
   "metadata": {},
   "source": [
    "### ロジスティック回帰やSVMとの違い\n",
    "ロジスティック回帰分析では、確率を使って数値で表現できる。ロジスティック回帰分析では、低い確率では発生する事を扱える。SVCも、判別分析に適した分布にも適してる。 しかも、正規分布していなくても大丈夫である。一方で、決定木は、データの特徴的な部分をざっくりと見ておきたい時に向いている。 ただ、階層構造を使ってモデルを作るので、階層構造で説明する必要のないデータについては、 上記の2つの手法を使った方が結果の解釈が楽である。\n"
   ]
  },
  {
   "cell_type": "markdown",
   "metadata": {},
   "source": [
    "### ジニ不純度とは何か。例えばどのようなときに最大になるか\n",
    "決定木でデータを分割する時は「クラスをきれいに分けられる」とは逆に「どれだけクラスが混在しているか」という指標を考える。この指標のことをジニ不純度という。\n",
    "ジニ不純度は、例えば、ノードに含まれるサンプルが均等にちらばっている場合に最大になる。\n",
    "ジニ不純度以下の式で表される。"
   ]
  },
  {
   "cell_type": "markdown",
   "metadata": {},
   "source": [
    "#### ジニ不純度の式"
   ]
  },
  {
   "cell_type": "markdown",
   "metadata": {},
   "source": [
    "$I(t) = 1-\\sum_{i=1}^{K}P^2(C_i|t) = 1-\\sum_{i=1}^{K}(\\frac{N_{t,i}}{N_{t,all}})$"
   ]
  },
  {
   "cell_type": "markdown",
   "metadata": {},
   "source": [
    "t: ノードのインデックス\n",
    "i: クラスのインデックス\n",
    "K: クラスの数\n",
    "Ci　: i番目のクラス\n",
    "P(Ci|t) :　t番目のノードにおけるCiの割合\n",
    "Nt,i: t番目のノードのi番目のクラスに属するサンプル数\n",
    "Nt,all: t番目のノードのサンプルの総数"
   ]
  },
  {
   "cell_type": "markdown",
   "metadata": {},
   "source": [
    "### 決定木は情報利得をどのように使うことで学習するか\n",
    "決定木では、トレーニングサンプルのグループであるノードの分岐を繰り返して行くことで分けていくが、分ける前のノードを親ノード、分けた後のノードを子ノードと言う。\n",
    "親ノードと子ノードの不純度を計算し、その差分である情報利得が最大になるように子ノードを分けていく。\n",
    "具体的な例で考える。親ノード$D_p$を$2$つの子ノード$D_left$、$D_right$に分けることを考える。\n",
    "親ノード内のトレーニングサンプルの個数を$N_p$、子ノード内のトレーニングサンプルの個数をそれぞれ$N_left$、$N_right$、また分割する特徴量を$f$とすると、親ノードから子ノードにトレーニングサンプルを分けたときに得られる情報利得は、以下の式で表せる。"
   ]
  },
  {
   "cell_type": "markdown",
   "metadata": {},
   "source": [
    "#### 情報利得の式"
   ]
  },
  {
   "cell_type": "markdown",
   "metadata": {},
   "source": [
    "$IG(p) = I(p)-\\frac{N_{left,all}}{N_{p,all}}I(left)-\\frac{N_{right,all}}{N_{p,all}}I(right)$"
   ]
  },
  {
   "cell_type": "markdown",
   "metadata": {},
   "source": [
    "情報利得とはその名の通り、親ノードから子ノードへグループを分けたときにそこから得られる情報量という意味である。不純度は情報量と同じ概念として考えることができるのでこう呼ばれている。\n",
    "情報利得が最大になるということは子ノードの不純度が最小になるということで、つまり子ノード内のクラスの純度が、より高くなるように分けていく。\n",
    "親ノードを子ノードに分け更にその子ノードに分け、、を繰り返しそれ以上分ける事が出来なくなったノードをリーフと呼ぶ。木の葉っぱということである。\n",
    "最後までノード分けを実施してしまうと、過学習状態(新しいサンプルデータに対し汎用性のない分類機になってしまう)に陥ってしまうため、実際は最後までノード分けせずにノード分割する回数(ノードの深さ)のMax値を指定したり、ノード分けで次第に小さくなっていく情報利得に閾値を設けて途中で中断するのが一般的ある。\n",
    "決定木でノードを分けていく方法は色々あるが、実数の特徴量でトレーニングサンプルを上記の様に2分木に分けていく方法はCART法と呼ばれており、scikit-learnの決定木でも採用されている。"
   ]
  },
  {
   "cell_type": "code",
   "execution_count": null,
   "metadata": {},
   "outputs": [],
   "source": []
  },
  {
   "cell_type": "code",
   "execution_count": null,
   "metadata": {},
   "outputs": [],
   "source": []
  },
  {
   "cell_type": "code",
   "execution_count": null,
   "metadata": {},
   "outputs": [],
   "source": []
  },
  {
   "cell_type": "code",
   "execution_count": null,
   "metadata": {},
   "outputs": [],
   "source": []
  },
  {
   "cell_type": "code",
   "execution_count": null,
   "metadata": {},
   "outputs": [],
   "source": []
  },
  {
   "cell_type": "code",
   "execution_count": null,
   "metadata": {},
   "outputs": [],
   "source": []
  },
  {
   "cell_type": "code",
   "execution_count": null,
   "metadata": {},
   "outputs": [],
   "source": []
  }
 ],
 "metadata": {
  "kernelspec": {
   "display_name": "Python 3",
   "language": "python",
   "name": "python3"
  },
  "language_info": {
   "codemirror_mode": {
    "name": "ipython",
    "version": 3
   },
   "file_extension": ".py",
   "mimetype": "text/x-python",
   "name": "python",
   "nbconvert_exporter": "python",
   "pygments_lexer": "ipython3",
   "version": "3.7.0"
  }
 },
 "nbformat": 4,
 "nbformat_minor": 2
}
