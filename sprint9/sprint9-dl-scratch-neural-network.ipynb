{
 "cells": [
  {
   "cell_type": "markdown",
   "metadata": {},
   "source": [
    "## Sprint9 NN(ニューラルネットワーク)の実装\n",
    "・スクラッチを通してニューラルネットワークの基礎を理解する     \n",
    "・基本的な深層学習のキーワードを学習する      \n",
    "・画像データの簡単な扱い方を知る"
   ]
  },
  {
   "cell_type": "markdown",
   "metadata": {},
   "source": [
    "### データセットの用意"
   ]
  },
  {
   "cell_type": "code",
   "execution_count": 1,
   "metadata": {
    "collapsed": false
   },
   "outputs": [],
   "source": [
    "from sklearn.datasets import fetch_mldata\n",
    "from sklearn.model_selection import train_test_split\n",
    "import numpy as np\n",
    "# 保存先を指定\n",
    "mnist_dir = \"/Users/andoutakaaki/DIC_study/sprint9/mnist_data/\"\n",
    "\n",
    "# MNISTの読み込み\n",
    "mnist = fetch_mldata('MNIST original', data_home=mnist_dir)\n",
    "# trainとtestに分割する\n",
    "X_train, X_test, y_train, y_test = train_test_split(mnist.data, mnist.target, test_size=0.14285)\n",
    "# ラベルをint型にしておく\n",
    "y_train = y_train.astype(np.int)\n",
    "y_test = y_test.astype(np.int)"
   ]
  },
  {
   "cell_type": "markdown",
   "metadata": {},
   "source": [
    "### データセットの確認"
   ]
  },
  {
   "cell_type": "code",
   "execution_count": 2,
   "metadata": {
    "collapsed": false
   },
   "outputs": [
    {
     "name": "stdout",
     "output_type": "stream",
     "text": [
      "(60000, 784)\n",
      "(10000, 784)\n",
      "uint8\n",
      "[  0   0   0   0   0   0   0   0   0   0   0   0   0   0   0   0   0   0\n",
      "   0   0   0   0   0   0   0   0   0   0   0   0   0   0   0   0   0   0\n",
      "   0   0   0   0   0   0   0   0   0   0   0   0   0   0   0   0   0   0\n",
      "   0   0   0   0   0   0   0   0   0   0   0   0   0   0   0   0   0   0\n",
      "   0   0   0   0   0   0   0   0   0   0   0   0   0   0   0   0   0   0\n",
      "   0   0   0   0   0   0   0   0   0   0   0   0   0   0   0   0   0   0\n",
      "   0   0   0   0   0   0   0   0   0   0   0   0   0   0 123 186 239 183\n",
      " 226 244 158  18   0   0   0   0   0   0   0   0   0   0   0   0   0   0\n",
      "   0   0   0   0   0   0 203 254 254 254 254 254 254 226   0   0   0   0\n",
      "   0   0   0   0   0   0   0   0   0   0   0   0   0   0   0   0  54  95\n",
      "  95  95  95 196 254 228   0   0   0   0   0   0   0   0   0   0   0   0\n",
      "   0   0   0   0   0   0   0   0   0   0   0   0  61 252 254 123   0   0\n",
      "   0   0   0   0   0   0   0   0   0   0   0   0   0   0   0   0   0   0\n",
      "   0   0   0  48 232 254 204   4   0   0   0   0   0   0   0   0   0   0\n",
      "   0   0   0   0   0   0   0   0   0   0   0   0  28 231 254 234  29   0\n",
      "   0   0   0   0   0   0   0   0   0   0   0   0   0   0   0   0   0   0\n",
      "   0   0   0   0 145 254 254 168  31   0   0   0   0   0   0   0   0   0\n",
      "   0   0   0   0   0   0   0   0   0   0   0   0   0  47 251 254 254 254\n",
      " 241 216  98   0   0   0   0   0   0   0   0   0   0   0   0   0   0   0\n",
      "   0   0   0   0   0  53 254 254 254 254 254 254 252 147   0   0   0   0\n",
      "   0   0   0   0   0   0   0   0   0   0   0   0   0   0   0  44 234 218\n",
      " 125 114  39 120 254 246  35   0   0   0   0   0   0   0   0   0   0   0\n",
      "   0   0   0   0   0   0   0   0  23  21   0   0   0  27 254 254  99   0\n",
      "   0   0   0   0   0   0   0   0   0   0   0   0   0   0   0   0   0   0\n",
      "   0   0   0   0   0  80 254 246  36   0   0   0   0   0   0   0   0   0\n",
      "   0   0   0   0   0   0   0   0   0   0   0   0   0   0  14 224 254 227\n",
      "   0   0   0   0   0   0   0   0   0   0   0   0   0   0   0   0   0   0\n",
      "   0   0   0   0   0  16 159 254 252 107   0   0   0   0   0   0   0   0\n",
      "   0   0   0   0   0   0   0   0   0   0   0   0   0   0  17 187 254 254\n",
      " 189   0   0   0   0   0   0   0   0   0   0   0   0   0   0   0   0   6\n",
      "   0   0   0   0   4  33 186 254 254 235  16   0   0   0   0   0   0   0\n",
      "   0   0   0   0   0   0   0   0   0 133  51   0   3  31 158 254 254 254\n",
      " 243  81   0   0   0   0   0   0   0   0   0   0   0   0   0   0   0   0\n",
      "   0  70 236 182 198 255 254 254 254 239  82   0   0   0   0   0   0   0\n",
      "   0   0   0   0   0   0   0   0   0   0   0  22 211 254 254 255 254 254\n",
      " 194  41   0   0   0   0   0   0   0   0   0   0   0   0   0   0   0   0\n",
      "   0   0   0   0  21 131 216 254 163  68   0   0   0   0   0   0   0   0\n",
      "   0   0   0   0   0   0   0   0   0   0   0   0   0   0   0   0   0   0\n",
      "   0   0   0   0   0   0   0   0   0   0   0   0   0   0   0   0   0   0\n",
      "   0   0   0   0   0   0   0   0   0   0   0   0   0   0   0   0   0   0\n",
      "   0   0   0   0   0   0   0   0   0   0   0   0   0   0   0   0   0   0\n",
      "   0   0   0   0   0   0   0   0   0   0   0   0   0   0   0   0   0   0\n",
      "   0   0   0   0   0   0   0   0   0   0   0   0   0   0   0   0   0   0\n",
      "   0   0   0   0   0   0   0   0   0   0]\n"
     ]
    }
   ],
   "source": [
    "print(X_train.shape) # (60000, 784)\n",
    "print(X_test.shape) # (10000, 784)\n",
    "print(X_train[0].dtype) # uint8\n",
    "print(X_train[0])"
   ]
  },
  {
   "cell_type": "code",
   "execution_count": 3,
   "metadata": {
    "collapsed": false
   },
   "outputs": [
    {
     "name": "stdout",
     "output_type": "stream",
     "text": [
      "(60000,)\n",
      "(10000,)\n",
      "3\n"
     ]
    }
   ],
   "source": [
    "print(y_train.shape) \n",
    "print(y_test.shape) \n",
    "print(y_train[0])"
   ]
  },
  {
   "cell_type": "markdown",
   "metadata": {},
   "source": [
    "訓練セットの最初の正解がでた"
   ]
  },
  {
   "cell_type": "markdown",
   "metadata": {},
   "source": [
    "### 画像データの可視化"
   ]
  },
  {
   "cell_type": "code",
   "execution_count": 4,
   "metadata": {
    "collapsed": false
   },
   "outputs": [
    {
     "data": {
      "image/png": "[encoded data removed]",
      "text/plain": [
       "<Figure size 432x288 with 1 Axes>"
      ]
     },
     "metadata": {},
     "output_type": "display_data"
    }
   ],
   "source": [
    "import matplotlib.pyplot as plt\n",
    "%matplotlib inline\n",
    "index = 0\n",
    "image = X_train[index].reshape(28,28)\n",
    "# X_train[index]: (784,)\n",
    "# image: (28, 28)\n",
    "plt.imshow(image, 'gray')\n",
    "plt.title('label : {}'.format(y_train[index]))\n",
    "plt.show()"
   ]
  },
  {
   "cell_type": "code",
   "execution_count": 5,
   "metadata": {
    "collapsed": false
   },
   "outputs": [
    {
     "data": {
      "image/png": "[encoded data removed]",
      "text/plain": [
       "<Figure size 432x288 with 1 Axes>"
      ]
     },
     "metadata": {},
     "output_type": "display_data"
    },
    {
     "name": "stdout",
     "output_type": "stream",
     "text": [
      "[[-105.35 -105.35 -105.35 -105.35 -105.35 -105.35 -105.35 -105.35 -105.35\n",
      "  -105.35 -105.35 -105.35 -105.35 -105.35 -105.35 -105.35 -105.35 -105.35\n",
      "  -105.35 -105.35 -105.35 -105.35 -105.35 -105.35 -105.35 -105.35 -105.35\n",
      "  -105.35]\n",
      " [-105.35 -105.35 -105.35 -105.35 -105.35 -105.35 -105.35 -105.35 -105.35\n",
      "  -105.35 -105.35 -105.35 -105.35 -105.35 -105.35 -105.35 -105.35 -105.35\n",
      "  -105.35 -105.35 -105.35 -105.35 -105.35 -105.35 -105.35 -105.35 -105.35\n",
      "  -105.35]\n",
      " [-105.35 -105.35 -105.35 -105.35 -105.35 -105.35 -105.35 -105.35 -105.35\n",
      "  -105.35 -105.35 -105.35 -105.35 -105.35 -105.35 -105.35 -105.35 -105.35\n",
      "  -105.35 -105.35 -105.35 -105.35 -105.35 -105.35 -105.35 -105.35 -105.35\n",
      "  -105.35]\n",
      " [-105.35 -105.35 -105.35 -105.35 -105.35 -105.35 -105.35 -105.35 -105.35\n",
      "  -105.35 -105.35 -105.35 -105.35 -105.35 -105.35 -105.35 -105.35 -105.35\n",
      "  -105.35 -105.35 -105.35 -105.35 -105.35 -105.35 -105.35 -105.35 -105.35\n",
      "  -105.35]\n",
      " [-105.35 -105.35 -105.35 -105.35 -105.35 -105.35 -105.35 -105.35 -105.35\n",
      "  -105.35   17.65   80.65  133.65   77.65  120.65  138.65   52.65  -87.35\n",
      "  -105.35 -105.35 -105.35 -105.35 -105.35 -105.35 -105.35 -105.35 -105.35\n",
      "  -105.35]\n",
      " [-105.35 -105.35 -105.35 -105.35 -105.35 -105.35 -105.35 -105.35 -105.35\n",
      "  -105.35   97.65  148.65  148.65  148.65  148.65  148.65  148.65  120.65\n",
      "  -105.35 -105.35 -105.35 -105.35 -105.35 -105.35 -105.35 -105.35 -105.35\n",
      "  -105.35]\n",
      " [-105.35 -105.35 -105.35 -105.35 -105.35 -105.35 -105.35 -105.35 -105.35\n",
      "  -105.35  -51.35  -10.35  -10.35  -10.35  -10.35   90.65  148.65  122.65\n",
      "  -105.35 -105.35 -105.35 -105.35 -105.35 -105.35 -105.35 -105.35 -105.35\n",
      "  -105.35]\n",
      " [-105.35 -105.35 -105.35 -105.35 -105.35 -105.35 -105.35 -105.35 -105.35\n",
      "  -105.35 -105.35 -105.35 -105.35 -105.35  -44.35  146.65  148.65   17.65\n",
      "  -105.35 -105.35 -105.35 -105.35 -105.35 -105.35 -105.35 -105.35 -105.35\n",
      "  -105.35]\n",
      " [-105.35 -105.35 -105.35 -105.35 -105.35 -105.35 -105.35 -105.35 -105.35\n",
      "  -105.35 -105.35 -105.35 -105.35  -57.35  126.65  148.65   98.65 -101.35\n",
      "  -105.35 -105.35 -105.35 -105.35 -105.35 -105.35 -105.35 -105.35 -105.35\n",
      "  -105.35]\n",
      " [-105.35 -105.35 -105.35 -105.35 -105.35 -105.35 -105.35 -105.35 -105.35\n",
      "  -105.35 -105.35 -105.35  -77.35  125.65  148.65  128.65  -76.35 -105.35\n",
      "  -105.35 -105.35 -105.35 -105.35 -105.35 -105.35 -105.35 -105.35 -105.35\n",
      "  -105.35]\n",
      " [-105.35 -105.35 -105.35 -105.35 -105.35 -105.35 -105.35 -105.35 -105.35\n",
      "  -105.35 -105.35 -105.35   39.65  148.65  148.65   62.65  -74.35 -105.35\n",
      "  -105.35 -105.35 -105.35 -105.35 -105.35 -105.35 -105.35 -105.35 -105.35\n",
      "  -105.35]\n",
      " [-105.35 -105.35 -105.35 -105.35 -105.35 -105.35 -105.35 -105.35 -105.35\n",
      "  -105.35 -105.35  -58.35  145.65  148.65  148.65  148.65  135.65  110.65\n",
      "    -7.35 -105.35 -105.35 -105.35 -105.35 -105.35 -105.35 -105.35 -105.35\n",
      "  -105.35]\n",
      " [-105.35 -105.35 -105.35 -105.35 -105.35 -105.35 -105.35 -105.35 -105.35\n",
      "  -105.35 -105.35  -52.35  148.65  148.65  148.65  148.65  148.65  148.65\n",
      "   146.65   41.65 -105.35 -105.35 -105.35 -105.35 -105.35 -105.35 -105.35\n",
      "  -105.35]\n",
      " [-105.35 -105.35 -105.35 -105.35 -105.35 -105.35 -105.35 -105.35 -105.35\n",
      "  -105.35 -105.35  -61.35  128.65  112.65   19.65    8.65  -66.35   14.65\n",
      "   148.65  140.65  -70.35 -105.35 -105.35 -105.35 -105.35 -105.35 -105.35\n",
      "  -105.35]\n",
      " [-105.35 -105.35 -105.35 -105.35 -105.35 -105.35 -105.35 -105.35 -105.35\n",
      "  -105.35 -105.35 -105.35  -82.35  -84.35 -105.35 -105.35 -105.35  -78.35\n",
      "   148.65  148.65   -6.35 -105.35 -105.35 -105.35 -105.35 -105.35 -105.35\n",
      "  -105.35]\n",
      " [-105.35 -105.35 -105.35 -105.35 -105.35 -105.35 -105.35 -105.35 -105.35\n",
      "  -105.35 -105.35 -105.35 -105.35 -105.35 -105.35 -105.35 -105.35  -25.35\n",
      "   148.65  140.65  -69.35 -105.35 -105.35 -105.35 -105.35 -105.35 -105.35\n",
      "  -105.35]\n",
      " [-105.35 -105.35 -105.35 -105.35 -105.35 -105.35 -105.35 -105.35 -105.35\n",
      "  -105.35 -105.35 -105.35 -105.35 -105.35 -105.35 -105.35  -91.35  118.65\n",
      "   148.65  121.65 -105.35 -105.35 -105.35 -105.35 -105.35 -105.35 -105.35\n",
      "  -105.35]\n",
      " [-105.35 -105.35 -105.35 -105.35 -105.35 -105.35 -105.35 -105.35 -105.35\n",
      "  -105.35 -105.35 -105.35 -105.35 -105.35 -105.35  -89.35   53.65  148.65\n",
      "   146.65    1.65 -105.35 -105.35 -105.35 -105.35 -105.35 -105.35 -105.35\n",
      "  -105.35]\n",
      " [-105.35 -105.35 -105.35 -105.35 -105.35 -105.35 -105.35 -105.35 -105.35\n",
      "  -105.35 -105.35 -105.35 -105.35 -105.35  -88.35   81.65  148.65  148.65\n",
      "    83.65 -105.35 -105.35 -105.35 -105.35 -105.35 -105.35 -105.35 -105.35\n",
      "  -105.35]\n",
      " [-105.35 -105.35 -105.35 -105.35 -105.35 -105.35 -105.35  -99.35 -105.35\n",
      "  -105.35 -105.35 -105.35 -101.35  -72.35   80.65  148.65  148.65  129.65\n",
      "   -89.35 -105.35 -105.35 -105.35 -105.35 -105.35 -105.35 -105.35 -105.35\n",
      "  -105.35]\n",
      " [-105.35 -105.35 -105.35 -105.35 -105.35 -105.35 -105.35   27.65  -54.35\n",
      "  -105.35 -102.35  -74.35   52.65  148.65  148.65  148.65  137.65  -24.35\n",
      "  -105.35 -105.35 -105.35 -105.35 -105.35 -105.35 -105.35 -105.35 -105.35\n",
      "  -105.35]\n",
      " [-105.35 -105.35 -105.35 -105.35 -105.35 -105.35 -105.35  -35.35  130.65\n",
      "    76.65   92.65  149.65  148.65  148.65  148.65  133.65  -23.35 -105.35\n",
      "  -105.35 -105.35 -105.35 -105.35 -105.35 -105.35 -105.35 -105.35 -105.35\n",
      "  -105.35]\n",
      " [-105.35 -105.35 -105.35 -105.35 -105.35 -105.35 -105.35  -83.35  105.65\n",
      "   148.65  148.65  149.65  148.65  148.65   88.65  -64.35 -105.35 -105.35\n",
      "  -105.35 -105.35 -105.35 -105.35 -105.35 -105.35 -105.35 -105.35 -105.35\n",
      "  -105.35]\n",
      " [-105.35 -105.35 -105.35 -105.35 -105.35 -105.35 -105.35 -105.35  -84.35\n",
      "    25.65  110.65  148.65   57.65  -37.35 -105.35 -105.35 -105.35 -105.35\n",
      "  -105.35 -105.35 -105.35 -105.35 -105.35 -105.35 -105.35 -105.35 -105.35\n",
      "  -105.35]\n",
      " [-105.35 -105.35 -105.35 -105.35 -105.35 -105.35 -105.35 -105.35 -105.35\n",
      "  -105.35 -105.35 -105.35 -105.35 -105.35 -105.35 -105.35 -105.35 -105.35\n",
      "  -105.35 -105.35 -105.35 -105.35 -105.35 -105.35 -105.35 -105.35 -105.35\n",
      "  -105.35]\n",
      " [-105.35 -105.35 -105.35 -105.35 -105.35 -105.35 -105.35 -105.35 -105.35\n",
      "  -105.35 -105.35 -105.35 -105.35 -105.35 -105.35 -105.35 -105.35 -105.35\n",
      "  -105.35 -105.35 -105.35 -105.35 -105.35 -105.35 -105.35 -105.35 -105.35\n",
      "  -105.35]\n",
      " [-105.35 -105.35 -105.35 -105.35 -105.35 -105.35 -105.35 -105.35 -105.35\n",
      "  -105.35 -105.35 -105.35 -105.35 -105.35 -105.35 -105.35 -105.35 -105.35\n",
      "  -105.35 -105.35 -105.35 -105.35 -105.35 -105.35 -105.35 -105.35 -105.35\n",
      "  -105.35]\n",
      " [-105.35 -105.35 -105.35 -105.35 -105.35 -105.35 -105.35 -105.35 -105.35\n",
      "  -105.35 -105.35 -105.35 -105.35 -105.35 -105.35 -105.35 -105.35 -105.35\n",
      "  -105.35 -105.35 -105.35 -105.35 -105.35 -105.35 -105.35 -105.35 -105.35\n",
      "  -105.35]]\n"
     ]
    }
   ],
   "source": [
    "index = 0\n",
    "image = X_train[index].reshape(28,28)\n",
    "image = image.astype(np.float) # float型に変換\n",
    "image -= 105.35 # 意図的に負の小数値を作り出してみる\n",
    "plt.imshow(image, 'gray')\n",
    "plt.title('label : {}'.format(y_train[index]))\n",
    "plt.show()\n",
    "print(image) # 値を確認"
   ]
  },
  {
   "cell_type": "markdown",
   "metadata": {},
   "source": [
    "### 前処理\n",
    "画像は0から255のuint8型で表されたが、機械学習をする上では0から1のfloat型に変更する。"
   ]
  },
  {
   "cell_type": "code",
   "execution_count": 6,
   "metadata": {
    "collapsed": false
   },
   "outputs": [
    {
     "name": "stdout",
     "output_type": "stream",
     "text": [
      "1.0\n",
      "0.0\n"
     ]
    }
   ],
   "source": [
    "X_train = X_train.astype(np.float)\n",
    "X_test = X_test.astype(np.float)\n",
    "X_train /= 255\n",
    "X_test /= 255\n",
    "print(X_train.max()) # 1.0\n",
    "print(X_train.min()) # 0.0"
   ]
  },
  {
   "cell_type": "code",
   "execution_count": 7,
   "metadata": {
    "collapsed": false
   },
   "outputs": [
    {
     "name": "stdout",
     "output_type": "stream",
     "text": [
      "(48000, 784)\n",
      "(12000, 784)\n"
     ]
    }
   ],
   "source": [
    "X_train, X_val, y_train, y_val = train_test_split(X_train, y_train, test_size=0.2)\n",
    "print(X_train.shape) # (48000, 784)\n",
    "print(X_val.shape) # (12000, 784)"
   ]
  },
  {
   "cell_type": "markdown",
   "metadata": {},
   "source": [
    "正解ラベルは0から9の整数であるが、ニューラルネットワークで多クラス分類を行う際にはone-hot表現に変換する。"
   ]
  },
  {
   "cell_type": "code",
   "execution_count": 8,
   "metadata": {
    "collapsed": false
   },
   "outputs": [
    {
     "name": "stdout",
     "output_type": "stream",
     "text": [
      "(48000,)\n",
      "(48000, 10)\n",
      "float64\n"
     ]
    }
   ],
   "source": [
    "from sklearn.preprocessing import OneHotEncoder\n",
    "enc = OneHotEncoder(handle_unknown='ignore', sparse=False)\n",
    "y_train_one_hot = enc.fit_transform(y_train[:, np.newaxis])\n",
    "y_test_one_hot = enc.transform(y_test[:, np.newaxis])\n",
    "print(y_train.shape) # (60000,)\n",
    "\n",
    "print(y_train_one_hot.shape) # (60000, 10)\n",
    "print(y_train_one_hot.dtype) # float64"
   ]
  },
  {
   "cell_type": "code",
   "execution_count": 9,
   "metadata": {
    "collapsed": false
   },
   "outputs": [
    {
     "data": {
      "text/plain": [
       "array([ 0.,  0.,  1.,  0.,  0.,  0.,  0.,  0.,  0.,  0.])"
      ]
     },
     "execution_count": 9,
     "metadata": {},
     "output_type": "execute_result"
    }
   ],
   "source": [
    "y_train_one_hot[0]\n"
   ]
  },
  {
   "cell_type": "markdown",
   "metadata": {},
   "source": [
    "### 重みの初期値"
   ]
  },
  {
   "cell_type": "code",
   "execution_count": 10,
   "metadata": {
    "collapsed": false
   },
   "outputs": [],
   "source": [
    "# n_features = 784\n",
    "# n_node1 = 400\n",
    "# sigma = 0.01  # ガウス分布の標準偏差\n",
    "# W1 = sigma * np.random.randn(n_features, n_node1)\n",
    "# # W1: (784, 400)"
   ]
  },
  {
   "cell_type": "code",
   "execution_count": 11,
   "metadata": {
    "collapsed": true
   },
   "outputs": [],
   "source": [
    "# １層目の重み（行７８４、列４００）\n",
    "n_features1 = 784\n",
    "n_node1 = 400\n",
    "sigma = 0.01\n",
    "\n",
    "w1 = sigma*np.random.randn(n_features1, n_node1)\n",
    "b1 = sigma*np.random.randn(n_node1)\n",
    "\n",
    "# ２層目の重み（行４００、列２００）\n",
    "n_features2 = 400\n",
    "n_node2 = 200\n",
    "\n",
    "w2 = sigma*np.random.randn(n_features2, n_node2)\n",
    "b2 = sigma*np.random.randn(n_node2)\n",
    "\n",
    "# 3層目の重み（行２００、列１０）\n",
    "n_features3 = 200\n",
    "n_node3 = 10\n",
    "\n",
    "w3 = sigma*np.random.randn(n_features3, n_node3)\n",
    "b3 = sigma*np.random.randn(n_node3)"
   ]
  },
  {
   "cell_type": "markdown",
   "metadata": {},
   "source": [
    "### ミニバッチ処理"
   ]
  },
  {
   "cell_type": "code",
   "execution_count": 12,
   "metadata": {
    "collapsed": true
   },
   "outputs": [],
   "source": [
    "class GetMiniBatch:\n",
    "    \"\"\"\n",
    "    ミニバッチを取得するイテレータ\n",
    "\n",
    "    Parameters\n",
    "    ----------\n",
    "    X : 次の形のndarray, shape (n_samples, n_features)\n",
    "      学習データ\n",
    "    y : 次の形のndarray, shape (n_samples, 1)または(n_samples,)\n",
    "      正解値\n",
    "    batch_size : int\n",
    "      バッチサイズ\n",
    "    seed : int\n",
    "      NumPyの乱数のシード\n",
    "\n",
    "    Retruns\n",
    "    ----------\n",
    "    for文で呼び出すと以下の2つを返す。最後のイテレーションでは、バッチサイズより小さいこともある。\n",
    "    mini_X : 次の形のndarray, shape (batch_size, n_features)\n",
    "      学習データのミニバッチ\n",
    "    mini_y : 次の形のndarray, shape (batch_size, 1)または(batch_size,)\n",
    "      正解値のミニバッチ\n",
    "    \"\"\"\n",
    "    def __init__(self, X, y, batch_size = 10, seed=0):\n",
    "        self.batch_size = batch_size\n",
    "        # ランダムに並べ換える\n",
    "        np.random.seed(seed)\n",
    "        shuffle_index = np.random.permutation(np.arange(X.shape[0]))\n",
    "        self.X = X[shuffle_index]\n",
    "        self.y = y[shuffle_index]\n",
    "        self._counter = 0\n",
    "        # イテレーション数を計算する\n",
    "        self._stop = np.ceil(X.shape[0]/self.batch_size).astype(np.int)\n",
    "\n",
    "    def __len__(self):\n",
    "        # len()が使われたときの処理\n",
    "        return self._stop\n",
    "\n",
    "    def __iter__(self):\n",
    "        return self\n",
    "\n",
    "    def __next__(self):\n",
    "        # for文で呼ばれた際のループごとの処理\n",
    "        if self._counter >= self._stop:\n",
    "            # 最後まで進んだら終了\n",
    "            self._counter = 0 # カウンターをリセット\n",
    "            raise StopIteration()\n",
    "\n",
    "        p0 = self._counter*self.batch_size\n",
    "        p1 = self._counter*self.batch_size + self.batch_size\n",
    "        self._counter += 1\n",
    "        return self.X[p0:p1], self.y[p0:p1]"
   ]
  },
  {
   "cell_type": "markdown",
   "metadata": {},
   "source": [
    "このクラスをニューラルネットワークのクラス内でインスタンス化し、for文を使うことでミニバッチが取り出せる。"
   ]
  },
  {
   "cell_type": "code",
   "execution_count": 13,
   "metadata": {
    "collapsed": false
   },
   "outputs": [
    {
     "name": "stdout",
     "output_type": "stream",
     "text": [
      "4800\n"
     ]
    }
   ],
   "source": [
    "# 以下をニューラルネットワークのクラス内で呼び出す\n",
    "\n",
    "get_mini_batch = GetMiniBatch(X_train, y_train_one_hot, batch_size=10)\n",
    "\n",
    "print(len(get_mini_batch)) # 4800\n",
    "for mini_X_train, mini_y_train in get_mini_batch:\n",
    "    # このfor文内でミニバッチが使える\n",
    "    pass"
   ]
  },
  {
   "cell_type": "markdown",
   "metadata": {},
   "source": [
    "### 活性化関数の実装"
   ]
  },
  {
   "cell_type": "code",
   "execution_count": 14,
   "metadata": {
    "collapsed": false
   },
   "outputs": [],
   "source": [
    "# 活性化関数\n",
    "def sigmoid(x):\n",
    "    return 1 / (1 + np.exp(-x))\n",
    "\n",
    "def softmax(x):\n",
    "    if x.ndim == 2:\n",
    "        x = x.T\n",
    "        x = x - np.max(x, axis=0)\n",
    "        y = np.exp(x) / np.sum(np.exp(x), axis=0)\n",
    "        return y.T\n",
    "\n",
    "    x = x - np.max(x)\n",
    "    return np.exp(x) / np.sum(np.exp(x))\n",
    "\n",
    "def cross_entropy_error(y_pred, y_train):\n",
    "    if y_pred.ndim == 1:\n",
    "        y_train = y_train.reshape(1, y_train.size)\n",
    "        y_pred = y_pred.reshape(1, y_pred.size)\n",
    "    \n",
    "    batch_size = y_pred.shape[0]\n",
    "    return -np.sum(y_train * np.log(y_pred)) / batch_size"
   ]
  },
  {
   "cell_type": "markdown",
   "metadata": {},
   "source": [
    "### 学習（フォワード、バックプロパゲーション）"
   ]
  },
  {
   "cell_type": "code",
   "execution_count": 91,
   "metadata": {
    "collapsed": false
   },
   "outputs": [],
   "source": [
    "epoch = 100\n",
    "for i in range(epoch):\n",
    "    get_mini_batch = GetMiniBatch(X_train, y_train_one_hot, batch_size=10, seed=0)\n",
    "\n",
    "    loss_list = []\n",
    "    c = 0\n",
    "    for mini_X_train, mini_y_train in get_mini_batch:\n",
    "        # 1層目\n",
    "        rayer1_pre = np.dot(mini_X_train, w1) + b1\n",
    "        rayer1_out = sigmoid(rayer1_pre)\n",
    "\n",
    "        # 2層目\n",
    "        rayer2_pre = np.dot(rayer1_out, w2) + b2\n",
    "        rayer2_out = sigmoid(rayer2_pre)\n",
    "\n",
    "        # 3層目\n",
    "        rayer3_pre = np.dot(rayer2_out, w3) + b3\n",
    "        rayer3_out = softmax(rayer3_pre)\n",
    "        # print(rayer3_out.shape)\n",
    "\n",
    "        # 損失関数で誤差を算出する\n",
    "        loss = cross_entropy_error(rayer3_out, mini_y_train)\n",
    "        # print(loss)\n",
    "        c = c+1\n",
    "\n",
    "        # def backprob(mini_X_train, mini_y_train, rayer3_out , w1, w2,w3,b1, b2, b3):\n",
    "        delta1 = rayer3_out - mini_y_train\n",
    "        delta2 = (1 - np.tanh(rayer2_pre)**2)*(delta1.dot(w3.T))\n",
    "        delta3 = (1 - np.tanh(rayer1_pre)**2)*(delta2.dot(w2.T))\n",
    "\n",
    "        b3_grad = delta1\n",
    "        w3_grad = rayer2_out.T.dot(delta1) \n",
    "\n",
    "        b2_grad = delta2\n",
    "        w2_grad = rayer1_out.T.dot(delta2) \n",
    "\n",
    "        b1_grad = delta3\n",
    "        w1_grad = mini_X_train.T.dot(delta3) \n",
    "            # return delta2, delta3   \n",
    "\n",
    "        alpha = 0.001\n",
    "        w1= w1 - alpha*w1_grad\n",
    "        w2= w2 - alpha*w2_grad\n",
    "        w3= w3 - alpha*w3_grad\n",
    "        b1 = b1 - alpha*b1_grad.sum(axis=0)\n",
    "        b2 = b2 - alpha*b2_grad.sum(axis=0)\n",
    "        b3 = b3 - alpha*b3_grad.sum(axis=0)\n",
    "\n",
    "\n",
    "        loss_list.append(loss)\n"
   ]
  },
  {
   "cell_type": "code",
   "execution_count": 92,
   "metadata": {
    "collapsed": false
   },
   "outputs": [
    {
     "data": {
      "text/plain": [
       "[7.4953192879196635e-05,\n",
       " 0.00010182086150800123,\n",
       " 7.8648505077271656e-05,\n",
       " 0.0051962007700655979,\n",
       " 0.0057896719447239394,\n",
       " 0.00017203737551868062,\n",
       " 0.0023913061605395449,\n",
       " 0.00033074560129671052,\n",
       " 0.002817064104387442,\n",
       " 0.00016012293572331091,\n",
       " 0.00080289337882804689,\n",
       " 0.0080668661472311533,\n",
       " 0.00025314659274383702,\n",
       " 0.00069322867140869573,\n",
       " 0.0022481843751655283,\n",
       " 0.001952926897593827,\n",
       " 0.00075895739097846693,\n",
       " 0.0016691594298295352,\n",
       " 0.0002262874874310795,\n",
       " 0.00064642454890624342,\n",
       " 0.00011147747723192062,\n",
       " 0.00053563554929467096,\n",
       " 0.00021144142278549253,\n",
       " 0.0028095939370925268,\n",
       " 0.0019814017225124833,\n",
       " 0.0019495079115355053,\n",
       " 5.4776981039312956e-05,\n",
       " 0.00086858763200408739,\n",
       " 0.0001437899916969433,\n",
       " 0.0022344384600214372,\n",
       " 0.00045041917829992455,\n",
       " 0.00036317924500569107,\n",
       " 0.0074528052974797932,\n",
       " 0.0010898725690933887,\n",
       " 0.00077775703463999748,\n",
       " 0.00089145126327848845,\n",
       " 0.00011555420777431391,\n",
       " 0.00036025305411980623,\n",
       " 1.9547099870388012e-05,\n",
       " 0.0039851135876797592,\n",
       " 0.00011110843687340203,\n",
       " 0.0047052236571411875,\n",
       " 0.0066209012033501408,\n",
       " 6.3002582242950662e-05,\n",
       " 4.3296370531608854e-05,\n",
       " 0.0012535475555041325,\n",
       " 0.0028809533906218499,\n",
       " 3.4725888244494318e-05,\n",
       " 0.00037556417364843471,\n",
       " 0.00010683570628057323,\n",
       " 0.0002688965452342369,\n",
       " 7.1101366972594423e-06,\n",
       " 0.0027917968789141377,\n",
       " 0.0016150970306380217,\n",
       " 0.0072190420686842824,\n",
       " 0.0013158681432595578,\n",
       " 0.0012633127160680841,\n",
       " 0.002814641464802382,\n",
       " 0.00135712335921489,\n",
       " 0.0055371068283580826,\n",
       " 0.0017228740746237671,\n",
       " 0.00065176598316294538,\n",
       " 0.0085670835716481729,\n",
       " 0.00090672646194975455,\n",
       " 0.0001114682504793127,\n",
       " 0.00049382140294121325,\n",
       " 9.9902594483034489e-06,\n",
       " 0.0022071624580781266,\n",
       " 0.0005033543083178847,\n",
       " 0.00059653044181777113,\n",
       " 0.00014035959871399895,\n",
       " 0.0010371224580938848,\n",
       " 0.0019994876960386342,\n",
       " 0.00019336462005147662,\n",
       " 0.0063863940532434566,\n",
       " 0.0015549105079929724,\n",
       " 0.00085152174951068588,\n",
       " 9.6848011878216149e-05,\n",
       " 0.00070038851322074133,\n",
       " 0.0003507841727944795,\n",
       " 0.0001633638208633905,\n",
       " 0.0008387290567114543,\n",
       " 0.00068451568100893903,\n",
       " 0.00014322409273005777,\n",
       " 0.0052898935327995531,\n",
       " 0.0028211311396794643,\n",
       " 0.0013204196495304565,\n",
       " 0.00025393368832455233,\n",
       " 0.00044294948790959217,\n",
       " 0.00061400321078012806,\n",
       " 0.00017545139813431157,\n",
       " 0.0003873103042462987,\n",
       " 0.0045872176745159676,\n",
       " 0.0046432734890630139,\n",
       " 0.00033422938694615346,\n",
       " 8.0837066810910874e-05,\n",
       " 0.0053379072263502001,\n",
       " 1.563147154943393e-05,\n",
       " 0.0011875504201783254,\n",
       " 0.0010335983909375427,\n",
       " 0.00086478253505009302,\n",
       " 0.0027966687223965566,\n",
       " 0.0030623435391168349,\n",
       " 0.010306317620561523,\n",
       " 0.0007428384556429046,\n",
       " 0.00026673429970320146,\n",
       " 0.0015632989121401649,\n",
       " 0.00075348413968147137,\n",
       " 0.00091153638108393688,\n",
       " 0.00020825529125427801,\n",
       " 1.2556701745151581e-05,\n",
       " 0.0037720940293614405,\n",
       " 3.3444537450944481e-05,\n",
       " 0.00013092257490604874,\n",
       " 6.400001061772096e-05,\n",
       " 0.00091171724036134426,\n",
       " 0.0005108321236281519,\n",
       " 0.0019145813086238392,\n",
       " 4.0363140915651089e-05,\n",
       " 0.00096898926022156062,\n",
       " 0.0016806045364750517,\n",
       " 0.00064171269791184953,\n",
       " 5.5980020229569894e-05,\n",
       " 0.00043978865171572662,\n",
       " 0.0013665411519730676,\n",
       " 0.0066216056619040013,\n",
       " 0.00018536455280695387,\n",
       " 0.00016563607819850375,\n",
       " 0.00034873237197184095,\n",
       " 6.0459970943187367e-05,\n",
       " 0.00049726606480122158,\n",
       " 6.7939725228549406e-06,\n",
       " 0.0003655389518131295,\n",
       " 3.9496498740825117e-05,\n",
       " 0.0050626096632871934,\n",
       " 0.0042592169573244174,\n",
       " 0.000602948898951527,\n",
       " 0.0017887091762078093,\n",
       " 0.00011613724553657519,\n",
       " 0.00065457578053012308,\n",
       " 0.0002247012646258006,\n",
       " 4.9463329458508838e-05,\n",
       " 0.0010355100876684492,\n",
       " 0.0013153928472328274,\n",
       " 0.0021675222639039528,\n",
       " 0.00024944112689860999,\n",
       " 0.00074066577466190553,\n",
       " 2.4853901318027636e-05,\n",
       " 0.00071473776394785085,\n",
       " 0.00013689690993650219,\n",
       " 0.0012091000594584493,\n",
       " 0.00013022270482763448,\n",
       " 0.0001185512971754794,\n",
       " 0.0001586980657575263,\n",
       " 0.0028739533650932541,\n",
       " 0.00017448862259082556,\n",
       " 0.0017794028210652677,\n",
       " 0.00052097493279857916,\n",
       " 0.00037792244481340046,\n",
       " 0.00082586911625870711,\n",
       " 1.1015471217293145e-05,\n",
       " 0.00075321312959484416,\n",
       " 0.00056120078814642874,\n",
       " 0.0019121450903212506,\n",
       " 0.0013045173051504963,\n",
       " 0.0018242270116421099,\n",
       " 0.0023582520431349764,\n",
       " 0.0015925609548012489,\n",
       " 0.0012280610695355027,\n",
       " 0.0011962316072923311,\n",
       " 0.0060240456747125823,\n",
       " 0.0024097208455658653,\n",
       " 0.0029471757122100893,\n",
       " 0.00023906271877754509,\n",
       " 0.00012621561642432141,\n",
       " 0.00077866427832704358,\n",
       " 0.00048805077408911027,\n",
       " 2.5369228568810265e-05,\n",
       " 0.0050626931842455564,\n",
       " 0.00052568112444994369,\n",
       " 0.004065706764748855,\n",
       " 0.01260442720084518,\n",
       " 0.0040800739258607371,\n",
       " 0.0001762137150435549,\n",
       " 0.0017107455339955477,\n",
       " 0.0037578106963676201,\n",
       " 0.00033437642102952906,\n",
       " 0.00028064251335185397,\n",
       " 8.8885995329550754e-05,\n",
       " 0.00010722169124067159,\n",
       " 0.0039528267304766085,\n",
       " 0.00025509951830454149,\n",
       " 0.00036794958899311563,\n",
       " 0.00030659838683763115,\n",
       " 0.0027835476348471613,\n",
       " 0.0023542619381837398,\n",
       " 1.9015363780548565e-05,\n",
       " 0.0001886539071781444,\n",
       " 0.00053567385873481727,\n",
       " 0.0036000345588171993,\n",
       " 0.0028222437028650937,\n",
       " 4.828275627551519e-06,\n",
       " 0.0024251878029805129,\n",
       " 0.00094965901888950947,\n",
       " 0.00090100306909162917,\n",
       " 0.0036107696155053227,\n",
       " 0.00025565218206736741,\n",
       " 0.0021163919751469229,\n",
       " 0.0017733630654969683,\n",
       " 0.0022854220513686763,\n",
       " 0.0027800436897771137,\n",
       " 0.00083942457814599936,\n",
       " 0.00044997248723601817,\n",
       " 7.074706531475559e-05,\n",
       " 0.00053081985449753856,\n",
       " 0.0030149295928653596,\n",
       " 1.0403053065954199e-05,\n",
       " 0.00099874541622218269,\n",
       " 0.0012279978935306672,\n",
       " 8.3539851033202718e-05,\n",
       " 6.0693102272393723e-05,\n",
       " 0.0012921776704896506,\n",
       " 0.0018194266362044874,\n",
       " 0.008040773166927296,\n",
       " 0.006192785529086052,\n",
       " 0.0041783621273110572,\n",
       " 0.00067693510258198602,\n",
       " 9.163650929293221e-05,\n",
       " 0.00021927464687331388,\n",
       " 0.0004624510672584737,\n",
       " 0.0011496468030906099,\n",
       " 4.7976739970877178e-05,\n",
       " 7.652902088058315e-05,\n",
       " 0.0047771559621076452,\n",
       " 0.00016383583761390465,\n",
       " 0.0017456636505365935,\n",
       " 0.0012090628342714181,\n",
       " 0.00018317358017177238,\n",
       " 0.0047945709477867967,\n",
       " 0.00029797080248342991,\n",
       " 1.2518358328809315e-05,\n",
       " 0.00053750862954467823,\n",
       " 0.004915046888261566,\n",
       " 0.00094131721059025411,\n",
       " 0.0024633790357715358,\n",
       " 0.0012450587938507437,\n",
       " 0.0042150987095577221,\n",
       " 0.0013216104054213345,\n",
       " 0.0015331477510672229,\n",
       " 0.00516713833971398,\n",
       " 0.0029953201566910582,\n",
       " 0.000615490631188456,\n",
       " 0.0042354003475227305,\n",
       " 0.00032174563199444567,\n",
       " 0.0045744021408410463,\n",
       " 2.2563417884510209e-05,\n",
       " 0.001258483425651304,\n",
       " 0.0010933643227880022,\n",
       " 0.00020778479771022042,\n",
       " 4.4479525130257758e-05,\n",
       " 0.00024200352416104673,\n",
       " 0.0037527021917866041,\n",
       " 0.010873977935910245,\n",
       " 0.00011376523402109283,\n",
       " 0.00091203114514759457,\n",
       " 0.00047612190885872551,\n",
       " 0.0021054502040795081,\n",
       " 4.16739035155141e-05,\n",
       " 0.00091631971727113015,\n",
       " 2.4560774388044075e-05,\n",
       " 0.0037231901597583163,\n",
       " 0.0013423021950552869,\n",
       " 0.0031782199638947699,\n",
       " 5.5348286294026517e-05,\n",
       " 8.5067832173867336e-05,\n",
       " 0.0021039087780080046,\n",
       " 0.0020807191866408425,\n",
       " 0.00017308644266709566,\n",
       " 0.0089265694467246352,\n",
       " 0.0022507786329503628,\n",
       " 0.0015132413682148143,\n",
       " 6.0586202759751852e-05,\n",
       " 0.002050226303627297,\n",
       " 2.1155132800428721e-05,\n",
       " 0.0029289315186627426,\n",
       " 0.00010207597175979561,\n",
       " 0.0027402638614926426,\n",
       " 0.0007164333645037637,\n",
       " 0.00017581879398266331,\n",
       " 0.00037578366992410548,\n",
       " 7.7627153697502758e-05,\n",
       " 0.00016895589807295323,\n",
       " 4.4320347429219497e-05,\n",
       " 0.0099821139255719202,\n",
       " 2.4474119632575879e-05,\n",
       " 0.00012260722133783817,\n",
       " 0.0011463859438060775,\n",
       " 0.0013529391215180563,\n",
       " 0.00068713019508210844,\n",
       " 0.0020365499117622589,\n",
       " 0.00048021327889493997,\n",
       " 0.0010913068922311395,\n",
       " 0.0017481125057148758,\n",
       " 1.9132023603080908e-05,\n",
       " 0.001998700029192905,\n",
       " 0.00039432971491146825,\n",
       " 0.0019298622528610698,\n",
       " 0.0029126095101089161,\n",
       " 0.00012227320741643665,\n",
       " 0.00096089681947864709,\n",
       " 0.00019406218780204136,\n",
       " 0.0057923570769618411,\n",
       " 0.0083003536724823683,\n",
       " 0.0031949979625213328,\n",
       " 0.0021000733066894191,\n",
       " 0.00044638372669751614,\n",
       " 0.00018753764161892682,\n",
       " 0.0083157617856459247,\n",
       " 0.00030844396719624599,\n",
       " 0.0011819204655405511,\n",
       " 0.00074233606916217709,\n",
       " 0.0036015527179418727,\n",
       " 0.00048595420250103485,\n",
       " 3.5182489908090484e-05,\n",
       " 0.0025495961651476008,\n",
       " 5.8076304292560859e-05,\n",
       " 0.0021413265331937832,\n",
       " 0.0002450565645720573,\n",
       " 0.00058432219420233582,\n",
       " 0.0023866578595262032,\n",
       " 6.4574521885811919e-05,\n",
       " 2.6013497293751269e-05,\n",
       " 0.00019958495139674927,\n",
       " 0.0026388752822868308,\n",
       " 0.00075903482811951622,\n",
       " 0.0003757606512219725,\n",
       " 3.1001283554559549e-05,\n",
       " 0.00015045674959447537,\n",
       " 0.0050245110529592522,\n",
       " 0.0045875833272484238,\n",
       " 0.00074954602838539388,\n",
       " 0.00024334754583553989,\n",
       " 0.0013293221188288647,\n",
       " 0.00073848773978682448,\n",
       " 0.0003197072209431696,\n",
       " 0.0049300109619725774,\n",
       " 0.00015239699766120336,\n",
       " 0.012472801880504931,\n",
       " 0.0012820723700809346,\n",
       " 0.00027724365357680519,\n",
       " 7.5962784514790982e-05,\n",
       " 6.5787503003205208e-05,\n",
       " 0.0014528519491846974,\n",
       " 4.4934307438286187e-05,\n",
       " 0.00016393833231712537,\n",
       " 0.00037678574708869021,\n",
       " 0.0019624825692840949,\n",
       " 0.00052670556490635816,\n",
       " 0.00022620903095514137,\n",
       " 0.00022476196735808163,\n",
       " 0.001212821017049309,\n",
       " 0.0097384664479475917,\n",
       " 0.0011481003376366745,\n",
       " 5.871263941891877e-05,\n",
       " 0.0028544580397240381,\n",
       " 4.82102400666493e-05,\n",
       " 0.0028447559007144891,\n",
       " 0.00022337200439569155,\n",
       " 0.00019405775295324343,\n",
       " 0.0029188788265924913,\n",
       " 0.0008120627046494369,\n",
       " 0.0026785452486302679,\n",
       " 0.006757946475316255,\n",
       " 0.014091816835698814,\n",
       " 0.0037336936456631295,\n",
       " 0.003910290656546485,\n",
       " 0.0029689744896223731,\n",
       " 0.002193966767826943,\n",
       " 0.0025463914855418249,\n",
       " 0.00070861782021691439,\n",
       " 0.00040914162762091132,\n",
       " 0.00035320328056842945,\n",
       " 0.00023469968546385497,\n",
       " 0.00010893645017012706,\n",
       " 0.0052770389739450656,\n",
       " 0.00010350984066772998,\n",
       " 0.00025037260473260834,\n",
       " 0.0045201060776807441,\n",
       " 0.0043048171974676601,\n",
       " 0.00030374299489640562,\n",
       " 0.00022071747428921594,\n",
       " 0.00033377003237388992,\n",
       " 0.0018833226482198463,\n",
       " 0.00067868433598079433,\n",
       " 6.6075200472823367e-05,\n",
       " 0.00010320341728596022,\n",
       " 0.0010007083742749495,\n",
       " 0.0022548161919926928,\n",
       " 0.0006198541394919618,\n",
       " 0.0014982323838911161,\n",
       " 0.00044396830037635751,\n",
       " 0.00011498181882199675,\n",
       " 0.0017818466953303292,\n",
       " 0.00029728185669808383,\n",
       " 0.0057149543257179834,\n",
       " 0.00035667946623669014,\n",
       " 5.1035316951020193e-05,\n",
       " 1.0014074898098763e-05,\n",
       " 0.00070664024023452663,\n",
       " 0.00011229736665839386,\n",
       " 0.00079827038729057657,\n",
       " 0.0010029764869143947,\n",
       " 0.00049245775170544319,\n",
       " 0.0038657231639338554,\n",
       " 0.00031199855223470552,\n",
       " 0.0024793590775949023,\n",
       " 0.00015765249042399792,\n",
       " 0.0014792476881114926,\n",
       " 0.00030437369252282162,\n",
       " 0.0038761344486490392,\n",
       " 0.0011222876010357566,\n",
       " 0.00095155609256178755,\n",
       " 0.0009399833567432566,\n",
       " 0.00033585065533299805,\n",
       " 0.00054967182724550783,\n",
       " 0.00038442980867608865,\n",
       " 0.00085437259562969308,\n",
       " 0.0015150958529173996,\n",
       " 2.5601680463205533e-06,\n",
       " 0.00029392000074006332,\n",
       " 0.00093516679355589078,\n",
       " 0.0001513535901912149,\n",
       " 0.00013371324857756577,\n",
       " 0.00037738884195344998,\n",
       " 0.0014675575039035502,\n",
       " 0.00011806806464691485,\n",
       " 0.014349124349105494,\n",
       " 0.0016385237015095161,\n",
       " 0.0025374102007618823,\n",
       " 0.0010697268826771488,\n",
       " 0.0019301685744027633,\n",
       " 0.0013885873953786211,\n",
       " 0.000741997319246719,\n",
       " 0.0003977885736484542,\n",
       " 0.0010105769307203433,\n",
       " 2.5360209490496776e-05,\n",
       " 0.0012992379942605673,\n",
       " 0.0013434136008676379,\n",
       " 6.2674738574054566e-05,\n",
       " 0.00071853063897159915,\n",
       " 0.0045549989219920272,\n",
       " 0.00013622211802945299,\n",
       " 0.00028409778189404281,\n",
       " 0.0016092097031545362,\n",
       " 0.00012391757711163347,\n",
       " 2.8009198353313947e-05,\n",
       " 0.00020390690218733586,\n",
       " 0.0007257207360933214,\n",
       " 0.0022919023618958555,\n",
       " 0.00015202791559939963,\n",
       " 3.7702286101548186e-05,\n",
       " 0.0049493210341033395,\n",
       " 0.00056056647836052662,\n",
       " 1.0295186042353746e-05,\n",
       " 0.00095450274845873648,\n",
       " 0.00022345810874108466,\n",
       " 9.3842447366312601e-05,\n",
       " 0.0017937522875376348,\n",
       " 0.00123985542766227,\n",
       " 2.6760382370376069e-05,\n",
       " 9.1507929502985407e-05,\n",
       " 0.00024449684158741128,\n",
       " 3.1524271566177862e-05,\n",
       " 0.00086883057290487677,\n",
       " 0.0038868776830071538,\n",
       " 0.00050477420818335797,\n",
       " 0.00060264841990510429,\n",
       " 0.0057143563086950932,\n",
       " 0.00071422329183470055,\n",
       " 0.0021100225406301739,\n",
       " 0.0069762145731560032,\n",
       " 0.0027690081688332901,\n",
       " 0.00017678554980125251,\n",
       " 0.0012187175514091644,\n",
       " 0.00080841212460185054,\n",
       " 0.0015921942000131604,\n",
       " 0.0058973070321639235,\n",
       " 0.00097843505007501027,\n",
       " 0.00059619341574936242,\n",
       " 0.0015386843133841815,\n",
       " 0.00552449404275025,\n",
       " 0.0011904957985843085,\n",
       " 0.0033465923974341956,\n",
       " 0.0078203480175495152,\n",
       " 0.0024325966979677426,\n",
       " 0.0018925202754325268,\n",
       " 2.5728282471346649e-05,\n",
       " 0.00054660167393427966,\n",
       " 0.00073606164344695402,\n",
       " 0.0051641912820702077,\n",
       " 0.0026355035573861732,\n",
       " 0.0067663897245889906,\n",
       " 0.0041977077286362201,\n",
       " 8.458123553064514e-05,\n",
       " 0.00078952231478207602,\n",
       " 0.0010781287895955602,\n",
       " 0.0046782500362138671,\n",
       " 0.00050046021614052669,\n",
       " 0.0035290652276201775,\n",
       " 0.0013233904732648518,\n",
       " 0.00042569770461102117,\n",
       " 0.010847519566039189,\n",
       " 0.00035596964038693622,\n",
       " 0.0048873342821067157,\n",
       " 0.0016346263622024088,\n",
       " 0.0014244893076886885,\n",
       " 0.0043431993439642328,\n",
       " 0.00028100879640063296,\n",
       " 0.00071179469857227248,\n",
       " 0.0020643576802141287,\n",
       " 0.0015179818401526467,\n",
       " 0.00053696718261346326,\n",
       " 4.4832672344183543e-05,\n",
       " 0.0042505747685645983,\n",
       " 0.00062006041755088869,\n",
       " 0.00018193669617204682,\n",
       " 5.2569699630556842e-05,\n",
       " 4.8221242431979864e-05,\n",
       " 0.002994666515517838,\n",
       " 0.00010986641295129987,\n",
       " 0.0011765212952350587,\n",
       " 0.0019607193901419969,\n",
       " 0.00014547876735011267,\n",
       " 0.0066245217988740029,\n",
       " 0.0003313776576188983,\n",
       " 0.0027339633739216136,\n",
       " 0.00059409979987970073,\n",
       " 0.005513093846199124,\n",
       " 0.0025031772414282711,\n",
       " 9.7893773385867872e-05,\n",
       " 0.0012779452578242615,\n",
       " 5.45595373077574e-05,\n",
       " 0.00080422785335507987,\n",
       " 0.00018798677928849646,\n",
       " 9.6759150966953063e-05,\n",
       " 2.3034457899745129e-05,\n",
       " 0.0016039648125451336,\n",
       " 2.3274379559650543e-05,\n",
       " 0.000431401150888801,\n",
       " 0.011413537762586513,\n",
       " 0.0059991978948894676,\n",
       " 0.0042611807885770143,\n",
       " 0.0035020021363029916,\n",
       " 0.00086879914087129668,\n",
       " 0.0049343256730357901,\n",
       " 0.0011507971539002587,\n",
       " 2.0455520670853817e-05,\n",
       " 0.00013694582883116247,\n",
       " 0.00047615046917468668,\n",
       " 0.00015648450790773421,\n",
       " 0.00048731318312000675,\n",
       " 5.0069344315343277e-05,\n",
       " 0.0085888064230628305,\n",
       " 0.0028322806554280247,\n",
       " 0.0081204103847510745,\n",
       " 0.00026358245989135763,\n",
       " 9.5262966660442132e-05,\n",
       " 0.003893276231702355,\n",
       " 0.00043149890106208296,\n",
       " 0.0023721317843226246,\n",
       " 0.0025661859774664059,\n",
       " 0.00058819063982300766,\n",
       " 0.00036238117090376775,\n",
       " 0.00043284752889565078,\n",
       " 0.00052282712733331773,\n",
       " 0.00024715249148293762,\n",
       " 0.0024004558311759789,\n",
       " 0.0032197164511895181,\n",
       " 0.00080336314617343845,\n",
       " 0.0014195357351638742,\n",
       " 0.0010484158345769495,\n",
       " 0.00038600120109657078,\n",
       " 0.0021634969027301055,\n",
       " 0.00063329231727025589,\n",
       " 0.0019593472193398056,\n",
       " 0.00066010489276997113,\n",
       " 0.0026185711973287437,\n",
       " 0.0022363732365640689,\n",
       " 0.0023613962324880678,\n",
       " 0.0047706438787358581,\n",
       " 0.0021892662311150711,\n",
       " 0.0034014958707228307,\n",
       " 0.00036383554265526579,\n",
       " 0.0030131767739746008,\n",
       " 0.0028691769023092553,\n",
       " 0.011543869580249191,\n",
       " 0.00021897667478011754,\n",
       " 9.8452645984326102e-05,\n",
       " 0.00059540681779797575,\n",
       " 7.4529025057360488e-05,\n",
       " 0.0058961565819097613,\n",
       " 0.0055574889154970638,\n",
       " 0.00045252063747285357,\n",
       " 7.8003492965216708e-05,\n",
       " 0.0026943660305477858,\n",
       " 0.0071215232192300831,\n",
       " 0.00031243999134599777,\n",
       " 0.0026156041312843993,\n",
       " 0.00018794884350312608,\n",
       " 0.00012233997487362698,\n",
       " 5.194134185517711e-05,\n",
       " 0.0042909108149333137,\n",
       " 3.8000663836320626e-05,\n",
       " 0.0010244187946391024,\n",
       " 0.00090085967799294721,\n",
       " 0.0040047236858305451,\n",
       " 9.8863815028875937e-05,\n",
       " 3.1520745106613734e-05,\n",
       " 0.0022782451452261938,\n",
       " 0.0038877299699004225,\n",
       " 0.0025096368678115934,\n",
       " 0.0018643149560893032,\n",
       " 0.00054711943068252837,\n",
       " 0.0055304552444839471,\n",
       " 0.0052477927562306738,\n",
       " 5.5433056633286157e-05,\n",
       " 0.0048971244138635382,\n",
       " 0.0083941217513949454,\n",
       " 0.0033844503331591932,\n",
       " 0.00051958360109959068,\n",
       " 0.00060058998988530004,\n",
       " 7.8836237514455087e-05,\n",
       " 0.0011951752511179935,\n",
       " 0.00084112766287996099,\n",
       " 0.0021658192543397487,\n",
       " 0.00036376521119790102,\n",
       " 0.00064051651436344218,\n",
       " 0.0023731985122896143,\n",
       " 0.0021104702900297074,\n",
       " 0.0027046184459285859,\n",
       " 0.0010679442538912378,\n",
       " 0.00072544464287716817,\n",
       " 0.0012125952009251133,\n",
       " 0.00017661525089462731,\n",
       " 0.0015642002024842112,\n",
       " 0.00096059621901168073,\n",
       " 0.0014153348733977598,\n",
       " 0.0041858654423896201,\n",
       " 9.5020396948743862e-05,\n",
       " 0.0021401416440564457,\n",
       " 0.0042268833080136795,\n",
       " 0.0037825174376255612,\n",
       " 0.00060710454185826379,\n",
       " 0.00061624935611860935,\n",
       " 0.00070508806593069014,\n",
       " 0.0005915051714709739,\n",
       " 0.0064786813617882869,\n",
       " 0.0013634243624205127,\n",
       " 0.001276814225431473,\n",
       " 0.00099616009853747208,\n",
       " 0.00038049938394179374,\n",
       " 0.00097267461910606012,\n",
       " 0.002491480335621086,\n",
       " 6.6586280063421526e-05,\n",
       " 6.4642764873049698e-05,\n",
       " 0.0046538257135816125,\n",
       " 4.8407452384216695e-05,\n",
       " 0.00044348539487479185,\n",
       " 0.0018232995622645344,\n",
       " 0.0015919051387513032,\n",
       " 0.00035502211160100652,\n",
       " 0.00095665599509377284,\n",
       " 7.4299464025397779e-05,\n",
       " 0.0016532489645091103,\n",
       " 5.3874812764798985e-05,\n",
       " 0.0020262148042217787,\n",
       " 0.0021995461271546385,\n",
       " 0.0022077425931123292,\n",
       " 4.9795732413295133e-05,\n",
       " 0.00056059897487071848,\n",
       " 0.00045697283720147865,\n",
       " 0.0013628470433815873,\n",
       " 0.0012546733011412283,\n",
       " 0.0005472922777549756,\n",
       " 4.8656475530234862e-05,\n",
       " 0.0015996213418048876,\n",
       " 0.00085075388152552683,\n",
       " 0.00036310564536751308,\n",
       " 0.00085861158086967106,\n",
       " 6.8347949449752693e-05,\n",
       " 5.6468128976539317e-05,\n",
       " 0.0087388957888597952,\n",
       " 0.00067449019785730002,\n",
       " 0.00024862907786467282,\n",
       " 0.0018722428063486962,\n",
       " 0.0013517832542116973,\n",
       " 0.0019861608185861002,\n",
       " 0.0022696960407950929,\n",
       " 0.0036024454887594397,\n",
       " 0.0065124962810020042,\n",
       " 0.0022383396010427791,\n",
       " 0.0048497323050923245,\n",
       " 0.00023760608859136785,\n",
       " 0.0021897658638139307,\n",
       " 0.0017116611231548003,\n",
       " 0.00166210792079187,\n",
       " 0.0020511763843151657,\n",
       " 7.2485593830224138e-05,\n",
       " 0.0022005334767114301,\n",
       " 0.00046205963973258528,\n",
       " 4.3669415957298212e-05,\n",
       " 0.00018883995029309047,\n",
       " 0.00068369520807069154,\n",
       " 0.016403571087439464,\n",
       " 0.0048083263152291873,\n",
       " 0.00094509415199573485,\n",
       " 0.00011597682645554811,\n",
       " 0.0018402845555260134,\n",
       " 0.0044099202806728837,\n",
       " 0.00037908932138648718,\n",
       " 0.00022995521437340011,\n",
       " 0.0036848861451463976,\n",
       " 7.1915354963066243e-05,\n",
       " 0.0010986098895774568,\n",
       " 0.00028978316061607833,\n",
       " 0.0054212420087614965,\n",
       " 0.0044215416019056262,\n",
       " 0.00068399387012751641,\n",
       " 0.00038682118745416588,\n",
       " 0.001895143799821861,\n",
       " 0.0023039800306819029,\n",
       " 0.0010881787199009862,\n",
       " 0.001078821973691888,\n",
       " 0.0026804498917834723,\n",
       " 0.00020682356281289993,\n",
       " 0.00046363441457170865,\n",
       " 0.00010041667771864602,\n",
       " 5.1039000318504097e-05,\n",
       " 0.0027689763338601498,\n",
       " 0.00036103637634641347,\n",
       " 9.919541132162421e-05,\n",
       " 0.0054212070195729318,\n",
       " 0.0061720309506064584,\n",
       " 0.0027471774883280212,\n",
       " 0.0020154617113461353,\n",
       " 0.00043804091907040984,\n",
       " 0.00046329651113243675,\n",
       " 0.0040049202635903331,\n",
       " 0.00076045225797419648,\n",
       " 0.00016456041938562287,\n",
       " 0.010266386487466353,\n",
       " 0.00053430590238605987,\n",
       " 0.00075412459462832434,\n",
       " 0.0019685278235943189,\n",
       " 0.0020197829019158757,\n",
       " 0.00016075241044002415,\n",
       " 0.039265425422607886,\n",
       " 0.0020363879883793204,\n",
       " 0.0021832761367321356,\n",
       " 6.54782031969524e-05,\n",
       " 7.734593207713978e-05,\n",
       " 0.00048944037215778533,\n",
       " 0.00013480617284650182,\n",
       " 0.0035388059867573888,\n",
       " 0.001060646556966441,\n",
       " 0.00012482166178183479,\n",
       " 0.00064739711683687434,\n",
       " 0.002041814782830045,\n",
       " 2.6302633470245064e-05,\n",
       " 0.00094053357618484616,\n",
       " 0.0027677363337575344,\n",
       " 0.00028802516366771184,\n",
       " 0.00051301385041786405,\n",
       " 0.00028153942960555103,\n",
       " 0.0037144326829681245,\n",
       " 0.00067680930279525133,\n",
       " 0.00015496839866843256,\n",
       " 0.00095123599191233063,\n",
       " 3.1286444373718634e-05,\n",
       " 0.0007782144299560669,\n",
       " 0.00099199617337809355,\n",
       " 0.0027432245041930474,\n",
       " 8.1979006016679406e-05,\n",
       " 0.0015266958433649196,\n",
       " 0.00040365207432112098,\n",
       " 0.00034003619500108217,\n",
       " 0.0022721665973138216,\n",
       " 0.00055954872130604245,\n",
       " 0.00012956008950312179,\n",
       " 0.00095745928211793429,\n",
       " 0.00017884656509012999,\n",
       " 0.0030926963779667653,\n",
       " 0.00013711991167830346,\n",
       " 0.00021303397775718317,\n",
       " 0.0016714504588487878,\n",
       " 4.3692941744452557e-05,\n",
       " 0.00013913472863607599,\n",
       " 0.0027387213149542315,\n",
       " 0.00090667102834519984,\n",
       " 0.00082227772895519195,\n",
       " 0.0063633506252701155,\n",
       " 6.4894458980211455e-05,\n",
       " 0.0067750951891121184,\n",
       " 0.00050958269315048619,\n",
       " 4.0166775078031184e-05,\n",
       " 0.005394671760956227,\n",
       " 5.2596604866977602e-06,\n",
       " 0.0012509980118214658,\n",
       " 0.00011343610362898647,\n",
       " 0.0012857950096908065,\n",
       " 0.00053668104599290101,\n",
       " 0.00094616966751800546,\n",
       " 0.0008264465561901291,\n",
       " 0.0020642012518212486,\n",
       " 0.00021277589120891546,\n",
       " 0.00012312328909847248,\n",
       " 0.0011670251344128297,\n",
       " 0.00087847709761079728,\n",
       " 0.00080386006175806285,\n",
       " 2.3807384905598809e-05,\n",
       " 0.0038740314132918092,\n",
       " 4.0493841596435628e-05,\n",
       " 0.0025646591146125716,\n",
       " 6.1388789355488595e-05,\n",
       " 0.0027712541445342439,\n",
       " 6.9889877416333865e-06,\n",
       " 0.0017355248295342917,\n",
       " 0.0019488196763299884,\n",
       " 0.0024437869755279409,\n",
       " 0.00011185739807885583,\n",
       " 7.1014848378186233e-05,\n",
       " 0.00082932021984074514,\n",
       " 0.0015323507812036049,\n",
       " 0.0012415934785798923,\n",
       " 0.0014379310151336061,\n",
       " 0.0014749201712865429,\n",
       " 0.0014035775222988871,\n",
       " 9.0852186622068361e-06,\n",
       " 0.00022080212019716925,\n",
       " 0.0015280391681582373,\n",
       " 0.00023910672514830173,\n",
       " 5.0121052845769674e-05,\n",
       " 9.8281652250303196e-05,\n",
       " 0.0021522740866544354,\n",
       " 0.0015007457365504265,\n",
       " 0.0082338626060328608,\n",
       " 0.0003126871046053183,\n",
       " 6.0547667528355496e-05,\n",
       " 0.00033562261113657439,\n",
       " 0.0024938314322028306,\n",
       " 0.00010317356216686466,\n",
       " 0.0011681163179195584,\n",
       " 0.00039961502471110315,\n",
       " 0.0046869277956577918,\n",
       " 0.00095601581857995897,\n",
       " 0.00012630428593720107,\n",
       " 0.00013103099452993307,\n",
       " 2.5771258436884006e-05,\n",
       " 4.965596519299844e-05,\n",
       " 0.0095756026486830022,\n",
       " 0.00028048742158671861,\n",
       " 0.0039307171879469169,\n",
       " 0.0002996156546073735,\n",
       " 0.00049523653454492896,\n",
       " 0.0013918027589917398,\n",
       " 0.00089189606634358675,\n",
       " 0.0045467653285685599,\n",
       " 5.5479092670633708e-05,\n",
       " 0.00017952226071818862,\n",
       " 0.00046495766879239115,\n",
       " 0.0022007033294706288,\n",
       " 0.00015943065463170907,\n",
       " 3.6536811565327945e-05,\n",
       " 0.0022662779034345786,\n",
       " 0.0017681419906352025,\n",
       " 0.0032646900849861694,\n",
       " 0.0021614297587035204,\n",
       " 0.002567614345586635,\n",
       " 0.000685744625432474,\n",
       " 0.0063448287632454871,\n",
       " 0.00061232555279539869,\n",
       " 0.0005685970499564899,\n",
       " 0.00042800106077268556,\n",
       " 0.00051920955694322892,\n",
       " 0.001146215583879369,\n",
       " 0.0039085587657085924,\n",
       " 0.0018370024527175968,\n",
       " 6.5854835580534475e-05,\n",
       " 0.00047717725175344553,\n",
       " 0.0023026229409007079,\n",
       " 2.530537831726378e-05,\n",
       " 0.00055078075365791001,\n",
       " 0.00069381473080706467,\n",
       " 0.0066806708679226917,\n",
       " 2.369542995335241e-05,\n",
       " 0.00094078914588087838,\n",
       " 0.00054197098333414351,\n",
       " 0.0039876228117136005,\n",
       " 0.00026408000643323787,\n",
       " 0.0012503268742265917,\n",
       " 0.0028630022890782222,\n",
       " 0.0024298677179714792,\n",
       " 0.00053846890899038606,\n",
       " 0.00022481146839274999,\n",
       " 0.0015846825135845577,\n",
       " 5.5378603054753619e-05,\n",
       " 0.0037807892956386742,\n",
       " 0.001342241954738035,\n",
       " 0.0033784694856197903,\n",
       " 0.0036313712342384416,\n",
       " 0.0046591901738529274,\n",
       " 0.00069613272420396342,\n",
       " 0.00069483399315120001,\n",
       " 0.00010702414057805316,\n",
       " 0.0045273737239626115,\n",
       " 0.00052315130026471296,\n",
       " 0.0012759809725666205,\n",
       " 1.1351748021524582e-05,\n",
       " 0.00094861007193918455,\n",
       " 0.009526127371781646,\n",
       " 0.00013192747924169177,\n",
       " 0.0054240277550230117,\n",
       " 0.0037765004567254581,\n",
       " 0.00066766918572508816,\n",
       " 0.00035852030595090879,\n",
       " 0.00046582813284363523,\n",
       " 0.0017074593044234798,\n",
       " 3.4847356171164007e-05,\n",
       " 2.1224167385410893e-05,\n",
       " 0.00032933757531143111,\n",
       " 0.00022575470065855602,\n",
       " 0.00010389527718357387,\n",
       " 0.0031410720682134379,\n",
       " 0.0026338217694746951,\n",
       " 7.3835398139946074e-05,\n",
       " 9.4568548240852503e-05,\n",
       " 1.6258728366592855e-05,\n",
       " 0.00031424306041842132,\n",
       " 0.0016197052348039978,\n",
       " 0.00044340089985648912,\n",
       " 0.0037979343302026515,\n",
       " 0.0013688529140084796,\n",
       " 0.0010635343204887242,\n",
       " 0.010329539970576795,\n",
       " 2.8388145864131351e-05,\n",
       " 0.0056320467291479572,\n",
       " 0.00078181288912603528,\n",
       " 0.0010319788066897252,\n",
       " 0.00050197647605135839,\n",
       " 9.8103417858050061e-05,\n",
       " 0.0019118248369767252,\n",
       " 0.0035464885492631762,\n",
       " 0.00040321113177987212,\n",
       " 0.0027114613919691898,\n",
       " 0.00026667507636872863,\n",
       " 0.00046244676575101396,\n",
       " 0.0024833434319667274,\n",
       " 0.00012500482458325149,\n",
       " 0.00026403167068516715,\n",
       " 0.00013360718408347329,\n",
       " 0.00059740440324847362,\n",
       " 0.0027764190424269487,\n",
       " 4.1314214886944045e-05,\n",
       " 0.00034265966458900149,\n",
       " 0.00030598370279195171,\n",
       " 0.0018291203550695741,\n",
       " 0.00059423654858927475,\n",
       " 0.0019319749454368613,\n",
       " 0.00073294042318216494,\n",
       " 0.0078518893224393121,\n",
       " 0.009983375437663802,\n",
       " 0.00067143659605448081,\n",
       " 0.0045327760386146936,\n",
       " 0.00084331835393722124,\n",
       " 0.00022795412572942467,\n",
       " 0.0027930524691485415,\n",
       " 0.00014069328290906976,\n",
       " 0.00012639818703461507,\n",
       " 0.00013710515352342566,\n",
       " 2.8942090350889952e-05,\n",
       " 3.7853943097899686e-05,\n",
       " 0.0049348600832878784,\n",
       " 3.5582680378584763e-05,\n",
       " 0.00093331766302789715,\n",
       " 0.00012015782514762283,\n",
       " 0.00093184528105925339,\n",
       " 1.5085017312569468e-05,\n",
       " 2.3546133079966468e-05,\n",
       " 0.0006547562853689863,\n",
       " 0.0017818918286293408,\n",
       " 0.00027152871037338603,\n",
       " 0.0082694439321514372,\n",
       " 0.00062523947505311651,\n",
       " 0.0002635818459652348,\n",
       " 0.0037878227040591267,\n",
       " 0.00109959229775538,\n",
       " 5.4265742114087274e-05,\n",
       " 0.0008328850292705118,\n",
       " 0.0031379597879471902,\n",
       " 0.0046985574804246522,\n",
       " ...]"
      ]
     },
     "execution_count": 92,
     "metadata": {},
     "output_type": "execute_result"
    }
   ],
   "source": [
    "\n",
    "loss_list"
   ]
  },
  {
   "cell_type": "markdown",
   "metadata": {},
   "source": [
    "### 学習曲線のプロット"
   ]
  },
  {
   "cell_type": "code",
   "execution_count": 93,
   "metadata": {
    "collapsed": false
   },
   "outputs": [
    {
     "data": {
      "text/plain": [
       "[<matplotlib.lines.Line2D at 0x11f455898>]"
      ]
     },
     "execution_count": 93,
     "metadata": {},
     "output_type": "execute_result"
    },
    {
     "data": {
      "image/png": "[encoded data removed]",
      "text/plain": [
       "<Figure size 432x288 with 1 Axes>"
      ]
     },
     "metadata": {},
     "output_type": "display_data"
    }
   ],
   "source": [
    "plt.plot(loss_list)"
   ]
  },
  {
   "cell_type": "code",
   "execution_count": 82,
   "metadata": {
    "collapsed": false
   },
   "outputs": [
    {
     "name": "stdout",
     "output_type": "stream",
     "text": [
      "[0, 1, 2]\n"
     ]
    }
   ],
   "source": [
    "l = list(range(3))\n",
    "print(l)"
   ]
  },
  {
   "cell_type": "code",
   "execution_count": null,
   "metadata": {
    "collapsed": true
   },
   "outputs": [],
   "source": []
  },
  {
   "cell_type": "code",
   "execution_count": 80,
   "metadata": {
    "collapsed": false
   },
   "outputs": [
    {
     "data": {
      "text/plain": [
       "2.2890506071192074"
      ]
     },
     "execution_count": 80,
     "metadata": {},
     "output_type": "execute_result"
    }
   ],
   "source": [
    "loss"
   ]
  },
  {
   "cell_type": "code",
   "execution_count": 77,
   "metadata": {
    "collapsed": false
   },
   "outputs": [
    {
     "data": {
      "text/plain": [
       "(10, 400)"
      ]
     },
     "execution_count": 77,
     "metadata": {},
     "output_type": "execute_result"
    }
   ],
   "source": [
    "b1_grad.shape"
   ]
  },
  {
   "cell_type": "code",
   "execution_count": 16,
   "metadata": {
    "collapsed": false
   },
   "outputs": [
    {
     "data": {
      "text/plain": [
       "2.264747083589044"
      ]
     },
     "execution_count": 16,
     "metadata": {},
     "output_type": "execute_result"
    }
   ],
   "source": [
    "# クロスエントロピー誤差\n",
    "loss"
   ]
  },
  {
   "cell_type": "code",
   "execution_count": 17,
   "metadata": {
    "collapsed": false
   },
   "outputs": [
    {
     "data": {
      "text/plain": [
       "4800"
      ]
     },
     "execution_count": 17,
     "metadata": {},
     "output_type": "execute_result"
    }
   ],
   "source": [
    "c"
   ]
  },
  {
   "cell_type": "code",
   "execution_count": 18,
   "metadata": {
    "collapsed": false
   },
   "outputs": [
    {
     "data": {
      "text/plain": [
       "(10, 10)"
      ]
     },
     "execution_count": 18,
     "metadata": {},
     "output_type": "execute_result"
    }
   ],
   "source": [
    "mini_y_train.shape"
   ]
  },
  {
   "cell_type": "code",
   "execution_count": 19,
   "metadata": {
    "collapsed": false
   },
   "outputs": [
    {
     "data": {
      "text/plain": [
       "(10, 10)"
      ]
     },
     "execution_count": 19,
     "metadata": {},
     "output_type": "execute_result"
    }
   ],
   "source": [
    "rayer3_out.shape"
   ]
  },
  {
   "cell_type": "markdown",
   "metadata": {},
   "source": [
    "![](https://deepage.net/features/numpy-numpy.html)"
   ]
  },
  {
   "cell_type": "markdown",
   "metadata": {},
   "source": [
    "### バックプロパゲーション_old"
   ]
  },
  {
   "cell_type": "code",
   "execution_count": 55,
   "metadata": {
    "collapsed": false
   },
   "outputs": [],
   "source": [
    "# # def backprob(mini_X_train, mini_y_train, rayer3_out , w1, w2,w3,b1, b2, b3):\n",
    "# delta1 = rayer3_out - mini_y_train\n",
    "# delta2 = (1 - np.tanh(rayer2_pre)**2)*(delta1.dot(w3.T))\n",
    "# delta3 = (1 - np.tanh(rayer1_pre)**2)*(delta2.dot(w2.T))\n",
    "\n",
    "# b3_grad = delta1\n",
    "# w3_grad = rayer2_out.T.dot(delta1) \n",
    "\n",
    "# b2_grad = delta2\n",
    "# w2_grad = rayer1_out.T.dot(delta2) \n",
    "\n",
    "# b1_grad = delta3\n",
    "# w1_grad = mini_X_train.T.dot(delta3) \n",
    "#     # return delta2, delta3"
   ]
  },
  {
   "cell_type": "code",
   "execution_count": 56,
   "metadata": {
    "collapsed": false
   },
   "outputs": [
    {
     "data": {
      "text/plain": [
       "(10, 10)"
      ]
     },
     "execution_count": 56,
     "metadata": {},
     "output_type": "execute_result"
    }
   ],
   "source": [
    "delta1.shape"
   ]
  },
  {
   "cell_type": "code",
   "execution_count": 57,
   "metadata": {
    "collapsed": false
   },
   "outputs": [
    {
     "data": {
      "text/plain": [
       "(400,)"
      ]
     },
     "execution_count": 57,
     "metadata": {},
     "output_type": "execute_result"
    }
   ],
   "source": [
    "b1.shape"
   ]
  },
  {
   "cell_type": "code",
   "execution_count": 58,
   "metadata": {
    "collapsed": false
   },
   "outputs": [
    {
     "data": {
      "text/plain": [
       "(10, 400)"
      ]
     },
     "execution_count": 58,
     "metadata": {},
     "output_type": "execute_result"
    }
   ],
   "source": [
    "b1_grad.shape"
   ]
  },
  {
   "cell_type": "code",
   "execution_count": 61,
   "metadata": {
    "collapsed": false
   },
   "outputs": [
    {
     "data": {
      "text/plain": [
       "array([[-0.00091635,  0.00243333,  0.0017991 , ..., -0.00125521,\n",
       "        -0.00160988, -0.00139451],\n",
       "       [-0.00093514,  0.00244135,  0.00176375, ..., -0.00125496,\n",
       "        -0.00160646, -0.00139063],\n",
       "       [-0.0009062 ,  0.00242778,  0.00178479, ..., -0.00122928,\n",
       "        -0.00152835, -0.00138713],\n",
       "       ..., \n",
       "       [ 0.00284563, -0.00149056,  0.0012257 , ..., -0.0012071 ,\n",
       "        -0.00036211,  0.00144608],\n",
       "       [-0.00122655, -0.00282252,  0.00042313, ...,  0.00081647,\n",
       "        -0.00045074,  0.00307157],\n",
       "       [-0.00123783, -0.00276446,  0.00041889, ...,  0.00079577,\n",
       "        -0.00044746,  0.00307833]])"
      ]
     },
     "execution_count": 61,
     "metadata": {},
     "output_type": "execute_result"
    }
   ],
   "source": [
    "b1_grad"
   ]
  },
  {
   "cell_type": "code",
   "execution_count": 59,
   "metadata": {
    "collapsed": false
   },
   "outputs": [
    {
     "data": {
      "text/plain": [
       "(784, 400)"
      ]
     },
     "execution_count": 59,
     "metadata": {},
     "output_type": "execute_result"
    }
   ],
   "source": [
    "w1.shape"
   ]
  },
  {
   "cell_type": "code",
   "execution_count": 60,
   "metadata": {
    "collapsed": false
   },
   "outputs": [
    {
     "data": {
      "text/plain": [
       "(784, 400)"
      ]
     },
     "execution_count": 60,
     "metadata": {},
     "output_type": "execute_result"
    }
   ],
   "source": [
    "w1_grad.shape"
   ]
  },
  {
   "cell_type": "code",
   "execution_count": 71,
   "metadata": {
    "collapsed": false
   },
   "outputs": [],
   "source": [
    "# def gradient_descent_minibatch(X,y,alpha,epoch,lam,batch_size):\n",
    "#     cost=[]\n",
    "#     thetas=[]\n",
    "#     np.random.seed(0)\n",
    "#     w1=np.random.rand()\n",
    "#     w2=np.random.rand()\n",
    "#     b1=np.random.rand()\n",
    "#     b2=np.random.rand()\n",
    "#     epoch = 1\n",
    "#     for i in range(epoch):\n",
    "         \n",
    "#             # Xからランダムにbatch_size分とりだす\n",
    "#         train_size = X.shape[0]\n",
    "#         for mini_X_train,mini_y_train in batch_size:\n",
    "# #             a2=forward(x_batch, w1, w2, b1, b2)\n",
    "# #             costs.append(cross_entropy_error(a2, y_batch, w1, w2, lam))\n",
    "# #             delta2, delta3=backprob(x_batch, y_batch, w1, w2, b1, b2)\n",
    "\n",
    "#             w1= w1 - alpha*w1_grad\n",
    "#             w2= w2 - alpha*w2_grad\n",
    "#             w3= w3 - alpha*w3_grad\n",
    "#             b1 = b1 - alpha*b1_grad.sum(axis=0)\n",
    "#             b2 = b2 - alpha*b2_grad.sum(axis=0)\n",
    "#             b3 = b3 - alpha*b3_grad.sum(axis=0)\n",
    "\n",
    "#     return cost"
   ]
  },
  {
   "cell_type": "code",
   "execution_count": 72,
   "metadata": {
    "collapsed": false
   },
   "outputs": [
    {
     "ename": "NameError",
     "evalue": "name 'X' is not defined",
     "output_type": "error",
     "traceback": [
      "\u001b[0;31m---------------------------------------------------------------------------\u001b[0m",
      "\u001b[0;31mNameError\u001b[0m                                 Traceback (most recent call last)",
      "\u001b[0;32m<ipython-input-72-695b46462d88>\u001b[0m in \u001b[0;36m<module>\u001b[0;34m()\u001b[0m\n\u001b[0;32m----> 1\u001b[0;31m \u001b[0mgradient_descent_minibatch\u001b[0m\u001b[0;34m(\u001b[0m\u001b[0mX\u001b[0m\u001b[0;34m,\u001b[0m\u001b[0my\u001b[0m\u001b[0;34m,\u001b[0m\u001b[0malpha\u001b[0m\u001b[0;34m,\u001b[0m\u001b[0mepoch\u001b[0m\u001b[0;34m,\u001b[0m\u001b[0mlam\u001b[0m\u001b[0;34m,\u001b[0m\u001b[0mbatch_size\u001b[0m\u001b[0;34m)\u001b[0m\u001b[0;34m\u001b[0m\u001b[0m\n\u001b[0m",
      "\u001b[0;31mNameError\u001b[0m: name 'X' is not defined"
     ]
    }
   ],
   "source": [
    "gradient_descent_minibatch(X,y,alpha,epoch,lam,batch_size)"
   ]
  },
  {
   "cell_type": "code",
   "execution_count": 70,
   "metadata": {
    "collapsed": false
   },
   "outputs": [
    {
     "ename": "NameError",
     "evalue": "name 'cost' is not defined",
     "output_type": "error",
     "traceback": [
      "\u001b[0;31m---------------------------------------------------------------------------\u001b[0m",
      "\u001b[0;31mNameError\u001b[0m                                 Traceback (most recent call last)",
      "\u001b[0;32m<ipython-input-70-63feb3ae1029>\u001b[0m in \u001b[0;36m<module>\u001b[0;34m()\u001b[0m\n\u001b[0;32m----> 1\u001b[0;31m \u001b[0mcost\u001b[0m\u001b[0;34m\u001b[0m\u001b[0m\n\u001b[0m",
      "\u001b[0;31mNameError\u001b[0m: name 'cost' is not defined"
     ]
    }
   ],
   "source": [
    "cost"
   ]
  },
  {
   "cell_type": "markdown",
   "metadata": {},
   "source": [
    "### ニューラルネットワークの仕組み\n",
    "多くの層を持つニューラルネットワークを用いた学習を、ディープラーニングという。ディープラーニングは、ヒトの脳に部分的に迫る高度な学習を行うことができるのが特徴。複数の層からなるネットワークに入力と出力があるが、このようなネットワークの各パラメータを最適化することでネットワーク自体が学習する。"
   ]
  },
  {
   "cell_type": "markdown",
   "metadata": {},
   "source": [
    "### バックプロパゲーションとは何か\n",
    "バックプロパゲーションとは、ニューラルネットワークを学習させる際に用いられるアルゴリズムで、出力と正解の誤差がネットワークを逆伝搬することにより、ネットワークの重みとバイアスを最適化する。     \n",
    "バックプロパゲーションの手順としては、順伝搬により得られた出力と、あらかじめ用意された正解の誤差を、層を1つずつ遡るように逆伝搬させる。その際に、伝搬した誤差をもとに各層で重みとバイアスの更新量を求める。そして、すべての各層の重みとバイアスを少しずつ更新する。これを繰り返すことで、次第にネットワークは誤差が最小になるように最適化されていき、学習が進行する。学習が成功したネットワークは、任意の入力に対して柔軟に認識・判断ができるようになる。"
   ]
  },
  {
   "cell_type": "markdown",
   "metadata": {},
   "source": [
    "### 活性化関数の役割とは何か\n",
    "活性化関数とは、言わばニューロンを興奮させるための関数である。ニューロンへの入力と重みを掛けたものの総和にバイアスを足し合わせて統合された値を、ニューロンの興奮状態を表す信号に変換する。活性化関数がないとニューロンの演算は単なる積の総和になってしまい、ニューラルネットワークから複雑な表現をする力が失われる。"
   ]
  },
  {
   "cell_type": "code",
   "execution_count": null,
   "metadata": {
    "collapsed": true
   },
   "outputs": [],
   "source": []
  },
  {
   "cell_type": "code",
   "execution_count": null,
   "metadata": {
    "collapsed": true
   },
   "outputs": [],
   "source": []
  },
  {
   "cell_type": "markdown",
   "metadata": {},
   "source": [
    "### ニューラルネットワーク分類器のクラスを作成する"
   ]
  },
  {
   "cell_type": "code",
   "execution_count": null,
   "metadata": {
    "collapsed": false
   },
   "outputs": [],
   "source": [
    "# class ScratchSimpleNeuralNetrowkClassifier():\n",
    "#     \"\"\"\n",
    "#     シンプルな三層ニューラルネットワーク分類器\n",
    "\n",
    "#     Parameters\n",
    "#     ----------\n",
    "\n",
    "#     Attributes\n",
    "#     ----------\n",
    "#     \"\"\"\n",
    "\n",
    "#     def __init__(self, verbose = True):\n",
    "#         self.verbose = verbose\n",
    "#         pass\n",
    "#     def fit(self, X, y, X_val=None, y_val=None):\n",
    "#         \"\"\"\n",
    "#         ニューラルネットワーク分類器を学習する。\n",
    "\n",
    "#         Parameters\n",
    "#         ----------\n",
    "#         X : 次の形のndarray, shape (n_samples, n_features)\n",
    "#             学習用データの特徴量\n",
    "#         y : 次の形のndarray, shape (n_samples, )\n",
    "#             学習用データの正解値\n",
    "#         X_val : 次の形のndarray, shape (n_samples, n_features)\n",
    "#             検証用データの特徴量\n",
    "#         y_val : 次の形のndarray, shape (n_samples, )\n",
    "#             検証用データの正解値\n",
    "#         \"\"\"\n",
    "\n",
    "#         if self.verbose:\n",
    "#             #verboseをTrueにした際は学習過程などを出力する\n",
    "#             print()\n",
    "#         pass\n",
    "\n",
    "\n",
    "#     def predict(self, X):\n",
    "#         \"\"\"\n",
    "#         ニューラルネットワーク分類器を使い推定する。\n",
    "\n",
    "#         Parameters\n",
    "#         ----------\n",
    "#         X : 次の形のndarray, shape (n_samples, n_features)\n",
    "#             サンプル\n",
    "\n",
    "#         Returns\n",
    "#         -------\n",
    "#             次の形のndarray, shape (n_samples, 1)\n",
    "#             推定結果\n",
    "#         \"\"\"\n",
    "\n",
    "#         pass\n",
    "#         return"
   ]
  },
  {
   "cell_type": "code",
   "execution_count": null,
   "metadata": {
    "collapsed": false
   },
   "outputs": [],
   "source": [
    "# # import sys, os\n",
    "# # import pickle\n",
    "# # sys.path.append(os.pardir)\n",
    "\n",
    "# # 活性化関数\n",
    "# def sigmoid(x):\n",
    "#     return 1 / (1 + np.exp(-x))\n",
    "\n",
    "# def softmax(x):\n",
    "#     x = x - np.max(x)\n",
    "#     return np.exp(x) / np.sum(np.exp(x))\n",
    "\n",
    "# def cross_entropy(y, t):\n",
    "#     return (-1) * np.sum(t * np.log(y))\n",
    "\n",
    "# # 1層のみの計算\n",
    "# def eval(X_train, W, B, h):\n",
    "#     A = np.dot(X_train, W1) + B\n",
    "#     Z = h(A)\n",
    "#     return Z\n",
    "\n",
    "# for i in range(len(X_train)):\n",
    "#         h = eval(X_train[i], sigmoid, softmax)\n",
    "#         p = np.argmax(y)\n",
    "#         if p == y[i]:\n",
    "#             ok_cnt += 1\n",
    "# #     print(\"data_num:\" + str(len(x)))\n",
    "# #     print(\"ok_count:\" + str(ok_cnt))\n",
    "# #     print(\"Accuracy:\" + str(float(ok_cnt) / len(x)))"
   ]
  },
  {
   "cell_type": "code",
   "execution_count": null,
   "metadata": {
    "collapsed": false
   },
   "outputs": [],
   "source": [
    "# def softmax(x):\n",
    "#     if x.ndim == 2:\n",
    "#         x = x.T\n",
    "#         x = x - np.max(x, axis=0)\n",
    "#         y = np.exp(x) / np.sum(np.exp(x), axis=0)\n",
    "#         return y.T\n",
    "\n",
    "#     x = x - np.max(x)\n",
    "#     return np.exp(x) / np.sum(np.exp(x))\n",
    "\n",
    "# np.sum(softmax(X),axis=1) #チェック"
   ]
  },
  {
   "cell_type": "code",
   "execution_count": null,
   "metadata": {
    "collapsed": false
   },
   "outputs": [],
   "source": [
    "# import sys, os\n",
    "# import pickle\n",
    "# sys.path.append(os.pardir)\n",
    "\n",
    "# # 活性化関数\n",
    "# def sigmoid(x):\n",
    "#     return 1 / (1 + np.exp(-x))\n",
    "\n",
    "# def softmax(x):\n",
    "#     c = np.max(x)\n",
    "#     top = np.exp(x - c)\n",
    "#     bottom = np.sum(np.exp(x - c))\n",
    "#     return top / bottom\n",
    "\n",
    "# # 3層の順方向伝播\n",
    "# def eval_3_network(X, network, h, o):\n",
    "#     W1, W2, W3 \n",
    "#     b1, b2, b3 \n",
    "#     Z1 = eval_single_network(X, W1, B1, h)\n",
    "#     Z2 = eval_single_network(Z1, W2, B2, h)\n",
    "#     Z3 = eval_single_network(Z2, W3, B3, o)\n",
    "#     return Z3\n",
    "\n",
    "# # 1層のみの計算\n",
    "# def eval(X, W, B, h):\n",
    "#     A = np.dot(X, W1) + B\n",
    "#     Z = h(A)\n",
    "#     return Z\n",
    "\n",
    "# # 学習済み重みを読み込む\n",
    "# def load_trained_network():\n",
    "#     with open('sample_weight.pkl', 'rb') as f:\n",
    "#         network = pickle.load(f)\n",
    "#     return network\n",
    "\n",
    "# # テストデータを読み込む\n",
    "# def load_test_data():\n",
    "#     (x_train, t_train), (x_test, t_test) = load_mnist(normalize=True, flatten=True, one_hot_label=False)\n",
    "#     return x_test, t_test\n",
    "\n",
    "# if __name__ == '__main__':\n",
    "#     network = load_trained_network()\n",
    "#     x, t = load_test_data()\n",
    "#     ok_cnt = 0\n",
    "#     for i in range(len(x)):\n",
    "#         y = eval_3_network(x[i], network, sigmoid, softmax)\n",
    "#         p = np.argmax(y)\n",
    "#         if p == t[i]:\n",
    "#             ok_cnt += 1\n",
    "#     print(\"data_num:\" + str(len(x)))\n",
    "#     print(\"ok_count:\" + str(ok_cnt))\n",
    "#     print(\"Accuracy:\" + str(float(ok_cnt) / len(x)))"
   ]
  },
  {
   "cell_type": "code",
   "execution_count": null,
   "metadata": {
    "collapsed": false
   },
   "outputs": [],
   "source": [
    "# A1 = np.dot(X_train, W1) + B1\n",
    "\n",
    "# Z1 = sigmoid(A1)"
   ]
  },
  {
   "cell_type": "markdown",
   "metadata": {},
   "source": [
    "### 活性化関数"
   ]
  },
  {
   "cell_type": "code",
   "execution_count": null,
   "metadata": {
    "collapsed": true
   },
   "outputs": [],
   "source": [
    "# シグモイド関数の実装\n",
    "def sigmoid(X):\n",
    "    return 1 / (1 + np.exp(-X))"
   ]
  },
  {
   "cell_type": "code",
   "execution_count": null,
   "metadata": {
    "collapsed": true
   },
   "outputs": [],
   "source": [
    "# ソフトマックス関数の実装\n",
    "def softmax(a):\n",
    "    exp_a = np.exp(a)\n",
    "    sum_exp_a = np.sum(exp_a)\n",
    "    y = exp_a / sum_exp_a\n",
    "    \n",
    "    return y"
   ]
  },
  {
   "cell_type": "code",
   "execution_count": null,
   "metadata": {
    "collapsed": true
   },
   "outputs": [],
   "source": [
    "# 交差エントロピー誤差の実装\n",
    "def cross_entropy_error(y, t):\n",
    "    if y.ndim == 1:\n",
    "        t = t.reshape(1, t.size)\n",
    "        y = y.reshape(1, y.size)\n",
    "        \n",
    "    batch_size = 10\n",
    "    return -np.sum(t * np.log(y + le-7)) / batch.size"
   ]
  },
  {
   "cell_type": "code",
   "execution_count": null,
   "metadata": {
    "collapsed": true
   },
   "outputs": [],
   "source": []
  },
  {
   "cell_type": "code",
   "execution_count": null,
   "metadata": {
    "collapsed": true
   },
   "outputs": [],
   "source": []
  },
  {
   "cell_type": "code",
   "execution_count": null,
   "metadata": {
    "collapsed": true
   },
   "outputs": [],
   "source": []
  },
  {
   "cell_type": "code",
   "execution_count": null,
   "metadata": {
    "collapsed": true
   },
   "outputs": [],
   "source": []
  },
  {
   "cell_type": "markdown",
   "metadata": {},
   "source": [
    "### （オプション）誤分類の確認"
   ]
  },
  {
   "cell_type": "code",
   "execution_count": null,
   "metadata": {
    "collapsed": false
   },
   "outputs": [],
   "source": [
    "\"\"\"\n",
    "語分類結果を並べて表示する。画像の上の表示は「推定結果/正解」である。\n",
    "\n",
    "Parameters:\n",
    "----------\n",
    "y_pred : 推定値のndarray (n_samples,)\n",
    "y_val : 検証用データの正解ラベル(n_samples,)\n",
    "X_val : 検証用データの特徴量（n_samples, n_features)\n",
    "\"\"\"\n",
    "\n",
    "num = 36 # いくつ表示するか\n",
    "\n",
    "true_false = y_pred==y_val\n",
    "false_list = np.where(true_false==False)[0].astype(np.int)\n",
    "\n",
    "if false_list.shape[0] < num:\n",
    "    num = false_list.shape[0]\n",
    "fig = plt.figure(figsize=(6, 6))\n",
    "fig.subplots_adjust(left=0, right=0.8,  bottom=0, top=0.8, hspace=1, wspace=0.5)\n",
    "for i in range(num):\n",
    "    ax = fig.add_subplot(6, 6, i + 1, xticks=[], yticks=[])\n",
    "    ax.set_title(\"{} / {}\".format(y_pred[false_list[i]],y_val[false_list[i]]))\n",
    "    ax.imshow(X_val.reshape(-1,28,28)[false_list[i]], cmap='gray')"
   ]
  },
  {
   "cell_type": "code",
   "execution_count": null,
   "metadata": {
    "collapsed": true
   },
   "outputs": [],
   "source": []
  },
  {
   "cell_type": "code",
   "execution_count": null,
   "metadata": {
    "collapsed": true
   },
   "outputs": [],
   "source": []
  }
 ],
 "metadata": {
  "kernelspec": {
   "display_name": "Python 3",
   "language": "python",
   "name": "python3"
  },
  "language_info": {
   "codemirror_mode": {
    "name": "ipython",
    "version": 3
   },
   "file_extension": ".py",
   "mimetype": "text/x-python",
   "name": "python",
   "nbconvert_exporter": "python",
   "pygments_lexer": "ipython3",
   "version": "3.6.5"
  }
 },
 "nbformat": 4,
 "nbformat_minor": 2
}
