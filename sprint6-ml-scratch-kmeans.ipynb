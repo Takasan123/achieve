{
 "cells": [
  {
   "cell_type": "markdown",
   "metadata": {},
   "source": [
    "## Sprint6_k-means_スクラッチ\n",
    "### この課題の目的\n",
    "1.コーディング力を向上させる  2.全体の構造を意識したコーディングをする  3.スクラッチを通してK-meansを理解する  4.クラスタ分析を行う"
   ]
  },
  {
   "cell_type": "markdown",
   "metadata": {},
   "source": [
    "### データセットの用意"
   ]
  },
  {
   "cell_type": "code",
   "execution_count": 1,
   "metadata": {},
   "outputs": [],
   "source": [
    "import numpy as np\n",
    "import pandas as pd\n",
    "import matplotlib.pyplot as plt\n",
    "%matplotlib inline"
   ]
  },
  {
   "cell_type": "markdown",
   "metadata": {},
   "source": [
    "### 小規模なデータの用意"
   ]
  },
  {
   "cell_type": "code",
   "execution_count": 2,
   "metadata": {},
   "outputs": [],
   "source": [
    "from sklearn.datasets import make_blobs\n",
    "\n",
    "#　n_samples:サンプル数\n",
    "# n_features：特徴量（説明変数）の数\n",
    "# centers:クラスタの数　\n",
    "# cluster_std:クラスタ内の標準偏差（ばらつき度合い）　\n",
    "# shuffle:サンプルをシャッフル　\n",
    "# random_state:乱数生成を固定\n",
    "\n",
    "X, _ = make_blobs(n_samples =100,\\\n",
    "                  n_features=2, \\\n",
    "                  centers=4, \\\n",
    "                  cluster_std=0.5, \\\n",
    "                  shuffle=True, \\\n",
    "                  random_state=0)"
   ]
  },
  {
   "cell_type": "code",
   "execution_count": 3,
   "metadata": {},
   "outputs": [
    {
     "data": {
      "text/plain": [
       "array([[ 0.72086751,  3.71347124],\n",
       "       [-1.89468423,  7.96898545],\n",
       "       [ 1.35678894,  4.36462484],\n",
       "       [ 1.05374379,  4.49286859],\n",
       "       [ 1.59141542,  4.90497725],\n",
       "       [ 0.78260667,  4.15263595],\n",
       "       [-1.95751686,  3.87291474],\n",
       "       [-0.77354537,  7.87923564],\n",
       "       [ 0.12313498,  5.27917503],\n",
       "       [-1.43284669,  7.71577043],\n",
       "       [-0.92819001,  7.02698199],\n",
       "       [-1.74836345,  7.06307447],\n",
       "       [-1.26789718,  7.25141327],\n",
       "       [-0.98661744,  7.74968685],\n",
       "       [-0.81984047,  7.50994722],\n",
       "       [ 2.99684287,  0.22378413],\n",
       "       [ 1.46870582,  1.86947425],\n",
       "       [-0.33533163,  3.390122  ],\n",
       "       [-1.86407034,  2.93379754],\n",
       "       [ 2.62496786,  0.28025075],\n",
       "       [ 2.11114739,  3.57660449],\n",
       "       [-1.8219901 ,  7.61654999],\n",
       "       [-1.91186205,  3.18750686],\n",
       "       [ 2.28809874,  0.12954182],\n",
       "       [ 0.5285368 ,  4.49723858],\n",
       "       [-1.57613028,  2.58614312],\n",
       "       [-0.565433  ,  3.65813966],\n",
       "       [ 0.802314  ,  4.38196181],\n",
       "       [ 2.79939362,  1.84560825],\n",
       "       [ 2.64465731,  0.80770124],\n",
       "       [ 1.7190373 ,  0.71788708],\n",
       "       [-0.93564005,  7.03443119],\n",
       "       [ 2.14398059,  0.69677319],\n",
       "       [ 2.06051753,  1.79059891],\n",
       "       [-1.21986433,  3.3789856 ],\n",
       "       [ 1.13280393,  3.87673946],\n",
       "       [-1.497272  ,  8.80022604],\n",
       "       [ 1.85367905,  1.5088862 ],\n",
       "       [-0.1666378 ,  8.50372399],\n",
       "       [-1.89928142,  2.50466299],\n",
       "       [ 1.04829186,  5.03092408],\n",
       "       [-1.44356727,  3.23539798],\n",
       "       [-1.57006498,  6.72375844],\n",
       "       [-1.98331513,  3.47639041],\n",
       "       [-1.87418794,  2.84306499],\n",
       "       [-1.86097353,  8.2576415 ],\n",
       "       [ 1.61986895,  0.60823883],\n",
       "       [-1.84482705,  3.25609891],\n",
       "       [ 0.72144399,  4.08475018],\n",
       "       [ 0.5323772 ,  3.31338909],\n",
       "       [ 0.3498724 ,  4.69253251],\n",
       "       [ 1.89949126,  0.92574633],\n",
       "       [-1.2386086 ,  2.81373288],\n",
       "       [-1.74448079,  3.84251413],\n",
       "       [-0.96358605,  2.37791651],\n",
       "       [-1.26041884,  7.46644456],\n",
       "       [-0.8623605 ,  8.24721209],\n",
       "       [ 2.4198128 ,  0.96215512],\n",
       "       [ 2.23345072,  1.25095024],\n",
       "       [-0.65424088,  7.99393132],\n",
       "       [-1.42525273,  7.14798437],\n",
       "       [ 1.51989121,  1.42488952],\n",
       "       [ 2.11872357,  1.09865834],\n",
       "       [ 1.74265969,  5.03846671],\n",
       "       [ 1.42002502,  1.38236201],\n",
       "       [-0.69842598,  8.16309188],\n",
       "       [-2.18485772,  2.68708996],\n",
       "       [-1.32890066,  2.37135151],\n",
       "       [ 2.15940501,  1.38598318],\n",
       "       [ 1.19820169,  4.47062449],\n",
       "       [-1.7653772 ,  8.17625727],\n",
       "       [ 1.4726926 ,  1.3480769 ],\n",
       "       [ 0.92466065,  4.50908658],\n",
       "       [-1.47602203,  7.8441996 ],\n",
       "       [ 0.99914934,  4.2101954 ],\n",
       "       [ 1.40848818,  3.93270482],\n",
       "       [-0.59312453,  3.37090459],\n",
       "       [-1.6609057 ,  3.31911046],\n",
       "       [ 2.25643834,  0.55525861],\n",
       "       [ 1.24016835,  1.12905479],\n",
       "       [ 1.64869438,  0.03452236],\n",
       "       [-1.61803727,  8.60696731],\n",
       "       [-1.37778493,  3.58107521],\n",
       "       [ 0.16932115,  4.19741719],\n",
       "       [ 1.73810647,  0.71629308],\n",
       "       [-1.05327803,  2.84037721],\n",
       "       [ 1.60161834,  0.92363636],\n",
       "       [ 1.84845803,  0.52393625],\n",
       "       [ 1.72330962,  4.2012082 ],\n",
       "       [ 1.00952869,  4.45502328],\n",
       "       [ 0.96217896,  4.51795326],\n",
       "       [-1.33869125,  2.36818187],\n",
       "       [ 0.4519936 ,  3.59377836],\n",
       "       [-1.19075663,  3.12161318],\n",
       "       [-2.27253281,  3.13757811],\n",
       "       [-1.80044744,  7.86154256],\n",
       "       [-1.64996061,  7.49068513],\n",
       "       [-1.56102482,  3.77455362],\n",
       "       [-0.78782636,  7.99482384],\n",
       "       [-0.30022483,  4.63059663]])"
      ]
     },
     "execution_count": 3,
     "metadata": {},
     "output_type": "execute_result"
    }
   ],
   "source": [
    "X"
   ]
  },
  {
   "cell_type": "code",
   "execution_count": 4,
   "metadata": {},
   "outputs": [
    {
     "data": {
      "image/png": "[encoded data removed]",
      "text/plain": [
       "<Figure size 360x360 with 1 Axes>"
      ]
     },
     "metadata": {
      "needs_background": "light"
     },
     "output_type": "display_data"
    }
   ],
   "source": [
    "import matplotlib.pyplot as plt\n",
    "%matplotlib inline\n",
    "plt.figure(figsize =(5,5))\n",
    "plt.scatter(X[:,0], X[:,1], marker='o', s=50)\n",
    "plt.axis('equal')\n",
    "plt.grid()\n",
    "plt.show()\n"
   ]
  },
  {
   "cell_type": "code",
   "execution_count": 5,
   "metadata": {},
   "outputs": [],
   "source": [
    "label = np.random.randint(0,4,100)   # 初期のラベルを作る"
   ]
  },
  {
   "cell_type": "code",
   "execution_count": 6,
   "metadata": {},
   "outputs": [
    {
     "data": {
      "text/plain": [
       "(100,)"
      ]
     },
     "execution_count": 6,
     "metadata": {},
     "output_type": "execute_result"
    }
   ],
   "source": [
    "label.shape"
   ]
  },
  {
   "cell_type": "code",
   "execution_count": 7,
   "metadata": {},
   "outputs": [
    {
     "data": {
      "text/plain": [
       "array([0, 0, 3, 1, 0, 1, 1, 1, 3, 3, 3, 1, 2, 3, 3, 1, 0, 3, 1, 2, 1, 2,\n",
       "       3, 2, 3, 1, 3, 1, 2, 0, 1, 1, 2, 1, 2, 3, 2, 2, 2, 0, 0, 1, 2, 1,\n",
       "       3, 2, 3, 0, 0, 1, 2, 2, 0, 2, 1, 3, 2, 1, 0, 0, 1, 1, 2, 0, 3, 2,\n",
       "       2, 3, 1, 3, 2, 3, 1, 0, 0, 0, 0, 2, 1, 2, 3, 0, 0, 3, 1, 1, 1, 0,\n",
       "       1, 1, 3, 1, 2, 2, 1, 2, 3, 2, 3, 1])"
      ]
     },
     "execution_count": 7,
     "metadata": {},
     "output_type": "execute_result"
    }
   ],
   "source": [
    "label"
   ]
  },
  {
   "cell_type": "markdown",
   "metadata": {},
   "source": [
    "### K-meansのクラスを作成する\n",
    "K-meansのクラスScratchKMeansを作成する"
   ]
  },
  {
   "cell_type": "code",
   "execution_count": 8,
   "metadata": {},
   "outputs": [],
   "source": [
    "# K-meansのクラス\n",
    "class ScratchKMeans:\n",
    "    \n",
    "    def __init__(self, label, iteration):\n",
    "        self.label = label\n",
    "        self.iteration = iteration       \n",
    "    \n",
    "    # 中心点表を作成する関数\n",
    "    def _get_center_point(self, X):\n",
    "        \n",
    "        # 中心点表を初期化する\n",
    "        self.center_point_list = []\n",
    "\n",
    "        for i in np.unique(self.label):\n",
    "\n",
    "            # X0軸方向の平均\n",
    "            X0_sum = X[self.label == i][:, 0].sum()\n",
    "            X0_cnt = len(X[self.label == i])\n",
    "            X0_point = X0_sum / X0_cnt\n",
    "\n",
    "            # X1軸方向の平均\n",
    "            X1_sum = X[self.label == i][:, 1].sum()\n",
    "            X1_cnt = len(X[self.label == i])\n",
    "            X1_point = X1_sum / X1_cnt\n",
    "\n",
    "            # 中心点（重心）を求める\n",
    "            center_point = [X0_point, X1_point]\n",
    "\n",
    "            # 中心点表を作成する\n",
    "            self.center_point_list.append(center_point)\n",
    "            #print(self.center_point_list[1:])\n",
    "    \n",
    "    # 中心点と全データとの距離を求める関数\n",
    "    def _get_distance(self, X):\n",
    "        self._get_center_point(X)\n",
    "        distance_list = np.zeros((len(X), len(self.center_point_list)))\n",
    "        #print(distance_list)\n",
    "\n",
    "        for i, values in enumerate(self.center_point_list):\n",
    "\n",
    "            # 重心と全データとの距離を取得する\n",
    "            for j in range(len(X)):\n",
    "                \n",
    "                # 2列目、３列目だけをとる\n",
    "                diff = values - X[j]\n",
    "                distance = np.linalg.norm(diff)\n",
    "                distance_list[j, i] = distance\n",
    "                #print(distance_list)\n",
    "        \n",
    "        return distance_list\n",
    "    \n",
    "    # 全データの一番近いクラスタラベルをゲット出来た\n",
    "    def fit(self, X):\n",
    "        # なので、新しいクラスラベルの値へ、古いクラスラベルを更新してあげる\n",
    "        for i in range(self.iteration):\n",
    "            \n",
    "            # 距離表で、それぞれのXで最初のクラスラベルのインデックスを取得\n",
    "            # そのインデックスは、クラスタラベルに等しい\n",
    "            self.label = np.argmin(self._get_distance(X), axis=1)\n",
    "            \n",
    "            # 今時点の中心点を保持しておく\n",
    "            pre_center_point_list = self.center_point_list\n",
    "            \n",
    "            # クラスタラベルを最新\n",
    "            self.label = np.argmin(self._get_distance(X), axis=1)\n",
    "            \n",
    "            # 前後で中心点を比較\n",
    "            if pre_center_point_list == self.center_point_list:\n",
    "                #print(\"---学習終了しました---\",i*2,\"イテレーション回数\")\n",
    "                break\n",
    "    \n",
    "    # エルボー法 誤差平方和SSE\n",
    "    # 重心座標はfitで取得出来ているので、それを使って、\n",
    "    # クラスタ数が変化した時のSSEの変化度を取得する関数\n",
    "    def elbow(self, X, cluster):\n",
    "        self.cluster = cluster\n",
    "        self.label = np.random.randint(0, self.cluster, len(X))\n",
    "        \n",
    "        # SSE_list\n",
    "        sse_list = []\n",
    "        \n",
    "        # クラスタ数をパラメータとしてfitさせる\n",
    "        for n in range(self.cluster):\n",
    "            \n",
    "            self.cluster = n + 1\n",
    "            \n",
    "            # クラスタラベルを作成\n",
    "            self.label = np.random.randint(0, self.cluster, len(X))\n",
    "            \n",
    "            # 学習\n",
    "            self.fit(X)\n",
    "        \n",
    "            # |Xn - μk||**2の枠を作成\n",
    "            elbow_list = np.zeros((len(X), len(self.center_point_list)))\n",
    "            \n",
    "            for i, values in enumerate(self.center_point_list):\n",
    "\n",
    "                # ||Xn - μk||**2の表を作成する\n",
    "                for j in range(len(X)):    \n",
    "                    elbow_diff = X[j] - values\n",
    "                    \n",
    "                    # ドット積でやり方\n",
    "                    #elbow_list[j, i] = np.dot(elbow_diff, elbow_diff.T)\n",
    "                    \n",
    "                    # ノルムを取って二乗するやり方\n",
    "                    elbow_list[j, i] = np.linalg.norm(elbow_diff)**2\n",
    "\n",
    "            # 最小値を取得\n",
    "            elbow_list_min = elbow_list.min(axis=1)\n",
    "\n",
    "            # SSEを算出\n",
    "            sse = elbow_list_min.sum()\n",
    "            sse_list.append(sse)\n",
    "            \n",
    "        return sse_list"
   ]
  },
  {
   "cell_type": "code",
   "execution_count": 9,
   "metadata": {},
   "outputs": [
    {
     "data": {
      "text/plain": [
       "[[-1.2037759767211824, 3.3742061314960523],\n",
       " [1.6015710414731053, 2.4213834624121517],\n",
       " [-1.2681173257461036, 7.763782656002402]]"
      ]
     },
     "execution_count": 9,
     "metadata": {},
     "output_type": "execute_result"
    }
   ],
   "source": [
    "skm2 = ScratchKMeans(label = np.random.randint(0,4,100), iteration = 10)\n",
    "skm2.fit(X)\n",
    "skm2.center_point_list"
   ]
  },
  {
   "cell_type": "code",
   "execution_count": 10,
   "metadata": {},
   "outputs": [
    {
     "data": {
      "text/plain": [
       "array([1, 2, 1, 1, 1, 1, 0, 2, 0, 2, 2, 2, 2, 2, 2, 1, 1, 0, 0, 1, 1, 2,\n",
       "       0, 1, 0, 0, 0, 1, 1, 1, 1, 2, 1, 1, 0, 1, 2, 1, 2, 0, 1, 0, 2, 0,\n",
       "       0, 2, 1, 0, 1, 1, 0, 1, 0, 0, 0, 2, 2, 1, 1, 2, 2, 1, 1, 1, 1, 2,\n",
       "       0, 0, 1, 1, 2, 1, 1, 2, 1, 1, 0, 0, 1, 1, 1, 2, 0, 0, 1, 0, 1, 1,\n",
       "       1, 1, 1, 0, 1, 0, 0, 2, 2, 0, 2, 0])"
      ]
     },
     "execution_count": 10,
     "metadata": {},
     "output_type": "execute_result"
    }
   ],
   "source": [
    "skm2.label"
   ]
  },
  {
   "cell_type": "markdown",
   "metadata": {},
   "source": [
    "### クラスタリングの可視化"
   ]
  },
  {
   "cell_type": "code",
   "execution_count": 11,
   "metadata": {},
   "outputs": [
    {
     "data": {
      "image/png": "[encoded data removed]",
      "text/plain": [
       "<Figure size 360x360 with 1 Axes>"
      ]
     },
     "metadata": {
      "needs_background": "light"
     },
     "output_type": "display_data"
    }
   ],
   "source": [
    "plt.figure(figsize =(5,5))\n",
    "plt.title('Clustering')\n",
    "plt.scatter(X[:,0], X[:,1], c=skm2.label , marker='o', s=50)\n",
    "plt.grid()\n"
   ]
  },
  {
   "cell_type": "markdown",
   "metadata": {},
   "source": [
    "### エルボー法"
   ]
  },
  {
   "cell_type": "code",
   "execution_count": 12,
   "metadata": {},
   "outputs": [],
   "source": [
    "# # エルボー法 誤差平方和SSE\n",
    "#     # 重心座標はfitで取得出来ているので、それを使って、\n",
    "#     # クラスタ数が変化した時のSSEの変化度を取得する関数\n",
    "# def elbow(self, X, cluster):\n",
    "#     self.cluster = cluster\n",
    "\n",
    "#     # SSE_list\n",
    "#     sse_list = []\n",
    "\n",
    "#     # クラスタ数をパラメータとしてfitさせる\n",
    "#     for n in range(self.cluster):\n",
    "\n",
    "#         self.cluster = n + 1\n",
    "\n",
    "#         # クラスタラベルを作成\n",
    "#         self.label = np.random.randint(0, self.cluster,100)\n",
    "\n",
    "#         # 学習\n",
    "#         self.fit(X)\n",
    "\n",
    "#         # |Xn - μk||**2の枠を作成\n",
    "#         elbow_list = np.zeros((len(X), len(self.center_point_list)))\n",
    "\n",
    "#         for i, values in enumerate(self.center_point_list):\n",
    "\n",
    "#             # ||Xn - μk||**2の表を作成する\n",
    "#             for j in range(len(X)):    \n",
    "#                 elbow_diff = X[j] - values\n",
    "\n",
    "#                 # ドット積でやり方\n",
    "#                 #elbow_list[j, i] = np.dot(elbow_diff, elbow_diff.T)\n",
    "\n",
    "#                 # ノルムを取って二乗するやり方\n",
    "#                 elbow_list[j, i] = np.linalg.norm(elbow_diff)**2\n",
    "\n",
    "#         # 最小値を取得\n",
    "#         elbow_list_min = elbow_list.min(axis=1)\n",
    "\n",
    "#         # SSEを算出\n",
    "#         sse = elbow_list_min.sum()\n",
    "#         sse_list.append(sse)\n",
    "\n",
    "#     return sse_list"
   ]
  },
  {
   "cell_type": "code",
   "execution_count": 13,
   "metadata": {},
   "outputs": [],
   "source": [
    "# # クラスを実行\n",
    "# skm２ = ScratchKMeans(cluster=4, iteration = 10)\n",
    "# skm2.fit(X)\n",
    "# skm2.center_point_list"
   ]
  },
  {
   "cell_type": "code",
   "execution_count": 14,
   "metadata": {},
   "outputs": [],
   "source": [
    "# d1 = X[label == i][:, 0] - X0_point[:, 0]\n",
    "# d2 = X[label == i][:, 1] - X0_point[:, 1]\n",
    "# d =[d1, d2]\n",
    "# d*d.T\n",
    "\n",
    "\n",
    "\n",
    "# for i in range(1, 11):\n",
    "#     km = KMeans(n_clusters=i, init='random', n_init=10, max_iter=300, tol=1e-04, random_state=0)\n",
    "#     km.fit(X)\n",
    "#     SSE.append(km.inertia_)\n",
    "\n",
    "# plt.plot(range(1,11), SSE, marker='o')\n",
    "# plt.xlabel('k')\n",
    "# plt.ylabel('SSE')\n",
    "# plt.show()\n"
   ]
  },
  {
   "cell_type": "markdown",
   "metadata": {},
   "source": [
    "### scikit-learnでの実装"
   ]
  },
  {
   "cell_type": "code",
   "execution_count": 15,
   "metadata": {},
   "outputs": [
    {
     "data": {
      "text/plain": [
       "array([[-1.47935679,  3.11716896],\n",
       "       [-1.26811733,  7.76378266],\n",
       "       [ 1.99186903,  0.96561071],\n",
       "       [ 0.92578447,  4.32475792]])"
      ]
     },
     "execution_count": 15,
     "metadata": {},
     "output_type": "execute_result"
    }
   ],
   "source": [
    "from sklearn.cluster import KMeans\n",
    "km  = KMeans(n_clusters=4, random_state=0)\n",
    "km.fit(X)\n",
    "km.cluster_centers_"
   ]
  },
  {
   "cell_type": "code",
   "execution_count": 16,
   "metadata": {},
   "outputs": [
    {
     "data": {
      "image/png": "[encoded data removed]",
      "text/plain": [
       "<Figure size 432x288 with 1 Axes>"
      ]
     },
     "metadata": {
      "needs_background": "light"
     },
     "output_type": "display_data"
    }
   ],
   "source": [
    "SSE2 = []\n",
    "for i in range(1, 11):\n",
    "    km = KMeans(n_clusters=i, init='random', n_init=10, max_iter=300, tol=1e-04, random_state=0)\n",
    "    km.fit(X)\n",
    "    SSE2.append(km.inertia_)\n",
    "\n",
    "plt.plot(range(1,11), SSE2, marker='o')\n",
    "plt.xlabel('k')\n",
    "plt.ylabel('SSE2')\n",
    "plt.show()"
   ]
  },
  {
   "cell_type": "markdown",
   "metadata": {},
   "source": [
    "### Wholesale customers Data"
   ]
  },
  {
   "cell_type": "code",
   "execution_count": 17,
   "metadata": {},
   "outputs": [
    {
     "data": {
      "text/html": [
       "<div>\n",
       "<style scoped>\n",
       "    .dataframe tbody tr th:only-of-type {\n",
       "        vertical-align: middle;\n",
       "    }\n",
       "\n",
       "    .dataframe tbody tr th {\n",
       "        vertical-align: top;\n",
       "    }\n",
       "\n",
       "    .dataframe thead th {\n",
       "        text-align: right;\n",
       "    }\n",
       "</style>\n",
       "<table border=\"1\" class=\"dataframe\">\n",
       "  <thead>\n",
       "    <tr style=\"text-align: right;\">\n",
       "      <th></th>\n",
       "      <th>Channel</th>\n",
       "      <th>Region</th>\n",
       "      <th>Fresh</th>\n",
       "      <th>Milk</th>\n",
       "      <th>Grocery</th>\n",
       "      <th>Frozen</th>\n",
       "      <th>Detergents_Paper</th>\n",
       "      <th>Delicassen</th>\n",
       "    </tr>\n",
       "  </thead>\n",
       "  <tbody>\n",
       "    <tr>\n",
       "      <th>0</th>\n",
       "      <td>2</td>\n",
       "      <td>3</td>\n",
       "      <td>12669</td>\n",
       "      <td>9656</td>\n",
       "      <td>7561</td>\n",
       "      <td>214</td>\n",
       "      <td>2674</td>\n",
       "      <td>1338</td>\n",
       "    </tr>\n",
       "    <tr>\n",
       "      <th>1</th>\n",
       "      <td>2</td>\n",
       "      <td>3</td>\n",
       "      <td>7057</td>\n",
       "      <td>9810</td>\n",
       "      <td>9568</td>\n",
       "      <td>1762</td>\n",
       "      <td>3293</td>\n",
       "      <td>1776</td>\n",
       "    </tr>\n",
       "    <tr>\n",
       "      <th>2</th>\n",
       "      <td>2</td>\n",
       "      <td>3</td>\n",
       "      <td>6353</td>\n",
       "      <td>8808</td>\n",
       "      <td>7684</td>\n",
       "      <td>2405</td>\n",
       "      <td>3516</td>\n",
       "      <td>7844</td>\n",
       "    </tr>\n",
       "    <tr>\n",
       "      <th>3</th>\n",
       "      <td>1</td>\n",
       "      <td>3</td>\n",
       "      <td>13265</td>\n",
       "      <td>1196</td>\n",
       "      <td>4221</td>\n",
       "      <td>6404</td>\n",
       "      <td>507</td>\n",
       "      <td>1788</td>\n",
       "    </tr>\n",
       "    <tr>\n",
       "      <th>4</th>\n",
       "      <td>2</td>\n",
       "      <td>3</td>\n",
       "      <td>22615</td>\n",
       "      <td>5410</td>\n",
       "      <td>7198</td>\n",
       "      <td>3915</td>\n",
       "      <td>1777</td>\n",
       "      <td>5185</td>\n",
       "    </tr>\n",
       "  </tbody>\n",
       "</table>\n",
       "</div>"
      ],
      "text/plain": [
       "   Channel  Region  Fresh  Milk  Grocery  Frozen  Detergents_Paper  Delicassen\n",
       "0        2       3  12669  9656     7561     214              2674        1338\n",
       "1        2       3   7057  9810     9568    1762              3293        1776\n",
       "2        2       3   6353  8808     7684    2405              3516        7844\n",
       "3        1       3  13265  1196     4221    6404               507        1788\n",
       "4        2       3  22615  5410     7198    3915              1777        5185"
      ]
     },
     "execution_count": 17,
     "metadata": {},
     "output_type": "execute_result"
    }
   ],
   "source": [
    "import numpy as np  # 線形代数ライブラリー\n",
    "import pandas as pd  # データの加工, CSVファイルの読み書き\n",
    "from pandas import scatter_matrix\n",
    "import matplotlib.pyplot as plt  # 描画ライブラリー\n",
    "\n",
    "import seaborn as sns  # 描画スタイル変更ライブラリ\n",
    "%matplotlib inline\n",
    "from sklearn.model_selection import train_test_split\n",
    "\n",
    "data = pd.read_csv('/Users/andoutakaaki/DIC_study/Sprint6/Wholesale customers data.csv') # csvファイルの読み込み\n",
    "data.head()"
   ]
  },
  {
   "cell_type": "code",
   "execution_count": 18,
   "metadata": {},
   "outputs": [
    {
     "name": "stderr",
     "output_type": "stream",
     "text": [
      "/Library/Frameworks/Python.framework/Versions/3.7/lib/python3.7/site-packages/ipykernel_launcher.py:2: FutureWarning: pandas.scatter_matrix is deprecated, use pandas.plotting.scatter_matrix instead\n",
      "  \n"
     ]
    },
    {
     "data": {
      "image/png": "[encoded data removed]",
      "text/plain": [
       "<Figure size 432x288 with 64 Axes>"
      ]
     },
     "metadata": {
      "needs_background": "light"
     },
     "output_type": "display_data"
    }
   ],
   "source": [
    "# 散布図行列\n",
    "scatter_matrix(data)\n",
    "plt.show()"
   ]
  },
  {
   "cell_type": "code",
   "execution_count": 19,
   "metadata": {},
   "outputs": [
    {
     "data": {
      "text/html": [
       "<div>\n",
       "<style scoped>\n",
       "    .dataframe tbody tr th:only-of-type {\n",
       "        vertical-align: middle;\n",
       "    }\n",
       "\n",
       "    .dataframe tbody tr th {\n",
       "        vertical-align: top;\n",
       "    }\n",
       "\n",
       "    .dataframe thead th {\n",
       "        text-align: right;\n",
       "    }\n",
       "</style>\n",
       "<table border=\"1\" class=\"dataframe\">\n",
       "  <thead>\n",
       "    <tr style=\"text-align: right;\">\n",
       "      <th></th>\n",
       "      <th>Channel</th>\n",
       "      <th>Region</th>\n",
       "      <th>Fresh</th>\n",
       "      <th>Milk</th>\n",
       "      <th>Grocery</th>\n",
       "      <th>Frozen</th>\n",
       "      <th>Detergents_Paper</th>\n",
       "      <th>Delicassen</th>\n",
       "    </tr>\n",
       "  </thead>\n",
       "  <tbody>\n",
       "    <tr>\n",
       "      <th>count</th>\n",
       "      <td>440.000000</td>\n",
       "      <td>440.000000</td>\n",
       "      <td>440.000000</td>\n",
       "      <td>440.000000</td>\n",
       "      <td>440.000000</td>\n",
       "      <td>440.000000</td>\n",
       "      <td>440.000000</td>\n",
       "      <td>440.000000</td>\n",
       "    </tr>\n",
       "    <tr>\n",
       "      <th>mean</th>\n",
       "      <td>1.322727</td>\n",
       "      <td>2.543182</td>\n",
       "      <td>12000.297727</td>\n",
       "      <td>5796.265909</td>\n",
       "      <td>7951.277273</td>\n",
       "      <td>3071.931818</td>\n",
       "      <td>2881.493182</td>\n",
       "      <td>1524.870455</td>\n",
       "    </tr>\n",
       "    <tr>\n",
       "      <th>std</th>\n",
       "      <td>0.468052</td>\n",
       "      <td>0.774272</td>\n",
       "      <td>12647.328865</td>\n",
       "      <td>7380.377175</td>\n",
       "      <td>9503.162829</td>\n",
       "      <td>4854.673333</td>\n",
       "      <td>4767.854448</td>\n",
       "      <td>2820.105937</td>\n",
       "    </tr>\n",
       "    <tr>\n",
       "      <th>min</th>\n",
       "      <td>1.000000</td>\n",
       "      <td>1.000000</td>\n",
       "      <td>3.000000</td>\n",
       "      <td>55.000000</td>\n",
       "      <td>3.000000</td>\n",
       "      <td>25.000000</td>\n",
       "      <td>3.000000</td>\n",
       "      <td>3.000000</td>\n",
       "    </tr>\n",
       "    <tr>\n",
       "      <th>25%</th>\n",
       "      <td>1.000000</td>\n",
       "      <td>2.000000</td>\n",
       "      <td>3127.750000</td>\n",
       "      <td>1533.000000</td>\n",
       "      <td>2153.000000</td>\n",
       "      <td>742.250000</td>\n",
       "      <td>256.750000</td>\n",
       "      <td>408.250000</td>\n",
       "    </tr>\n",
       "    <tr>\n",
       "      <th>50%</th>\n",
       "      <td>1.000000</td>\n",
       "      <td>3.000000</td>\n",
       "      <td>8504.000000</td>\n",
       "      <td>3627.000000</td>\n",
       "      <td>4755.500000</td>\n",
       "      <td>1526.000000</td>\n",
       "      <td>816.500000</td>\n",
       "      <td>965.500000</td>\n",
       "    </tr>\n",
       "    <tr>\n",
       "      <th>75%</th>\n",
       "      <td>2.000000</td>\n",
       "      <td>3.000000</td>\n",
       "      <td>16933.750000</td>\n",
       "      <td>7190.250000</td>\n",
       "      <td>10655.750000</td>\n",
       "      <td>3554.250000</td>\n",
       "      <td>3922.000000</td>\n",
       "      <td>1820.250000</td>\n",
       "    </tr>\n",
       "    <tr>\n",
       "      <th>max</th>\n",
       "      <td>2.000000</td>\n",
       "      <td>3.000000</td>\n",
       "      <td>112151.000000</td>\n",
       "      <td>73498.000000</td>\n",
       "      <td>92780.000000</td>\n",
       "      <td>60869.000000</td>\n",
       "      <td>40827.000000</td>\n",
       "      <td>47943.000000</td>\n",
       "    </tr>\n",
       "  </tbody>\n",
       "</table>\n",
       "</div>"
      ],
      "text/plain": [
       "          Channel      Region          Fresh          Milk       Grocery  \\\n",
       "count  440.000000  440.000000     440.000000    440.000000    440.000000   \n",
       "mean     1.322727    2.543182   12000.297727   5796.265909   7951.277273   \n",
       "std      0.468052    0.774272   12647.328865   7380.377175   9503.162829   \n",
       "min      1.000000    1.000000       3.000000     55.000000      3.000000   \n",
       "25%      1.000000    2.000000    3127.750000   1533.000000   2153.000000   \n",
       "50%      1.000000    3.000000    8504.000000   3627.000000   4755.500000   \n",
       "75%      2.000000    3.000000   16933.750000   7190.250000  10655.750000   \n",
       "max      2.000000    3.000000  112151.000000  73498.000000  92780.000000   \n",
       "\n",
       "             Frozen  Detergents_Paper    Delicassen  \n",
       "count    440.000000        440.000000    440.000000  \n",
       "mean    3071.931818       2881.493182   1524.870455  \n",
       "std     4854.673333       4767.854448   2820.105937  \n",
       "min       25.000000          3.000000      3.000000  \n",
       "25%      742.250000        256.750000    408.250000  \n",
       "50%     1526.000000        816.500000    965.500000  \n",
       "75%     3554.250000       3922.000000   1820.250000  \n",
       "max    60869.000000      40827.000000  47943.000000  "
      ]
     },
     "execution_count": 19,
     "metadata": {},
     "output_type": "execute_result"
    }
   ],
   "source": [
    "data.describe()"
   ]
  },
  {
   "cell_type": "code",
   "execution_count": 20,
   "metadata": {},
   "outputs": [],
   "source": [
    "new_data = data.drop(['Channel', 'Region'], axis=1)"
   ]
  },
  {
   "cell_type": "markdown",
   "metadata": {},
   "source": [
    "### 対数変換によるスケーリングを行う"
   ]
  },
  {
   "cell_type": "code",
   "execution_count": 21,
   "metadata": {},
   "outputs": [
    {
     "name": "stdout",
     "output_type": "stream",
     "text": [
      "\n",
      "Skew in numerical features: \n",
      "\n"
     ]
    },
    {
     "data": {
      "text/html": [
       "<div>\n",
       "<style scoped>\n",
       "    .dataframe tbody tr th:only-of-type {\n",
       "        vertical-align: middle;\n",
       "    }\n",
       "\n",
       "    .dataframe tbody tr th {\n",
       "        vertical-align: top;\n",
       "    }\n",
       "\n",
       "    .dataframe thead th {\n",
       "        text-align: right;\n",
       "    }\n",
       "</style>\n",
       "<table border=\"1\" class=\"dataframe\">\n",
       "  <thead>\n",
       "    <tr style=\"text-align: right;\">\n",
       "      <th></th>\n",
       "      <th>Skew</th>\n",
       "    </tr>\n",
       "  </thead>\n",
       "  <tbody>\n",
       "    <tr>\n",
       "      <th>Delicassen</th>\n",
       "      <td>11.113534</td>\n",
       "    </tr>\n",
       "    <tr>\n",
       "      <th>Frozen</th>\n",
       "      <td>5.887826</td>\n",
       "    </tr>\n",
       "    <tr>\n",
       "      <th>Milk</th>\n",
       "      <td>4.039922</td>\n",
       "    </tr>\n",
       "    <tr>\n",
       "      <th>Detergents_Paper</th>\n",
       "      <td>3.619458</td>\n",
       "    </tr>\n",
       "    <tr>\n",
       "      <th>Grocery</th>\n",
       "      <td>3.575187</td>\n",
       "    </tr>\n",
       "    <tr>\n",
       "      <th>Fresh</th>\n",
       "      <td>2.552583</td>\n",
       "    </tr>\n",
       "  </tbody>\n",
       "</table>\n",
       "</div>"
      ],
      "text/plain": [
       "                       Skew\n",
       "Delicassen        11.113534\n",
       "Frozen             5.887826\n",
       "Milk               4.039922\n",
       "Detergents_Paper   3.619458\n",
       "Grocery            3.575187\n",
       "Fresh              2.552583"
      ]
     },
     "execution_count": 21,
     "metadata": {},
     "output_type": "execute_result"
    }
   ],
   "source": [
    "from scipy import stats\n",
    "from scipy.stats import norm, skew #for some statistics\n",
    "\n",
    "numeric_feats = new_data.dtypes[new_data.dtypes != \"object\"].index\n",
    "\n",
    "# Check the skew of all numerical features\n",
    "skewed_feats = new_data[numeric_feats].apply(lambda x: skew(x.dropna())).sort_values(ascending=False)\n",
    "print(\"\\nSkew in numerical features: \\n\")\n",
    "skewness = pd.DataFrame({'Skew' :skewed_feats})\n",
    "skewness.head(15)"
   ]
  },
  {
   "cell_type": "code",
   "execution_count": 22,
   "metadata": {},
   "outputs": [
    {
     "name": "stdout",
     "output_type": "stream",
     "text": [
      "There are 6 skewed numerical features to Box Cox transform\n"
     ]
    }
   ],
   "source": [
    "skewness = skewness[abs(skewness) > 0.75]\n",
    "print(\"There are {} skewed numerical features to Box Cox transform\".format(skewness.shape[0]))\n",
    "\n",
    "from scipy.special import boxcox1p\n",
    "skewed_features = skewness.index\n",
    "lam = 0.15\n",
    "for feat in skewed_features:\n",
    "    #new_data[feat] += 1\n",
    "    new_data[feat] = boxcox1p(new_data[feat], lam)"
   ]
  },
  {
   "cell_type": "code",
   "execution_count": 23,
   "metadata": {},
   "outputs": [
    {
     "name": "stderr",
     "output_type": "stream",
     "text": [
      "/Library/Frameworks/Python.framework/Versions/3.7/lib/python3.7/site-packages/ipykernel_launcher.py:1: FutureWarning: pandas.scatter_matrix is deprecated, use pandas.plotting.scatter_matrix instead\n",
      "  \"\"\"Entry point for launching an IPython kernel.\n"
     ]
    },
    {
     "data": {
      "image/png": "[encoded data removed]",
      "text/plain": [
       "<Figure size 432x288 with 36 Axes>"
      ]
     },
     "metadata": {
      "needs_background": "light"
     },
     "output_type": "display_data"
    }
   ],
   "source": [
    "scatter_matrix(new_data)\n",
    "plt.show()"
   ]
  },
  {
   "cell_type": "code",
   "execution_count": 24,
   "metadata": {},
   "outputs": [],
   "source": [
    "from sklearn.decomposition import PCA\n",
    "pca = PCA(n_components = 2)     # 可視化するためにPCAで特徴量を2個に減らす\n",
    "pca = pca.fit(new_data)\n",
    "data_pca = pca.transform(new_data)"
   ]
  },
  {
   "cell_type": "code",
   "execution_count": 25,
   "metadata": {},
   "outputs": [
    {
     "data": {
      "text/plain": [
       "(440, 2)"
      ]
     },
     "execution_count": 25,
     "metadata": {},
     "output_type": "execute_result"
    }
   ],
   "source": [
    "data_pca.shape"
   ]
  },
  {
   "cell_type": "code",
   "execution_count": 26,
   "metadata": {},
   "outputs": [
    {
     "data": {
      "image/png": "[encoded data removed]",
      "text/plain": [
       "<Figure size 504x432 with 1 Axes>"
      ]
     },
     "metadata": {
      "needs_background": "light"
     },
     "output_type": "display_data"
    }
   ],
   "source": [
    "# 描画してみる\n",
    "plt.figure(figsize=(7, 6))\n",
    "plt.scatter(data_pca[:, 0], data_pca[:, 1], c='b', marker='o', s=50)\n",
    "plt.axis('equal')\n",
    "plt.grid()\n",
    "plt.show()"
   ]
  },
  {
   "cell_type": "code",
   "execution_count": 27,
   "metadata": {},
   "outputs": [
    {
     "ename": "TypeError",
     "evalue": "__init__() got an unexpected keyword argument 'cluster'",
     "output_type": "error",
     "traceback": [
      "\u001b[0;31m---------------------------------------------------------------------------\u001b[0m",
      "\u001b[0;31mTypeError\u001b[0m                                 Traceback (most recent call last)",
      "\u001b[0;32m<ipython-input-27-e96694195a81>\u001b[0m in \u001b[0;36m<module>\u001b[0;34m\u001b[0m\n\u001b[0;32m----> 1\u001b[0;31m \u001b[0mskm3\u001b[0m \u001b[0;34m=\u001b[0m \u001b[0mScratchKMeans\u001b[0m\u001b[0;34m(\u001b[0m\u001b[0mcluster\u001b[0m\u001b[0;34m=\u001b[0m\u001b[0;36m4\u001b[0m\u001b[0;34m,\u001b[0m \u001b[0miteration\u001b[0m \u001b[0;34m=\u001b[0m \u001b[0;36m10\u001b[0m\u001b[0;34m)\u001b[0m\u001b[0;34m\u001b[0m\u001b[0m\n\u001b[0m\u001b[1;32m      2\u001b[0m \u001b[0mskm3\u001b[0m\u001b[0;34m.\u001b[0m\u001b[0melbow\u001b[0m\u001b[0;34m(\u001b[0m\u001b[0mdata_pca\u001b[0m\u001b[0;34m,\u001b[0m \u001b[0;36m20\u001b[0m\u001b[0;34m)\u001b[0m\u001b[0;34m\u001b[0m\u001b[0m\n\u001b[1;32m      3\u001b[0m \u001b[0msse3\u001b[0m \u001b[0;34m=\u001b[0m \u001b[0mskm2\u001b[0m\u001b[0;34m.\u001b[0m\u001b[0melbow\u001b[0m\u001b[0;34m(\u001b[0m\u001b[0mdata_pca\u001b[0m\u001b[0;34m,\u001b[0m \u001b[0;36m20\u001b[0m\u001b[0;34m)\u001b[0m\u001b[0;34m\u001b[0m\u001b[0m\n",
      "\u001b[0;31mTypeError\u001b[0m: __init__() got an unexpected keyword argument 'cluster'"
     ]
    }
   ],
   "source": [
    "skm3 = ScratchKMeans(cluster=4, iteration = 10)\n",
    "skm3.elbow(data_pca, 20)\n",
    "sse3 = skm2.elbow(data_pca, 20)"
   ]
  },
  {
   "cell_type": "code",
   "execution_count": null,
   "metadata": {},
   "outputs": [],
   "source": [
    "# 上手く描画出来たけど、正規化していない。。\n",
    "plt.plot(range(0,20), sse3)\n",
    "plt.show()"
   ]
  },
  {
   "cell_type": "markdown",
   "metadata": {},
   "source": [
    "#### PCAのサンプルコード"
   ]
  },
  {
   "cell_type": "code",
   "execution_count": null,
   "metadata": {},
   "outputs": [],
   "source": [
    "data_pca.shape"
   ]
  },
  {
   "cell_type": "code",
   "execution_count": null,
   "metadata": {},
   "outputs": [],
   "source": [
    "label2 = np.random.randint(0,4,440)   # 初期のラベルを作る"
   ]
  },
  {
   "cell_type": "code",
   "execution_count": null,
   "metadata": {},
   "outputs": [],
   "source": [
    "# K-meansのクラス\n",
    "class ScratchKMeans:\n",
    "    \n",
    "    def __init__(self, label2, iteration2):\n",
    "        self.label2 = label2\n",
    "        self.iteration2 = iteration2       \n",
    "    \n",
    "    # 中心点表を作成する関数\n",
    "    def _get_center_point2(self, X):\n",
    "        \n",
    "        # 中心点表を初期化する\n",
    "        self.center_point2_list = []\n",
    "\n",
    "        for i in np.unique(self.label2):\n",
    "\n",
    "            # X0軸方向の平均\n",
    "            X0_sum = X[self.label2 == i][:, 0].sum()\n",
    "            X0_cnt = len(X[self.label2 == i])\n",
    "            X0_point = X0_sum / X0_cnt\n",
    "\n",
    "            # X1軸方向の平均\n",
    "            X1_sum = X[self.label2 == i][:, 1].sum()\n",
    "            X1_cnt = len(X[self.label2 == i])\n",
    "            X1_point = X1_sum / X1_cnt\n",
    "\n",
    "            # 中心点（重心）を求める\n",
    "            center_point2 = [X0_point, X1_point]\n",
    "\n",
    "            # 中心点表を作成する\n",
    "            self.center_point2_list.append(center_point)\n",
    "            #print(self.center_point_list[1:])\n",
    "    \n",
    "    # 中心点と全データとの距離を求める関数\n",
    "    def _get_distance(self, X):\n",
    "        self._get_center_point2(X)\n",
    "        distance_list = np.zeros((len(X), len(self.center_point2_list)))\n",
    "        #print(distance_list)\n",
    "\n",
    "        for i, values in enumerate(self.center_point2_list):\n",
    "\n",
    "            # 重心と全データとの距離を取得する\n",
    "            for j in range(len(X)):\n",
    "                \n",
    "                # 2列目、３列目だけをとる\n",
    "                diff = values - X[j]\n",
    "                distance = np.linalg.norm(diff)\n",
    "                distance_list[j, i] = distance\n",
    "                #print(distance_list)\n",
    "        \n",
    "        return distance_list\n",
    "    \n",
    "    # 全データの一番近いクラスタラベルをゲット出来た\n",
    "    def fit(self, X):\n",
    "        # なので、新しいクラスラベルの値へ、古いクラスラベルを更新してあげる\n",
    "        for i in range(self.iteration2):\n",
    "            self.label2 = np.argmin(self._get_distance(X), axis=1)\n",
    "            \n",
    "            # 今時点の中心点を保持しておく\n",
    "            pre_center_point2_list = self.center_point2_list\n",
    "            \n",
    "            # 中心を求める関数を呼び出す\n",
    "            self._get_distance(X)\n",
    "            \n",
    "            \n",
    "            # 前後で中心点を比較して同じならイテレーションを終了する\n",
    "            if pre_center_point2_list == self.center_point2_list:\n",
    "                print(\"---the END---\")\n",
    "                print(self.center_point2_list)\n",
    "            else:\n",
    "                print(\"--to be continued--\")"
   ]
  },
  {
   "cell_type": "code",
   "execution_count": null,
   "metadata": {},
   "outputs": [],
   "source": [
    "# クラスを実行\n",
    "skm = ScratchKMeans(cluster=4, iteration = 10)\n",
    "skm.fit(X)\n",
    "skm.center_point_list"
   ]
  },
  {
   "cell_type": "markdown",
   "metadata": {},
   "source": [
    "#### PCAの分散説明率を表示するコードサンプル"
   ]
  },
  {
   "cell_type": "code",
   "execution_count": null,
   "metadata": {},
   "outputs": [],
   "source": [
    "# pca = PCA(n_components=None)\n",
    "# pca = pca.fit(data)\n",
    "# var_exp = pca.explained_variance_ratio_\n",
    "# cum_var_exp = np.cumsum(var_exp)\n",
    "# print(cum_var_exp)\n",
    "# plt.bar(range(1,7), var_exp, alpha=0.5, align='center', label='individual explained variance')\n",
    "# plt.step(range(1,7), cum_var_exp, where='mid', label='cumulative expalined variance')\n",
    "# plt.ylabel('Explained variance ratio')\n",
    "# plt.xlabel('Principal components')\n",
    "# plt.hlines(0.7, 0, 6,  \"blue\", linestyles='dashed')\n",
    "# plt.legend(loc='best')\n",
    "# plt.grid()\n",
    "# plt.show()"
   ]
  },
  {
   "cell_type": "code",
   "execution_count": null,
   "metadata": {},
   "outputs": [],
   "source": []
  },
  {
   "cell_type": "code",
   "execution_count": null,
   "metadata": {},
   "outputs": [],
   "source": [
    "# fig, ax = plt.subplots()\n",
    "# # 散布図（クラスタ1)\n",
    "# ax.scatter =(X[skm2.label == 0], [ :,0], s=50, edgecolor='black' , marker='s' , skm2.label='Cluster 1')\n",
    "# # クラスタ中心（クラスタ１）\n",
    "# ax.plot(center_point_list(X[skm2.label == 0, 0]), center_point_list(X[skm2.label == 0, 1]), marker='x', markersize=10, color='red' )\n",
    "# # 散布図（クラスタ2)\n",
    "# ax.scatter =(X[label == 1, 0], X[skm2.label == 1, 1], s=50, edgecolor='black' , marker='o' , skm2.label='Cluster 2')\n",
    "# # クラスタ中心（クラスタ2）\n",
    "# ax.plot(center_point_list(X[skm2.label == 1, 0]), center_point_list(X[skm2.label == 1, 1]), marker='x', markersize=10, color='red' )\n",
    "# # 散布図（クラスタ3)\n",
    "# ax.scatter =(X[skm2.label == 2, 0], X[skm2.label == 2, 1], s=50, edgecolor='black' , marker='v' , skm.label='Cluster 3')\n",
    "# # クラスタ中心（クラスタ3）\n",
    "# ax.plot(center_point_list(X[skm2.label == 2, 0]), center_point_list(X[skm2.label == 2, 1]), marker='x', markersize=10, color='red' )\n",
    "# # 散布図（クラスタ4)\n",
    "# ax.scatter =(X[skm2.label == 2, 1], X[skm2.label == 2, 2], s=50, edgecolor='black' , marker='D' , skm.label='Cluster 4')\n",
    "# # クラスタ中心（クラスタ4）\n",
    "# ax.plot(center_point_list(X[skm2.label == 2, 1]), center_point_list(X[skm2.label == 2, 2]), marker='x', markersize=10, color='red' )"
   ]
  },
  {
   "cell_type": "code",
   "execution_count": null,
   "metadata": {
    "scrolled": true
   },
   "outputs": [],
   "source": [
    "# for i in range(0, 4):\n",
    "#     print((X[label ==i][:,0].sum(axis=0)/len(X[label ==i])),(X[label ==i][:,1].sum(axis=0)/len(X[label ==i])))"
   ]
  },
  {
   "cell_type": "code",
   "execution_count": null,
   "metadata": {},
   "outputs": [],
   "source": [
    "# for i in np.unique(label):\n",
    "#     # X0軸方向の平均\n",
    "#     X0_sum = X[label == i][:, 0].sum()\n",
    "#     X0_cnt = len(X[label == i])\n",
    "#     X0_point = X0_sum / X0_cnt\n",
    "\n",
    "#     # X1軸方向の平均\n",
    "#     X1_sum = X[label == i][:, 1].sum()\n",
    "#     X1_cnt = len(X[label == i])\n",
    "#     X1_point = X1_sum / X1_cnt\n",
    "\n",
    "#     # 中心点（重心）を求める\n",
    "#     center_point = [X0_point, X1_point]\n",
    "    \n",
    "#     center_point_list.append(center_point)\n",
    "#     distance_list = np.zeros((len(X), len(center_point_list)))\n",
    "#     for i, values in enumerate(center_point_list):\n",
    "#         for j in range(len(X)): \n",
    "#             diff = values - X[j]\n",
    "#             distance = np.linalg.norm(diff)\n",
    "#             distance_list[j, i] = distance"
   ]
  },
  {
   "cell_type": "code",
   "execution_count": null,
   "metadata": {},
   "outputs": [],
   "source": [
    "#dff = np.zeros((100,4))  # np.zerosの箱を作る"
   ]
  },
  {
   "cell_type": "code",
   "execution_count": null,
   "metadata": {},
   "outputs": [],
   "source": [
    "# for i in range(0, 4):\n",
    "#     print((X[label ==i][:,0].sum(axis=0)/len(X[label ==i])),(X[label ==i][:,1].sum(axis=0)/len(X[label ==i])))\n",
    "    "
   ]
  },
  {
   "cell_type": "code",
   "execution_count": null,
   "metadata": {},
   "outputs": [],
   "source": [
    "# (X[label ==0][:,0].sum(axis=0)/len(X[label ==0])),(X[label ==0][:,1].sum(axis=0)/len(X[label ==0]))"
   ]
  },
  {
   "cell_type": "code",
   "execution_count": null,
   "metadata": {},
   "outputs": [],
   "source": [
    "# a = np.array([1,2])\n",
    "# b = np.array([3,4])\n",
    "# c = a - b\n",
    "# np.linalg.norm(c)"
   ]
  },
  {
   "cell_type": "code",
   "execution_count": null,
   "metadata": {},
   "outputs": [],
   "source": [
    "# b = (X[label ==0][:,0].sum(axis=0)/len(X[label ==0])),(X[label ==0][:,1].sum(axis=0)/len(X[label ==0]))\n",
    "# for j in range(0, 100): \n",
    "#     a = X[j,:]\n",
    "#     u = b - a\n",
    "#     print(np.linalg.norm(u)) "
   ]
  },
  {
   "cell_type": "code",
   "execution_count": null,
   "metadata": {},
   "outputs": [],
   "source": [
    "# # d = 0\n",
    "# for j in range(0, 100): \n",
    "#     a = X[j,:]\n",
    "#     b = (X[label ==0][:,0].sum(axis=0)/len(X[label ==0]),X[label ==0][:,1].sum(axis=0)/len(X[label ==0]))\n",
    "#     u = b - a\n",
    "#     print(np.linalg.norm(u))\n",
    "#     d += 1\n",
    "# #     print(d)"
   ]
  },
  {
   "cell_type": "code",
   "execution_count": null,
   "metadata": {},
   "outputs": [],
   "source": [
    "# (X[label ==i][:,0].sum(axis=0)/len(X[label ==i]),X[label ==i][:,1].sum(axis=0)/len(X[label ==i]))"
   ]
  },
  {
   "cell_type": "code",
   "execution_count": null,
   "metadata": {},
   "outputs": [],
   "source": []
  },
  {
   "cell_type": "code",
   "execution_count": null,
   "metadata": {},
   "outputs": [],
   "source": []
  },
  {
   "cell_type": "code",
   "execution_count": null,
   "metadata": {},
   "outputs": [],
   "source": []
  },
  {
   "cell_type": "code",
   "execution_count": null,
   "metadata": {},
   "outputs": [],
   "source": []
  },
  {
   "cell_type": "code",
   "execution_count": null,
   "metadata": {},
   "outputs": [],
   "source": []
  },
  {
   "cell_type": "code",
   "execution_count": null,
   "metadata": {},
   "outputs": [],
   "source": []
  },
  {
   "cell_type": "code",
   "execution_count": null,
   "metadata": {},
   "outputs": [],
   "source": []
  },
  {
   "cell_type": "code",
   "execution_count": null,
   "metadata": {},
   "outputs": [],
   "source": []
  },
  {
   "cell_type": "code",
   "execution_count": null,
   "metadata": {},
   "outputs": [],
   "source": []
  },
  {
   "cell_type": "code",
   "execution_count": null,
   "metadata": {},
   "outputs": [],
   "source": []
  }
 ],
 "metadata": {
  "kernelspec": {
   "display_name": "Python 3",
   "language": "python",
   "name": "python3"
  },
  "language_info": {
   "codemirror_mode": {
    "name": "ipython",
    "version": 3
   },
   "file_extension": ".py",
   "mimetype": "text/x-python",
   "name": "python",
   "nbconvert_exporter": "python",
   "pygments_lexer": "ipython3",
   "version": "3.7.0"
  }
 },
 "nbformat": 4,
 "nbformat_minor": 2
}
