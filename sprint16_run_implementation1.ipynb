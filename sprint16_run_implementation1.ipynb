{
  "nbformat": 4,
  "nbformat_minor": 0,
  "metadata": {
    "colab": {
      "name": "sprint16-run-implementation1.ipynb",
      "version": "0.3.2",
      "provenance": [],
      "collapsed_sections": [],
      "include_colab_link": true
    },
    "kernelspec": {
      "name": "python3",
      "display_name": "Python 3"
    },
    "accelerator": "GPU"
  },
  "cells": [
    {
      "cell_type": "markdown",
      "metadata": {
        "id": "view-in-github",
        "colab_type": "text"
      },
      "source": [
        "<a href=\"https://colab.research.google.com/github/Takasan123/diveintocode-term1/blob/master/sprint16_run_implementation1.ipynb\" target=\"_parent\"><img src=\"https://colab.research.google.com/assets/colab-badge.svg\" alt=\"Open In Colab\"/></a>"
      ]
    },
    {
      "metadata": {
        "id": "i2XK4vH84qyE",
        "colab_type": "code",
        "colab": {
          "base_uri": "https://localhost:8080/",
          "height": 867
        },
        "outputId": "ea0accbf-c27c-4bed-8feb-4f667e3c1468"
      },
      "cell_type": "code",
      "source": [
        "import keras\n",
        "from keras.datasets import mnist\n",
        "from keras.models import Model\n",
        "from keras.layers import Input, Dense, Dropout, Flatten\n",
        "from keras.layers import Conv2D, MaxPooling2D\n",
        "from keras.initializers import he_normal\n",
        "from keras import backend as K\n",
        "\n",
        "import time\n",
        "t0 = time.time()\n",
        "\n",
        "batch_size = 128\n",
        "num_classes = 10\n",
        "img_rows, img_cols = 28, 28\n",
        "epochs = 10\n",
        "\n",
        "(x_train, y_train), (x_test, y_test) = mnist.load_data()\n",
        "\n",
        "if K.image_data_format() == 'channels_first':\n",
        "    x_train = x_train.reshape(x_train.shape[0], 1, img_rows, img_cols)\n",
        "    x_test = x_test.reshape(x_test.shape[0], 1, img_rows, img_cols)\n",
        "    input_shape = (1, img_rows, img_cols)\n",
        "else:\n",
        "    x_train = x_train.reshape(x_train.shape[0], img_rows, img_cols, 1)\n",
        "    x_test = x_test.reshape(x_test.shape[0], img_rows, img_cols, 1)\n",
        "    input_shape = (img_rows, img_cols, 1)\n",
        "\n",
        "x_train = x_train.astype('float32')\n",
        "x_test = x_test.astype('float32')\n",
        "x_train /= 255\n",
        "x_test /= 255\n",
        "print('x_train shape:', x_train.shape)\n",
        "print(x_train.shape[0], 'train samples')\n",
        "print(x_test.shape[0], 'test samples')\n",
        "\n",
        "y_train = keras.utils.to_categorical(y_train, num_classes)\n",
        "y_test = keras.utils.to_categorical(y_test, num_classes)\n",
        "\n",
        "\n",
        "inputs = Input(shape=(28, 28, 1))\n",
        "x = Conv2D(32, kernel_size=(3, 3),\n",
        "                 activation='relu',\n",
        "                 kernel_initializer=he_normal(seed=None),\n",
        "                 input_shape=input_shape)(inputs)\n",
        "x = Conv2D(64, (3, 3), activation='relu', kernel_initializer=he_normal(seed=None))(x)\n",
        "x = MaxPooling2D(pool_size=(2, 2))(x)\n",
        "x = Flatten()(x)\n",
        "predictions = Dense(num_classes, activation='softmax', kernel_initializer=he_normal(seed=None))(x)\n",
        "model = Model(inputs=inputs, outputs=predictions)\n",
        "\n",
        "model.compile(loss=keras.losses.categorical_crossentropy,\n",
        "              optimizer=keras.optimizers.Adadelta(),\n",
        "              metrics=['accuracy'])\n",
        "\n",
        "print(model.summary())\n",
        "\n",
        "model.fit(x_train, y_train,\n",
        "          batch_size=batch_size,\n",
        "          epochs=epochs,\n",
        "          verbose=1,\n",
        "          validation_data=(x_test, y_test))\n",
        "score = model.evaluate(x_test, y_test, verbose=0)\n",
        "print('Test loss:', score[0])\n",
        "print('Test accuracy:', score[1])\n",
        "t1 = time.time()\n",
        "print('Time: {}[s]'.format(t1-t0))"
      ],
      "execution_count": 1,
      "outputs": [
        {
          "output_type": "stream",
          "text": [
            "Using TensorFlow backend.\n"
          ],
          "name": "stderr"
        },
        {
          "output_type": "stream",
          "text": [
            "Downloading data from https://s3.amazonaws.com/img-datasets/mnist.npz\n",
            "11493376/11490434 [==============================] - 2s 0us/step\n",
            "x_train shape: (60000, 28, 28, 1)\n",
            "60000 train samples\n",
            "10000 test samples\n",
            "_________________________________________________________________\n",
            "Layer (type)                 Output Shape              Param #   \n",
            "=================================================================\n",
            "input_1 (InputLayer)         (None, 28, 28, 1)         0         \n",
            "_________________________________________________________________\n",
            "conv2d_1 (Conv2D)            (None, 26, 26, 32)        320       \n",
            "_________________________________________________________________\n",
            "conv2d_2 (Conv2D)            (None, 24, 24, 64)        18496     \n",
            "_________________________________________________________________\n",
            "max_pooling2d_1 (MaxPooling2 (None, 12, 12, 64)        0         \n",
            "_________________________________________________________________\n",
            "flatten_1 (Flatten)          (None, 9216)              0         \n",
            "_________________________________________________________________\n",
            "dense_1 (Dense)              (None, 10)                92170     \n",
            "=================================================================\n",
            "Total params: 110,986\n",
            "Trainable params: 110,986\n",
            "Non-trainable params: 0\n",
            "_________________________________________________________________\n",
            "None\n",
            "Train on 60000 samples, validate on 10000 samples\n",
            "Epoch 1/10\n",
            "60000/60000 [==============================] - 11s 189us/step - loss: 0.1674 - acc: 0.9487 - val_loss: 0.0580 - val_acc: 0.9814\n",
            "Epoch 2/10\n",
            "60000/60000 [==============================] - 7s 120us/step - loss: 0.0537 - acc: 0.9835 - val_loss: 0.0419 - val_acc: 0.9861\n",
            "Epoch 3/10\n",
            "60000/60000 [==============================] - 7s 120us/step - loss: 0.0383 - acc: 0.9884 - val_loss: 0.0477 - val_acc: 0.9847\n",
            "Epoch 4/10\n",
            "60000/60000 [==============================] - 7s 120us/step - loss: 0.0298 - acc: 0.9915 - val_loss: 0.0431 - val_acc: 0.9862\n",
            "Epoch 5/10\n",
            "60000/60000 [==============================] - 7s 121us/step - loss: 0.0236 - acc: 0.9929 - val_loss: 0.0354 - val_acc: 0.9888\n",
            "Epoch 6/10\n",
            "60000/60000 [==============================] - 7s 121us/step - loss: 0.0180 - acc: 0.9950 - val_loss: 0.0387 - val_acc: 0.9884\n",
            "Epoch 7/10\n",
            "60000/60000 [==============================] - 7s 121us/step - loss: 0.0150 - acc: 0.9956 - val_loss: 0.0384 - val_acc: 0.9880\n",
            "Epoch 8/10\n",
            "60000/60000 [==============================] - 7s 120us/step - loss: 0.0124 - acc: 0.9966 - val_loss: 0.0399 - val_acc: 0.9884\n",
            "Epoch 9/10\n",
            "60000/60000 [==============================] - 7s 120us/step - loss: 0.0101 - acc: 0.9972 - val_loss: 0.0361 - val_acc: 0.9889\n",
            "Epoch 10/10\n",
            "60000/60000 [==============================] - 7s 120us/step - loss: 0.0081 - acc: 0.9979 - val_loss: 0.0439 - val_acc: 0.9885\n",
            "Test loss: 0.04389365090413485\n",
            "Test accuracy: 0.9885\n",
            "Time: 80.9186418056488[s]\n"
          ],
          "name": "stdout"
        }
      ]
    },
    {
      "metadata": {
        "id": "MKxM0Noi4365",
        "colab_type": "code",
        "colab": {}
      },
      "cell_type": "code",
      "source": [
        ""
      ],
      "execution_count": 0,
      "outputs": []
    }
  ]
}