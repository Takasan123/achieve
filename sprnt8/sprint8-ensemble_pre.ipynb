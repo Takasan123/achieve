{
 "cells": [
  {
   "cell_type": "markdown",
   "metadata": {},
   "source": [
    "### Sprint8 アンサンブル学習"
   ]
  },
  {
   "cell_type": "code",
   "execution_count": 1,
   "metadata": {
    "collapsed": true
   },
   "outputs": [],
   "source": [
    "import pandas as pd\n",
    "import numpy as np\n",
    "%matplotlib inline\n",
    "import matplotlib.pyplot as plt\n",
    "from sklearn.model_selection import train_test_split\n",
    "import warnings\n",
    "warnings.filterwarnings(\"ignore\")"
   ]
  },
  {
   "cell_type": "markdown",
   "metadata": {},
   "source": [
    "### データセットの用意"
   ]
  },
  {
   "cell_type": "code",
   "execution_count": 2,
   "metadata": {
    "collapsed": false
   },
   "outputs": [
    {
     "data": {
      "text/html": [
       "<div>\n",
       "<table border=\"1\" class=\"dataframe\">\n",
       "  <thead>\n",
       "    <tr style=\"text-align: right;\">\n",
       "      <th></th>\n",
       "      <th>SalePrice</th>\n",
       "      <th>GrLivArea</th>\n",
       "      <th>YearBuilt</th>\n",
       "    </tr>\n",
       "  </thead>\n",
       "  <tbody>\n",
       "    <tr>\n",
       "      <th>0</th>\n",
       "      <td>208500</td>\n",
       "      <td>1710</td>\n",
       "      <td>2003</td>\n",
       "    </tr>\n",
       "    <tr>\n",
       "      <th>1</th>\n",
       "      <td>181500</td>\n",
       "      <td>1262</td>\n",
       "      <td>1976</td>\n",
       "    </tr>\n",
       "    <tr>\n",
       "      <th>2</th>\n",
       "      <td>223500</td>\n",
       "      <td>1786</td>\n",
       "      <td>2001</td>\n",
       "    </tr>\n",
       "    <tr>\n",
       "      <th>3</th>\n",
       "      <td>140000</td>\n",
       "      <td>1717</td>\n",
       "      <td>1915</td>\n",
       "    </tr>\n",
       "    <tr>\n",
       "      <th>4</th>\n",
       "      <td>250000</td>\n",
       "      <td>2198</td>\n",
       "      <td>2000</td>\n",
       "    </tr>\n",
       "  </tbody>\n",
       "</table>\n",
       "</div>"
      ],
      "text/plain": [
       "   SalePrice  GrLivArea  YearBuilt\n",
       "0     208500       1710       2003\n",
       "1     181500       1262       1976\n",
       "2     223500       1786       2001\n",
       "3     140000       1717       1915\n",
       "4     250000       2198       2000"
      ]
     },
     "execution_count": 2,
     "metadata": {},
     "output_type": "execute_result"
    }
   ],
   "source": [
    "df = pd.read_csv(\"./train.csv\")\n",
    "df =df[['SalePrice','GrLivArea','YearBuilt']]\n",
    "df.head()"
   ]
  },
  {
   "cell_type": "code",
   "execution_count": 3,
   "metadata": {
    "collapsed": true
   },
   "outputs": [],
   "source": [
    "X = df[['GrLivArea','YearBuilt']].values  # 説明変数は'GrLivArea','YearBuilt'\n",
    "y = df[['SalePrice']].values  # 目的変数は'SalePrice'"
   ]
  },
  {
   "cell_type": "code",
   "execution_count": 4,
   "metadata": {
    "collapsed": false
   },
   "outputs": [
    {
     "data": {
      "text/plain": [
       "(1460, 2)"
      ]
     },
     "execution_count": 4,
     "metadata": {},
     "output_type": "execute_result"
    }
   ],
   "source": [
    "X.shape"
   ]
  },
  {
   "cell_type": "code",
   "execution_count": 5,
   "metadata": {
    "collapsed": false
   },
   "outputs": [
    {
     "data": {
      "text/plain": [
       "(1460, 1)"
      ]
     },
     "execution_count": 5,
     "metadata": {},
     "output_type": "execute_result"
    }
   ],
   "source": [
    "y.shape"
   ]
  },
  {
   "cell_type": "code",
   "execution_count": 6,
   "metadata": {
    "collapsed": true
   },
   "outputs": [],
   "source": [
    "X_train, X_test, y_train, y_test = train_test_split(X, y, test_size=0.2, random_state=42)"
   ]
  },
  {
   "cell_type": "code",
   "execution_count": 7,
   "metadata": {
    "collapsed": true
   },
   "outputs": [],
   "source": [
    "def train_test_split(X, y, train_size):\n",
    "    \"\"\"\n",
    "    学習用データを分割する。\n",
    "\n",
    "    Parameters\n",
    "    ----------\n",
    "    X : 次の形のndarray, shape (n_samples, n_features)\n",
    "      学習データ\n",
    "    y : 次の形のndarray, shape (n_samples, )\n",
    "      正解値\n",
    "    train_size : float (0<train_size<1)\n",
    "      何割をtrainとするか指定\n",
    "\n",
    "    Returns\n",
    "    ----------\n",
    "    X_train : 次の形のndarray, shape (n_samples, n_features)\n",
    "      学習データ\n",
    "    X_test : 次の形のndarray, shape (n_samples, n_features)\n",
    "      検証データ\n",
    "    y_train : 次の形のndarray, shape (n_samples, )\n",
    "      学習データの正解値\n",
    "    y_test : 次の形のndarray, shape (n_samples, )\n",
    "      検証データの正解値\n",
    "    \"\"\"\n",
    "    #ここにコードを書く\n",
    "    pass\n",
    "    train_num  = np.fix(len(X) * train_size)\n",
    "    test_num = len(X) - train_num\n",
    "    X_len = len(X)\n",
    "    Xy = pd.concat([X, y])\n",
    "    Xy.take(np.random.permutation(len(Xy)))\n",
    "    X = Xy[:1]\n",
    "#     y =\n",
    "    X_train = 1\n",
    "    X_test =1\n",
    "    y_train =1\n",
    "    y_test =1\n",
    "    \n",
    "#     return X_train, X_test, y_train, y_test\n",
    "    return "
   ]
  },
  {
   "cell_type": "code",
   "execution_count": 8,
   "metadata": {
    "collapsed": true
   },
   "outputs": [],
   "source": [
    "SalePrice =df['SalePrice']\n",
    "GrLivArea =df['GrLivArea']\n",
    "YearBuilt =df['YearBuilt']"
   ]
  },
  {
   "cell_type": "code",
   "execution_count": 9,
   "metadata": {
    "collapsed": false
   },
   "outputs": [
    {
     "data": {
      "image/png": "[encoded data removed]",
      "text/plain": [
       "<Figure size 432x288 with 1 Axes>"
      ]
     },
     "metadata": {},
     "output_type": "display_data"
    }
   ],
   "source": [
    "plt.scatter(GrLivArea, SalePrice)\n",
    "plt.title(\"GrLivArea, SalePrice\")\n",
    "plt.xlabel(\"GrLivArea\")\n",
    "plt.ylabel(\"SalePrice\")\n",
    "plt.grid(True)"
   ]
  },
  {
   "cell_type": "code",
   "execution_count": 10,
   "metadata": {
    "collapsed": false
   },
   "outputs": [
    {
     "data": {
      "image/png": "[encoded data removed]",
      "text/plain": [
       "<Figure size 432x288 with 1 Axes>"
      ]
     },
     "metadata": {},
     "output_type": "display_data"
    }
   ],
   "source": [
    "plt.scatter(YearBuilt, SalePrice)\n",
    "plt.title(\"YearBuilt, SalePrice\")\n",
    "plt.xlabel(\"YearBuilt\")\n",
    "plt.ylabel(\"SalePrice\")\n",
    "plt.grid(True)"
   ]
  },
  {
   "cell_type": "code",
   "execution_count": 11,
   "metadata": {
    "collapsed": false
   },
   "outputs": [],
   "source": [
    "# # sklearn.linear_model.LinearRegression クラスを読み込み\n",
    "# from sklearn import linear_model\n",
    "# clf = linear_model.LinearRegression()\n",
    "\n",
    "# # 予測モデルを作成\n",
    "# clf.fit(X, y)\n",
    "\n",
    "# # 回帰係数\n",
    "# print(clf.coef_)\n",
    " \n",
    "# # 切片 (誤差)\n",
    "# print(clf.intercept_)\n",
    " \n",
    "# # 決定係数\n",
    "# print(clf.score(X, y))"
   ]
  },
  {
   "cell_type": "markdown",
   "metadata": {},
   "source": [
    "### ブレンディング"
   ]
  },
  {
   "cell_type": "code",
   "execution_count": 24,
   "metadata": {
    "collapsed": false
   },
   "outputs": [],
   "source": [
    "lr_pred_list = np.zeros(X_train[0])\n",
    "tree_pred_list = np.zeros(X_train[0])"
   ]
  },
  {
   "cell_type": "code",
   "execution_count": 28,
   "metadata": {
    "collapsed": false
   },
   "outputs": [
    {
     "ename": "TypeError",
     "evalue": "__init__() got an unexpected keyword argument 'n_folds'",
     "output_type": "error",
     "traceback": [
      "\u001b[0;31m---------------------------------------------------------------------------\u001b[0m",
      "\u001b[0;31mTypeError\u001b[0m                                 Traceback (most recent call last)",
      "\u001b[0;32m<ipython-input-28-3e0699477066>\u001b[0m in \u001b[0;36m<module>\u001b[0;34m()\u001b[0m\n\u001b[1;32m      1\u001b[0m \u001b[0;32mfrom\u001b[0m \u001b[0msklearn\u001b[0m\u001b[0;34m.\u001b[0m\u001b[0mmodel_selection\u001b[0m \u001b[0;32mimport\u001b[0m \u001b[0mKFold\u001b[0m\u001b[0;34m\u001b[0m\u001b[0m\n\u001b[0;32m----> 2\u001b[0;31m \u001b[0mkf\u001b[0m \u001b[0;34m=\u001b[0m \u001b[0mKFold\u001b[0m\u001b[0;34m(\u001b[0m\u001b[0mX_train\u001b[0m\u001b[0;34m.\u001b[0m\u001b[0mshape\u001b[0m\u001b[0;34m[\u001b[0m\u001b[0;36m0\u001b[0m\u001b[0;34m]\u001b[0m\u001b[0;34m,\u001b[0m \u001b[0mn_folds\u001b[0m\u001b[0;34m=\u001b[0m\u001b[0;36m3\u001b[0m\u001b[0;34m,\u001b[0m \u001b[0mrandom_state\u001b[0m\u001b[0;34m=\u001b[0m\u001b[0;36m0\u001b[0m\u001b[0;34m)\u001b[0m\u001b[0;34m\u001b[0m\u001b[0m\n\u001b[0m",
      "\u001b[0;31mTypeError\u001b[0m: __init__() got an unexpected keyword argument 'n_folds'"
     ]
    }
   ],
   "source": [
    "from sklearn.model_selection import KFold\n",
    "kf = KFold(X_train.shape[0], n_folds=3, random_state=0)"
   ]
  },
  {
   "cell_type": "code",
   "execution_count": null,
   "metadata": {
    "collapsed": true
   },
   "outputs": [],
   "source": []
  },
  {
   "cell_type": "code",
   "execution_count": null,
   "metadata": {
    "collapsed": true
   },
   "outputs": [],
   "source": []
  },
  {
   "cell_type": "code",
   "execution_count": null,
   "metadata": {
    "collapsed": true
   },
   "outputs": [],
   "source": []
  },
  {
   "cell_type": "code",
   "execution_count": null,
   "metadata": {
    "collapsed": true
   },
   "outputs": [],
   "source": []
  },
  {
   "cell_type": "code",
   "execution_count": null,
   "metadata": {
    "collapsed": true
   },
   "outputs": [],
   "source": []
  },
  {
   "cell_type": "code",
   "execution_count": null,
   "metadata": {
    "collapsed": true
   },
   "outputs": [],
   "source": []
  },
  {
   "cell_type": "code",
   "execution_count": null,
   "metadata": {
    "collapsed": true
   },
   "outputs": [],
   "source": []
  },
  {
   "cell_type": "code",
   "execution_count": null,
   "metadata": {
    "collapsed": true
   },
   "outputs": [],
   "source": []
  },
  {
   "cell_type": "code",
   "execution_count": 13,
   "metadata": {
    "collapsed": false
   },
   "outputs": [
    {
     "name": "stdout",
     "output_type": "stream",
     "text": [
      "LinearRegression 2495554898.67\n",
      "SVR 7861854841.84\n",
      "DecisionTreeRegressor 2332950956.97\n",
      "---------------------------\n",
      "---------------------------\n",
      "---------------------------\n",
      "Ensemble 1971027008.16\n"
     ]
    }
   ],
   "source": [
    "# 回帰（数値を予測）、分類（ラベルを予測）\n",
    "from sklearn.linear_model import LinearRegression\n",
    "from sklearn.svm import SVR\n",
    "from sklearn.tree import DecisionTreeRegressor\n",
    "from sklearn.model_selection import cross_val_score\n",
    "from sklearn.metrics import accuracy_score\n",
    "regressor = DecisionTreeRegressor(random_state=0)\n",
    "cross_val_score(regressor, X_test, y_test, cv=10)\n",
    "\n",
    "\n",
    "Ir_reg = LinearRegression()\n",
    "svm_reg = SVR()\n",
    "tree_reg = DecisionTreeRegressor()\n",
    "\n",
    "# 予測モデルを作成\n",
    "# 家の価格\n",
    "# ->回帰問題\n",
    "# ->\n",
    "\n",
    "# for reg in (Ir_reg, svm_reg, tree_reg):\n",
    "#     reg.fit(X_train, y_train[:,0])\n",
    "#     y_pred = reg.predict(X_test)\n",
    "#     print(reg.__class__, \"MSE\", np.sqrt((y_pred-y_test[:, 0])**2).mean())\n",
    "#     print(y_pred[:10])\n",
    "#     print(\"-----------------\")\n",
    "\n",
    "Ir_reg.fit(X_train, y_train[:,0])\n",
    "svm_reg.fit(X_train, y_train[:,0])\n",
    "tree_reg.fit(X_train, y_train[:,0])\n",
    "    \n",
    "y_pred_lr = Ir_reg.predict(X_test)\n",
    "y_pred_svm = svm_reg.predict(X_test)\n",
    "y_pred_tree = tree_reg.predict(X_test)\n",
    "\n",
    "print('LinearRegression',((y_pred_lr-y_test[:, 0])**2).mean())\n",
    "print('SVR',((y_pred_svm-y_test[:, 0])**2).mean())\n",
    "print('DecisionTreeRegressor',((y_pred_tree-y_test[:, 0])**2).mean())\n",
    "\n",
    "print(\"---------------------------\")\n",
    "\n",
    "#print(\"LR\", y_pred_lr[:10])\n",
    "#print(\"SVM\", y_pred_svm[:10])\n",
    "#print(\"TREE\", y_pred_tree[:10])\n",
    "\n",
    "#３つの推定値の平均を求める\n",
    "# y_pred_ensemble = (y_pred_lr+y_pred_svm+y_pred_tree)/3\n",
    "y_pred_ensemble = (y_pred_lr+y_pred_tree)/2\n",
    "print(\"---------------------------\")\n",
    "#print(\"ENSEMBLE\", y_pred_ensemble)\n",
    "print(\"---------------------------\")\n",
    "#y_pred_ensembleの誤差を計算する\n",
    "print('Ensemble',((y_pred_ensemble-y_test[:, 0])**2).mean() )\n",
    "\n",
    "#単独の時と比べてどうなっているか確認する\n",
    "# 線形回帰と決定木のアンサンブルが単独よりもいい結果が出た\n",
    "# 他の２つの組み合わせ、および3つの組み合わせは単独よりも結果が良くなかった"
   ]
  },
  {
   "cell_type": "code",
   "execution_count": 14,
   "metadata": {
    "collapsed": true
   },
   "outputs": [],
   "source": [
    "# # ランダムフォレスト、VotingClassifier、ロジスティック回帰、SVMの分類器読み込む\n",
    "# from sklearn.ensemble import RandomForestClassifier\n",
    "# from sklearn.ensemble import VotingClassifier\n",
    "# from sklearn.linear_model import LogisticRegression\n",
    "# from sklearn.svm import SVC\n",
    "\n",
    "# log_clf = LogisticRegression(random_state=42)\n",
    "# rnd_clf = RandomForestClassifier(random_state=42)\n",
    "# svm_clf = SVC(random_state=42)\n",
    "\n",
    "# voting_clf = VotingClassifier(\n",
    "#     estimators=[('lr', log_clf), ('rf', rnd_clf), ('svc', svm_clf)],\n",
    "#     voting='hard')"
   ]
  },
  {
   "cell_type": "code",
   "execution_count": 15,
   "metadata": {
    "collapsed": false
   },
   "outputs": [],
   "source": [
    "# # 決定係数（正解率）\n",
    "# from sklearn.metrics import accuracy_score\n",
    "\n",
    "# for clf in (log_clf, rnd_clf, svm_clf, voting_clf):\n",
    "#     clf.fit(X_train, y_train)\n",
    "#     y_pred = clf.predict(X_test)\n",
    "#     print(clf.__class__.__name__, accuracy_score(y_test, y_pred))"
   ]
  },
  {
   "cell_type": "code",
   "execution_count": 16,
   "metadata": {
    "collapsed": false
   },
   "outputs": [],
   "source": [
    "# X,y双方がtrain用のデータ\n",
    "# clf.fit(X_train, y_train)"
   ]
  },
  {
   "cell_type": "markdown",
   "metadata": {},
   "source": [
    "### バギング"
   ]
  },
  {
   "cell_type": "code",
   "execution_count": 17,
   "metadata": {
    "collapsed": false
   },
   "outputs": [],
   "source": [
    "from sklearn.ensemble import BaggingClassifier\n",
    "from sklearn.tree import DecisionTreeClassifier\n",
    "\n",
    "bag_clf = BaggingClassifier(\n",
    "    DecisionTreeClassifier(random_state=42), n_estimators=500,\n",
    "    max_samples=100, bootstrap=True, n_jobs=-1, random_state=42)\n",
    "bag_clf.fit(X_train, y_train)\n",
    "y_pred = bag_clf.predict(X_test)"
   ]
  },
  {
   "cell_type": "code",
   "execution_count": 18,
   "metadata": {
    "collapsed": false
   },
   "outputs": [
    {
     "name": "stdout",
     "output_type": "stream",
     "text": [
      "0.00342465753425\n"
     ]
    }
   ],
   "source": [
    "from sklearn.metrics import accuracy_score\n",
    "print(accuracy_score(y_test, y_pred))"
   ]
  },
  {
   "cell_type": "code",
   "execution_count": 19,
   "metadata": {
    "collapsed": false
   },
   "outputs": [
    {
     "name": "stdout",
     "output_type": "stream",
     "text": [
      "0.00684931506849\n"
     ]
    }
   ],
   "source": [
    "tree_clf = DecisionTreeClassifier(random_state=42)\n",
    "tree_clf.fit(X_train, y_train)\n",
    "y_pred_tree = tree_clf.predict(X_test)\n",
    "print(accuracy_score(y_test, y_pred_tree))"
   ]
  },
  {
   "cell_type": "code",
   "execution_count": 20,
   "metadata": {
    "collapsed": true
   },
   "outputs": [],
   "source": [
    "from matplotlib.colors import ListedColormap\n",
    "\n",
    "def plot_decision_boundary(clf, X, y, axes=[-1.5, 2.5, -1, 1.5], alpha=0.5, contour=True):\n",
    "    x1s = np.linspace(axes[0], axes[1], 100)\n",
    "    x2s = np.linspace(axes[2], axes[3], 100)\n",
    "    x1, x2 = np.meshgrid(x1s, x2s)\n",
    "    X_new = np.c_[x1.ravel(), x2.ravel()]\n",
    "    y_pred = clf.predict(X_new).reshape(x1.shape)\n",
    "    custom_cmap = ListedColormap(['#fafab0','#9898ff','#a0faa0'])\n",
    "    plt.contourf(x1, x2, y_pred, alpha=0.3, cmap=custom_cmap)\n",
    "    if contour:\n",
    "        custom_cmap2 = ListedColormap(['#7d7d58','#4c4c7f','#507d50'])\n",
    "        plt.contour(x1, x2, y_pred, cmap=custom_cmap2, alpha=0.8)\n",
    "    plt.plot(X[:, 0][y==0], X[:, 1][y==0], \"yo\", alpha=alpha)\n",
    "    plt.plot(X[:, 0][y==1], X[:, 1][y==1], \"bs\", alpha=alpha)\n",
    "    plt.axis(axes)\n",
    "    plt.xlabel(r\"$x_1$\", fontsize=18)\n",
    "    plt.ylabel(r\"$x_2$\", fontsize=18, rotation=0)"
   ]
  },
  {
   "cell_type": "code",
   "execution_count": 21,
   "metadata": {
    "collapsed": false
   },
   "outputs": [
    {
     "ename": "IndexError",
     "evalue": "too many indices for array",
     "output_type": "error",
     "traceback": [
      "\u001b[0;31m---------------------------------------------------------------------------\u001b[0m",
      "\u001b[0;31mIndexError\u001b[0m                                Traceback (most recent call last)",
      "\u001b[0;32m<ipython-input-21-ddc80ed16578>\u001b[0m in \u001b[0;36m<module>\u001b[0;34m()\u001b[0m\n\u001b[1;32m      1\u001b[0m \u001b[0mplt\u001b[0m\u001b[0;34m.\u001b[0m\u001b[0mfigure\u001b[0m\u001b[0;34m(\u001b[0m\u001b[0mfigsize\u001b[0m\u001b[0;34m=\u001b[0m\u001b[0;34m(\u001b[0m\u001b[0;36m11\u001b[0m\u001b[0;34m,\u001b[0m\u001b[0;36m4\u001b[0m\u001b[0;34m)\u001b[0m\u001b[0;34m)\u001b[0m\u001b[0;34m\u001b[0m\u001b[0m\n\u001b[1;32m      2\u001b[0m \u001b[0mplt\u001b[0m\u001b[0;34m.\u001b[0m\u001b[0msubplot\u001b[0m\u001b[0;34m(\u001b[0m\u001b[0;36m121\u001b[0m\u001b[0;34m)\u001b[0m\u001b[0;34m\u001b[0m\u001b[0m\n\u001b[0;32m----> 3\u001b[0;31m \u001b[0mplot_decision_boundary\u001b[0m\u001b[0;34m(\u001b[0m\u001b[0mtree_clf\u001b[0m\u001b[0;34m,\u001b[0m \u001b[0mX\u001b[0m\u001b[0;34m,\u001b[0m \u001b[0my\u001b[0m\u001b[0;34m)\u001b[0m\u001b[0;34m\u001b[0m\u001b[0m\n\u001b[0m\u001b[1;32m      4\u001b[0m \u001b[0mplt\u001b[0m\u001b[0;34m.\u001b[0m\u001b[0mtitle\u001b[0m\u001b[0;34m(\u001b[0m\u001b[0;34m\"Decision Tree\"\u001b[0m\u001b[0;34m,\u001b[0m \u001b[0mfontsize\u001b[0m\u001b[0;34m=\u001b[0m\u001b[0;36m14\u001b[0m\u001b[0;34m)\u001b[0m\u001b[0;34m\u001b[0m\u001b[0m\n\u001b[1;32m      5\u001b[0m \u001b[0mplt\u001b[0m\u001b[0;34m.\u001b[0m\u001b[0msubplot\u001b[0m\u001b[0;34m(\u001b[0m\u001b[0;36m122\u001b[0m\u001b[0;34m)\u001b[0m\u001b[0;34m\u001b[0m\u001b[0m\n",
      "\u001b[0;32m<ipython-input-20-ea39b74c5504>\u001b[0m in \u001b[0;36mplot_decision_boundary\u001b[0;34m(clf, X, y, axes, alpha, contour)\u001b[0m\n\u001b[1;32m     12\u001b[0m         \u001b[0mcustom_cmap2\u001b[0m \u001b[0;34m=\u001b[0m \u001b[0mListedColormap\u001b[0m\u001b[0;34m(\u001b[0m\u001b[0;34m[\u001b[0m\u001b[0;34m'#7d7d58'\u001b[0m\u001b[0;34m,\u001b[0m\u001b[0;34m'#4c4c7f'\u001b[0m\u001b[0;34m,\u001b[0m\u001b[0;34m'#507d50'\u001b[0m\u001b[0;34m]\u001b[0m\u001b[0;34m)\u001b[0m\u001b[0;34m\u001b[0m\u001b[0m\n\u001b[1;32m     13\u001b[0m         \u001b[0mplt\u001b[0m\u001b[0;34m.\u001b[0m\u001b[0mcontour\u001b[0m\u001b[0;34m(\u001b[0m\u001b[0mx1\u001b[0m\u001b[0;34m,\u001b[0m \u001b[0mx2\u001b[0m\u001b[0;34m,\u001b[0m \u001b[0my_pred\u001b[0m\u001b[0;34m,\u001b[0m \u001b[0mcmap\u001b[0m\u001b[0;34m=\u001b[0m\u001b[0mcustom_cmap2\u001b[0m\u001b[0;34m,\u001b[0m \u001b[0malpha\u001b[0m\u001b[0;34m=\u001b[0m\u001b[0;36m0.8\u001b[0m\u001b[0;34m)\u001b[0m\u001b[0;34m\u001b[0m\u001b[0m\n\u001b[0;32m---> 14\u001b[0;31m     \u001b[0mplt\u001b[0m\u001b[0;34m.\u001b[0m\u001b[0mplot\u001b[0m\u001b[0;34m(\u001b[0m\u001b[0mX\u001b[0m\u001b[0;34m[\u001b[0m\u001b[0;34m:\u001b[0m\u001b[0;34m,\u001b[0m \u001b[0;36m0\u001b[0m\u001b[0;34m]\u001b[0m\u001b[0;34m[\u001b[0m\u001b[0my\u001b[0m\u001b[0;34m==\u001b[0m\u001b[0;36m0\u001b[0m\u001b[0;34m]\u001b[0m\u001b[0;34m,\u001b[0m \u001b[0mX\u001b[0m\u001b[0;34m[\u001b[0m\u001b[0;34m:\u001b[0m\u001b[0;34m,\u001b[0m \u001b[0;36m1\u001b[0m\u001b[0;34m]\u001b[0m\u001b[0;34m[\u001b[0m\u001b[0my\u001b[0m\u001b[0;34m==\u001b[0m\u001b[0;36m0\u001b[0m\u001b[0;34m]\u001b[0m\u001b[0;34m,\u001b[0m \u001b[0;34m\"yo\"\u001b[0m\u001b[0;34m,\u001b[0m \u001b[0malpha\u001b[0m\u001b[0;34m=\u001b[0m\u001b[0malpha\u001b[0m\u001b[0;34m)\u001b[0m\u001b[0;34m\u001b[0m\u001b[0m\n\u001b[0m\u001b[1;32m     15\u001b[0m     \u001b[0mplt\u001b[0m\u001b[0;34m.\u001b[0m\u001b[0mplot\u001b[0m\u001b[0;34m(\u001b[0m\u001b[0mX\u001b[0m\u001b[0;34m[\u001b[0m\u001b[0;34m:\u001b[0m\u001b[0;34m,\u001b[0m \u001b[0;36m0\u001b[0m\u001b[0;34m]\u001b[0m\u001b[0;34m[\u001b[0m\u001b[0my\u001b[0m\u001b[0;34m==\u001b[0m\u001b[0;36m1\u001b[0m\u001b[0;34m]\u001b[0m\u001b[0;34m,\u001b[0m \u001b[0mX\u001b[0m\u001b[0;34m[\u001b[0m\u001b[0;34m:\u001b[0m\u001b[0;34m,\u001b[0m \u001b[0;36m1\u001b[0m\u001b[0;34m]\u001b[0m\u001b[0;34m[\u001b[0m\u001b[0my\u001b[0m\u001b[0;34m==\u001b[0m\u001b[0;36m1\u001b[0m\u001b[0;34m]\u001b[0m\u001b[0;34m,\u001b[0m \u001b[0;34m\"bs\"\u001b[0m\u001b[0;34m,\u001b[0m \u001b[0malpha\u001b[0m\u001b[0;34m=\u001b[0m\u001b[0malpha\u001b[0m\u001b[0;34m)\u001b[0m\u001b[0;34m\u001b[0m\u001b[0m\n\u001b[1;32m     16\u001b[0m     \u001b[0mplt\u001b[0m\u001b[0;34m.\u001b[0m\u001b[0maxis\u001b[0m\u001b[0;34m(\u001b[0m\u001b[0maxes\u001b[0m\u001b[0;34m)\u001b[0m\u001b[0;34m\u001b[0m\u001b[0m\n",
      "\u001b[0;31mIndexError\u001b[0m: too many indices for array"
     ]
    },
    {
     "data": {
      "image/png": "[encoded data removed]",
      "text/plain": [
       "<Figure size 792x288 with 1 Axes>"
      ]
     },
     "metadata": {},
     "output_type": "display_data"
    }
   ],
   "source": [
    "# plt.figure(figsize=(11,4))\n",
    "# plt.subplot(121)\n",
    "# plot_decision_boundary(tree_clf, X, y)\n",
    "# plt.title(\"Decision Tree\", fontsize=14)\n",
    "# plt.subplot(122)\n",
    "# plot_decision_boundary(bag_clf, X, y)\n",
    "# plt.title(\"Decision Trees with Bagging\", fontsize=14)\n",
    "# save_fig(\"decision_tree_without_and_with_bagging_plot\")\n",
    "# plt.show()"
   ]
  },
  {
   "cell_type": "code",
   "execution_count": null,
   "metadata": {
    "collapsed": false
   },
   "outputs": [],
   "source": [
    "# tree_clf = DecisionTreeClassifier(random_state=42)\n",
    "# tree_clf.fit(X_train, y_train)\n",
    "# y_pred_tree = tree_clf.predict(X_test)\n",
    "# print(accuracy_score(y_test, y_pred_tree))"
   ]
  },
  {
   "cell_type": "code",
   "execution_count": null,
   "metadata": {
    "collapsed": false
   },
   "outputs": [],
   "source": [
    "# # 回帰係数\n",
    "# print(clf.coef_)\n",
    " \n",
    "# # 切片 (誤差)\n",
    "# print(clf.intercept_)\n",
    " \n",
    "# # 決定係数\n",
    "# print(clf.score(X_train, y_train))"
   ]
  },
  {
   "cell_type": "markdown",
   "metadata": {},
   "source": [
    "### スタッキング"
   ]
  },
  {
   "cell_type": "code",
   "execution_count": 22,
   "metadata": {
    "collapsed": false
   },
   "outputs": [],
   "source": [
    "import numpy as np\n",
    "\n",
    "# from ..base import Ensemble\n",
    "# from ..combination.combiner import Combiner\n",
    "\n",
    "from sklearn import cross_validation\n",
    "\n",
    "\n",
    "class EnsembleStack(object):\n",
    "\n",
    "    def __init__(self, mode='probs', cv=5):\n",
    "        self.mode = mode\n",
    "        self.layers = []\n",
    "        self.cv = cv\n",
    "\n",
    "    def add_layer(self, ensemble):\n",
    "        if isinstance(ensemble, Ensemble):\n",
    "            self.layers.append(ensemble)\n",
    "        else:\n",
    "            raise Exception('not an Ensemble object')\n",
    "\n",
    "    def fit_layer(self, layer_idx, X, y):\n",
    "        if layer_idx >= len(self.layers):\n",
    "            return\n",
    "        elif layer_idx == len(self.layers) - 1:\n",
    "            self.layers[layer_idx].fit(X, y)\n",
    "        else:\n",
    "            n_classes = len(set(y)) - 1\n",
    "            n_classifiers = len(self.layers[layer_idx])\n",
    "            output = np.zeros((X.shape[0], n_classes * n_classifiers))\n",
    "            skf = cross_validation.StratifiedKFold(y, self.cv)\n",
    "            for tra, tst in skf:\n",
    "                self.layers[layer_idx].fit(X[tra], y[tra])\n",
    "                out = self.layers[layer_idx].output(X[tst], mode=self.mode)\n",
    "                output[tst, :] = out[:, 1:, :].reshape(\n",
    "                    out.shape[0], (out.shape[1] - 1) * out.shape[2])\n",
    "\n",
    "            self.layers[layer_idx].fit(X, y)\n",
    "            self.fit_layer(layer_idx + 1, output, y)\n",
    "\n",
    "    def fit(self, X, y):\n",
    "        if self.cv > 1:\n",
    "            self.fit_layer(0, X, y)\n",
    "        else:\n",
    "            X_ = X\n",
    "            for layer in self.layers:\n",
    "                layer.fit(X_, y)\n",
    "                out = layer.output(X_, mode=self.mode)\n",
    "                X_ = out[:, 1:, :].reshape(\n",
    "                    out.shape[0], (out.shape[1] - 1) * out.shape[2])\n",
    "\n",
    "        return self\n",
    "\n",
    "    def output(self, X):\n",
    "        input_ = X\n",
    "\n",
    "        for layer in self.layers:\n",
    "            out = layer.output(input_, mode=self.mode)\n",
    "            input_ = out[:, 1:, :].reshape(\n",
    "                out.shape[0], (out.shape[1] - 1) * out.shape[2])\n",
    "\n",
    "        return out\n",
    "\n",
    "\n",
    "class EnsembleStackClassifier(object):\n",
    "\n",
    "    def __init__(self, stack, combiner=None):\n",
    "        self.stack = stack\n",
    "        if combiner is None:\n",
    "            self.combiner = Combiner(rule='mean')\n",
    "        elif isinstance(combiner, str):\n",
    "            if combiner == 'majority_vote':\n",
    "                raise ValueError('EnsembleStackClassifier '\n",
    "                        'do not support majority_vote')\n",
    "            self.combiner = Combiner(rule=combiner)\n",
    "        elif isinstance(combiner, Combiner):\n",
    "            self.combiner = combiner\n",
    "        else:\n",
    "            raise ValueError('Invalid combiner!')\n",
    "\n",
    "\n",
    "    def fit(self, X, y):\n",
    "        self.stack.fit(X, y)\n",
    "        return self\n",
    "        \n",
    "    def predict(self, X):\n",
    "        out = self.stack.output(X)\n",
    "        return self.combiner.combine(out)\n",
    "\n",
    "    def predict_proba(self, X):\n",
    "        out = self.stack.output(X)\n",
    "        return np.mean(out, axis=2)"
   ]
  },
  {
   "cell_type": "code",
   "execution_count": null,
   "metadata": {
    "collapsed": true
   },
   "outputs": [],
   "source": []
  },
  {
   "cell_type": "code",
   "execution_count": null,
   "metadata": {
    "collapsed": true
   },
   "outputs": [],
   "source": []
  },
  {
   "cell_type": "code",
   "execution_count": null,
   "metadata": {
    "collapsed": true
   },
   "outputs": [],
   "source": []
  },
  {
   "cell_type": "code",
   "execution_count": null,
   "metadata": {
    "collapsed": true
   },
   "outputs": [],
   "source": []
  }
 ],
 "metadata": {
  "kernelspec": {
   "display_name": "Python 3",
   "language": "python",
   "name": "python3"
  },
  "language_info": {
   "codemirror_mode": {
    "name": "ipython",
    "version": 3
   },
   "file_extension": ".py",
   "mimetype": "text/x-python",
   "name": "python",
   "nbconvert_exporter": "python",
   "pygments_lexer": "ipython3",
   "version": "3.6.5"
  }
 },
 "nbformat": 4,
 "nbformat_minor": 2
}
