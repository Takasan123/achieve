{
 "cells": [
  {
   "cell_type": "markdown",
   "metadata": {},
   "source": [
    "## AIF_sprint12-cnn\n",
    "【この課題の目的】      \n",
    "スクラッチを通してCNNの基礎を理解する     \n",
    "【目的としないこと】    \n",
    "実用的なCNNモデルに関する知識の習得"
   ]
  },
  {
   "cell_type": "markdown",
   "metadata": {},
   "source": [
    "## 小さな配列での1次元畳み込み層の実験"
   ]
  },
  {
   "cell_type": "code",
   "execution_count": 1,
   "metadata": {
    "collapsed": false
   },
   "outputs": [],
   "source": [
    "import pandas as pd\n",
    "import numpy as np\n",
    "\n",
    "X = np.array([1,2,3,4])"
   ]
  },
  {
   "cell_type": "code",
   "execution_count": 44,
   "metadata": {
    "collapsed": true
   },
   "outputs": [],
   "source": [
    "# チャンネル数を1に限定した1次元畳み込み層のクラス\n",
    "class SimpleConv1d:\n",
    "    \"\"\"\n",
    "    ノード数n_nodes1からn_nodes2への全結合層\n",
    "    Parameters\n",
    "    ----------\n",
    "    n_nodes1 : int\n",
    "      前の層のノード数\n",
    "    n_nodes2 : int\n",
    "      後の層のノード数\n",
    "    initializer : 初期化方法のインスタンス\n",
    "    optimizer : 最適化手法のインスタンス\n",
    "    \"\"\"\n",
    "    # FCクラスを作り替える\n",
    "    \n",
    "    def __init__(self):\n",
    "        # 引数としてinitializerクラスのインスタンス変数を受け取る\n",
    "        # フィルタとバイアスの初期値\n",
    "        \n",
    "        self.W = np.array([3,5,7])\n",
    "        self.B = np.array([1])\n",
    "        self.pad = 0\n",
    "        self.stride = 1\n",
    "        self.delta_a = np.array([10,20])\n",
    "        \n",
    "        \n",
    "    def forward(self, X):\n",
    "        a_list = []\n",
    "        count = 0\n",
    "        #1*3のフィルタを定義\n",
    "        for i in range(len(X)-1):\n",
    "            # 出力のセル1個分\n",
    "            r = 0\n",
    "            for s in range(self.W.shape[0]):\n",
    "                if i +s >= X.shape[0]:\n",
    "                    return np.array(a_list)\n",
    "                r += np.dot(X[i+s],self.W[s])\n",
    "            # バイアス項を加算\n",
    "            r += self.B\n",
    "            a_list.append(r)\n",
    "        \n",
    "    def backward(self, X):\n",
    "        delta_b = np.sum(self.delta_a,axis=0,keepdims=True)\n",
    "        delta_w = []\n",
    "        delta_x = []\n",
    "        # Wの勾配を計算\n",
    "        for i in range(self.W.shape[0]):\n",
    "            index = np.arange(i,i+2)\n",
    "            delta_w.append(np.dot(self.delta_a,X[index]))\n",
    "            \n",
    "        # Xの勾配を計算\n",
    "        for i in range(X.shape[0]):\n",
    "        # インデックスがXの始めと末尾のみ、別の処理\n",
    "            if i ==0:\n",
    "                delta_x.append(self.delta_a[i]*self.W[i])\n",
    "            elif i ==len(X)-1:\n",
    "                delta_x.append(self.delta_a[i-2]*self.W[i-1])\n",
    "            else:\n",
    "                index = np.array([i,i-1])\n",
    "                delta_x.append(np.dot(self.delta_a,self.W[index]))\n",
    "        delta_w = np.array(delta_w)\n",
    "        delta_x = np.array(delta_x)\n",
    "        \n",
    "        return delta_b,delta_w,delta_x\n",
    "    "
   ]
  },
  {
   "cell_type": "code",
   "execution_count": 45,
   "metadata": {
    "collapsed": true
   },
   "outputs": [],
   "source": [
    "model = SimpleConv1d()"
   ]
  },
  {
   "cell_type": "code",
   "execution_count": 46,
   "metadata": {
    "collapsed": false
   },
   "outputs": [
    {
     "data": {
      "text/plain": [
       "array([[35],\n",
       "       [50]])"
      ]
     },
     "execution_count": 46,
     "metadata": {},
     "output_type": "execute_result"
    }
   ],
   "source": [
    "model.forward(X)"
   ]
  },
  {
   "cell_type": "code",
   "execution_count": 47,
   "metadata": {
    "collapsed": false
   },
   "outputs": [
    {
     "data": {
      "text/plain": [
       "(array([30]), array([ 50,  80, 110]), array([ 30, 110, 170, 140]))"
      ]
     },
     "execution_count": 47,
     "metadata": {},
     "output_type": "execute_result"
    }
   ],
   "source": [
    "model.backward(X)"
   ]
  },
  {
   "cell_type": "code",
   "execution_count": null,
   "metadata": {
    "collapsed": true
   },
   "outputs": [],
   "source": []
  },
  {
   "cell_type": "code",
   "execution_count": null,
   "metadata": {
    "collapsed": true
   },
   "outputs": [],
   "source": []
  },
  {
   "cell_type": "code",
   "execution_count": 6,
   "metadata": {
    "collapsed": false
   },
   "outputs": [],
   "source": [
    "# import pandas as pd\n",
    "# import numpy as np\n",
    "# from sklearn.model_selection import train_test_split\n",
    "# from sklearn.datasets import fetch_mldata\n",
    "\n",
    "# mnist_dir = \"/Users/andoutakaaki/DIC_study/sprint9/mnist_data/\"\n",
    "\n",
    "# # MNISTの読み込み\n",
    "# mnist = fetch_mldata('MNIST original', data_home=mnist_dir)\n",
    "\n",
    "# # trainとtestに分割\n",
    "# # MNISTの読み込み\n",
    "# X_train, X_test, y_train, y_test = train_test_split(mnist.data, mnist.target, test_size=0.2)\n",
    "# # さらにtrainとvalに分割\n",
    "# X_train, X_val, y_train, y_val = train_test_split(X_train, y_train, test_size=0.2, random_state=0)\n",
    "\n",
    "# # ラベルをint型にしておく\n",
    "# y_train = y_train.astype(np.int)\n",
    "# y_test = y_test.astype(np.int)\n",
    "# y_val = y_val.astype(np.int)\n",
    "\n",
    "# X_train = X_train.astype(np.float)\n",
    "# X_test = X_test.astype(np.float)\n",
    "# X_val = X_val.astype(np.float)\n",
    "# X_train /= 255\n",
    "# X_test /= 255\n",
    "# X_val /= 255\n",
    "\n",
    "# from sklearn.preprocessing import OneHotEncoder\n",
    "# enc = OneHotEncoder(handle_unknown='ignore', sparse=False)\n",
    "# y_train_one_hot = enc.fit_transform(y_train[:, np.newaxis])\n",
    "# y_test_one_hot = enc.transform(y_test[:, np.newaxis])\n",
    "# y_val_one_hot = enc.transform(y_val[:, np.newaxis])\n",
    "\n",
    "# print(X_train.shape,X_test.shape,X_val.shape)\n",
    "# print(y_train_one_hot.shape,y_test_one_hot.shape,y_val_one_hot.shape)\n"
   ]
  },
  {
   "cell_type": "code",
   "execution_count": null,
   "metadata": {
    "collapsed": true
   },
   "outputs": [],
   "source": []
  },
  {
   "cell_type": "code",
   "execution_count": null,
   "metadata": {
    "collapsed": true
   },
   "outputs": [],
   "source": []
  },
  {
   "cell_type": "code",
   "execution_count": null,
   "metadata": {
    "collapsed": true
   },
   "outputs": [],
   "source": []
  },
  {
   "cell_type": "code",
   "execution_count": null,
   "metadata": {
    "collapsed": true
   },
   "outputs": [],
   "source": []
  },
  {
   "cell_type": "code",
   "execution_count": 7,
   "metadata": {
    "collapsed": true
   },
   "outputs": [],
   "source": [
    "# --各設定値--\n",
    "img_h = 28\n",
    "img_w = 28\n",
    "img_ch = 1\n",
    "\n",
    "wb_width = 0.1\n",
    "alpha = 0.01\n",
    "num_epochs = 10\n",
    "batch_size = 10\n",
    "inteval = 10\n",
    "n_samples = 44800"
   ]
  },
  {
   "cell_type": "code",
   "execution_count": 8,
   "metadata": {
    "collapsed": false
   },
   "outputs": [],
   "source": [
    "# def __forward(self, X):\n",
    "#         s_batch, k, xh, xw = X.shape\n",
    "#         m = self.weight.shape[0]\n",
    "#         oh, ow = xh - self.kh / 2 * 2, xw - self.kw / 2 * 2\n",
    "#         self.__patch = self.__im2patch(X, s_batch, k, oh, ow)\n",
    "#         return np.tensordot(self.__patch, self.weight, ((2, 3, 4), (1, 2, 3))).swapaxes(1, 2).reshape(s_batch, m, oh, ow)\n",
    "\n",
    "\n",
    "# def __im2patch(self, X, s_batch, k, oh, ow):\n",
    "#         patch = np.zeros((s_batch, oh * ow, k, self.kh, self.kw))\n",
    "#         for j in range(oh):\n",
    "#             for i in range(ow):\n",
    "#                 patch[:, j * ow + i, :, :, :] = X[:, :, j:j+self.kh, i:i+self.kw]\n",
    "#         return patch\n",
    "    \n",
    "# def backward(self, delta, shape):\n",
    "#         s_batch, k, h, w = delta.shape\n",
    "#         delta_patch = np.tensordot(delta.reshape(s_batch, k, h * w), self.weight, (1, 0))\n",
    "#         return self.__patch2im(delta_patch, h, w, shape)\n",
    "\n",
    "# def __patch2im(self, patch, h, w, shape):\n",
    "#         im = np.zeros(shape)\n",
    "#         for j in range(h):\n",
    "#             for i in range(w):\n",
    "#                 im[:, :, j:j+self.kh, i:i+self.kw] += patch[:, j * w + i]\n",
    "#         return im\n",
    "    \n"
   ]
  },
  {
   "cell_type": "code",
   "execution_count": 9,
   "metadata": {
    "collapsed": false
   },
   "outputs": [],
   "source": [
    "# #  im2colのアルゴリズム\n",
    "# def im2col(x, w.shape[0], w.shape[1], y.shape[0], y.shape[1]):\n",
    "#     x.shape[0], x.shape[1] = x.shape\n",
    "#     cols = np.zeros((w.shape[0], w.shape[1], y.shape[0], y.shape[1]))\n",
    "    \n",
    "#     for h in range(w.shape[0]):\n",
    "#         h_lim = h + y.shape[0]\n",
    "#         for w in range(w.shape[1]):\n",
    "#             w_lim = w + y.shape[1]\n",
    "#             cols[h, w, :, :] = img[h:h_lim, w:w_lim]\n",
    "            \n",
    "#         cols = cols.reshape(w.shape[0]*w.shape[1], y.shape[0]*y.shape[1])\n",
    "        \n",
    "#         return cols"
   ]
  },
  {
   "cell_type": "code",
   "execution_count": 10,
   "metadata": {
    "collapsed": true
   },
   "outputs": [],
   "source": [
    "# #  col2imのアルゴリズム\n",
    "# def col2im(cols, img_shape, flt_h, flt_w, out_h, out_w):\n",
    "    \n",
    "#     img_h, img_w = img_shape\n",
    "#     cols = cols.reshape(flt_h, flt_w, out_h, out_w, ).transpose\n",
    "    \n",
    "    "
   ]
  },
  {
   "cell_type": "code",
   "execution_count": 11,
   "metadata": {
    "collapsed": true
   },
   "outputs": [],
   "source": [
    "# #  im2colのアルゴリズム\n",
    "# def im2col(image, flt_h, flt_w, out_h, out_w):\n",
    "    \n",
    "#     img_h, img_w = image.shape\n",
    "#     cols = np.zeros((flt_h, flt_w, out_h, out_w))\n",
    "    \n",
    "#     for h in range(flt_h):\n",
    "#         h_lim = h + out_h\n",
    "#         for w in range(flt_w):\n",
    "#             w_lim = w + out_w\n",
    "#             cols[h, w, :, :] = img[h:h_lim, w:w_lim]\n",
    "            \n",
    "#         cols = cols.reshape(flt_h*flt_w, out_h*out_w)\n",
    "        \n",
    "#         return cols\n",
    "    "
   ]
  },
  {
   "cell_type": "code",
   "execution_count": null,
   "metadata": {
    "collapsed": true
   },
   "outputs": [],
   "source": []
  }
 ],
 "metadata": {
  "kernelspec": {
   "display_name": "Python 3",
   "language": "python",
   "name": "python3"
  },
  "language_info": {
   "codemirror_mode": {
    "name": "ipython",
    "version": 3
   },
   "file_extension": ".py",
   "mimetype": "text/x-python",
   "name": "python",
   "nbconvert_exporter": "python",
   "pygments_lexer": "ipython3",
   "version": "3.6.5"
  }
 },
 "nbformat": 4,
 "nbformat_minor": 2
}
