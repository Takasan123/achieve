{
 "cells": [
  {
   "cell_type": "markdown",
   "metadata": {},
   "source": [
    "## 畳み込みニューラルネットワークの実践\n",
    "## AIF_sprint13_cnn2\n",
    "この課題の目的  \n",
    "・スクラッチを通してCNNの基礎を理解する   \n",
    "・基本的なCNNのキーワードを学習する   \n",
    "・初期の有名なCNNモデルを知る   \n",
    "\n",
    "【目的としないこと】   \n",
    "実用的なCNNモデルに関する知識の習得"
   ]
  },
  {
   "cell_type": "code",
   "execution_count": 1,
   "metadata": {
    "collapsed": false
   },
   "outputs": [
    {
     "name": "stdout",
     "output_type": "stream",
     "text": [
      "(44800, 1, 28, 28) (14000, 1, 28, 28) (11200, 1, 28, 28)\n",
      "[[0. 0. 1. ... 0. 0. 0.]\n",
      " [0. 0. 0. ... 0. 0. 0.]\n",
      " [0. 0. 0. ... 0. 0. 0.]\n",
      " ...\n",
      " [0. 1. 0. ... 0. 0. 0.]\n",
      " [0. 0. 0. ... 0. 0. 0.]\n",
      " [0. 0. 0. ... 0. 0. 0.]] (14000, 10) [[0. 0. 0. ... 1. 0. 0.]\n",
      " [0. 1. 0. ... 0. 0. 0.]\n",
      " [0. 0. 1. ... 0. 0. 0.]\n",
      " ...\n",
      " [1. 0. 0. ... 0. 0. 0.]\n",
      " [0. 0. 0. ... 0. 0. 0.]\n",
      " [0. 0. 0. ... 0. 0. 0.]]\n"
     ]
    }
   ],
   "source": [
    "%matplotlib inline\n",
    "\n",
    "import numpy as np\n",
    "import matplotlib.pyplot as plt\n",
    "from sklearn.model_selection import train_test_split\n",
    "from sklearn.datasets import fetch_mldata\n",
    "\n",
    "# MNISTの読み込み\n",
    "mnist_dir = \"/Users/andoutakaaki/DIC_study/sprint9/mnist_data/\"\n",
    "mnist = fetch_mldata('MNIST original', data_home=mnist_dir)\n",
    "\n",
    "# trainとtestに分割\n",
    "X_train, X_test, y_train, y_test = train_test_split(mnist.data, mnist.target, test_size=0.2)\n",
    "# さらにtrainとvalに分割\n",
    "X_train, X_val, y_train, y_val = train_test_split(X_train, y_train, test_size=0.2, random_state=0)\n",
    "\n",
    "# 正解（ラベル）をint型にしておく\n",
    "y_train = y_train.astype(np.int)\n",
    "y_test = y_test.astype(np.int)\n",
    "y_val = y_val.astype(np.int)\n",
    "\n",
    "X_train = X_train.astype(np.float)\n",
    "X_test = X_test.astype(np.float)\n",
    "X_val = X_val.astype(np.float)\n",
    "X_train /= 255\n",
    "X_test /= 255\n",
    "X_val /= 255\n",
    "\n",
    "# -- 正解をone-hot表現に --\n",
    "from sklearn.preprocessing import OneHotEncoder\n",
    "enc = OneHotEncoder(handle_unknown='ignore', sparse=False)\n",
    "y_train = enc.fit_transform(y_train[:, np.newaxis])\n",
    "y_test = enc.transform(y_test[:, np.newaxis])\n",
    "y_val = enc.transform(y_val[:, np.newaxis])\n",
    "\n",
    "# 28×28に変形\n",
    "# チャンネル方向の軸は用意:(n_samples, n_channels, height, width)のNCHW\n",
    "X_train = X_train.reshape(44800,1, 28,28)\n",
    "X_test = X_test.reshape(14000,1, 28,28)\n",
    "X_val = X_val.reshape(11200,1, 28,28)\n",
    "\n",
    "n_train = X_train.shape[0]  # 訓練データのサンプル数\n",
    "n_test = X_test.shape[0]  # テストデータのサンプル数\n",
    "n_val = X_val.shape[0]  # valデータのサンプル数\n",
    "\n",
    "print(X_train.shape,X_test.shape,X_val.shape)\n",
    "print(y_train,y_test.shape,y_val)"
   ]
  },
  {
   "cell_type": "code",
   "execution_count": 2,
   "metadata": {
    "collapsed": true
   },
   "outputs": [],
   "source": [
    "# -- 各設定値 --\n",
    "img_h = 28  # 入力画像の高さ\n",
    "img_w = 28  # 入力画像の幅\n",
    "img_ch = 1  # 入力画像のチャンネル数\n",
    "\n",
    "wb_width = 0.1  # 重みとバイアスの広がり具合\n",
    "eta = 0.01  # 学習係数\n",
    "epoch = 10\n",
    "batch_size = 1\n",
    "interval = 10  # 経過の表示間隔\n",
    "n_sample = 44800  # 誤差計測のサンプル数\n"
   ]
  },
  {
   "cell_type": "code",
   "execution_count": 3,
   "metadata": {
    "collapsed": true
   },
   "outputs": [],
   "source": [
    "# -- im2col --\n",
    "def im2col(images, flt_h, flt_w, out_h, out_w, stride, pad):\n",
    "   \n",
    "    n_bt, n_ch, img_h, img_w = images.shape\n",
    "    \n",
    "    img_pad = np.pad(images, [(0,0), (0,0), (pad, pad), (pad, pad)], \"constant\")\n",
    "    cols = np.zeros((n_bt, n_ch, flt_h, flt_w, out_h, out_w))\n",
    "\n",
    "    for h in range(flt_h):\n",
    "        h_lim = h + stride*out_h\n",
    "        for w in range(flt_w):\n",
    "            w_lim = w + stride*out_w\n",
    "            cols[:, :, h, w, :, :] = img_pad[:, :, h:h_lim:stride, w:w_lim:stride]\n",
    "\n",
    "    cols = cols.transpose(1, 2, 3, 0, 4, 5).reshape(n_ch*flt_h*flt_w, n_bt*out_h*out_w)\n",
    "    return cols"
   ]
  },
  {
   "cell_type": "code",
   "execution_count": 4,
   "metadata": {
    "collapsed": true
   },
   "outputs": [],
   "source": [
    "# -- col2im --\n",
    "def col2im(cols, img_shape, flt_h, flt_w, out_h, out_w, stride, pad):\n",
    " \n",
    "    n_bt, n_ch, img_h, img_w = img_shape\n",
    "    \n",
    "    cols = cols.reshape(n_ch, flt_h, flt_w, n_bt, out_h, out_w, ).transpose(3, 0, 1, 2, 4, 5)\n",
    "    images = np.zeros((n_bt, n_ch, img_h+2*pad+stride-1, img_w+2*pad+stride-1))\n",
    "    \n",
    "    for h in range(flt_h):\n",
    "        h_lim = h + stride*out_h\n",
    "        for w in range(flt_w):\n",
    "            w_lim = w + stride*out_w\n",
    "            images[:, :, h:h_lim:stride, w:w_lim:stride] += cols[:, :, h, w, :, :]\n",
    "\n",
    "    return images[:, :, pad:img_h+pad, pad:img_w+pad]\n"
   ]
  },
  {
   "cell_type": "code",
   "execution_count": 5,
   "metadata": {
    "collapsed": true
   },
   "outputs": [],
   "source": [
    "# -- 畳み込み層 --\n",
    "class ConvLayer:\n",
    "    \n",
    "    # n_bt:バッチサイズ, x_ch:入力チャンネル数, x_h:入力画像高さ, x_w:入力画像幅\n",
    "    # n_flt:フィルタ数, flt_h:フィルタ高さ, flt_w:フィルタ幅\n",
    "    # stride:ストライド幅, pad:パディング幅\n",
    "    # y_ch:出力チャンネル数, y_h:出力高さ, y_w:出力幅\n",
    "    \n",
    "    def __init__(self, x_ch, x_h, x_w, n_flt, flt_h, flt_w, stride, pad):\n",
    "\n",
    "        # パラメータをまとめる\n",
    "        self.params = (x_ch, x_h, x_w, n_flt, flt_h, flt_w, stride, pad)\n",
    "        \n",
    "        # フィルタとバイアスの初期値\n",
    "        self.w = wb_width * np.random.randn(n_flt, x_ch, flt_h, flt_w)\n",
    "        self.b = wb_width * np.random.randn(1, n_flt)\n",
    "        \n",
    "        # 出力画像のサイズ\n",
    "        self.y_ch = n_flt  # 出力チャンネル数\n",
    "        self.y_h = (x_h - flt_h + 2*pad) // stride + 1  # 出力高さ\n",
    "        self.y_w = (x_w - flt_w + 2*pad) // stride + 1  # 出力幅\n",
    " \n",
    "        # AdaGrad用\n",
    "        self.h_w = np.zeros((n_flt, x_ch, flt_h, flt_w)) + 1e-8\n",
    "        self.h_b = np.zeros((1, n_flt)) + 1e-8\n",
    "        \n",
    "    def forward(self, x):\n",
    "        n_bt = x.shape[0] \n",
    "        x_ch, x_h, x_w, n_flt, flt_h, flt_w, stride, pad = self.params\n",
    "        y_ch, y_h, y_w = self.y_ch, self.y_h, self.y_w\n",
    "        \n",
    "        # 入力画像とフィルタを行列に変換\n",
    "        self.cols = im2col(x, flt_h, flt_w, y_h, y_w, stride, pad)\n",
    "        self.w_col = self.w.reshape(n_flt, x_ch*flt_h*flt_w)\n",
    "        \n",
    "        # 出力の計算: 行列積、バイアスの加算、活性化関数\n",
    "        u = np.dot(self.w_col, self.cols).T + self.b\n",
    "        self.u = u.reshape(n_bt, y_h, y_w, y_ch).transpose(0, 3, 1, 2)\n",
    "        self.y = np.where(self.u <= 0, 0, self.u)\n",
    "    \n",
    "    def backward(self, grad_y):\n",
    "        n_bt = grad_y.shape[0]\n",
    "        x_ch, x_h, x_w, n_flt, flt_h, flt_w, stride, pad = self.params\n",
    "        y_ch, y_h, y_w = self.y_ch, self.y_h, self.y_w\n",
    "        \n",
    "        # delta\n",
    "        delta = grad_y * np.where(self.u <= 0, 0, 1)\n",
    "        delta = delta.transpose(0,2,3,1).reshape(n_bt*y_h*y_w, y_ch)\n",
    "        \n",
    "        # フィルタとバイアスの勾配\n",
    "        grad_w = np.dot(self.cols, delta)\n",
    "        self.grad_w = grad_w.T.reshape(n_flt, x_ch, flt_h, flt_w)\n",
    "        self.grad_b = np.sum(delta, axis=0)\n",
    "        \n",
    "        # 入力の勾配\n",
    "        grad_cols = np.dot(delta, self.w_col)\n",
    "        x_shape = (n_bt, x_ch, x_h, x_w)\n",
    "        self.grad_x = col2im(grad_cols.T, x_shape, flt_h, flt_w, y_h, y_w, stride, pad)\n",
    "        \n",
    "    def update(self, eta):\n",
    "        self.h_w += self.grad_w * self.grad_w\n",
    "        self.w -= eta / np.sqrt(self.h_w) * self.grad_w\n",
    "        \n",
    "        self.h_b += self.grad_b * self.grad_b\n",
    "        self.b -= eta / np.sqrt(self.h_b) * self.grad_b"
   ]
  },
  {
   "cell_type": "code",
   "execution_count": 6,
   "metadata": {
    "collapsed": true
   },
   "outputs": [],
   "source": [
    "# -- プーリング層 --\n",
    "class PoolingLayer:\n",
    "    \n",
    "    # n_bt:バッチサイズ, x_ch:入力チャンネル数, x_h:入力画像高さ, x_w:入力画像幅\n",
    "    # pool:プーリング領域のサイズ, pad:パディング幅\n",
    "    # y_ch:出力チャンネル数, y_h:出力高さ, y_w:出力幅\n",
    "    \n",
    "    def __init__(self, x_ch, x_h, x_w, pool, pad):\n",
    "        \n",
    "        # パラメータをまとめる\n",
    "        self.params = (x_ch, x_h, x_w, pool, pad)\n",
    "        \n",
    "        # 出力画像のサイズ\n",
    "        self.y_ch = x_ch  # 出力チャンネル数\n",
    "        self.y_h = x_h//pool if x_h%pool==0 else x_h//pool+1  # 出力高さ\n",
    "        self.y_w = x_w//pool if x_w%pool==0 else x_w//pool+1  # 出力幅\n",
    "        \n",
    "    def forward(self, x):\n",
    "        n_bt = x.shape[0] \n",
    "        x_ch, x_h, x_w, pool, pad = self.params\n",
    "        y_ch, y_h, y_w = self.y_ch, self.y_h, self.y_w\n",
    "        \n",
    "        # 入力画像を行列に変換\n",
    "        cols = im2col(x, pool, pool, y_h, y_w, pool, pad)\n",
    "        cols = cols.T.reshape(n_bt*y_h*y_w*x_ch, pool*pool)\n",
    "        \n",
    "        # 出力の計算: Maxプーリング\n",
    "        y = np.max(cols, axis=1)\n",
    "        self.y = y.reshape(n_bt, y_h, y_w, x_ch).transpose(0, 3, 1, 2)\n",
    "        \n",
    "        # 最大値のインデックスを保存\n",
    "        self.max_index = np.argmax(cols, axis=1)\n",
    "    \n",
    "    def backward(self, grad_y):\n",
    "        n_bt = grad_y.shape[0] \n",
    "        x_ch, x_h, x_w, pool, pad = self.params\n",
    "        y_ch, y_h, y_w = self.y_ch, self.y_h, self.y_w\n",
    "        \n",
    "        # 出力の勾配の軸を入れ替え\n",
    "        grad_y = grad_y.transpose(0, 2, 3, 1)\n",
    "        \n",
    "        # 行列を作成し、各列の最大値であった要素にのみ出力の勾配を入れる\n",
    "        grad_cols = np.zeros((pool*pool, grad_y.size))\n",
    "        grad_cols[self.max_index.reshape(-1), np.arange(grad_y.size)] = grad_y.reshape(-1) \n",
    "        grad_cols = grad_cols.reshape(pool, pool, n_bt, y_h, y_w, y_ch)\n",
    "        grad_cols = grad_cols.transpose(5,0,1,2,3,4) \n",
    "        grad_cols = grad_cols.reshape( y_ch*pool*pool, n_bt*y_h*y_w)\n",
    "\n",
    "        # 入力の勾配\n",
    "        x_shape = (n_bt, x_ch, x_h, x_w)\n",
    "        self.grad_x = col2im(grad_cols, x_shape, pool, pool, y_h, y_w, pool, pad)"
   ]
  },
  {
   "cell_type": "code",
   "execution_count": 7,
   "metadata": {
    "collapsed": true
   },
   "outputs": [],
   "source": [
    "# -- 全結合層の継承元 --\n",
    "class BaseLayer:\n",
    "    def __init__(self, n_upper, n):\n",
    "        self.w = wb_width * np.random.randn(n_upper, n)\n",
    "        self.b = wb_width * np.random.randn(n)\n",
    "\n",
    "        self.h_w = np.zeros(( n_upper, n)) + 1e-8\n",
    "        self.h_b = np.zeros(n) + 1e-8\n",
    "        \n",
    "    def update(self, eta):\n",
    "        self.h_w += self.grad_w * self.grad_w\n",
    "        self.w -= eta / np.sqrt(self.h_w) * self.grad_w\n",
    "        \n",
    "        self.h_b += self.grad_b * self.grad_b\n",
    "        self.b -= eta / np.sqrt(self.h_b) * self.grad_b\n",
    "        "
   ]
  },
  {
   "cell_type": "code",
   "execution_count": 8,
   "metadata": {
    "collapsed": true
   },
   "outputs": [],
   "source": [
    "# -- 全結合 中間層 --\n",
    "class MiddleLayer(BaseLayer):\n",
    "    def forward(self, x):\n",
    "        self.x = x\n",
    "        self.u = np.dot(x, self.w) + self.b\n",
    "        self.y = np.where(self.u <= 0, 0, self.u)\n",
    "    \n",
    "    def backward(self, grad_y):\n",
    "        delta = grad_y * np.where(self.u <= 0, 0, 1)\n",
    "        \n",
    "        self.grad_w = np.dot(self.x.T, delta)\n",
    "        self.grad_b = np.sum(delta, axis=0)\n",
    "        \n",
    "        self.grad_x = np.dot(delta, self.w.T) "
   ]
  },
  {
   "cell_type": "code",
   "execution_count": 9,
   "metadata": {
    "collapsed": true
   },
   "outputs": [],
   "source": [
    "# -- 全結合 出力層 --\n",
    "class OutputLayer(BaseLayer):     \n",
    "    def forward(self, x):\n",
    "        self.x = x\n",
    "        u = np.dot(x, self.w) + self.b\n",
    "        self.y = np.exp(u)/np.sum(np.exp(u), axis=1).reshape(-1, 1)\n",
    "\n",
    "    def backward(self, t):\n",
    "        delta = self.y - t\n",
    "        \n",
    "        self.grad_w = np.dot(self.x.T, delta)\n",
    "        self.grad_b = np.sum(delta, axis=0)\n",
    "        \n",
    "        self.grad_x = np.dot(delta, self.w.T) "
   ]
  },
  {
   "cell_type": "code",
   "execution_count": 10,
   "metadata": {
    "collapsed": true
   },
   "outputs": [],
   "source": [
    "# -- 各層の初期化 --\n",
    "cl_1 = ConvLayer(img_ch, img_h, img_w, 10, 3, 3, 1, 1)\n",
    "pl_1 = PoolingLayer(cl_1.y_ch, cl_1.y_h, cl_1.y_w, 2, 0)\n",
    "\n",
    "n_fc_in = pl_1.y_ch * pl_1.y_h * pl_1.y_w\n",
    "ml_1 = MiddleLayer(n_fc_in, 100)\n",
    "ol_1 = OutputLayer(100, 10)"
   ]
  },
  {
   "cell_type": "code",
   "execution_count": 11,
   "metadata": {
    "collapsed": true
   },
   "outputs": [],
   "source": [
    "# -- 順伝播 --\n",
    "def forward_propagation(x):\n",
    "    n_bt = x.shape[0]\n",
    "    \n",
    "    images = x.reshape(n_bt, img_ch, img_h, img_w)\n",
    "    cl_1.forward(images)\n",
    "    pl_1.forward(cl_1.y)\n",
    "    \n",
    "    fc_input = pl_1.y.reshape(n_bt, -1)   \n",
    "    ml_1.forward(fc_input)\n",
    "    ol_1.forward(ml_1.y)\n"
   ]
  },
  {
   "cell_type": "code",
   "execution_count": 12,
   "metadata": {
    "collapsed": true
   },
   "outputs": [],
   "source": [
    "# -- 逆伝播 --\n",
    "def backpropagation(t):\n",
    "    n_bt = t.shape[0]\n",
    "    \n",
    "    ol_1.backward(t)\n",
    "    ml_1.backward(ol_1.grad_x)\n",
    "    \n",
    "    grad_img = ml_1.grad_x.reshape(n_bt, pl_1.y_ch, pl_1.y_h, pl_1.y_w)\n",
    "    pl_1.backward(grad_img)\n",
    "    cl_1.backward(pl_1.grad_x)\n"
   ]
  },
  {
   "cell_type": "code",
   "execution_count": 13,
   "metadata": {
    "collapsed": true
   },
   "outputs": [],
   "source": [
    "# -- 重みとバイアスの更新 --\n",
    "def uppdate_wb():\n",
    "    cl_1.update(eta)\n",
    "    ml_1.update(eta)\n",
    "    ol_1.update(eta)\n",
    "\n",
    "# -- 誤差を計算 --\n",
    "def get_error(t, batch_size):\n",
    "    return -np.sum(t * np.log(ol_1.y + 1e-7)) / batch_size # 交差エントロピー誤差\n"
   ]
  },
  {
   "cell_type": "code",
   "execution_count": 14,
   "metadata": {
    "collapsed": true
   },
   "outputs": [],
   "source": [
    "# -- サンプルを順伝播 --\n",
    "def forward_sample(inp, correct, n_sample):\n",
    "    index_rand = np.arange(len(correct))\n",
    "    np.random.shuffle(index_rand) \n",
    "    index_rand = index_rand[:n_sample]\n",
    "    x = inp[index_rand, :]\n",
    "    t = correct[index_rand, :]\n",
    "    forward_propagation(x)\n",
    "    return x, t\n"
   ]
  },
  {
   "cell_type": "code",
   "execution_count": 15,
   "metadata": {
    "collapsed": false
   },
   "outputs": [
    {
     "name": "stdout",
     "output_type": "stream",
     "text": [
      "Epoch:0/10 Error_train:2.3526994692760317 Error_test:0.73578834791586\n"
     ]
    }
   ],
   "source": [
    "# -- 誤差の記録用 --\n",
    "train_error_x = []\n",
    "train_error_y = []\n",
    "test_error_x = []\n",
    "test_error_y = []\n",
    "\n",
    "# -- 学習と経過の記録 --\n",
    "n_batch = n_train // batch_size\n",
    "for i in range(epoch):\n",
    "\n",
    "    # -- 誤差の計測 -- \n",
    "    x, t = forward_sample(X_train, y_train, n_sample)\n",
    "    error_train = get_error(t, n_sample)\n",
    "    \n",
    "    x, t = forward_sample(X_test, y_test, n_sample) \n",
    "    error_test = get_error(t, n_sample)\n",
    "    \n",
    "    # -- 誤差の記録 -- \n",
    "    train_error_x.append(i)\n",
    "    train_error_y.append(error_train) \n",
    "    test_error_x.append(i)\n",
    "    test_error_y.append(error_test) \n",
    "    \n",
    "    # -- 経過の表示 --\n",
    "    if i%interval == 0:\n",
    "        print(\"Epoch:\" + str(i) + \"/\" + str(epoch),\n",
    "              \"Error_train:\" + str(error_train),\n",
    "              \"Error_test:\" + str(error_test))\n",
    "        \n",
    "        # -- 学習 -- \n",
    "    index_rand = np.arange(n_train)\n",
    "    np.random.shuffle(index_rand)   \n",
    "    for j in range(n_batch):\n",
    "        \n",
    "        mb_index = index_rand[j*batch_size : (j+1)*batch_size]\n",
    "        x = X_train[mb_index, :]\n",
    "        t = y_train[mb_index, :]\n",
    "\n",
    "        forward_propagation(x)\n",
    "        backpropagation(t)        \n",
    "        uppdate_wb() \n",
    "            "
   ]
  },
  {
   "cell_type": "code",
   "execution_count": 16,
   "metadata": {
    "collapsed": false
   },
   "outputs": [
    {
     "data": {
      "image/png": "[encoded data removed]",
      "text/plain": [
       "<Figure size 432x288 with 1 Axes>"
      ]
     },
     "metadata": {},
     "output_type": "display_data"
    },
    {
     "name": "stdout",
     "output_type": "stream",
     "text": [
      "Accuracy Train: 98.80580357142857% Accuracy Test: 98.14285714285714%\n"
     ]
    }
   ],
   "source": [
    "# -- 誤差の記録をグラフ表示 -- \n",
    "plt.plot(train_error_x, train_error_y, label=\"Train\")\n",
    "plt.plot(test_error_x, test_error_y, label=\"Test\")\n",
    "plt.legend()\n",
    "\n",
    "plt.xlabel(\"Epochs\")\n",
    "plt.ylabel(\"Error\")\n",
    "\n",
    "plt.show()\n",
    "\n",
    "# -- 正解率の測定 -- \n",
    "x, t = forward_sample(X_train, y_train, n_train) \n",
    "count_train = np.sum(np.argmax(ol_1.y, axis=1) == np.argmax(t, axis=1))\n",
    "\n",
    "x, t = forward_sample(X_test, y_test, n_test) \n",
    "count_test = np.sum(np.argmax(ol_1.y, axis=1) == np.argmax(t, axis=1))\n",
    "\n",
    "print(\"Accuracy Train:\", str(count_train/n_train*100) + \"%\",\n",
    "      \"Accuracy Test:\", str(count_test/n_test*100) + \"%\")"
   ]
  },
  {
   "cell_type": "code",
   "execution_count": null,
   "metadata": {
    "collapsed": true
   },
   "outputs": [],
   "source": []
  },
  {
   "cell_type": "markdown",
   "metadata": {},
   "source": [
    "### 畳み込み層とは何か\n",
    "畳み込みは、画像処理の分野ではポピュラーな演算であり、画像に対して畳み込みを行うことで、画像のある特徴を強めたり、弱めたりすることができる。   \n",
    "畳み込み層では、この畳み込み処理により入力画像をより特徴が強調されたものに変換する。    \n",
    "また、画像には局所性という性質がある。局所性とは、各ピクセルが近傍のピクセルと強い関連性を持っている性質のことである。例えば、ある隣り合ったピクセル同士は似たような色になる可能性が高いし、複数のピクセルからなるかたまりが物体の輪郭を構成することもある。畳み込み層は、このような画像の局所性を利用して画像の特徴を検出する。\n"
   ]
  },
  {
   "cell_type": "markdown",
   "metadata": {},
   "source": [
    "### プーリング層とは何か\n",
    "プーリング層は通常、畳み込み層の直後に配置される。プーリング層では画像を各領域に区切り、各領域を代表する値を抽出し並べて新たな画像とする。このような処理をプーリングという。      \n",
    "プーリングの代表的な方法として、各領域の最大値を各領域の代表とする値とするMAXプーリングが使われることが多い。   \n",
    "プーリングは言わば画像をぼかす処理なので、対象の位置の感度が低下する。これにより、対象の位置が多少変化しても、結果は同じようになる。また、プーリングにより画像サイズが小さくなるので、計算量が削減される効果もある。     \n",
    "プーリング層で区切る領域は固定であり、学習するパラメータがないので学習は行われない。また、チャンネルが合流したり分岐したりすることはないので、入力のチャンネル数と出力のチャンネル数は同じになる。"
   ]
  },
  {
   "cell_type": "markdown",
   "metadata": {},
   "source": [
    "### CNNは全結合層のみのニューラルネットワークとどのように違うか\n",
    "ノードからノードに全て結合するのが全結合であり、全てでない手抜きが非全結合である。全結合層のみのニューラルネットワークで計算すると処理が膨大になってしまう。このため、畳み込み層やプーリング層では、非全結合で処理することにより、大幅に計算を削減することができる。    \n",
    "また、全結合層の問題点として、形状を無視して、すべての入力データを同じ次元のニューロンとして扱うので、形状に関する情報を生かすことができない。一方で、折り畳み層は形状を維持するため、CNNでは、画像などの形状を有したデータを正しく理解することができる。"
   ]
  },
  {
   "cell_type": "markdown",
   "metadata": {},
   "source": [
    "### 出力サイズとパラメータ数の計算\n",
    "1. 出力サイズ　142×142=20,164、パラメータ数　142×142×3×6=362,952      \n",
    "2. 出力サイズ　58×58=3,364、    パラメータ数　58×58×24×48=3,875,328      \n",
    "2. 出力サイズ　10×10=100、    パラメータ数　10×10×10×20=20,000"
   ]
  },
  {
   "cell_type": "markdown",
   "metadata": {},
   "source": [
    "### フィルタサイズ\n",
    "#### 7×7などの大きめのものではなく、3×3のフィルタが一般的に使われる理由 \n",
    "例えば、５×５などの大きめのものに比べて、畳み込みの操作を、3×3のフィルタにより連続した畳み込み演算で置き換えることによって、より少ないパラメータ数で実現できる。    \n",
    "また、3×3畳み込みは、２×２畳み込みよりも、パラメータ数が削減されることが分かっており、一般的には3×3のフィルタが使われている。\n",
    "#### 高さや幅方向を持たない1×1のフィルタの効果   \n",
    "1×1のフィルタは、チャンネル方向には画素数を加算するので、非自明な作用をする。また、フィルタのチャネル数を元画像よりも少なくしておくことで、返還後の画像のチャネル数削減が行える。    \n",
    "さらに、サイズの大きなデータの畳み込み演算は計算量がかさむため、中間層で次元削減をすることで計算にかかるコストを下げたい場合に、この1×1畳み込みが利用される。"
   ]
  },
  {
   "cell_type": "markdown",
   "metadata": {},
   "source": [
    "### 1次元と2次元畳み込みの違い\n",
    "1次元畳み込みは、時系列データ、つまりグラフを用いて、その中にパターンを見つけ、時系列データの特徴を捉える。     \n",
    "一方で、2次元畳み込は、画像の特徴を表すパターンを抽出する。"
   ]
  },
  {
   "cell_type": "markdown",
   "metadata": {},
   "source": []
  },
  {
   "cell_type": "code",
   "execution_count": null,
   "metadata": {
    "collapsed": true
   },
   "outputs": [],
   "source": []
  },
  {
   "cell_type": "code",
   "execution_count": null,
   "metadata": {
    "collapsed": true
   },
   "outputs": [],
   "source": []
  }
 ],
 "metadata": {
  "kernelspec": {
   "display_name": "Python 3",
   "language": "python",
   "name": "python3"
  },
  "language_info": {
   "codemirror_mode": {
    "name": "ipython",
    "version": 3
   },
   "file_extension": ".py",
   "mimetype": "text/x-python",
   "name": "python",
   "nbconvert_exporter": "python",
   "pygments_lexer": "ipython3",
   "version": "3.6.5"
  }
 },
 "nbformat": 4,
 "nbformat_minor": 2
}
