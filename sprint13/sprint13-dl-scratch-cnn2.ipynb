{
 "cells": [
  {
   "cell_type": "markdown",
   "metadata": {},
   "source": [
    "## AIF_sprint13_cnn2\n",
    "この課題の目的  \n",
    "・スクラッチを通してCNNの基礎を理解する   \n",
    "・基本的なCNNのキーワードを学習する   \n",
    "・初期の有名なCNNモデルを知る   \n",
    "\n",
    "【目的としないこと】   \n",
    "実用的なCNNモデルに関する知識の習得"
   ]
  },
  {
   "cell_type": "code",
   "execution_count": 22,
   "metadata": {
    "collapsed": false
   },
   "outputs": [
    {
     "name": "stdout",
     "output_type": "stream",
     "text": [
      "(44800, 1, 28, 28) (14000, 1, 28, 28) (11200, 1, 28, 28)\n",
      "[[0. 0. 0. ... 0. 0. 0.]\n",
      " [0. 0. 0. ... 1. 0. 0.]\n",
      " [0. 0. 0. ... 0. 0. 0.]\n",
      " ...\n",
      " [0. 1. 0. ... 0. 0. 0.]\n",
      " [0. 0. 0. ... 1. 0. 0.]\n",
      " [0. 0. 0. ... 0. 0. 1.]] (14000, 10) [[0. 0. 0. ... 0. 0. 0.]\n",
      " [0. 0. 0. ... 0. 0. 0.]\n",
      " [0. 0. 0. ... 0. 0. 0.]\n",
      " ...\n",
      " [0. 0. 0. ... 0. 0. 0.]\n",
      " [0. 0. 0. ... 0. 0. 0.]\n",
      " [0. 0. 1. ... 0. 0. 0.]]\n"
     ]
    }
   ],
   "source": [
    "import pandas as pd\n",
    "import numpy as np\n",
    "from sklearn.model_selection import train_test_split\n",
    "from sklearn.datasets import fetch_mldata\n",
    "\n",
    "mnist_dir = \"/Users/andoutakaaki/DIC_study/sprint9/mnist_data/\"\n",
    "\n",
    "# MNISTの読み込み\n",
    "mnist = fetch_mldata('MNIST original', data_home=mnist_dir)\n",
    "\n",
    "# trainとtestに分割\n",
    "# MNISTの読み込み\n",
    "X_train, X_test, y_train, y_test = train_test_split(mnist.data, mnist.target, test_size=0.2)\n",
    "# さらにtrainとvalに分割\n",
    "X_train, X_val, y_train, y_val = train_test_split(X_train, y_train, test_size=0.2, random_state=0)\n",
    "\n",
    "# ラベルをint型にしておく\n",
    "y_train = y_train.astype(np.int)\n",
    "y_test = y_test.astype(np.int)\n",
    "y_val = y_val.astype(np.int)\n",
    "\n",
    "X_train = X_train.astype(np.float)\n",
    "X_test = X_test.astype(np.float)\n",
    "X_val = X_val.astype(np.float)\n",
    "X_train /= 255\n",
    "X_test /= 255\n",
    "X_val /= 255\n",
    "\n",
    "from sklearn.preprocessing import OneHotEncoder\n",
    "enc = OneHotEncoder(handle_unknown='ignore', sparse=False)\n",
    "y_train_one_hot = enc.fit_transform(y_train[:, np.newaxis])\n",
    "y_test_one_hot = enc.transform(y_test[:, np.newaxis])\n",
    "y_val_one_hot = enc.transform(y_val[:, np.newaxis])\n",
    "\n",
    "X_train = X_train.reshape(44800,1, 28,28)\n",
    "X_test = X_test.reshape(14000,1, 28,28)\n",
    "X_val = X_val.reshape(11200,1, 28,28)\n",
    "\n",
    "\n",
    "print(X_train.shape,X_test.shape,X_val.shape)\n",
    "print(y_train_one_hot,y_test_one_hot.shape,y_val_one_hot)"
   ]
  },
  {
   "cell_type": "code",
   "execution_count": 24,
   "metadata": {
    "collapsed": false
   },
   "outputs": [],
   "source": [
    "# チャンネル数を1に限定した2次元畳み込み層のクラス\n",
    "class SimpleConv2d:\n",
    "    \n",
    "    \n",
    "    def __init__(self, w, b, pad, stride):\n",
    "        \n",
    "        self.Out = None\n",
    "        seif.x = None\n",
    "        self.w = w\n",
    "        self.b = b\n",
    "        self.P = pad\n",
    "        self.S = stride\n",
    "        self.dx = None\n",
    "        self.dw = None\n",
    "        self.db= None\n",
    "    \n",
    "    # forward\n",
    "    def forward(self, x):\n",
    "        self.x = x\n",
    "        N, C, H, W = x.shape\n",
    "        F, C, FH, FW = self.w.shape\n",
    "        H_out = 1 + (H + 2*self.P - FH) / self.S\n",
    "        W_out = 1 + (W + 2*self.P - FW) / self.S\n",
    "        self.Out = np.zeros((N, F, H_out, W_out))\n",
    "        x_pad = np.pad(x, ((0, 0),(0, 0),(self.P,self.P),(self.P,self.P)), \"constant\",constant_values=0)\n",
    "        for n in N:\n",
    "            for f in F:\n",
    "                for i in (0, H, S):\n",
    "                    for j in (0, W, S):\n",
    "                        Out[n, f, int(i / self.S), int(j / self.S)] = np.sum(X_pad[n, :, i : i+FH, j : j+FW] * self.w[f, :, :, :]) + self.b[f]\n",
    "                            \n",
    "    # backward\n",
    "    def backward(self, dout):\n",
    "        N, C, H, W = self.x.shape\n",
    "        F, C, FH, FW = self.w.shape\n",
    "        N, F, H_out, W_out = dout.shape\n",
    "        x_pad = np.pad(x, ((0, 0),(0, 0),(self.P,self.P),(self.P,self.P)), \"constant\",constant_values=0)\n",
    "        self.dx = np.zeros(x_pad.shape)\n",
    "        self.dw = np.zeros(w.shape)\n",
    "        self.db = np.zeros(b.shape)\n",
    "        for n in N:\n",
    "            for f in F:\n",
    "                for i in(O, H, S):\n",
    "                    for j in(O, W, S):\n",
    "                        dx[n, :, i : i+FH, j : j+FW] += dout[n, f, int(i / S), int(j / S)]  * w[f, : , : , ]\n",
    "                        \n",
    "  "
   ]
  },
  {
   "cell_type": "code",
   "execution_count": null,
   "metadata": {
    "collapsed": true
   },
   "outputs": [],
   "source": []
  },
  {
   "cell_type": "code",
   "execution_count": null,
   "metadata": {
    "collapsed": true
   },
   "outputs": [],
   "source": []
  },
  {
   "cell_type": "code",
   "execution_count": null,
   "metadata": {
    "collapsed": true
   },
   "outputs": [],
   "source": []
  },
  {
   "cell_type": "code",
   "execution_count": null,
   "metadata": {
    "collapsed": true
   },
   "outputs": [],
   "source": []
  },
  {
   "cell_type": "code",
   "execution_count": null,
   "metadata": {
    "collapsed": true
   },
   "outputs": [],
   "source": []
  },
  {
   "cell_type": "code",
   "execution_count": null,
   "metadata": {
    "collapsed": true
   },
   "outputs": [],
   "source": []
  },
  {
   "cell_type": "code",
   "execution_count": null,
   "metadata": {
    "collapsed": true
   },
   "outputs": [],
   "source": []
  },
  {
   "cell_type": "code",
   "execution_count": null,
   "metadata": {
    "collapsed": true
   },
   "outputs": [],
   "source": []
  },
  {
   "cell_type": "code",
   "execution_count": null,
   "metadata": {
    "collapsed": true
   },
   "outputs": [],
   "source": []
  },
  {
   "cell_type": "code",
   "execution_count": null,
   "metadata": {
    "collapsed": true
   },
   "outputs": [],
   "source": []
  },
  {
   "cell_type": "code",
   "execution_count": null,
   "metadata": {
    "collapsed": true
   },
   "outputs": [],
   "source": []
  },
  {
   "cell_type": "code",
   "execution_count": null,
   "metadata": {
    "collapsed": true
   },
   "outputs": [],
   "source": []
  },
  {
   "cell_type": "code",
   "execution_count": null,
   "metadata": {
    "collapsed": true
   },
   "outputs": [],
   "source": []
  }
 ],
 "metadata": {
  "kernelspec": {
   "display_name": "Python 3",
   "language": "python",
   "name": "python3"
  },
  "language_info": {
   "codemirror_mode": {
    "name": "ipython",
    "version": 3
   },
   "file_extension": ".py",
   "mimetype": "text/x-python",
   "name": "python",
   "nbconvert_exporter": "python",
   "pygments_lexer": "ipython3",
   "version": "3.6.5"
  }
 },
 "nbformat": 4,
 "nbformat_minor": 2
}
